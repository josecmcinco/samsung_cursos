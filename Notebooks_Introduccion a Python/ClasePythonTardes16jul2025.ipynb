{
 "cells": [
  {
   "cell_type": "code",
   "execution_count": 1,
   "id": "4d5acd16",
   "metadata": {},
   "outputs": [],
   "source": [
    "class Stack:\n",
    "    def __init__(self):\n",
    "        self._stack = []\n",
    "    def is_empty(self):\n",
    "        return len(self._stack) == 0\n",
    "    def push(self, item):\n",
    "        self._stack.append(item)\n",
    "    def pop(self):\n",
    "        return self._stack.pop()"
   ]
  },
  {
   "cell_type": "code",
   "execution_count": 4,
   "id": "ea8b8c18",
   "metadata": {},
   "outputs": [],
   "source": [
    "class Queue:\n",
    "    def __init__(self):\n",
    "        self._queue = []\n",
    "    def is_empty(self):\n",
    "        return len(self._queue) == 0\n",
    "    def enqueue(self, item):\n",
    "        self._queue.append(item)\n",
    "    def dequeue(self):\n",
    "        return self._queue.pop(0) # MUY LENTO"
   ]
  },
  {
   "cell_type": "code",
   "execution_count": 5,
   "id": "01d64663",
   "metadata": {},
   "outputs": [
    {
     "name": "stdout",
     "output_type": "stream",
     "text": [
      "30\n",
      "20\n",
      "10\n"
     ]
    }
   ],
   "source": [
    "s = Stack()\n",
    "for i in [10,20,30]:\n",
    "    s.push(i)\n",
    "while not s.is_empty():\n",
    "    print(s.pop())"
   ]
  },
  {
   "cell_type": "code",
   "execution_count": 6,
   "id": "8fd6dda4",
   "metadata": {},
   "outputs": [
    {
     "name": "stdout",
     "output_type": "stream",
     "text": [
      "10\n",
      "20\n",
      "30\n"
     ]
    }
   ],
   "source": [
    "s = Queue()\n",
    "for i in [10,20,30]:\n",
    "    s.enqueue(i)\n",
    "while not s.is_empty():\n",
    "    print(s.dequeue())"
   ]
  },
  {
   "cell_type": "code",
   "execution_count": 17,
   "id": "597c8b36",
   "metadata": {},
   "outputs": [],
   "source": [
    "def prueba_stack():\n",
    "    s = Stack()\n",
    "    for i in range(20_000):\n",
    "        s.push(i)\n",
    "    while not s.is_empty():\n",
    "        s.pop()"
   ]
  },
  {
   "cell_type": "code",
   "execution_count": 18,
   "id": "e7da7371",
   "metadata": {},
   "outputs": [
    {
     "name": "stdout",
     "output_type": "stream",
     "text": [
      "9.03 ms ± 185 µs per loop (mean ± std. dev. of 7 runs, 100 loops each)\n"
     ]
    }
   ],
   "source": [
    "%timeit prueba_stack()"
   ]
  },
  {
   "cell_type": "code",
   "execution_count": 19,
   "id": "ab719f20",
   "metadata": {},
   "outputs": [],
   "source": [
    "def prueba_queue():\n",
    "    s = Queue()\n",
    "    for i in range(20_000):\n",
    "        s.enqueue(i)\n",
    "    while not s.is_empty():\n",
    "        s.dequeue()"
   ]
  },
  {
   "cell_type": "code",
   "execution_count": 20,
   "id": "8e8e2b0b",
   "metadata": {},
   "outputs": [
    {
     "name": "stdout",
     "output_type": "stream",
     "text": [
      "44.1 ms ± 1.41 ms per loop (mean ± std. dev. of 7 runs, 10 loops each)\n"
     ]
    }
   ],
   "source": [
    "%timeit prueba_queue()"
   ]
  },
  {
   "cell_type": "code",
   "execution_count": 23,
   "id": "f53620d0",
   "metadata": {},
   "outputs": [],
   "source": [
    "import collections"
   ]
  },
  {
   "cell_type": "code",
   "execution_count": 27,
   "id": "916260cc",
   "metadata": {},
   "outputs": [
    {
     "data": {
      "text/plain": [
       "deque([])"
      ]
     },
     "execution_count": 27,
     "metadata": {},
     "output_type": "execute_result"
    }
   ],
   "source": [
    "dq = collections.deque()\n",
    "dq."
   ]
  },
  {
   "cell_type": "code",
   "execution_count": 28,
   "id": "63637d49",
   "metadata": {},
   "outputs": [],
   "source": [
    "def prueba_deque():\n",
    "    s = collections.deque()\n",
    "    for i in range(20_000):\n",
    "        s.append(i)\n",
    "    while s:\n",
    "        s.popleft()"
   ]
  },
  {
   "cell_type": "code",
   "execution_count": 29,
   "id": "30404aa8",
   "metadata": {},
   "outputs": [
    {
     "name": "stdout",
     "output_type": "stream",
     "text": [
      "2.23 ms ± 70 µs per loop (mean ± std. dev. of 7 runs, 100 loops each)\n"
     ]
    }
   ],
   "source": [
    "%timeit prueba_deque()"
   ]
  },
  {
   "cell_type": "markdown",
   "id": "9d42cfe9",
   "metadata": {},
   "source": [
    "## Ejercicio Q1 unidad 22\n",
    "\n",
    "Matching HTML tags"
   ]
  },
  {
   "cell_type": "code",
   "execution_count": 49,
   "id": "593ad240",
   "metadata": {},
   "outputs": [],
   "source": [
    "txt = \"\"\"\n",
    "<html>\n",
    "<body>\n",
    "<h1>Hola mundo</h1>\n",
    "<p>Esto es un párrafo</p>\n",
    "<ul>\n",
    "<li>uno</li>\n",
    "<li>dos</li>\n",
    "<li>tres</li>\n",
    "</ul>\n",
    "</body>\n",
    "</html>\n",
    "\"\"\""
   ]
  },
  {
   "cell_type": "code",
   "execution_count": 50,
   "id": "0489caa5",
   "metadata": {},
   "outputs": [],
   "source": [
    "import re"
   ]
  },
  {
   "cell_type": "code",
   "execution_count": 60,
   "id": "bcbb77fa",
   "metadata": {},
   "outputs": [
    {
     "data": {
      "text/plain": [
       "['html',\n",
       " 'body',\n",
       " 'h1',\n",
       " '/h1',\n",
       " 'p',\n",
       " '/p',\n",
       " 'ul',\n",
       " 'li',\n",
       " '/li',\n",
       " 'li',\n",
       " '/li',\n",
       " 'li',\n",
       " '/li',\n",
       " '/ul',\n",
       " '/body',\n",
       " '/html']"
      ]
     },
     "execution_count": 60,
     "metadata": {},
     "output_type": "execute_result"
    }
   ],
   "source": [
    "re.findall(r'<(.*?)>', txt)"
   ]
  },
  {
   "cell_type": "code",
   "execution_count": 59,
   "id": "6c071dca",
   "metadata": {},
   "outputs": [
    {
     "data": {
      "text/plain": [
       "[<re.Match object; span=(1, 7), match='<html>'>,\n",
       " <re.Match object; span=(8, 14), match='<body>'>,\n",
       " <re.Match object; span=(15, 19), match='<h1>'>,\n",
       " <re.Match object; span=(29, 34), match='</h1>'>,\n",
       " <re.Match object; span=(35, 38), match='<p>'>,\n",
       " <re.Match object; span=(56, 60), match='</p>'>,\n",
       " <re.Match object; span=(61, 65), match='<ul>'>,\n",
       " <re.Match object; span=(66, 70), match='<li>'>,\n",
       " <re.Match object; span=(73, 78), match='</li>'>,\n",
       " <re.Match object; span=(79, 83), match='<li>'>,\n",
       " <re.Match object; span=(86, 91), match='</li>'>,\n",
       " <re.Match object; span=(92, 96), match='<li>'>,\n",
       " <re.Match object; span=(100, 105), match='</li>'>,\n",
       " <re.Match object; span=(106, 111), match='</ul>'>,\n",
       " <re.Match object; span=(112, 119), match='</body>'>,\n",
       " <re.Match object; span=(120, 127), match='</html>'>]"
      ]
     },
     "execution_count": 59,
     "metadata": {},
     "output_type": "execute_result"
    }
   ],
   "source": [
    "list(re.finditer(r'<(.*?)>', txt))"
   ]
  },
  {
   "cell_type": "code",
   "execution_count": 54,
   "id": "d4db285b",
   "metadata": {},
   "outputs": [],
   "source": [
    "def check_html( txt ):\n",
    "    s = Stack()\n",
    "    for tag in re.findall(r'<(.*?)>', txt):\n",
    "        if tag[0] != '/': # abrir\n",
    "            s.push(tag)\n",
    "        else: # cerrar\n",
    "            tag = tag[1:]\n",
    "            if s.is_empty():\n",
    "                return f'Error se cierra {tag} y no hay nada abierto'\n",
    "            abre = s.pop()\n",
    "            if tag != abre:\n",
    "                return f'Error {abre} se cierra con {tag}'\n",
    "    if not s.is_empty():\n",
    "        return f'Error: quedan tags sin cerrar'\n",
    "    return 'Ok'  \n",
    "        "
   ]
  },
  {
   "cell_type": "code",
   "execution_count": 55,
   "id": "51db096c",
   "metadata": {},
   "outputs": [
    {
     "data": {
      "text/plain": [
       "'Ok'"
      ]
     },
     "execution_count": 55,
     "metadata": {},
     "output_type": "execute_result"
    }
   ],
   "source": [
    "check_html(txt)"
   ]
  },
  {
   "cell_type": "code",
   "execution_count": 56,
   "id": "f2e2be3e",
   "metadata": {},
   "outputs": [
    {
     "data": {
      "text/plain": [
       "'Error li se cierra con ul'"
      ]
     },
     "execution_count": 56,
     "metadata": {},
     "output_type": "execute_result"
    }
   ],
   "source": [
    "txt_mal = \"\"\"\n",
    "<html>\n",
    "<body>\n",
    "<h1>Hola mundo</h1>\n",
    "<p>Esto es un párrafo</p>\n",
    "<ul>\n",
    "<li>uno</li>\n",
    "<li>dos\n",
    "<li>tres</li>\n",
    "</ul>\n",
    "</body>\n",
    "</html>\n",
    "\"\"\"\n",
    "\n",
    "check_html(txt_mal)"
   ]
  },
  {
   "cell_type": "markdown",
   "id": "b1c49fdf",
   "metadata": {},
   "source": [
    "## Búsqueda secuencial"
   ]
  },
  {
   "cell_type": "code",
   "execution_count": 61,
   "id": "09548204",
   "metadata": {},
   "outputs": [],
   "source": [
    "import random"
   ]
  },
  {
   "cell_type": "code",
   "execution_count": 72,
   "id": "ac1dede7",
   "metadata": {},
   "outputs": [],
   "source": [
    "v = [random.randrange(10_000) for _ in range(1000_000)]"
   ]
  },
  {
   "cell_type": "code",
   "execution_count": 64,
   "id": "9c7146a8",
   "metadata": {},
   "outputs": [
    {
     "name": "stdout",
     "output_type": "stream",
     "text": [
      "Pretty printing has been turned OFF\n"
     ]
    }
   ],
   "source": [
    "%pprint"
   ]
  },
  {
   "cell_type": "code",
   "execution_count": 65,
   "id": "caad8851",
   "metadata": {},
   "outputs": [
    {
     "data": {
      "text/plain": [
       "[5514, 7787, 2528, 9832, 457, 8112, 1070, 3653, 32, 6039, 5327, 6594, 7862, 5788, 2420, 8615, 5299, 4675, 700, 9859, 7678, 8489, 8313, 9811, 8428, 9201, 6853, 3360, 7066, 9309, 7835, 2321, 8118, 528, 6946, 5356, 6690, 5045, 2183, 768, 4535, 8658, 1651, 9779, 5729, 1570, 3890, 2576, 8239, 8525, 1924, 3067, 5015, 6903, 5602, 7551, 230, 8, 6288, 3315, 7472, 6909, 8017, 3443, 3476, 1064, 1127, 2002, 6698, 9454, 7712, 6888, 8385, 5464, 7776, 4906, 8846, 5311, 7938, 5805, 1852, 9119, 6479, 155, 9407, 8563, 5573, 3047, 2219, 265, 1881, 5502, 8967, 3940, 5594, 1212, 1157, 2470, 5420, 300]"
      ]
     },
     "execution_count": 65,
     "metadata": {},
     "output_type": "execute_result"
    }
   ],
   "source": [
    "v"
   ]
  },
  {
   "cell_type": "code",
   "execution_count": 73,
   "id": "ca66e461",
   "metadata": {},
   "outputs": [
    {
     "data": {
      "text/plain": [
       "10000"
      ]
     },
     "execution_count": 73,
     "metadata": {},
     "output_type": "execute_result"
    }
   ],
   "source": [
    "len(set(v))"
   ]
  },
  {
   "cell_type": "code",
   "execution_count": 77,
   "id": "87a9bed2",
   "metadata": {},
   "outputs": [],
   "source": [
    "def buscar(lista, elem):\n",
    "    for i,valor in enumerate(lista):\n",
    "        if valor == elem:\n",
    "            return i\n",
    "    return -1"
   ]
  },
  {
   "cell_type": "code",
   "execution_count": 79,
   "id": "23db81fc",
   "metadata": {},
   "outputs": [
    {
     "data": {
      "text/plain": [
       "2"
      ]
     },
     "execution_count": 79,
     "metadata": {},
     "output_type": "execute_result"
    }
   ],
   "source": [
    "buscar([10,20,30], 30)"
   ]
  },
  {
   "cell_type": "code",
   "execution_count": 82,
   "id": "27ed9231",
   "metadata": {},
   "outputs": [
    {
     "name": "stdout",
     "output_type": "stream",
     "text": [
      "53.3 ms ± 1.24 ms per loop (mean ± std. dev. of 7 runs, 10 loops each)\n"
     ]
    }
   ],
   "source": [
    "%timeit buscar(v, 20_000)"
   ]
  },
  {
   "cell_type": "code",
   "execution_count": 83,
   "id": "d6dd8674",
   "metadata": {},
   "outputs": [
    {
     "data": {
      "text/plain": [
       "False"
      ]
     },
     "execution_count": 83,
     "metadata": {},
     "output_type": "execute_result"
    }
   ],
   "source": [
    "20_000 in v"
   ]
  },
  {
   "cell_type": "code",
   "execution_count": 91,
   "id": "64f7dcb2",
   "metadata": {},
   "outputs": [],
   "source": [
    "def buscar_index(lista, elem):\n",
    "    try:\n",
    "        return lista.index(elem)\n",
    "    except ValueError:\n",
    "        return -1"
   ]
  },
  {
   "cell_type": "code",
   "execution_count": 92,
   "id": "e0234086",
   "metadata": {},
   "outputs": [
    {
     "data": {
      "text/plain": [
       "2224"
      ]
     },
     "execution_count": 92,
     "metadata": {},
     "output_type": "execute_result"
    }
   ],
   "source": [
    "buscar(v, 5000)"
   ]
  },
  {
   "cell_type": "code",
   "execution_count": 93,
   "id": "17d9925e",
   "metadata": {},
   "outputs": [
    {
     "data": {
      "text/plain": [
       "2224"
      ]
     },
     "execution_count": 93,
     "metadata": {},
     "output_type": "execute_result"
    }
   ],
   "source": [
    "buscar_index(v, 5000)"
   ]
  },
  {
   "cell_type": "code",
   "execution_count": 94,
   "id": "04aa3300",
   "metadata": {},
   "outputs": [
    {
     "data": {
      "text/plain": [
       "-1"
      ]
     },
     "execution_count": 94,
     "metadata": {},
     "output_type": "execute_result"
    }
   ],
   "source": [
    "buscar(v, 20_000)"
   ]
  },
  {
   "cell_type": "code",
   "execution_count": 95,
   "id": "4fb37fe2",
   "metadata": {},
   "outputs": [
    {
     "data": {
      "text/plain": [
       "-1"
      ]
     },
     "execution_count": 95,
     "metadata": {},
     "output_type": "execute_result"
    }
   ],
   "source": [
    "buscar_index(v, 20_000)"
   ]
  },
  {
   "cell_type": "code",
   "execution_count": 96,
   "id": "af04fc5c",
   "metadata": {},
   "outputs": [
    {
     "name": "stdout",
     "output_type": "stream",
     "text": [
      "53.8 ms ± 597 µs per loop (mean ± std. dev. of 7 runs, 10 loops each)\n"
     ]
    }
   ],
   "source": [
    "%timeit buscar(v, 20_000)"
   ]
  },
  {
   "cell_type": "code",
   "execution_count": 97,
   "id": "142b3f18",
   "metadata": {},
   "outputs": [
    {
     "name": "stdout",
     "output_type": "stream",
     "text": [
      "11.4 ms ± 182 µs per loop (mean ± std. dev. of 7 runs, 100 loops each)\n"
     ]
    }
   ],
   "source": [
    "%timeit buscar_index(v, 20_000)"
   ]
  },
  {
   "cell_type": "code",
   "execution_count": 100,
   "id": "6d9af953",
   "metadata": {},
   "outputs": [
    {
     "name": "stdout",
     "output_type": "stream",
     "text": [
      "111 µs ± 2.75 µs per loop (mean ± std. dev. of 7 runs, 10,000 loops each)\n"
     ]
    }
   ],
   "source": [
    "%timeit buscar(v, 5000)"
   ]
  },
  {
   "cell_type": "code",
   "execution_count": 99,
   "id": "627eadee",
   "metadata": {},
   "outputs": [
    {
     "name": "stdout",
     "output_type": "stream",
     "text": [
      "23.9 µs ± 638 ns per loop (mean ± std. dev. of 7 runs, 10,000 loops each)\n"
     ]
    }
   ],
   "source": [
    "%timeit buscar_index(v, 5000)"
   ]
  },
  {
   "cell_type": "code",
   "execution_count": 102,
   "id": "70d5343e",
   "metadata": {},
   "outputs": [
    {
     "name": "stdout",
     "output_type": "stream",
     "text": [
      "Help on built-in function index:\n",
      "\n",
      "index(value, start=0, stop=9223372036854775807, /) method of builtins.list instance\n",
      "    Return first index of value.\n",
      "    \n",
      "    Raises ValueError if the value is not present.\n",
      "\n"
     ]
    }
   ],
   "source": [
    "help([].index)"
   ]
  },
  {
   "cell_type": "code",
   "execution_count": 103,
   "id": "46f8d3a1",
   "metadata": {},
   "outputs": [],
   "source": [
    "lista = [10,20,5,10,40,10,30]"
   ]
  },
  {
   "cell_type": "code",
   "execution_count": 104,
   "id": "6065c210",
   "metadata": {},
   "outputs": [],
   "source": [
    "def posiciones(lista, elem):\n",
    "    resul = []\n",
    "    for i,val in enumerate(lista):\n",
    "        if val == elem:\n",
    "            resul.append(i)\n",
    "    return resul"
   ]
  },
  {
   "cell_type": "code",
   "execution_count": 105,
   "id": "93def53e",
   "metadata": {},
   "outputs": [
    {
     "data": {
      "text/plain": [
       "[0, 3, 5]"
      ]
     },
     "execution_count": 105,
     "metadata": {},
     "output_type": "execute_result"
    }
   ],
   "source": [
    "posiciones(lista, 10)"
   ]
  },
  {
   "cell_type": "markdown",
   "id": "f0a19e0b",
   "metadata": {},
   "source": [
    "### Ejercicio:\n",
    "\n",
    "Haz una función `posiciones_index` que calcule lo mismo que `posiciones` utilizando el método `index`."
   ]
  },
  {
   "cell_type": "code",
   "execution_count": 106,
   "id": "02e87318",
   "metadata": {},
   "outputs": [
    {
     "name": "stdout",
     "output_type": "stream",
     "text": [
      "Help on built-in function index:\n",
      "\n",
      "index(value, start=0, stop=9223372036854775807, /) method of builtins.list instance\n",
      "    Return first index of value.\n",
      "    \n",
      "    Raises ValueError if the value is not present.\n",
      "\n"
     ]
    }
   ],
   "source": [
    "help([].index)"
   ]
  },
  {
   "cell_type": "code",
   "execution_count": 114,
   "id": "bcf568ff",
   "metadata": {},
   "outputs": [
    {
     "data": {
      "text/plain": [
       "[6940, 18580, 35660, 50040, 55483, 57257, 60579, 62504, 75200, 76059, 94329, 105712, 109510, 117085, 125305, 126862, 135797, 142966, 150490, 156798, 168222, 173798, 173881, 177073, 186320, 186581, 192378, 193627, 194690, 200698, 239737, 242988, 245658, 250789, 263472, 266325, 298922, 300388, 305172, 306251, 321612, 338624, 345915, 359630, 368582, 394134, 405106, 415153, 415955, 422663, 452098, 452156, 456545, 457535, 489856, 491959, 496721, 496998, 531457, 542393, 548253, 557328, 562570, 563250, 567152, 585085, 593902, 596889, 608004, 609995, 613437, 621963, 636895, 642302, 643644, 645324, 645841, 646344, 655251, 657328, 661086, 680797, 688118, 700274, 701483, 708907, 719055, 748997, 767954, 769368, 783996, 801704, 816898, 819161, 846637, 846784, 867548, 873262, 875337, 880694, 886337, 895859, 905725, 946903, 956232, 963044, 977349, 980389, 995476]"
      ]
     },
     "execution_count": 114,
     "metadata": {},
     "output_type": "execute_result"
    }
   ],
   "source": [
    "posiciones(v, 1000)"
   ]
  },
  {
   "cell_type": "code",
   "execution_count": 115,
   "id": "c7a8e5f2",
   "metadata": {},
   "outputs": [
    {
     "name": "stdout",
     "output_type": "stream",
     "text": [
      "51.1 ms ± 624 µs per loop (mean ± std. dev. of 7 runs, 10 loops each)\n"
     ]
    }
   ],
   "source": [
    "%timeit posiciones(v, 1000)"
   ]
  },
  {
   "cell_type": "code",
   "execution_count": 118,
   "id": "eea146ca",
   "metadata": {},
   "outputs": [],
   "source": [
    "def posiciones_index(lista, elem):\n",
    "    resul = []\n",
    "    start = 0\n",
    "    try:\n",
    "        while True:\n",
    "            pos = lista.index(elem,start)\n",
    "            resul.append(pos)\n",
    "            start = pos+1\n",
    "    except ValueError:\n",
    "        return resul"
   ]
  },
  {
   "cell_type": "code",
   "execution_count": 120,
   "id": "7348b907",
   "metadata": {},
   "outputs": [
    {
     "data": {
      "text/plain": [
       "True"
      ]
     },
     "execution_count": 120,
     "metadata": {},
     "output_type": "execute_result"
    }
   ],
   "source": [
    "posiciones_index(v, 1000) == posiciones(v, 1000)"
   ]
  },
  {
   "cell_type": "code",
   "execution_count": 121,
   "id": "0b8286d7",
   "metadata": {},
   "outputs": [
    {
     "name": "stdout",
     "output_type": "stream",
     "text": [
      "11.6 ms ± 302 µs per loop (mean ± std. dev. of 7 runs, 100 loops each)\n"
     ]
    }
   ],
   "source": [
    "%timeit posiciones_index(v, 1000)"
   ]
  },
  {
   "cell_type": "code",
   "execution_count": 122,
   "id": "39246303",
   "metadata": {},
   "outputs": [],
   "source": [
    "def find_largest( lista ):\n",
    "    largest = 0\n",
    "    for i in range(1, len(lista)):\n",
    "        if lista[i] > lista[largest]:\n",
    "            largest = i\n",
    "    return largest"
   ]
  },
  {
   "cell_type": "code",
   "execution_count": 123,
   "id": "b89b3f47",
   "metadata": {},
   "outputs": [
    {
     "data": {
      "text/plain": [
       "2908"
      ]
     },
     "execution_count": 123,
     "metadata": {},
     "output_type": "execute_result"
    }
   ],
   "source": [
    "find_largest(v)"
   ]
  },
  {
   "cell_type": "code",
   "execution_count": 129,
   "id": "a46b72a5",
   "metadata": {},
   "outputs": [
    {
     "name": "stdout",
     "output_type": "stream",
     "text": [
      "60.6 ms ± 1.13 ms per loop (mean ± std. dev. of 7 runs, 10 loops each)\n"
     ]
    }
   ],
   "source": [
    "%timeit find_largest(v)"
   ]
  },
  {
   "cell_type": "code",
   "execution_count": 124,
   "id": "c4a06285",
   "metadata": {},
   "outputs": [
    {
     "data": {
      "text/plain": [
       "9999"
      ]
     },
     "execution_count": 124,
     "metadata": {},
     "output_type": "execute_result"
    }
   ],
   "source": [
    "v[2908]"
   ]
  },
  {
   "cell_type": "code",
   "execution_count": 128,
   "id": "9506dad9",
   "metadata": {},
   "outputs": [
    {
     "data": {
      "text/plain": [
       "2908"
      ]
     },
     "execution_count": 128,
     "metadata": {},
     "output_type": "execute_result"
    }
   ],
   "source": [
    "max( range(len(v)), key=lambda i:v[i] )"
   ]
  },
  {
   "cell_type": "code",
   "execution_count": 130,
   "id": "e1a2c950",
   "metadata": {},
   "outputs": [
    {
     "name": "stdout",
     "output_type": "stream",
     "text": [
      "92 ms ± 976 µs per loop (mean ± std. dev. of 7 runs, 10 loops each)\n"
     ]
    }
   ],
   "source": [
    "%timeit max( range(len(v)), key=lambda i:v[i] )"
   ]
  },
  {
   "cell_type": "markdown",
   "id": "0c6c5e4a",
   "metadata": {},
   "source": [
    "### Encontrar todas las posiciones del máximo"
   ]
  },
  {
   "cell_type": "code",
   "execution_count": 132,
   "id": "e756d07d",
   "metadata": {},
   "outputs": [],
   "source": [
    "lista = [4,12,3,20,10,20,8,3]\n",
    "\n",
    "def encontrar_pos_max( lista ):\n",
    "    elmax = lista[0]\n",
    "    resul = [0]\n",
    "    for i in range(1,len(lista)):\n",
    "        if lista[i] > elmax:\n",
    "            elmax = lista[i]\n",
    "            resul = [i]\n",
    "        elif lista[i] == elmax:\n",
    "            resul.append(i)\n",
    "    return resul"
   ]
  },
  {
   "cell_type": "code",
   "execution_count": 133,
   "id": "45f9b109",
   "metadata": {},
   "outputs": [
    {
     "data": {
      "text/plain": [
       "[3, 5]"
      ]
     },
     "execution_count": 133,
     "metadata": {},
     "output_type": "execute_result"
    }
   ],
   "source": [
    "encontrar_pos_max( lista )"
   ]
  },
  {
   "cell_type": "code",
   "execution_count": 134,
   "id": "4d48024e",
   "metadata": {},
   "outputs": [
    {
     "data": {
      "text/plain": [
       "[2908, 4621, 15742, 18416, 28870, 31530, 45837, 49532, 58111, 60031, 72136, 75052, 77003, 83199, 107031, 109781, 111812, 131380, 132623, 132974, 134314, 135812, 138642, 162436, 179302, 210544, 212545, 222577, 234490, 239805, 240318, 249993, 265599, 295445, 309586, 314886, 325295, 341468, 345397, 349512, 350673, 353569, 359995, 363565, 364530, 366017, 381381, 406166, 414291, 423532, 426601, 440755, 461861, 466579, 468330, 501881, 505519, 517983, 519961, 535211, 551807, 552944, 553295, 574458, 592861, 617156, 632073, 632939, 638948, 640197, 643219, 645172, 648302, 654291, 657781, 663282, 666721, 687992, 698556, 718532, 723786, 733360, 737240, 747559, 761078, 769010, 769128, 774747, 782708, 782990, 794745, 795606, 803288, 807603, 811144, 820680, 825455, 836457, 844715, 879973, 882276, 886666, 896233, 920962, 931182, 962500, 967583, 971881, 981986, 993910, 994327, 996417]"
      ]
     },
     "execution_count": 134,
     "metadata": {},
     "output_type": "execute_result"
    }
   ],
   "source": [
    "encontrar_pos_max(v)"
   ]
  },
  {
   "cell_type": "code",
   "execution_count": 135,
   "id": "f0798159",
   "metadata": {},
   "outputs": [
    {
     "data": {
      "text/plain": [
       "[2908, 4621, 15742, 18416, 28870, 31530, 45837, 49532, 58111, 60031, 72136, 75052, 77003, 83199, 107031, 109781, 111812, 131380, 132623, 132974, 134314, 135812, 138642, 162436, 179302, 210544, 212545, 222577, 234490, 239805, 240318, 249993, 265599, 295445, 309586, 314886, 325295, 341468, 345397, 349512, 350673, 353569, 359995, 363565, 364530, 366017, 381381, 406166, 414291, 423532, 426601, 440755, 461861, 466579, 468330, 501881, 505519, 517983, 519961, 535211, 551807, 552944, 553295, 574458, 592861, 617156, 632073, 632939, 638948, 640197, 643219, 645172, 648302, 654291, 657781, 663282, 666721, 687992, 698556, 718532, 723786, 733360, 737240, 747559, 761078, 769010, 769128, 774747, 782708, 782990, 794745, 795606, 803288, 807603, 811144, 820680, 825455, 836457, 844715, 879973, 882276, 886666, 896233, 920962, 931182, 962500, 967583, 971881, 981986, 993910, 994327, 996417]"
      ]
     },
     "execution_count": 135,
     "metadata": {},
     "output_type": "execute_result"
    }
   ],
   "source": [
    "posiciones_index(v, max(v))"
   ]
  },
  {
   "cell_type": "code",
   "execution_count": 136,
   "id": "d840ba6e",
   "metadata": {},
   "outputs": [
    {
     "name": "stdout",
     "output_type": "stream",
     "text": [
      "81.4 ms ± 2.09 ms per loop (mean ± std. dev. of 7 runs, 10 loops each)\n"
     ]
    }
   ],
   "source": [
    "%timeit encontrar_pos_max(v)"
   ]
  },
  {
   "cell_type": "code",
   "execution_count": 137,
   "id": "a0a6c880",
   "metadata": {},
   "outputs": [
    {
     "name": "stdout",
     "output_type": "stream",
     "text": [
      "23.6 ms ± 844 µs per loop (mean ± std. dev. of 7 runs, 10 loops each)\n"
     ]
    }
   ],
   "source": [
    "%timeit posiciones_index(v, max(v))"
   ]
  },
  {
   "cell_type": "markdown",
   "id": "d33ae671",
   "metadata": {},
   "source": [
    "## Binary search"
   ]
  },
  {
   "cell_type": "code",
   "execution_count": 144,
   "id": "4839a714",
   "metadata": {},
   "outputs": [],
   "source": [
    "ordenado = sorted(random.randrange(30) for i in range(50))"
   ]
  },
  {
   "cell_type": "code",
   "execution_count": 145,
   "id": "16548c50",
   "metadata": {},
   "outputs": [
    {
     "data": {
      "text/plain": [
       "[0, 0, 0, 1, 2, 4, 5, 5, 5, 6, 7, 7, 8, 9, 9, 9, 10, 10, 10, 11, 11, 11, 12, 12, 12, 12, 12, 13, 13, 13, 14, 15, 16, 18, 18, 20, 21, 22, 22, 22, 23, 24, 24, 24, 26, 26, 27, 28, 29, 29]"
      ]
     },
     "execution_count": 145,
     "metadata": {},
     "output_type": "execute_result"
    }
   ],
   "source": [
    "ordenado"
   ]
  },
  {
   "cell_type": "markdown",
   "id": "773f6084",
   "metadata": {},
   "source": [
    "### Dime una posición donde esté un valor, si hay repetidos me vale cualquier posición"
   ]
  },
  {
   "cell_type": "code",
   "execution_count": 146,
   "id": "55942263",
   "metadata": {},
   "outputs": [],
   "source": [
    "def buscar( vector, elem ):\n",
    "    left, right = 0, len(vector)-1\n",
    "    while left <= right:\n",
    "        m = (left+right) // 2\n",
    "        if vector[m] == elem:\n",
    "            return m\n",
    "        elif vector[m] < elem: # está a la derecha\n",
    "            left = m+1\n",
    "        else: # está a la izquierda\n",
    "            right = m-1\n",
    "    # left > right (no hay nada entre left y right)\n",
    "    return -1"
   ]
  },
  {
   "cell_type": "code",
   "execution_count": 153,
   "id": "121913c9",
   "metadata": {},
   "outputs": [
    {
     "data": {
      "text/plain": [
       "-1"
      ]
     },
     "execution_count": 153,
     "metadata": {},
     "output_type": "execute_result"
    }
   ],
   "source": [
    "buscar(ordenado, 25)"
   ]
  },
  {
   "cell_type": "markdown",
   "id": "edca8e8c",
   "metadata": {},
   "source": [
    "### Encontrar el índice más alto donde no se rompe el huevo"
   ]
  },
  {
   "cell_type": "code",
   "execution_count": 155,
   "id": "7b8d3a48",
   "metadata": {},
   "outputs": [
    {
     "data": {
      "text/plain": [
       "59"
      ]
     },
     "execution_count": 155,
     "metadata": {},
     "output_type": "execute_result"
    }
   ],
   "source": [
    "pos = random.randrange(100)\n",
    "pos"
   ]
  },
  {
   "cell_type": "code",
   "execution_count": 156,
   "id": "c7806d2a",
   "metadata": {},
   "outputs": [],
   "source": [
    "vector = ['N'] * pos + ['S'] * (100 - pos)"
   ]
  },
  {
   "cell_type": "code",
   "execution_count": 157,
   "id": "57a7aafa",
   "metadata": {},
   "outputs": [
    {
     "data": {
      "text/plain": [
       "['N', 'N', 'N', 'N', 'N', 'N', 'N', 'N', 'N', 'N', 'N', 'N', 'N', 'N', 'N', 'N', 'N', 'N', 'N', 'N', 'N', 'N', 'N', 'N', 'N', 'N', 'N', 'N', 'N', 'N', 'N', 'N', 'N', 'N', 'N', 'N', 'N', 'N', 'N', 'N', 'N', 'N', 'N', 'N', 'N', 'N', 'N', 'N', 'N', 'N', 'N', 'N', 'N', 'N', 'N', 'N', 'N', 'N', 'N', 'S', 'S', 'S', 'S', 'S', 'S', 'S', 'S', 'S', 'S', 'S', 'S', 'S', 'S', 'S', 'S', 'S', 'S', 'S', 'S', 'S', 'S', 'S', 'S', 'S', 'S', 'S', 'S', 'S', 'S', 'S', 'S', 'S', 'S', 'S', 'S', 'S', 'S', 'S', 'S', 'S']"
      ]
     },
     "execution_count": 157,
     "metadata": {},
     "output_type": "execute_result"
    }
   ],
   "source": [
    "vector"
   ]
  },
  {
   "cell_type": "code",
   "execution_count": 158,
   "id": "e24c2df5",
   "metadata": {},
   "outputs": [
    {
     "data": {
      "text/plain": [
       "100"
      ]
     },
     "execution_count": 158,
     "metadata": {},
     "output_type": "execute_result"
    }
   ],
   "source": [
    "len(vector)"
   ]
  },
  {
   "cell_type": "code",
   "execution_count": 160,
   "id": "9c2d3dd4",
   "metadata": {},
   "outputs": [
    {
     "data": {
      "text/plain": [
       "'N'"
      ]
     },
     "execution_count": 160,
     "metadata": {},
     "output_type": "execute_result"
    }
   ],
   "source": [
    "vector[58]"
   ]
  },
  {
   "cell_type": "code",
   "execution_count": 170,
   "id": "66792470",
   "metadata": {},
   "outputs": [],
   "source": [
    "def ultimo_N( vector ):\n",
    "    \"\"\"\n",
    "    vector es de la forma ['N',....'N','S',...'S']\n",
    "    encuentar el índice el último 'N'\n",
    "    \"\"\"\n",
    "    left, right = 0, len(vector)-1\n",
    "    resul = -1 # me guardo el índice del N más a la derecha hasta el momento\n",
    "               # inicializado a \"no lo he encontrado\"\n",
    "    while left <= right:\n",
    "        m = (left+right) // 2\n",
    "        if vector[m] == 'S':\n",
    "            right = m-1 # sigo buscando por la izquierda\n",
    "        else: # estoy en una N\n",
    "            resul = m # antes de seguir, me apunto esta posición\n",
    "            left = m+1 # sigo buscando por la derecha\n",
    "    return resul"
   ]
  },
  {
   "cell_type": "code",
   "execution_count": 171,
   "id": "5b2087d7",
   "metadata": {},
   "outputs": [
    {
     "data": {
      "text/plain": [
       "58"
      ]
     },
     "execution_count": 171,
     "metadata": {},
     "output_type": "execute_result"
    }
   ],
   "source": [
    "ultimo_N(vector)"
   ]
  },
  {
   "cell_type": "code",
   "execution_count": 172,
   "id": "1272efe1",
   "metadata": {},
   "outputs": [
    {
     "data": {
      "text/plain": [
       "-1"
      ]
     },
     "execution_count": 172,
     "metadata": {},
     "output_type": "execute_result"
    }
   ],
   "source": [
    "ultimo_N(['S']*100)"
   ]
  },
  {
   "cell_type": "code",
   "execution_count": 175,
   "id": "b2e30a7c",
   "metadata": {},
   "outputs": [],
   "source": [
    "v = sorted(random.randrange(10) for i in range(100))"
   ]
  },
  {
   "cell_type": "code",
   "execution_count": 176,
   "id": "26e3e573",
   "metadata": {},
   "outputs": [
    {
     "data": {
      "text/plain": [
       "[0, 0, 0, 0, 0, 0, 0, 0, 0, 1, 1, 1, 1, 1, 1, 1, 1, 1, 2, 2, 2, 2, 2, 2, 2, 2, 2, 3, 3, 3, 3, 3, 3, 3, 3, 3, 3, 3, 4, 4, 4, 4, 4, 4, 4, 4, 5, 5, 5, 5, 5, 5, 5, 5, 5, 5, 6, 6, 6, 6, 6, 6, 6, 6, 7, 7, 7, 7, 7, 7, 7, 7, 7, 8, 8, 8, 8, 8, 8, 8, 8, 8, 8, 8, 8, 8, 8, 8, 9, 9, 9, 9, 9, 9, 9, 9, 9, 9, 9, 9]"
      ]
     },
     "execution_count": 176,
     "metadata": {},
     "output_type": "execute_result"
    }
   ],
   "source": [
    "v"
   ]
  },
  {
   "cell_type": "code",
   "execution_count": 177,
   "id": "b648fce5",
   "metadata": {},
   "outputs": [
    {
     "data": {
      "text/plain": [
       "15"
      ]
     },
     "execution_count": 177,
     "metadata": {},
     "output_type": "execute_result"
    }
   ],
   "source": [
    "v.count(8)"
   ]
  },
  {
   "cell_type": "code",
   "execution_count": 178,
   "id": "0a443a10",
   "metadata": {},
   "outputs": [],
   "source": [
    "def primera_pos(vector, elem):\n",
    "    \"\"\"\n",
    "    devuelve el índice de la primera aparición del elemento en el vector\n",
    "    si no está, devuelve -1\n",
    "    \"\"\"\n",
    "    left, right = 0, len(vector)-1\n",
    "    resul = -1 # me guardo el índice del N más a la derecha hasta el momento\n",
    "               # inicializado a \"no lo he encontrado\"\n",
    "    while left <= right:\n",
    "        m = (left+right) // 2\n",
    "        if vector[m] < elem: # caigo encima de uno menor que el que busco\n",
    "            left = m+1\n",
    "        elif vector[m] > elem: # estoy en un elem mayor que el busco \n",
    "            right = m-1 # sigo buscando por la izquierda\n",
    "        else: # encima del que busco\n",
    "            resul = m # antes de seguir, me apunto esta posición\n",
    "            right = m-1 # sigo buscando por la izquierda\n",
    "    return resul"
   ]
  },
  {
   "cell_type": "code",
   "execution_count": 179,
   "id": "ecf6e373",
   "metadata": {},
   "outputs": [
    {
     "data": {
      "text/plain": [
       "73"
      ]
     },
     "execution_count": 179,
     "metadata": {},
     "output_type": "execute_result"
    }
   ],
   "source": [
    "primera_pos(v,8)"
   ]
  },
  {
   "cell_type": "code",
   "execution_count": 180,
   "id": "19def84c",
   "metadata": {},
   "outputs": [
    {
     "data": {
      "text/plain": [
       "8"
      ]
     },
     "execution_count": 180,
     "metadata": {},
     "output_type": "execute_result"
    }
   ],
   "source": [
    "v[73]"
   ]
  },
  {
   "cell_type": "code",
   "execution_count": 181,
   "id": "e53ab3a9",
   "metadata": {},
   "outputs": [
    {
     "data": {
      "text/plain": [
       "7"
      ]
     },
     "execution_count": 181,
     "metadata": {},
     "output_type": "execute_result"
    }
   ],
   "source": [
    "v[72]"
   ]
  },
  {
   "cell_type": "code",
   "execution_count": 182,
   "id": "27cdafb4",
   "metadata": {},
   "outputs": [],
   "source": [
    "def ultima_pos(vector, elem):\n",
    "    \"\"\"\n",
    "    devuelve el índice de la ultima aparición del elemento en el vector\n",
    "    si no está, devuelve -1\n",
    "    \"\"\"\n",
    "    left, right = 0, len(vector)-1\n",
    "    resul = -1 # me guardo el índice del N más a la derecha hasta el momento\n",
    "               # inicializado a \"no lo he encontrado\"\n",
    "    while left <= right:\n",
    "        m = (left+right) // 2\n",
    "        if vector[m] < elem: # caigo encima de uno menor que el que busco\n",
    "            left = m+1\n",
    "        elif vector[m] > elem: # estoy en un elem mayor que el busco \n",
    "            right = m-1 # sigo buscando por la izquierda\n",
    "        else: # encima del que busco\n",
    "            resul = m # antes de seguir, me apunto esta posición\n",
    "            left = m+1 # sigo buscando por la derecha\n",
    "    return resul"
   ]
  },
  {
   "cell_type": "code",
   "execution_count": 183,
   "id": "724f9d84",
   "metadata": {},
   "outputs": [
    {
     "data": {
      "text/plain": [
       "87"
      ]
     },
     "execution_count": 183,
     "metadata": {},
     "output_type": "execute_result"
    }
   ],
   "source": [
    "ultima_pos(v,8)"
   ]
  },
  {
   "cell_type": "code",
   "execution_count": 184,
   "id": "1c56aa66",
   "metadata": {},
   "outputs": [
    {
     "data": {
      "text/plain": [
       "(8, 9)"
      ]
     },
     "execution_count": 184,
     "metadata": {},
     "output_type": "execute_result"
    }
   ],
   "source": [
    "v[87],v[88]"
   ]
  },
  {
   "cell_type": "code",
   "execution_count": 185,
   "id": "2fe493e3",
   "metadata": {},
   "outputs": [],
   "source": [
    "def contar_elem(v, elem):\n",
    "    primero = primera_pos(v, elem)\n",
    "    if primero == -1:\n",
    "        return 0\n",
    "    ultimo = ultima_pos(v, elem)\n",
    "    return ultimo-primero+1"
   ]
  },
  {
   "cell_type": "code",
   "execution_count": 186,
   "id": "469c3a5a",
   "metadata": {},
   "outputs": [
    {
     "data": {
      "text/plain": [
       "15"
      ]
     },
     "execution_count": 186,
     "metadata": {},
     "output_type": "execute_result"
    }
   ],
   "source": [
    "contar_elem(v, 8)"
   ]
  },
  {
   "cell_type": "code",
   "execution_count": 187,
   "id": "e32f33a2",
   "metadata": {},
   "outputs": [],
   "source": [
    "vgrande = sorted(random.randrange(10) for i in range(1000_000))"
   ]
  },
  {
   "cell_type": "code",
   "execution_count": 188,
   "id": "12282ca0",
   "metadata": {},
   "outputs": [
    {
     "data": {
      "text/plain": [
       "100047"
      ]
     },
     "execution_count": 188,
     "metadata": {},
     "output_type": "execute_result"
    }
   ],
   "source": [
    "vgrande.count(7)"
   ]
  },
  {
   "cell_type": "code",
   "execution_count": 190,
   "id": "d947f817",
   "metadata": {},
   "outputs": [
    {
     "data": {
      "text/plain": [
       "100047"
      ]
     },
     "execution_count": 190,
     "metadata": {},
     "output_type": "execute_result"
    }
   ],
   "source": [
    "contar_elem(vgrande,7)"
   ]
  },
  {
   "cell_type": "code",
   "execution_count": 191,
   "id": "650a92e4",
   "metadata": {},
   "outputs": [
    {
     "name": "stdout",
     "output_type": "stream",
     "text": [
      "9.4 ms ± 147 µs per loop (mean ± std. dev. of 7 runs, 100 loops each)\n"
     ]
    }
   ],
   "source": [
    "%timeit vgrande.count(7)"
   ]
  },
  {
   "cell_type": "code",
   "execution_count": 192,
   "id": "0ac7f416",
   "metadata": {},
   "outputs": [
    {
     "name": "stdout",
     "output_type": "stream",
     "text": [
      "8.13 µs ± 73.5 ns per loop (mean ± std. dev. of 7 runs, 100,000 loops each)\n"
     ]
    }
   ],
   "source": [
    "%timeit contar_elem(vgrande,7)"
   ]
  },
  {
   "cell_type": "markdown",
   "id": "bfeeb348",
   "metadata": {},
   "source": [
    "### Ejercicio Quizz Q1 unit 22 slide 223\n",
    "\n",
    "Encontrar posición donde insertar elemento en una lista"
   ]
  },
  {
   "cell_type": "code",
   "execution_count": 194,
   "id": "5650ec56",
   "metadata": {},
   "outputs": [
    {
     "data": {
      "text/plain": [
       "[20]"
      ]
     },
     "execution_count": 194,
     "metadata": {},
     "output_type": "execute_result"
    }
   ],
   "source": [
    "lista = []\n",
    "lista.insert(0,20)\n",
    "lista"
   ]
  },
  {
   "cell_type": "code",
   "execution_count": 207,
   "id": "0f08de46",
   "metadata": {},
   "outputs": [],
   "source": [
    "def pos_insertar(vector, elem):\n",
    "    \"\"\"\n",
    "    vector está ordenado\n",
    "    devuelve el índice donde insertar elem y que quede ordenado\n",
    "    \"\"\"\n",
    "    left, right = 0, len(vector)-1\n",
    "    resul = len(vector)\n",
    "    while left <= right:\n",
    "        m = (left+right) // 2\n",
    "        if vector[m] < elem: # caigo encima de uno menor que el que busco\n",
    "            left = m+1\n",
    "        else:\n",
    "            resul = m # antes de seguir, me apunto esta posición\n",
    "            right = m-1 # sigo buscando por la izquierda\n",
    "    return resul"
   ]
  },
  {
   "cell_type": "code",
   "execution_count": 206,
   "id": "d082d96b",
   "metadata": {},
   "outputs": [
    {
     "name": "stdout",
     "output_type": "stream",
     "text": [
      "Input a number to insert: 1000\n",
      "1000 should be inserted at position 6\n",
      "[10, 20, 40, 50, 60, 80, 1000]\n"
     ]
    }
   ],
   "source": [
    "nums = [10, 20, 40, 50, 60, 80]\n",
    "x = int(input(\"Input a number to insert: \"))\n",
    "pos = pos_insertar(nums, x)\n",
    "print(f\"{x} should be inserted at position {pos}\")\n",
    "nums.insert(pos,x)\n",
    "print(nums)"
   ]
  },
  {
   "cell_type": "markdown",
   "id": "966856a7",
   "metadata": {},
   "source": [
    "## Tablas hash"
   ]
  },
  {
   "cell_type": "markdown",
   "id": "1721f581",
   "metadata": {},
   "source": [
    "## Ejercicio:\n",
    "\n",
    "Nos dan una lista de listas Python y queremos saber cuántas hay diferentes."
   ]
  },
  {
   "cell_type": "code",
   "execution_count": 219,
   "id": "dffe2cb4",
   "metadata": {},
   "outputs": [],
   "source": [
    "longitud = random.randint(100,200)\n",
    "lista = [ [random.randrange(5) for j in range(random.randrange(1,5))]\n",
    "          for i in range(longitud)]"
   ]
  },
  {
   "cell_type": "code",
   "execution_count": 224,
   "id": "c8e40eb3",
   "metadata": {},
   "outputs": [
    {
     "data": {
      "text/plain": [
       "[[4], [1], [0, 1, 0], [3], [2, 3], [1, 3], [1], [4, 4, 3], [3, 4, 2, 1], [1, 0, 0], [1, 3, 2], [0, 2], [1, 0, 1, 3], [3, 3], [4, 1, 0, 1], [0, 0, 0, 0], [2, 3, 3, 0], [4], [2], [0, 2, 0], [1], [3, 1, 1], [4, 2, 1], [2, 1, 4, 1], [2, 4, 3], [4], [2, 2, 0, 4], [2, 2, 2], [3, 0, 3, 3], [3], [3, 3, 0], [1, 4], [1], [4, 0, 3], [3, 4, 3, 0], [4], [2], [2, 4, 2, 2], [1, 2], [0], [0], [3], [2], [0, 0], [2], [4, 0, 3], [1, 2, 4], [3, 3, 1], [0, 2, 4], [1, 0, 0], [2, 2, 4, 1], [4, 4, 4], [0, 1], [0, 4, 0], [2, 0, 4], [3, 2, 1], [0, 2, 3, 3], [1, 3, 3, 1], [2, 3, 1, 2], [1], [0], [3, 3, 0, 1], [0, 2], [1, 2, 0], [4], [3, 3, 3], [1, 0, 2, 2], [1], [2, 3, 4], [2, 4, 3], [0, 1, 2], [3], [0, 2, 0], [4, 3, 0, 4], [3], [2], [1], [0, 3, 2], [1], [1], [2, 3, 3, 3], [1, 4], [2, 3, 3], [2, 4, 4, 0], [4, 4, 2], [2, 4, 4, 4], [3, 0, 3, 1], [3, 3, 3], [1, 2], [0, 0], [4], [4], [4, 0, 0], [4, 4], [3, 2, 1, 3], [0, 3, 0, 2], [0, 2], [2, 3], [0, 2, 4, 3], [1, 1], [2], [4], [1], [2, 2], [0, 1], [0, 2, 1], [4, 0], [0, 1, 4, 1], [1, 3, 1, 2], [1, 4, 1, 4], [1, 4, 1], [2, 2, 4, 3], [3, 1, 3], [0, 2], [3], [1, 3, 3, 3], [1, 0], [1, 1, 1], [2, 3], [3], [0, 0], [1], [2, 0, 4], [4], [0, 2, 2], [2, 4], [2, 2, 4, 0], [3, 0, 2, 1], [2, 2, 3], [1, 0, 0, 2], [3], [2, 1, 2], [1, 3, 4, 3], [3, 1], [3], [2, 0], [0, 0, 1, 0], [1, 4], [2, 0], [1, 0, 4], [2], [3, 4, 3], [4, 4, 4, 1], [3, 4, 3, 3], [1, 4, 3], [3, 3, 2], [0, 3, 3, 2], [0, 2, 2, 4], [2, 2, 1, 1], [0], [3, 2, 3], [0, 0], [2, 4], [3, 0, 1], [0, 4], [1, 4, 4, 1], [0], [0, 1], [3, 1], [3, 1, 0, 4], [3, 4], [0], [2, 4, 3], [0, 2, 4], [2, 0, 4, 4], [1, 3], [1, 3, 0, 2], [1], [2, 1, 4, 1], [1], [1, 3, 2, 4], [1, 1, 4], [2, 2], [2, 1, 0], [4, 2], [3, 0], [4, 0, 4, 4], [1, 1, 1], [1], [1, 3, 0], [0], [3], [0, 1, 0], [4, 3], [3, 1, 4, 4]]"
      ]
     },
     "execution_count": 224,
     "metadata": {},
     "output_type": "execute_result"
    }
   ],
   "source": [
    "lista"
   ]
  },
  {
   "cell_type": "code",
   "execution_count": 221,
   "id": "9bd8a2c4",
   "metadata": {},
   "outputs": [],
   "source": [
    "otra = ['casa','gato','casa','perro','coche','gato']"
   ]
  },
  {
   "cell_type": "code",
   "execution_count": 222,
   "id": "b922ce25",
   "metadata": {},
   "outputs": [
    {
     "data": {
      "text/plain": [
       "{'coche', 'gato', 'casa', 'perro'}"
      ]
     },
     "execution_count": 222,
     "metadata": {},
     "output_type": "execute_result"
    }
   ],
   "source": [
    "set(otra)"
   ]
  },
  {
   "cell_type": "code",
   "execution_count": 223,
   "id": "fc12fc92",
   "metadata": {},
   "outputs": [
    {
     "data": {
      "text/plain": [
       "4"
      ]
     },
     "execution_count": 223,
     "metadata": {},
     "output_type": "execute_result"
    }
   ],
   "source": [
    "len(set(otra))"
   ]
  },
  {
   "cell_type": "code",
   "execution_count": 225,
   "id": "b3b78722",
   "metadata": {},
   "outputs": [
    {
     "ename": "TypeError",
     "evalue": "unhashable type: 'list'",
     "output_type": "error",
     "traceback": [
      "\u001b[1;31m---------------------------------------------------------------------------\u001b[0m",
      "\u001b[1;31mTypeError\u001b[0m                                 Traceback (most recent call last)",
      "Input \u001b[1;32mIn [225]\u001b[0m, in \u001b[0;36m<cell line: 1>\u001b[1;34m()\u001b[0m\n\u001b[1;32m----> 1\u001b[0m \u001b[38;5;28mlen\u001b[39m(\u001b[38;5;28;43mset\u001b[39;49m\u001b[43m(\u001b[49m\u001b[43mlista\u001b[49m\u001b[43m)\u001b[49m)\n",
      "\u001b[1;31mTypeError\u001b[0m: unhashable type: 'list'"
     ]
    }
   ],
   "source": [
    "len(set(lista))"
   ]
  },
  {
   "cell_type": "code",
   "execution_count": 226,
   "id": "933a9324",
   "metadata": {},
   "outputs": [
    {
     "data": {
      "text/plain": [
       "3075781931407049644"
      ]
     },
     "execution_count": 226,
     "metadata": {},
     "output_type": "execute_result"
    }
   ],
   "source": [
    "hash(\"hola\")"
   ]
  },
  {
   "cell_type": "code",
   "execution_count": 227,
   "id": "2db5e9d2",
   "metadata": {},
   "outputs": [
    {
     "data": {
      "text/plain": [
       "3075781931407049644"
      ]
     },
     "execution_count": 227,
     "metadata": {},
     "output_type": "execute_result"
    }
   ],
   "source": [
    "hash(\"hola\")"
   ]
  },
  {
   "cell_type": "code",
   "execution_count": 228,
   "id": "80a4fe6c",
   "metadata": {},
   "outputs": [
    {
     "data": {
      "text/plain": [
       "529344067295497451"
      ]
     },
     "execution_count": 228,
     "metadata": {},
     "output_type": "execute_result"
    }
   ],
   "source": [
    "hash( (1,2,3) )"
   ]
  },
  {
   "cell_type": "code",
   "execution_count": 229,
   "id": "8a517916",
   "metadata": {},
   "outputs": [
    {
     "ename": "TypeError",
     "evalue": "unhashable type: 'list'",
     "output_type": "error",
     "traceback": [
      "\u001b[1;31m---------------------------------------------------------------------------\u001b[0m",
      "\u001b[1;31mTypeError\u001b[0m                                 Traceback (most recent call last)",
      "Input \u001b[1;32mIn [229]\u001b[0m, in \u001b[0;36m<cell line: 1>\u001b[1;34m()\u001b[0m\n\u001b[1;32m----> 1\u001b[0m \u001b[38;5;28;43mhash\u001b[39;49m\u001b[43m(\u001b[49m\u001b[43m \u001b[49m\u001b[43m[\u001b[49m\u001b[38;5;241;43m3\u001b[39;49m\u001b[43m,\u001b[49m\u001b[43m \u001b[49m\u001b[38;5;241;43m2\u001b[39;49m\u001b[43m,\u001b[49m\u001b[43m \u001b[49m\u001b[38;5;241;43m1\u001b[39;49m\u001b[43m]\u001b[49m\u001b[43m \u001b[49m\u001b[43m)\u001b[49m\n",
      "\u001b[1;31mTypeError\u001b[0m: unhashable type: 'list'"
     ]
    }
   ],
   "source": [
    "hash( [3, 2, 1] )"
   ]
  },
  {
   "cell_type": "code",
   "execution_count": 230,
   "id": "d6815ef4",
   "metadata": {},
   "outputs": [
    {
     "data": {
      "text/plain": [
       "<class 'dict'>"
      ]
     },
     "execution_count": 230,
     "metadata": {},
     "output_type": "execute_result"
    }
   ],
   "source": [
    "d = {}\n",
    "type(d)"
   ]
  },
  {
   "cell_type": "code",
   "execution_count": 231,
   "id": "60c076e6",
   "metadata": {},
   "outputs": [],
   "source": [
    "d['hola'] = 5"
   ]
  },
  {
   "cell_type": "code",
   "execution_count": 232,
   "id": "a9173dff",
   "metadata": {},
   "outputs": [
    {
     "ename": "TypeError",
     "evalue": "unhashable type: 'list'",
     "output_type": "error",
     "traceback": [
      "\u001b[1;31m---------------------------------------------------------------------------\u001b[0m",
      "\u001b[1;31mTypeError\u001b[0m                                 Traceback (most recent call last)",
      "Input \u001b[1;32mIn [232]\u001b[0m, in \u001b[0;36m<cell line: 2>\u001b[1;34m()\u001b[0m\n\u001b[0;32m      1\u001b[0m milista \u001b[38;5;241m=\u001b[39m [\u001b[38;5;241m1\u001b[39m,\u001b[38;5;241m2\u001b[39m]\n\u001b[1;32m----> 2\u001b[0m d[milista] \u001b[38;5;241m=\u001b[39m \u001b[38;5;241m20\u001b[39m\n",
      "\u001b[1;31mTypeError\u001b[0m: unhashable type: 'list'"
     ]
    }
   ],
   "source": [
    "milista = [1,2]\n",
    "d[milista] = 20"
   ]
  },
  {
   "cell_type": "code",
   "execution_count": 233,
   "id": "a9202b17",
   "metadata": {},
   "outputs": [
    {
     "data": {
      "text/plain": [
       "{'hola': [1, 2]}"
      ]
     },
     "execution_count": 233,
     "metadata": {},
     "output_type": "execute_result"
    }
   ],
   "source": [
    "d['hola'] = milista\n",
    "d"
   ]
  },
  {
   "cell_type": "code",
   "execution_count": 234,
   "id": "0b4a5716",
   "metadata": {},
   "outputs": [],
   "source": [
    "mitupla = (1,2)\n",
    "d[mitupla] = 20"
   ]
  },
  {
   "cell_type": "code",
   "execution_count": 235,
   "id": "8effcc36",
   "metadata": {},
   "outputs": [
    {
     "data": {
      "text/plain": [
       "{'hola': [1, 2], (1, 2): 20}"
      ]
     },
     "execution_count": 235,
     "metadata": {},
     "output_type": "execute_result"
    }
   ],
   "source": [
    "d"
   ]
  },
  {
   "cell_type": "code",
   "execution_count": 239,
   "id": "7bd0790c",
   "metadata": {},
   "outputs": [
    {
     "data": {
      "text/plain": [
       "114"
      ]
     },
     "execution_count": 239,
     "metadata": {},
     "output_type": "execute_result"
    }
   ],
   "source": [
    "len(set(tuple(x) for x in lista))"
   ]
  },
  {
   "cell_type": "code",
   "execution_count": 240,
   "id": "8d440ff6",
   "metadata": {},
   "outputs": [
    {
     "data": {
      "text/plain": [
       "185"
      ]
     },
     "execution_count": 240,
     "metadata": {},
     "output_type": "execute_result"
    }
   ],
   "source": [
    "len(lista)"
   ]
  },
  {
   "cell_type": "code",
   "execution_count": 241,
   "id": "3d33765e",
   "metadata": {},
   "outputs": [
    {
     "data": {
      "text/plain": [
       "(1, 2, 3)"
      ]
     },
     "execution_count": 241,
     "metadata": {},
     "output_type": "execute_result"
    }
   ],
   "source": [
    "x = [1,2,3]\n",
    "tuple(x)"
   ]
  },
  {
   "cell_type": "code",
   "execution_count": 242,
   "id": "0cbea82e",
   "metadata": {},
   "outputs": [
    {
     "data": {
      "text/plain": [
       "529344067295497451"
      ]
     },
     "execution_count": 242,
     "metadata": {},
     "output_type": "execute_result"
    }
   ],
   "source": [
    "hash(tuple(x))"
   ]
  },
  {
   "cell_type": "code",
   "execution_count": 243,
   "id": "a40db5a5",
   "metadata": {},
   "outputs": [
    {
     "data": {
      "text/plain": [
       "529344067295497451"
      ]
     },
     "execution_count": 243,
     "metadata": {},
     "output_type": "execute_result"
    }
   ],
   "source": [
    "hash( (1,2,3) )"
   ]
  },
  {
   "cell_type": "code",
   "execution_count": null,
   "id": "7345f40f",
   "metadata": {},
   "outputs": [],
   "source": []
  }
 ],
 "metadata": {
  "kernelspec": {
   "display_name": "Python 3 (ipykernel)",
   "language": "python",
   "name": "python3"
  },
  "language_info": {
   "codemirror_mode": {
    "name": "ipython",
    "version": 3
   },
   "file_extension": ".py",
   "mimetype": "text/x-python",
   "name": "python",
   "nbconvert_exporter": "python",
   "pygments_lexer": "ipython3",
   "version": "3.9.12"
  }
 },
 "nbformat": 4,
 "nbformat_minor": 5
}
