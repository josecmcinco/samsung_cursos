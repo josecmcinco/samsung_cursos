{
 "cells": [
  {
   "cell_type": "code",
   "execution_count": null,
   "id": "96fa6096",
   "metadata": {},
   "outputs": [],
   "source": [
    "def f():\n",
    "    a = 10\n",
    "    print(a)\n",
    "    \n",
    "a = 20\n",
    "print(a)\n",
    "f()\n",
    "print(a)"
   ]
  },
  {
   "cell_type": "code",
   "execution_count": null,
   "id": "d344f196",
   "metadata": {},
   "outputs": [],
   "source": [
    "def f():\n",
    "    global a\n",
    "    a = 10\n",
    "    print(a)\n",
    "    \n",
    "a = 20\n",
    "print(a)\n",
    "f()\n",
    "print(a)"
   ]
  },
  {
   "cell_type": "code",
   "execution_count": null,
   "id": "22cbef16",
   "metadata": {},
   "outputs": [],
   "source": [
    "a = 20\n",
    "def f():\n",
    "    a = 10\n",
    "    def g():\n",
    "        print(\"desde g\",a)\n",
    "    g()\n",
    "    print(\"desde f\",a)\n",
    "f()\n",
    "print(\"fuera de todo\",a)"
   ]
  },
  {
   "cell_type": "code",
   "execution_count": null,
   "id": "a3904b86",
   "metadata": {},
   "outputs": [],
   "source": [
    "a = 20\n",
    "def f():\n",
    "    a = 10\n",
    "    def g():\n",
    "        a += 1\n",
    "        print(\"desde g\",a)\n",
    "    g()\n",
    "    print(\"desde f\",a)\n",
    "f()\n",
    "print(\"fuera de todo\",a)"
   ]
  },
  {
   "cell_type": "code",
   "execution_count": null,
   "id": "64be9a0a",
   "metadata": {},
   "outputs": [],
   "source": [
    "a = 20\n",
    "def f():\n",
    "    a = 10\n",
    "    def g():\n",
    "        nonlocal a\n",
    "        a += 1\n",
    "        print(\"desde g\",a)\n",
    "    g()\n",
    "    print(\"desde f\",a)\n",
    "f()\n",
    "print(\"fuera de todo\",a)"
   ]
  },
  {
   "cell_type": "code",
   "execution_count": null,
   "id": "e9c43bcb",
   "metadata": {},
   "outputs": [],
   "source": [
    "a = 20\n",
    "def f():\n",
    "    a = 10\n",
    "    def g():\n",
    "        global a\n",
    "        a += 1\n",
    "        print(\"desde g\",a)\n",
    "    g()\n",
    "    print(\"desde f\",a)\n",
    "f()\n",
    "print(\"fuera de todo\",a)"
   ]
  },
  {
   "cell_type": "code",
   "execution_count": null,
   "id": "a2e0a8bf",
   "metadata": {},
   "outputs": [],
   "source": [
    "a = 20 # GLOBAL\n",
    "def f():\n",
    "    a = 10 # LOCAL A f\n",
    "    def g():\n",
    "        a = 40 # LOCAL A g\n",
    "        def h():\n",
    "            nonlocal a\n",
    "            a += 1\n",
    "            print(\"desde h\",a)\n",
    "        h()\n",
    "    g()\n",
    "f()"
   ]
  },
  {
   "cell_type": "markdown",
   "id": "85d5e202",
   "metadata": {},
   "source": [
    "## Diferencia entre funciones y métodos a nivel de sintaxis"
   ]
  },
  {
   "cell_type": "code",
   "execution_count": 2,
   "id": "0eebeed8",
   "metadata": {},
   "outputs": [
    {
     "name": "stdout",
     "output_type": "stream",
     "text": [
      "No me da la gana!\n",
      "hola 2\n"
     ]
    }
   ],
   "source": [
    "old_print = print\n",
    "def print( *a, **b):\n",
    "    old_print(\"No me da la gana!\")\n",
    "    \n",
    "print(\"hola 1\")\n",
    "\n",
    "print = old_print\n",
    "\n",
    "print(\"hola 2\")"
   ]
  },
  {
   "cell_type": "code",
   "execution_count": 3,
   "id": "05fe1d38",
   "metadata": {},
   "outputs": [
    {
     "data": {
      "text/plain": [
       "9"
      ]
     },
     "execution_count": 3,
     "metadata": {},
     "output_type": "execute_result"
    }
   ],
   "source": [
    "lista = [2,3,4]\n",
    "sum(lista) # funcion( argumentos )"
   ]
  },
  {
   "cell_type": "code",
   "execution_count": 4,
   "id": "58a5ab5b",
   "metadata": {},
   "outputs": [],
   "source": [
    "lista.append(5) # llamada a método objeto.método( argumentos )"
   ]
  },
  {
   "cell_type": "code",
   "execution_count": 5,
   "id": "f3ee7d91",
   "metadata": {},
   "outputs": [
    {
     "data": {
      "text/plain": [
       "20"
      ]
     },
     "execution_count": 5,
     "metadata": {},
     "output_type": "execute_result"
    }
   ],
   "source": [
    "import random\n",
    "random.randint(10,20) # función"
   ]
  },
  {
   "cell_type": "code",
   "execution_count": 6,
   "id": "3bfbb1bd",
   "metadata": {},
   "outputs": [
    {
     "data": {
      "text/plain": [
       "11"
      ]
     },
     "execution_count": 6,
     "metadata": {},
     "output_type": "execute_result"
    }
   ],
   "source": [
    "from random import randint\n",
    "randint(10,20)"
   ]
  },
  {
   "cell_type": "markdown",
   "id": "d1016f36",
   "metadata": {},
   "source": [
    "## Clases en Python"
   ]
  },
  {
   "cell_type": "code",
   "execution_count": 24,
   "id": "d12d7146",
   "metadata": {},
   "outputs": [
    {
     "data": {
      "text/plain": [
       "3.141592653589793"
      ]
     },
     "execution_count": 24,
     "metadata": {},
     "output_type": "execute_result"
    }
   ],
   "source": [
    "import math\n",
    "math.pi"
   ]
  },
  {
   "cell_type": "code",
   "execution_count": 33,
   "id": "182ac079",
   "metadata": {},
   "outputs": [],
   "source": [
    "\n",
    "class Circulo:\n",
    "    def __init__(self, radio): # \"constructor\"\n",
    "        self.radio = radio\n",
    "    def area(self):\n",
    "        return math.pi * self.radio**2"
   ]
  },
  {
   "cell_type": "code",
   "execution_count": 35,
   "id": "141f62b0",
   "metadata": {},
   "outputs": [
    {
     "data": {
      "text/plain": [
       "12.566370614359172"
      ]
     },
     "execution_count": 35,
     "metadata": {},
     "output_type": "execute_result"
    }
   ],
   "source": [
    "c = Circulo(2)\n",
    "c.area()"
   ]
  },
  {
   "cell_type": "code",
   "execution_count": 11,
   "id": "d9d0d9a5",
   "metadata": {},
   "outputs": [
    {
     "data": {
      "text/plain": [
       "__main__.Circulo"
      ]
     },
     "execution_count": 11,
     "metadata": {},
     "output_type": "execute_result"
    }
   ],
   "source": [
    "type(c)"
   ]
  },
  {
   "cell_type": "code",
   "execution_count": 12,
   "id": "40a40552",
   "metadata": {},
   "outputs": [],
   "source": [
    "class Vacia:\n",
    "    pass"
   ]
  },
  {
   "cell_type": "code",
   "execution_count": 13,
   "id": "6dfe7ec4",
   "metadata": {},
   "outputs": [],
   "source": [
    "v = Vacia()"
   ]
  },
  {
   "cell_type": "code",
   "execution_count": 14,
   "id": "a7f954a4",
   "metadata": {},
   "outputs": [
    {
     "data": {
      "text/plain": [
       "__main__.Vacia"
      ]
     },
     "execution_count": 14,
     "metadata": {},
     "output_type": "execute_result"
    }
   ],
   "source": [
    "type(v)"
   ]
  },
  {
   "cell_type": "code",
   "execution_count": 15,
   "id": "583e24bc",
   "metadata": {},
   "outputs": [],
   "source": [
    "v.a = 5"
   ]
  },
  {
   "cell_type": "code",
   "execution_count": 16,
   "id": "a138b86b",
   "metadata": {},
   "outputs": [
    {
     "data": {
      "text/plain": [
       "5"
      ]
     },
     "execution_count": 16,
     "metadata": {},
     "output_type": "execute_result"
    }
   ],
   "source": [
    "v.a"
   ]
  },
  {
   "cell_type": "code",
   "execution_count": 23,
   "id": "bc8cbc4a",
   "metadata": {},
   "outputs": [
    {
     "name": "stdout",
     "output_type": "stream",
     "text": [
      "hola, soy un método de A 12\n",
      "hola, soy un método de B\n",
      "hola, soy un método de A 12\n"
     ]
    }
   ],
   "source": [
    "class A:\n",
    "    def f(self):\n",
    "        print(\"hola, soy un método de A\", self.altura)\n",
    "class B:\n",
    "    def f(self):\n",
    "        print(\"hola, soy un método de B\")\n",
    "        \n",
    "a = A()\n",
    "a.altura = 12\n",
    "b = B()\n",
    "\n",
    "for objeto in [a,b,a]:\n",
    "    objeto.f()"
   ]
  },
  {
   "cell_type": "code",
   "execution_count": 20,
   "id": "d02e6bda",
   "metadata": {},
   "outputs": [
    {
     "data": {
      "text/plain": [
       "4"
      ]
     },
     "execution_count": 20,
     "metadata": {},
     "output_type": "execute_result"
    }
   ],
   "source": [
    "len(\"hola\")"
   ]
  },
  {
   "cell_type": "code",
   "execution_count": 21,
   "id": "7d41f4e3",
   "metadata": {},
   "outputs": [
    {
     "data": {
      "text/plain": [
       "4"
      ]
     },
     "execution_count": 21,
     "metadata": {},
     "output_type": "execute_result"
    }
   ],
   "source": [
    "\"hola\".__len__()"
   ]
  },
  {
   "cell_type": "code",
   "execution_count": 41,
   "id": "6cdae0df",
   "metadata": {},
   "outputs": [],
   "source": [
    "class CadenaRepetida:\n",
    "    def __init__(self, cadena, reps=1):\n",
    "        self.cadena = cadena\n",
    "        self.reps = reps\n",
    "    def __len__(self): # cuando llamas a len( )\n",
    "        return len(self.cadena) * self.reps\n",
    "    def __str__(self): # cuando conviertes el objeto a cadena\n",
    "        return self.cadena * self.reps"
   ]
  },
  {
   "cell_type": "code",
   "execution_count": 42,
   "id": "6b11978f",
   "metadata": {},
   "outputs": [],
   "source": [
    "c = CadenaRepetida(\"hola\", 3)"
   ]
  },
  {
   "cell_type": "code",
   "execution_count": 43,
   "id": "2bb7d21d",
   "metadata": {},
   "outputs": [
    {
     "data": {
      "text/plain": [
       "12"
      ]
     },
     "execution_count": 43,
     "metadata": {},
     "output_type": "execute_result"
    }
   ],
   "source": [
    "len(c)"
   ]
  },
  {
   "cell_type": "code",
   "execution_count": 44,
   "id": "9f1c5fd9",
   "metadata": {},
   "outputs": [
    {
     "name": "stdout",
     "output_type": "stream",
     "text": [
      "holaholahola\n"
     ]
    }
   ],
   "source": [
    "print(c)"
   ]
  },
  {
   "cell_type": "markdown",
   "id": "fe036e17",
   "metadata": {},
   "source": [
    "### Producto cartesiano"
   ]
  },
  {
   "cell_type": "code",
   "execution_count": 47,
   "id": "26d92e83",
   "metadata": {},
   "outputs": [
    {
     "data": {
      "text/plain": [
       "{(1, 'casa'), (1, 'gato'), (2, 'casa'), (2, 'gato'), (3, 'casa'), (3, 'gato')}"
      ]
     },
     "execution_count": 47,
     "metadata": {},
     "output_type": "execute_result"
    }
   ],
   "source": [
    "a = {1,2,3}\n",
    "b = {\"casa\",\"gato\"}\n",
    "\n",
    "{(x,y) for x in a for y in b}"
   ]
  },
  {
   "cell_type": "code",
   "execution_count": 50,
   "id": "4411afd1",
   "metadata": {},
   "outputs": [
    {
     "data": {
      "text/plain": [
       "250000"
      ]
     },
     "execution_count": 50,
     "metadata": {},
     "output_type": "execute_result"
    }
   ],
   "source": [
    "a = set(range(500))\n",
    "b = set(range(500))\n",
    "cjt = set()\n",
    "for x in a:\n",
    "    for y in b:\n",
    "        cjt.add( (x,y) )\n",
    "len(cjt)"
   ]
  },
  {
   "cell_type": "code",
   "execution_count": 51,
   "id": "79f7df94",
   "metadata": {},
   "outputs": [
    {
     "ename": "KeyboardInterrupt",
     "evalue": "",
     "output_type": "error",
     "traceback": [
      "\u001b[1;31m---------------------------------------------------------------------------\u001b[0m",
      "\u001b[1;31mKeyboardInterrupt\u001b[0m                         Traceback (most recent call last)",
      "Input \u001b[1;32mIn [51]\u001b[0m, in \u001b[0;36m<cell line: 4>\u001b[1;34m()\u001b[0m\n\u001b[0;32m      4\u001b[0m \u001b[38;5;28;01mfor\u001b[39;00m x \u001b[38;5;129;01min\u001b[39;00m a:\n\u001b[0;32m      5\u001b[0m     \u001b[38;5;28;01mfor\u001b[39;00m y \u001b[38;5;129;01min\u001b[39;00m b:\n\u001b[1;32m----> 6\u001b[0m         cjt \u001b[38;5;241m=\u001b[39m cjt \u001b[38;5;241m|\u001b[39m {(x,y)}\n\u001b[0;32m      7\u001b[0m \u001b[38;5;28mlen\u001b[39m(cjt)\n",
      "\u001b[1;31mKeyboardInterrupt\u001b[0m: "
     ]
    }
   ],
   "source": [
    "a = set(range(500))\n",
    "b = set(range(500))\n",
    "cjt = set()\n",
    "for x in a:\n",
    "    for y in b:\n",
    "        cjt = cjt | {(x,y)}\n",
    "len(cjt)"
   ]
  },
  {
   "cell_type": "code",
   "execution_count": null,
   "id": "e572b831",
   "metadata": {},
   "outputs": [],
   "source": []
  }
 ],
 "metadata": {
  "kernelspec": {
   "display_name": "Python 3 (ipykernel)",
   "language": "python",
   "name": "python3"
  },
  "language_info": {
   "codemirror_mode": {
    "name": "ipython",
    "version": 3
   },
   "file_extension": ".py",
   "mimetype": "text/x-python",
   "name": "python",
   "nbconvert_exporter": "python",
   "pygments_lexer": "ipython3",
   "version": "3.9.12"
  }
 },
 "nbformat": 4,
 "nbformat_minor": 5
}
