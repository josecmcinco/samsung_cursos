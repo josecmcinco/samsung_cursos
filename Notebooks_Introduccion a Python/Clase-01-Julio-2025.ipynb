{
 "cells": [
  {
   "cell_type": "markdown",
   "id": "8c72379c",
   "metadata": {},
   "source": [
    "### Unit 15: Sets"
   ]
  },
  {
   "cell_type": "code",
   "execution_count": 2,
   "id": "000acd73",
   "metadata": {},
   "outputs": [
    {
     "data": {
      "text/plain": [
       "10"
      ]
     },
     "execution_count": 2,
     "metadata": {},
     "output_type": "execute_result"
    }
   ],
   "source": [
    "lista = [1,2,3,2,3,5,0,10,21,11]\n",
    "\n",
    "len(lista)"
   ]
  },
  {
   "cell_type": "code",
   "execution_count": 3,
   "id": "172f74ce",
   "metadata": {},
   "outputs": [
    {
     "data": {
      "text/plain": [
       "{0, 1, 2, 3, 5, 10, 11, 21}"
      ]
     },
     "execution_count": 3,
     "metadata": {},
     "output_type": "execute_result"
    }
   ],
   "source": [
    "set(lista)"
   ]
  },
  {
   "cell_type": "code",
   "execution_count": 5,
   "id": "3420e9dd",
   "metadata": {},
   "outputs": [
    {
     "name": "stdout",
     "output_type": "stream",
     "text": [
      "0\n",
      "1\n",
      "2\n",
      "3\n",
      "5\n",
      "10\n",
      "11\n",
      "21\n"
     ]
    }
   ],
   "source": [
    "# Aunque salga en orden, NO asumir que hay orden\n",
    "for element in set(lista):\n",
    "    print(element)"
   ]
  },
  {
   "cell_type": "code",
   "execution_count": 6,
   "id": "425f1ccc",
   "metadata": {},
   "outputs": [
    {
     "name": "stdout",
     "output_type": "stream",
     "text": [
      "0\n",
      "1\n",
      "2\n",
      "3\n",
      "5\n",
      "10\n",
      "11\n",
      "21\n"
     ]
    }
   ],
   "source": [
    "# Lo correcto sería ordenar SIEMPRE\n",
    "for element in sorted(set(lista)):\n",
    "    print(element)"
   ]
  },
  {
   "cell_type": "code",
   "execution_count": 7,
   "id": "c58dc84a",
   "metadata": {},
   "outputs": [
    {
     "data": {
      "text/plain": [
       "{0, 1, 2, 3, 5, 10, 11, 21}"
      ]
     },
     "execution_count": 7,
     "metadata": {},
     "output_type": "execute_result"
    }
   ],
   "source": [
    "mi_set = set(lista)\n",
    "mi_set"
   ]
  },
  {
   "cell_type": "code",
   "execution_count": 8,
   "id": "d3588eca",
   "metadata": {},
   "outputs": [
    {
     "data": {
      "text/plain": [
       "9"
      ]
     },
     "execution_count": 8,
     "metadata": {},
     "output_type": "execute_result"
    }
   ],
   "source": [
    "pos = -1\n",
    "\n",
    "for i, x in enumerate(lista):\n",
    "    if x == 11:\n",
    "        pos = i\n",
    "        break\n",
    "        \n",
    "pos"
   ]
  },
  {
   "cell_type": "code",
   "execution_count": 9,
   "id": "5bdfbe41",
   "metadata": {},
   "outputs": [
    {
     "data": {
      "text/plain": [
       "True"
      ]
     },
     "execution_count": 9,
     "metadata": {},
     "output_type": "execute_result"
    }
   ],
   "source": [
    "11 in mi_set"
   ]
  },
  {
   "cell_type": "code",
   "execution_count": 11,
   "id": "c79732d0",
   "metadata": {},
   "outputs": [
    {
     "data": {
      "text/plain": [
       "{0, 1, 2, 3, 5, 7, 10, 11, 21}"
      ]
     },
     "execution_count": 11,
     "metadata": {},
     "output_type": "execute_result"
    }
   ],
   "source": [
    "mi_set.add(7)\n",
    "mi_set"
   ]
  },
  {
   "cell_type": "code",
   "execution_count": 12,
   "id": "5c1322d4",
   "metadata": {},
   "outputs": [
    {
     "data": {
      "text/plain": [
       "{0, 1, 2, 3, 5, 7, 10, 11, 21}"
      ]
     },
     "execution_count": 12,
     "metadata": {},
     "output_type": "execute_result"
    }
   ],
   "source": [
    "mi_set.add(2)\n",
    "mi_set"
   ]
  },
  {
   "cell_type": "code",
   "execution_count": 14,
   "id": "e7be8ce9",
   "metadata": {},
   "outputs": [
    {
     "name": "stdout",
     "output_type": "stream",
     "text": [
      "2 ya está en el set\n"
     ]
    }
   ],
   "source": [
    "if 2 not in mi_set:\n",
    "    mi_set.add(2)\n",
    "\n",
    "else:\n",
    "    print(\"2 ya está en el set\")"
   ]
  },
  {
   "cell_type": "code",
   "execution_count": 15,
   "id": "0da825d7",
   "metadata": {},
   "outputs": [],
   "source": [
    "# Eliminamos el elemento 2\n",
    "mi_set.remove(2)"
   ]
  },
  {
   "cell_type": "code",
   "execution_count": 16,
   "id": "64eb1fa5",
   "metadata": {},
   "outputs": [
    {
     "ename": "KeyError",
     "evalue": "2",
     "output_type": "error",
     "traceback": [
      "\u001b[1;31m---------------------------------------------------------------------------\u001b[0m",
      "\u001b[1;31mKeyError\u001b[0m                                  Traceback (most recent call last)",
      "Input \u001b[1;32mIn [16]\u001b[0m, in \u001b[0;36m<cell line: 2>\u001b[1;34m()\u001b[0m\n\u001b[0;32m      1\u001b[0m \u001b[38;5;66;03m# Volver a eliminar 2\u001b[39;00m\n\u001b[1;32m----> 2\u001b[0m \u001b[43mmi_set\u001b[49m\u001b[38;5;241;43m.\u001b[39;49m\u001b[43mremove\u001b[49m\u001b[43m(\u001b[49m\u001b[38;5;241;43m2\u001b[39;49m\u001b[43m)\u001b[49m\n",
      "\u001b[1;31mKeyError\u001b[0m: 2"
     ]
    }
   ],
   "source": [
    "# Volver a eliminar 2\n",
    "mi_set.remove(2)"
   ]
  },
  {
   "cell_type": "code",
   "execution_count": 17,
   "id": "a3292827",
   "metadata": {},
   "outputs": [],
   "source": [
    "# Siempre que queramos borrar, comprobamos primero\n",
    "if 2 in mi_set:\n",
    "    # Volver a eliminar 2\n",
    "    mi_set.remove(2)"
   ]
  },
  {
   "cell_type": "code",
   "execution_count": 21,
   "id": "b596acf6",
   "metadata": {},
   "outputs": [
    {
     "data": {
      "text/plain": [
       "({3, 10, 11, 12, 17}, {3, 9, 11, 12})"
      ]
     },
     "execution_count": 21,
     "metadata": {},
     "output_type": "execute_result"
    }
   ],
   "source": [
    "import random\n",
    "\n",
    "s1 = {random.randint(1, 20) for _ in range(5)}\n",
    "s2 = {random.randint(1, 20) for _ in range(5)}\n",
    "\n",
    "s1, s2"
   ]
  },
  {
   "cell_type": "code",
   "execution_count": 22,
   "id": "b7cd16cf",
   "metadata": {},
   "outputs": [
    {
     "data": {
      "text/plain": [
       "{3, 9, 10, 11, 12, 17}"
      ]
     },
     "execution_count": 22,
     "metadata": {},
     "output_type": "execute_result"
    }
   ],
   "source": [
    "# Union\n",
    "s1 | s2"
   ]
  },
  {
   "cell_type": "code",
   "execution_count": 23,
   "id": "1304d853",
   "metadata": {},
   "outputs": [
    {
     "data": {
      "text/plain": [
       "{3, 11, 12}"
      ]
     },
     "execution_count": 23,
     "metadata": {},
     "output_type": "execute_result"
    }
   ],
   "source": [
    "# Intersección\n",
    "s1 & s2"
   ]
  },
  {
   "cell_type": "code",
   "execution_count": 24,
   "id": "4457141d",
   "metadata": {},
   "outputs": [
    {
     "data": {
      "text/plain": [
       "{10, 17}"
      ]
     },
     "execution_count": 24,
     "metadata": {},
     "output_type": "execute_result"
    }
   ],
   "source": [
    "# Diferencia\n",
    "s1 - s2"
   ]
  },
  {
   "cell_type": "code",
   "execution_count": 25,
   "id": "ea4c8184",
   "metadata": {},
   "outputs": [
    {
     "data": {
      "text/plain": [
       "{9, 10, 17}"
      ]
     },
     "execution_count": 25,
     "metadata": {},
     "output_type": "execute_result"
    }
   ],
   "source": [
    "# Diferencia simétrica\n",
    "s1 ^ s2"
   ]
  },
  {
   "cell_type": "code",
   "execution_count": 26,
   "id": "06a86615",
   "metadata": {},
   "outputs": [
    {
     "data": {
      "text/plain": [
       "{9, 10, 17}"
      ]
     },
     "execution_count": 26,
     "metadata": {},
     "output_type": "execute_result"
    }
   ],
   "source": [
    "# Diferencia simétrica (hecha a \"mano\")\n",
    "(s1 - s2) | (s2 - s1)"
   ]
  },
  {
   "cell_type": "code",
   "execution_count": 27,
   "id": "2db52e6a",
   "metadata": {},
   "outputs": [
    {
     "data": {
      "text/plain": [
       "{9, 10, 17}"
      ]
     },
     "execution_count": 27,
     "metadata": {},
     "output_type": "execute_result"
    }
   ],
   "source": [
    "# Diferencia simétrica (hecha a \"mano\") 2.0\n",
    "(s1 | s2) - (s2 & s1)"
   ]
  },
  {
   "cell_type": "code",
   "execution_count": 31,
   "id": "85a3ee98",
   "metadata": {},
   "outputs": [
    {
     "data": {
      "text/plain": [
       "(True, True)"
      ]
     },
     "execution_count": 31,
     "metadata": {},
     "output_type": "execute_result"
    }
   ],
   "source": [
    "s1 = {1,2,3}\n",
    "s2 = {4,5,6}\n",
    "\n",
    "len(s1 & s2) == 0, s1.isdisjoint(s2)"
   ]
  },
  {
   "cell_type": "code",
   "execution_count": 35,
   "id": "7e8ee35c",
   "metadata": {},
   "outputs": [
    {
     "data": {
      "text/plain": [
       "(True, False, False, True)"
      ]
     },
     "execution_count": 35,
     "metadata": {},
     "output_type": "execute_result"
    }
   ],
   "source": [
    "s1 = {1,2,3,4}\n",
    "s2 = {1,2,3}\n",
    "\n",
    "s1.issuperset(s2), s2.issuperset(s1), s1.issubset(s2), s2.issubset(s1)"
   ]
  },
  {
   "cell_type": "code",
   "execution_count": 38,
   "id": "eee5bd43",
   "metadata": {},
   "outputs": [
    {
     "data": {
      "text/plain": [
       "(False, False, False)"
      ]
     },
     "execution_count": 38,
     "metadata": {},
     "output_type": "execute_result"
    }
   ],
   "source": [
    "# Comparación de set\n",
    "s1 = {1,2,3}\n",
    "s2 = {4,5,6}\n",
    "\n",
    "s1 == s2, len(s1 & s2) == len(s1) == len(s2), len(s1 | s2) == len(s1) == len(s2)"
   ]
  },
  {
   "cell_type": "code",
   "execution_count": 42,
   "id": "31c39be7",
   "metadata": {},
   "outputs": [
    {
     "data": {
      "text/plain": [
       "False"
      ]
     },
     "execution_count": 42,
     "metadata": {},
     "output_type": "execute_result"
    }
   ],
   "source": [
    "# Subset de otro\n",
    "s1 = {1,2,3,4,7}\n",
    "s2 = {1,2,3,5}\n",
    "\n",
    "# s2 es subset de s1\n",
    "s2 < s1"
   ]
  },
  {
   "cell_type": "code",
   "execution_count": 43,
   "id": "fefc1020",
   "metadata": {},
   "outputs": [
    {
     "data": {
      "text/plain": [
       "True"
      ]
     },
     "execution_count": 43,
     "metadata": {},
     "output_type": "execute_result"
    }
   ],
   "source": [
    "# Subset de otro\n",
    "s1 = {1,2,3,4}\n",
    "s2 = {1,2,3}\n",
    "\n",
    "# s2 es subset de s1\n",
    "s2 < s1"
   ]
  },
  {
   "cell_type": "code",
   "execution_count": 44,
   "id": "58dee922",
   "metadata": {},
   "outputs": [
    {
     "data": {
      "text/plain": [
       "True"
      ]
     },
     "execution_count": 44,
     "metadata": {},
     "output_type": "execute_result"
    }
   ],
   "source": [
    "# s1 es superset de s2\n",
    "s1 > s2"
   ]
  },
  {
   "cell_type": "code",
   "execution_count": 47,
   "id": "7a7968c1",
   "metadata": {},
   "outputs": [],
   "source": [
    "# set de los primeros 100 números naturales, que sean divisibles entre 3\n",
    "mi_set = {i for i in range(1, 101) if i % 3 == 0}\n",
    "#mi_set"
   ]
  },
  {
   "cell_type": "code",
   "execution_count": 50,
   "id": "d2d5f691",
   "metadata": {},
   "outputs": [],
   "source": [
    "# set de los primeros 100 números naturales. Los que NO sean divisibles entre 3, se pondrán en negativo.\n",
    "mi_set2 = {i if i % 3 == 0 else -i for i in range(1, 101)}\n",
    "#mi_set2"
   ]
  },
  {
   "cell_type": "code",
   "execution_count": 56,
   "id": "a7dae0a1",
   "metadata": {},
   "outputs": [
    {
     "name": "stdout",
     "output_type": "stream",
     "text": [
      "años:25\n"
     ]
    },
    {
     "data": {
      "text/plain": [
       "-10"
      ]
     },
     "execution_count": 56,
     "metadata": {},
     "output_type": "execute_result"
    }
   ],
   "source": [
    "# Descuento si persona menor de 26 años\n",
    "age = int(input(\"años:\"))\n",
    "discount = -10 if age <= 26 else 0\n",
    "\n",
    "discount"
   ]
  },
  {
   "cell_type": "code",
   "execution_count": 57,
   "id": "f7681230",
   "metadata": {},
   "outputs": [
    {
     "data": {
      "text/plain": [
       "(False, True)"
      ]
     },
     "execution_count": 57,
     "metadata": {},
     "output_type": "execute_result"
    }
   ],
   "source": [
    "# Funciones \"all\" y \"any\"\n",
    "\n",
    "ages = [20, 21, 32, 18, 19, 25]\n",
    "\n",
    "# Contestar a dos preguntas:\n",
    "# 1. ¿Todos los alumnos tienen menos de 30 años?\n",
    "# 2. ¿Hay algún alumno de 18 años?\n",
    "\n",
    "p1 = True\n",
    "\n",
    "for age in ages:\n",
    "    if age >= 30:\n",
    "        p1 = False\n",
    "        break\n",
    "        \n",
    "p2 = False\n",
    "\n",
    "for age in ages:\n",
    "    if age == 18:\n",
    "        p2 = True\n",
    "        break\n",
    "        \n",
    "p1, p2"
   ]
  },
  {
   "cell_type": "code",
   "execution_count": 62,
   "id": "f4a601ab",
   "metadata": {},
   "outputs": [
    {
     "data": {
      "text/plain": [
       "(False, True)"
      ]
     },
     "execution_count": 62,
     "metadata": {},
     "output_type": "execute_result"
    }
   ],
   "source": [
    "ages = [20, 21, 32, 18, 19, 25]\n",
    "\n",
    "# Lista para pregunta 1\n",
    "p1s = [age < 30 for age in ages]\n",
    "\n",
    "# Lista para pregunta 2\n",
    "p2s = [age == 18 for age in ages]\n",
    "\n",
    "all(p1s), any(p2s)"
   ]
  },
  {
   "cell_type": "code",
   "execution_count": 65,
   "id": "f8cf4efe",
   "metadata": {},
   "outputs": [
    {
     "name": "stdout",
     "output_type": "stream",
     "text": [
      "a 1 2\n",
      "b 3 3\n",
      "c 3 2\n"
     ]
    }
   ],
   "source": [
    "# Función zip\n",
    "\n",
    "keys = ['a', 'b', 'c', 'b', 'd']\n",
    "values = [1, 3, 3, 1]\n",
    "mult = [2, 3, 2]\n",
    "\n",
    "for k, v, m in zip(keys, values, mult):\n",
    "    print(k, v, m)"
   ]
  },
  {
   "cell_type": "code",
   "execution_count": 67,
   "id": "246a587d",
   "metadata": {},
   "outputs": [
    {
     "name": "stdout",
     "output_type": "stream",
     "text": [
      "0 a\n",
      "1 b\n",
      "2 c\n",
      "3 b\n",
      "4 d\n",
      "\n",
      "0 a\n",
      "1 b\n",
      "2 c\n",
      "3 b\n",
      "4 d\n"
     ]
    }
   ],
   "source": [
    "# Enumerate desgranado\n",
    "for i, k in zip(range(len(keys)), keys):\n",
    "    print(i, k)\n",
    "    \n",
    "print()\n",
    "    \n",
    "for i, k in enumerate(keys):\n",
    "    print(i, k)"
   ]
  },
  {
   "cell_type": "code",
   "execution_count": 68,
   "id": "cae2f483",
   "metadata": {},
   "outputs": [
    {
     "name": "stdout",
     "output_type": "stream",
     "text": [
      "Help on class zip in module builtins:\n",
      "\n",
      "class zip(object)\n",
      " |  zip(*iterables) --> A zip object yielding tuples until an input is exhausted.\n",
      " |  \n",
      " |     >>> list(zip('abcdefg', range(3), range(4)))\n",
      " |     [('a', 0, 0), ('b', 1, 1), ('c', 2, 2)]\n",
      " |  \n",
      " |  The zip object yields n-length tuples, where n is the number of iterables\n",
      " |  passed as positional arguments to zip().  The i-th element in every tuple\n",
      " |  comes from the i-th iterable argument to zip().  This continues until the\n",
      " |  shortest argument is exhausted.\n",
      " |  \n",
      " |  Methods defined here:\n",
      " |  \n",
      " |  __getattribute__(self, name, /)\n",
      " |      Return getattr(self, name).\n",
      " |  \n",
      " |  __iter__(self, /)\n",
      " |      Implement iter(self).\n",
      " |  \n",
      " |  __next__(self, /)\n",
      " |      Implement next(self).\n",
      " |  \n",
      " |  __reduce__(...)\n",
      " |      Return state information for pickling.\n",
      " |  \n",
      " |  ----------------------------------------------------------------------\n",
      " |  Static methods defined here:\n",
      " |  \n",
      " |  __new__(*args, **kwargs) from builtins.type\n",
      " |      Create and return a new object.  See help(type) for accurate signature.\n",
      "\n"
     ]
    }
   ],
   "source": [
    "help(zip)"
   ]
  }
 ],
 "metadata": {
  "kernelspec": {
   "display_name": "Python 3 (ipykernel)",
   "language": "python",
   "name": "python3"
  },
  "language_info": {
   "codemirror_mode": {
    "name": "ipython",
    "version": 3
   },
   "file_extension": ".py",
   "mimetype": "text/x-python",
   "name": "python",
   "nbconvert_exporter": "python",
   "pygments_lexer": "ipython3",
   "version": "3.9.12"
  }
 },
 "nbformat": 4,
 "nbformat_minor": 5
}
