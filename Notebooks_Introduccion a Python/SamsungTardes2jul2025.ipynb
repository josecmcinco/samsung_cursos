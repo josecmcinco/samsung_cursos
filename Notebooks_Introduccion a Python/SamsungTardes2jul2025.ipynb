{
 "cells": [
  {
   "cell_type": "markdown",
   "id": "63053596",
   "metadata": {},
   "source": [
    "# Capítulo 3"
   ]
  },
  {
   "cell_type": "markdown",
   "id": "65a79fcf",
   "metadata": {},
   "source": [
    "### Guardar funciones como valores en una lista"
   ]
  },
  {
   "cell_type": "code",
   "execution_count": 9,
   "id": "cde9b91e",
   "metadata": {},
   "outputs": [],
   "source": [
    "def print_star():\n",
    "    print(\"*\"*40)\n",
    "    \n",
    "def hola_mundo():\n",
    "    print(\"Hola mundo\")\n",
    "    \n",
    "lista = [print_star, hola_mundo, print_star]"
   ]
  },
  {
   "cell_type": "code",
   "execution_count": 10,
   "id": "61fb8e5c",
   "metadata": {},
   "outputs": [
    {
     "data": {
      "text/plain": [
       "[<function __main__.print_star()>,\n",
       " <function __main__.hola_mundo()>,\n",
       " <function __main__.print_star()>]"
      ]
     },
     "execution_count": 10,
     "metadata": {},
     "output_type": "execute_result"
    }
   ],
   "source": [
    "lista"
   ]
  },
  {
   "cell_type": "code",
   "execution_count": 11,
   "id": "f7521ffc",
   "metadata": {},
   "outputs": [
    {
     "name": "stdout",
     "output_type": "stream",
     "text": [
      "****************************************\n",
      "Hola mundo\n",
      "****************************************\n"
     ]
    }
   ],
   "source": [
    "for f in lista:\n",
    "    f()"
   ]
  },
  {
   "cell_type": "markdown",
   "id": "e3397b97",
   "metadata": {},
   "source": [
    "### Paso de parámetros"
   ]
  },
  {
   "cell_type": "code",
   "execution_count": 12,
   "id": "dc16c69c",
   "metadata": {},
   "outputs": [
    {
     "name": "stdout",
     "output_type": "stream",
     "text": [
      "Antes de la llamada x=10, y=20 z=0\n",
      "Dentro de f x=15, y=40 z=30\n",
      "Despues de la llamada x=10, y=20 z=0 w=30\n"
     ]
    }
   ],
   "source": [
    "def f(x,y):\n",
    "    z = x+y\n",
    "    x = x+5\n",
    "    y = y*2\n",
    "    print(f\"Dentro de f {x=}, {y=} {z=}\")\n",
    "    return z\n",
    "\n",
    "x = 10\n",
    "y = 20\n",
    "z =  0\n",
    "print(f\"Antes de la llamada {x=}, {y=} {z=}\")\n",
    "w = f(x,y)\n",
    "print(f\"Despues de la llamada {x=}, {y=} {z=} {w=}\")"
   ]
  },
  {
   "cell_type": "markdown",
   "id": "122f1a5d",
   "metadata": {},
   "source": [
    "### Paso de parámetros siempre por valor\n",
    "\n",
    "Ejemplo con algo \"mutable\""
   ]
  },
  {
   "cell_type": "code",
   "execution_count": 16,
   "id": "7af4a143",
   "metadata": {},
   "outputs": [],
   "source": [
    "def g( lista ):\n",
    "    lista.append(\"hola\")\n",
    "    lista = [60,70]\n",
    "    a = [40,50]\n",
    "    print(\"¿He cambiado a?\")"
   ]
  },
  {
   "cell_type": "code",
   "execution_count": 17,
   "id": "ea2451a8",
   "metadata": {},
   "outputs": [
    {
     "name": "stdout",
     "output_type": "stream",
     "text": [
      "¿He cambiado a?\n",
      "tras la llamada, a= [10, 20, 30, 'hola']\n"
     ]
    }
   ],
   "source": [
    "a = [10,20,30]\n",
    "g(a)\n",
    "print(\"tras la llamada, a=\",a)"
   ]
  },
  {
   "cell_type": "markdown",
   "id": "83db1cfc",
   "metadata": {},
   "source": [
    "## La \"keyword\" `global`"
   ]
  },
  {
   "cell_type": "code",
   "execution_count": 19,
   "id": "6e847a94",
   "metadata": {},
   "outputs": [
    {
     "name": "stdout",
     "output_type": "stream",
     "text": [
      "[1, 2, 3, 100]\n"
     ]
    }
   ],
   "source": [
    "def h( lista ):\n",
    "    lista.append(100)\n",
    "    lista = 30\n",
    "    a = 20\n",
    "    \n",
    "a = [1,2,3]\n",
    "h(a)\n",
    "print(a)"
   ]
  },
  {
   "cell_type": "code",
   "execution_count": 25,
   "id": "5915a6e3",
   "metadata": {},
   "outputs": [
    {
     "name": "stdout",
     "output_type": "stream",
     "text": [
      "12\n"
     ]
    }
   ],
   "source": [
    "a = [1,2,3] # global\n",
    "b = [4,5,6] # global\n",
    "\n",
    "def h( lista ):\n",
    "    lista.append(100)\n",
    "    global b\n",
    "    b = 12\n",
    "    print(b)\n",
    "    \n",
    "h(a)"
   ]
  },
  {
   "cell_type": "code",
   "execution_count": 26,
   "id": "e2c56bef",
   "metadata": {},
   "outputs": [
    {
     "data": {
      "text/plain": [
       "12"
      ]
     },
     "execution_count": 26,
     "metadata": {},
     "output_type": "execute_result"
    }
   ],
   "source": [
    "b"
   ]
  },
  {
   "cell_type": "markdown",
   "id": "4836d538",
   "metadata": {},
   "source": [
    "### Parámetros variables"
   ]
  },
  {
   "cell_type": "code",
   "execution_count": 33,
   "id": "5323f3af",
   "metadata": {},
   "outputs": [],
   "source": [
    "def f(veces, *cosas):\n",
    "    print(cosas)\n",
    "    for i in range(veces):\n",
    "        for item in cosas:\n",
    "            print(item)"
   ]
  },
  {
   "cell_type": "code",
   "execution_count": 34,
   "id": "4265c902",
   "metadata": {},
   "outputs": [
    {
     "name": "stdout",
     "output_type": "stream",
     "text": [
      "('casa', 'perro', 'gato')\n",
      "casa\n",
      "perro\n",
      "gato\n",
      "casa\n",
      "perro\n",
      "gato\n",
      "casa\n",
      "perro\n",
      "gato\n"
     ]
    }
   ],
   "source": [
    "f(3,\"casa\",\"perro\",\"gato\")"
   ]
  },
  {
   "cell_type": "markdown",
   "id": "0ad7faa9",
   "metadata": {},
   "source": [
    "### Posicional versus keyword"
   ]
  },
  {
   "cell_type": "code",
   "execution_count": 38,
   "id": "694a9d4e",
   "metadata": {},
   "outputs": [],
   "source": [
    "def f(a,b,c):\n",
    "    print(f'{a=} {b=} {c=}')"
   ]
  },
  {
   "cell_type": "code",
   "execution_count": 39,
   "id": "978cdd0a",
   "metadata": {},
   "outputs": [
    {
     "name": "stdout",
     "output_type": "stream",
     "text": [
      "a=2 b=3 c=4\n"
     ]
    }
   ],
   "source": [
    "f(2,3,4) # posicional 2 es el 1º y 3 el 2º"
   ]
  },
  {
   "cell_type": "code",
   "execution_count": 41,
   "id": "d9185443",
   "metadata": {},
   "outputs": [
    {
     "ename": "SyntaxError",
     "evalue": "positional argument follows keyword argument (2168075115.py, line 1)",
     "output_type": "error",
     "traceback": [
      "\u001b[1;36m  Input \u001b[1;32mIn [41]\u001b[1;36m\u001b[0m\n\u001b[1;33m    f(2,c=3,4)\u001b[0m\n\u001b[1;37m             ^\u001b[0m\n\u001b[1;31mSyntaxError\u001b[0m\u001b[1;31m:\u001b[0m positional argument follows keyword argument\n"
     ]
    }
   ],
   "source": [
    "f(2,c=3,4)"
   ]
  },
  {
   "cell_type": "markdown",
   "id": "54b0736d",
   "metadata": {},
   "source": [
    "### Valores por defecto"
   ]
  },
  {
   "cell_type": "code",
   "execution_count": 42,
   "id": "6cc03cf8",
   "metadata": {},
   "outputs": [],
   "source": [
    "def f(a=1,b=2,c=3):\n",
    "    print(f'{a=} {b=} {c=}')"
   ]
  },
  {
   "cell_type": "code",
   "execution_count": 43,
   "id": "01966d30",
   "metadata": {},
   "outputs": [
    {
     "name": "stdout",
     "output_type": "stream",
     "text": [
      "a=1 b=2 c=3\n"
     ]
    }
   ],
   "source": [
    "f()"
   ]
  },
  {
   "cell_type": "code",
   "execution_count": 44,
   "id": "352288ee",
   "metadata": {},
   "outputs": [
    {
     "name": "stdout",
     "output_type": "stream",
     "text": [
      "a=100 b=2 c=3\n"
     ]
    }
   ],
   "source": [
    "f(100)"
   ]
  },
  {
   "cell_type": "markdown",
   "id": "776ece7f",
   "metadata": {},
   "source": [
    "### Cuidado"
   ]
  },
  {
   "cell_type": "code",
   "execution_count": 47,
   "id": "91632522",
   "metadata": {},
   "outputs": [],
   "source": [
    "def asi_no(a=[]):\n",
    "    a.append(\"hola\")\n",
    "    return a"
   ]
  },
  {
   "cell_type": "code",
   "execution_count": 48,
   "id": "8b82a196",
   "metadata": {},
   "outputs": [
    {
     "data": {
      "text/plain": [
       "[1, 2, 3, 'hola']"
      ]
     },
     "execution_count": 48,
     "metadata": {},
     "output_type": "execute_result"
    }
   ],
   "source": [
    "lista = [1,2,3]\n",
    "asi_no(lista)\n",
    "lista"
   ]
  },
  {
   "cell_type": "code",
   "execution_count": 49,
   "id": "f2ec390b",
   "metadata": {},
   "outputs": [],
   "source": [
    "nueva = asi_no()"
   ]
  },
  {
   "cell_type": "code",
   "execution_count": 50,
   "id": "0d35948a",
   "metadata": {},
   "outputs": [
    {
     "data": {
      "text/plain": [
       "['hola']"
      ]
     },
     "execution_count": 50,
     "metadata": {},
     "output_type": "execute_result"
    }
   ],
   "source": [
    "nueva"
   ]
  },
  {
   "cell_type": "code",
   "execution_count": 51,
   "id": "274c8028",
   "metadata": {},
   "outputs": [
    {
     "data": {
      "text/plain": [
       "['hola', 3, 4, 5]"
      ]
     },
     "execution_count": 51,
     "metadata": {},
     "output_type": "execute_result"
    }
   ],
   "source": [
    "nueva.extend([3,4,5])\n",
    "nueva"
   ]
  },
  {
   "cell_type": "code",
   "execution_count": 52,
   "id": "f0b15bde",
   "metadata": {},
   "outputs": [
    {
     "data": {
      "text/plain": [
       "['hola', 3, 4, 5, 'hola']"
      ]
     },
     "execution_count": 52,
     "metadata": {},
     "output_type": "execute_result"
    }
   ],
   "source": [
    "otra = asi_no()\n",
    "otra"
   ]
  },
  {
   "cell_type": "code",
   "execution_count": null,
   "id": "1df5ef0d",
   "metadata": {},
   "outputs": [],
   "source": [
    "def asi_nose(a=None):\n",
    "    if a is None:\n",
    "        a = []\n",
    "    # sigues"
   ]
  },
  {
   "cell_type": "code",
   "execution_count": 54,
   "id": "fac7a809",
   "metadata": {},
   "outputs": [
    {
     "ename": "ValueError",
     "evalue": "math domain error",
     "output_type": "error",
     "traceback": [
      "\u001b[1;31m---------------------------------------------------------------------------\u001b[0m",
      "\u001b[1;31mValueError\u001b[0m                                Traceback (most recent call last)",
      "Input \u001b[1;32mIn [54]\u001b[0m, in \u001b[0;36m<cell line: 2>\u001b[1;34m()\u001b[0m\n\u001b[0;32m      1\u001b[0m \u001b[38;5;28;01mimport\u001b[39;00m \u001b[38;5;21;01mmath\u001b[39;00m\n\u001b[1;32m----> 2\u001b[0m \u001b[43mmath\u001b[49m\u001b[38;5;241;43m.\u001b[39;49m\u001b[43msqrt\u001b[49m\u001b[43m(\u001b[49m\u001b[38;5;241;43m-\u001b[39;49m\u001b[38;5;241;43m1\u001b[39;49m\u001b[43m)\u001b[49m\n",
      "\u001b[1;31mValueError\u001b[0m: math domain error"
     ]
    }
   ],
   "source": [
    "import math\n",
    "math.sqrt(-1)"
   ]
  },
  {
   "cell_type": "code",
   "execution_count": 56,
   "id": "703a6ab1",
   "metadata": {},
   "outputs": [
    {
     "data": {
      "text/plain": [
       "(-1+0j)"
      ]
     },
     "execution_count": 56,
     "metadata": {},
     "output_type": "execute_result"
    }
   ],
   "source": [
    "-1+0j"
   ]
  },
  {
   "cell_type": "markdown",
   "id": "26f18f0e",
   "metadata": {},
   "source": [
    "### Devolver varios resultados"
   ]
  },
  {
   "cell_type": "code",
   "execution_count": 57,
   "id": "84b2a5f6",
   "metadata": {},
   "outputs": [],
   "source": [
    "def suma_y_resta(x,y):\n",
    "    suma = x+y\n",
    "    resta = x-y\n",
    "    return suma,resta   # esto es UNA TUPLA aunque no pongamos paréntesis"
   ]
  },
  {
   "cell_type": "code",
   "execution_count": 58,
   "id": "f9ed49d8",
   "metadata": {},
   "outputs": [
    {
     "data": {
      "text/plain": [
       "(10, -4)"
      ]
     },
     "execution_count": 58,
     "metadata": {},
     "output_type": "execute_result"
    }
   ],
   "source": [
    "suma_y_resta(3,7)"
   ]
  },
  {
   "cell_type": "code",
   "execution_count": 59,
   "id": "b242a4e6",
   "metadata": {},
   "outputs": [
    {
     "name": "stdout",
     "output_type": "stream",
     "text": [
      "<class 'tuple'>\n"
     ]
    }
   ],
   "source": [
    "v = suma_y_resta(3,7)\n",
    "print(type(v))"
   ]
  },
  {
   "cell_type": "code",
   "execution_count": 60,
   "id": "49a30df3",
   "metadata": {},
   "outputs": [
    {
     "name": "stdout",
     "output_type": "stream",
     "text": [
      "10\n",
      "-4\n"
     ]
    }
   ],
   "source": [
    "s,r = suma_y_resta(3,7)\n",
    "print(s)\n",
    "print(r)"
   ]
  },
  {
   "cell_type": "code",
   "execution_count": 61,
   "id": "d1c9ab85",
   "metadata": {},
   "outputs": [],
   "source": [
    "def mi_print(*valores, sep=' ', end='\\n'):\n",
    "    print(f'{valores=}')\n",
    "    print(f'{sep=}')\n",
    "    print(f'{end=}')"
   ]
  },
  {
   "cell_type": "code",
   "execution_count": 64,
   "id": "b02d88df",
   "metadata": {},
   "outputs": [
    {
     "name": "stdout",
     "output_type": "stream",
     "text": [
      "valores=(2, 3, 'hola')\n",
      "sep=','\n",
      "end='\\n'\n"
     ]
    }
   ],
   "source": [
    "mi_print(2,3,\"hola\",sep=\",\")"
   ]
  },
  {
   "cell_type": "code",
   "execution_count": 65,
   "id": "92cd3739",
   "metadata": {},
   "outputs": [
    {
     "name": "stdout",
     "output_type": "stream",
     "text": [
      "a=1 b=2 c=12\n"
     ]
    }
   ],
   "source": [
    "def f(a=1,b=2,c=3):\n",
    "    print(f'{a=} {b=} {c=}')\n",
    "\n",
    "f(c=12)"
   ]
  },
  {
   "cell_type": "code",
   "execution_count": 77,
   "id": "7c0ad2bf",
   "metadata": {},
   "outputs": [
    {
     "name": "stdout",
     "output_type": "stream",
     "text": [
      "4|hola|15\n"
     ]
    }
   ],
   "source": [
    "def mi_print(*valores, sep=' ', end='\\n'):\n",
    "    print(*valores,sep=sep,end=end)\n",
    "\n",
    "mi_print(2+2,\"hola\",15,sep=\"|\")"
   ]
  },
  {
   "cell_type": "code",
   "execution_count": 70,
   "id": "9a7d584d",
   "metadata": {},
   "outputs": [
    {
     "name": "stdout",
     "output_type": "stream",
     "text": [
      "10\n",
      "20\n",
      "30\n"
     ]
    }
   ],
   "source": [
    "def h(a,b,c):\n",
    "    print(a)\n",
    "    print(b)\n",
    "    print(c)\n",
    "    \n",
    "lista = [10,20,30]\n",
    "h(*lista)"
   ]
  },
  {
   "cell_type": "code",
   "execution_count": 73,
   "id": "33e3efc5",
   "metadata": {},
   "outputs": [
    {
     "data": {
      "text/plain": [
       "[1, 2, 3, 10, 20, 30, 20, 30]"
      ]
     },
     "execution_count": 73,
     "metadata": {},
     "output_type": "execute_result"
    }
   ],
   "source": [
    "otra_lista = [1,2,3,*lista,20,30]\n",
    "otra_lista"
   ]
  },
  {
   "cell_type": "code",
   "execution_count": 76,
   "id": "2572292d",
   "metadata": {},
   "outputs": [
    {
     "name": "stdout",
     "output_type": "stream",
     "text": [
      "10 [20, 30] 40\n"
     ]
    }
   ],
   "source": [
    "a,*b,c = [10,20,30,40]\n",
    "print(a,b,c)"
   ]
  },
  {
   "cell_type": "markdown",
   "id": "b4bff8ed",
   "metadata": {},
   "source": [
    "## Inciso: el juego del ahorcado"
   ]
  },
  {
   "cell_type": "code",
   "execution_count": 78,
   "id": "c9ad13a3",
   "metadata": {},
   "outputs": [],
   "source": [
    "palabras = \"gato perro coche boli cama casa raton\".split()"
   ]
  },
  {
   "cell_type": "code",
   "execution_count": 79,
   "id": "33496bf8",
   "metadata": {},
   "outputs": [],
   "source": [
    "import random"
   ]
  },
  {
   "cell_type": "code",
   "execution_count": 86,
   "id": "f6568368",
   "metadata": {},
   "outputs": [],
   "source": [
    "oculta = random.choice(palabras)"
   ]
  },
  {
   "cell_type": "code",
   "execution_count": 92,
   "id": "11054d69",
   "metadata": {},
   "outputs": [
    {
     "data": {
      "text/plain": [
       "'*****'"
      ]
     },
     "execution_count": 92,
     "metadata": {},
     "output_type": "execute_result"
    }
   ],
   "source": [
    "mostrada = '*' * len(oculta)\n",
    "mostrada"
   ]
  },
  {
   "cell_type": "code",
   "execution_count": 91,
   "id": "13e48421",
   "metadata": {},
   "outputs": [
    {
     "data": {
      "text/plain": [
       "'pato'"
      ]
     },
     "execution_count": 91,
     "metadata": {},
     "output_type": "execute_result"
    }
   ],
   "source": [
    "cadena = \"gato\"\n",
    "lista = list(cadena)\n",
    "lista[0] = 'p'\n",
    "cadena = ''.join(lista)\n",
    "cadena"
   ]
  },
  {
   "cell_type": "code",
   "execution_count": 111,
   "id": "859fd4fa",
   "metadata": {},
   "outputs": [],
   "source": [
    "def desocultar( mostrada, oculta, letra):\n",
    "    \"\"\"\n",
    "    devuelve 2 cosas:\n",
    "     - la mostrada quitando los asteriscos donde la oculta tenga la letra\n",
    "     - un bool (si ha conseguido quitar algún *)\n",
    "    \"\"\"\n",
    "    ok = (len(letra) == 1) and (letra not in mostrada) and (letra in oculta)\n",
    "    if ok:\n",
    "        lista = list(mostrada)\n",
    "        for i in range(len(oculta)):\n",
    "            if oculta[i] == letra:\n",
    "                lista[i] = letra\n",
    "        mostrada = ''.join(lista)\n",
    "    return mostrada, ok"
   ]
  },
  {
   "cell_type": "code",
   "execution_count": 114,
   "id": "6104cd87",
   "metadata": {},
   "outputs": [],
   "source": [
    "def desocultar( mostrada, oculta, letra):\n",
    "    \"\"\"\n",
    "    devuelve 2 cosas:\n",
    "     - la mostrada quitando los asteriscos donde la oculta tenga la letra\n",
    "     - un bool (si ha conseguido quitar algún *)\n",
    "    \"\"\"\n",
    "    ok = (len(letra) == 1) and (letra not in mostrada) and (letra in oculta)\n",
    "    if ok:\n",
    "        mostrada = ''.join(oc if oc==letra else mo\n",
    "                           for oc,mo in zip(oculta,mostrada))\n",
    "    return mostrada, ok"
   ]
  },
  {
   "cell_type": "code",
   "execution_count": 115,
   "id": "32126a59",
   "metadata": {},
   "outputs": [
    {
     "data": {
      "text/plain": [
       "('ca*a', True)"
      ]
     },
     "execution_count": 115,
     "metadata": {},
     "output_type": "execute_result"
    }
   ],
   "source": [
    "desocultar(\"c***\",\"casa\",\"a\")"
   ]
  },
  {
   "cell_type": "code",
   "execution_count": 116,
   "id": "01d62dda",
   "metadata": {},
   "outputs": [],
   "source": [
    "def ahorcado( oculta, vidas=5 ):\n",
    "    \"\"\"\n",
    "    Muestra al usuario cadena mostrada y nº vidas\n",
    "    pide letra mientras queden vidas y no se haya ganado\n",
    "    \"\"\"\n",
    "    mostrada = \"*\" * len(oculta)\n",
    "    while vidas>0 and \"*\" in mostrada:\n",
    "        letra = input(f'{mostrada=} {vidas=} di una letra: ')\n",
    "        mostrada,ok = desocultar(mostrada, oculta, letra)\n",
    "        if not ok:\n",
    "            vidas = vidas-1\n",
    "    if \"*\" in mostrada:\n",
    "        print(\"Lo siento, has perdido\")\n",
    "    else:\n",
    "        print(\"Enhorabuena\")"
   ]
  },
  {
   "cell_type": "code",
   "execution_count": 117,
   "id": "4094d080",
   "metadata": {},
   "outputs": [
    {
     "name": "stdout",
     "output_type": "stream",
     "text": [
      "mostrada='*****' vidas=5 di una letra: a\n",
      "mostrada='*****' vidas=4 di una letra: o\n",
      "mostrada='*o***' vidas=4 di una letra: l\n",
      "mostrada='*o***' vidas=3 di una letra: n\n"
     ]
    },
    {
     "ename": "KeyboardInterrupt",
     "evalue": "Interrupted by user",
     "output_type": "error",
     "traceback": [
      "\u001b[1;31m---------------------------------------------------------------------------\u001b[0m",
      "\u001b[1;31mKeyboardInterrupt\u001b[0m                         Traceback (most recent call last)",
      "Input \u001b[1;32mIn [117]\u001b[0m, in \u001b[0;36m<cell line: 2>\u001b[1;34m()\u001b[0m\n\u001b[0;32m      1\u001b[0m oculta \u001b[38;5;241m=\u001b[39m random\u001b[38;5;241m.\u001b[39mchoice(palabras)\n\u001b[1;32m----> 2\u001b[0m \u001b[43mahorcado\u001b[49m\u001b[43m(\u001b[49m\u001b[43moculta\u001b[49m\u001b[43m)\u001b[49m\n",
      "Input \u001b[1;32mIn [116]\u001b[0m, in \u001b[0;36mahorcado\u001b[1;34m(oculta, vidas)\u001b[0m\n\u001b[0;32m      6\u001b[0m mostrada \u001b[38;5;241m=\u001b[39m \u001b[38;5;124m\"\u001b[39m\u001b[38;5;124m*\u001b[39m\u001b[38;5;124m\"\u001b[39m \u001b[38;5;241m*\u001b[39m \u001b[38;5;28mlen\u001b[39m(oculta)\n\u001b[0;32m      7\u001b[0m \u001b[38;5;28;01mwhile\u001b[39;00m vidas\u001b[38;5;241m>\u001b[39m\u001b[38;5;241m0\u001b[39m \u001b[38;5;129;01mand\u001b[39;00m \u001b[38;5;124m\"\u001b[39m\u001b[38;5;124m*\u001b[39m\u001b[38;5;124m\"\u001b[39m \u001b[38;5;129;01min\u001b[39;00m mostrada:\n\u001b[1;32m----> 8\u001b[0m     letra \u001b[38;5;241m=\u001b[39m \u001b[38;5;28;43minput\u001b[39;49m\u001b[43m(\u001b[49m\u001b[38;5;124;43mf\u001b[39;49m\u001b[38;5;124;43m'\u001b[39;49m\u001b[38;5;132;43;01m{\u001b[39;49;00m\u001b[43mmostrada\u001b[49m\u001b[38;5;132;43;01m=}\u001b[39;49;00m\u001b[38;5;124;43m \u001b[39;49m\u001b[38;5;132;43;01m{\u001b[39;49;00m\u001b[43mvidas\u001b[49m\u001b[38;5;132;43;01m=}\u001b[39;49;00m\u001b[38;5;124;43m di una letra: \u001b[39;49m\u001b[38;5;124;43m'\u001b[39;49m\u001b[43m)\u001b[49m\n\u001b[0;32m      9\u001b[0m     mostrada,ok \u001b[38;5;241m=\u001b[39m desocultar(mostrada, oculta, letra)\n\u001b[0;32m     10\u001b[0m     \u001b[38;5;28;01mif\u001b[39;00m \u001b[38;5;129;01mnot\u001b[39;00m ok:\n",
      "File \u001b[1;32mC:\\ProgramData\\Anaconda3\\lib\\site-packages\\ipykernel\\kernelbase.py:1075\u001b[0m, in \u001b[0;36mKernel.raw_input\u001b[1;34m(self, prompt)\u001b[0m\n\u001b[0;32m   1071\u001b[0m \u001b[38;5;28;01mif\u001b[39;00m \u001b[38;5;129;01mnot\u001b[39;00m \u001b[38;5;28mself\u001b[39m\u001b[38;5;241m.\u001b[39m_allow_stdin:\n\u001b[0;32m   1072\u001b[0m     \u001b[38;5;28;01mraise\u001b[39;00m StdinNotImplementedError(\n\u001b[0;32m   1073\u001b[0m         \u001b[38;5;124m\"\u001b[39m\u001b[38;5;124mraw_input was called, but this frontend does not support input requests.\u001b[39m\u001b[38;5;124m\"\u001b[39m\n\u001b[0;32m   1074\u001b[0m     )\n\u001b[1;32m-> 1075\u001b[0m \u001b[38;5;28;01mreturn\u001b[39;00m \u001b[38;5;28;43mself\u001b[39;49m\u001b[38;5;241;43m.\u001b[39;49m\u001b[43m_input_request\u001b[49m\u001b[43m(\u001b[49m\n\u001b[0;32m   1076\u001b[0m \u001b[43m    \u001b[49m\u001b[38;5;28;43mstr\u001b[39;49m\u001b[43m(\u001b[49m\u001b[43mprompt\u001b[49m\u001b[43m)\u001b[49m\u001b[43m,\u001b[49m\n\u001b[0;32m   1077\u001b[0m \u001b[43m    \u001b[49m\u001b[38;5;28;43mself\u001b[39;49m\u001b[38;5;241;43m.\u001b[39;49m\u001b[43m_parent_ident\u001b[49m\u001b[43m[\u001b[49m\u001b[38;5;124;43m\"\u001b[39;49m\u001b[38;5;124;43mshell\u001b[39;49m\u001b[38;5;124;43m\"\u001b[39;49m\u001b[43m]\u001b[49m\u001b[43m,\u001b[49m\n\u001b[0;32m   1078\u001b[0m \u001b[43m    \u001b[49m\u001b[38;5;28;43mself\u001b[39;49m\u001b[38;5;241;43m.\u001b[39;49m\u001b[43mget_parent\u001b[49m\u001b[43m(\u001b[49m\u001b[38;5;124;43m\"\u001b[39;49m\u001b[38;5;124;43mshell\u001b[39;49m\u001b[38;5;124;43m\"\u001b[39;49m\u001b[43m)\u001b[49m\u001b[43m,\u001b[49m\n\u001b[0;32m   1079\u001b[0m \u001b[43m    \u001b[49m\u001b[43mpassword\u001b[49m\u001b[38;5;241;43m=\u001b[39;49m\u001b[38;5;28;43;01mFalse\u001b[39;49;00m\u001b[43m,\u001b[49m\n\u001b[0;32m   1080\u001b[0m \u001b[43m\u001b[49m\u001b[43m)\u001b[49m\n",
      "File \u001b[1;32mC:\\ProgramData\\Anaconda3\\lib\\site-packages\\ipykernel\\kernelbase.py:1120\u001b[0m, in \u001b[0;36mKernel._input_request\u001b[1;34m(self, prompt, ident, parent, password)\u001b[0m\n\u001b[0;32m   1117\u001b[0m             \u001b[38;5;28;01mbreak\u001b[39;00m\n\u001b[0;32m   1118\u001b[0m \u001b[38;5;28;01mexcept\u001b[39;00m \u001b[38;5;167;01mKeyboardInterrupt\u001b[39;00m:\n\u001b[0;32m   1119\u001b[0m     \u001b[38;5;66;03m# re-raise KeyboardInterrupt, to truncate traceback\u001b[39;00m\n\u001b[1;32m-> 1120\u001b[0m     \u001b[38;5;28;01mraise\u001b[39;00m \u001b[38;5;167;01mKeyboardInterrupt\u001b[39;00m(\u001b[38;5;124m\"\u001b[39m\u001b[38;5;124mInterrupted by user\u001b[39m\u001b[38;5;124m\"\u001b[39m) \u001b[38;5;28;01mfrom\u001b[39;00m \u001b[38;5;28mNone\u001b[39m\n\u001b[0;32m   1121\u001b[0m \u001b[38;5;28;01mexcept\u001b[39;00m \u001b[38;5;167;01mException\u001b[39;00m:\n\u001b[0;32m   1122\u001b[0m     \u001b[38;5;28mself\u001b[39m\u001b[38;5;241m.\u001b[39mlog\u001b[38;5;241m.\u001b[39mwarning(\u001b[38;5;124m\"\u001b[39m\u001b[38;5;124mInvalid Message:\u001b[39m\u001b[38;5;124m\"\u001b[39m, exc_info\u001b[38;5;241m=\u001b[39m\u001b[38;5;28;01mTrue\u001b[39;00m)\n",
      "\u001b[1;31mKeyboardInterrupt\u001b[0m: Interrupted by user"
     ]
    }
   ],
   "source": [
    "oculta = random.choice(palabras)\n",
    "ahorcado(oculta)"
   ]
  },
  {
   "cell_type": "markdown",
   "id": "bc9ee979",
   "metadata": {},
   "source": [
    "### Métodos cadenas"
   ]
  },
  {
   "cell_type": "code",
   "execution_count": 119,
   "id": "9b50d7cb",
   "metadata": {},
   "outputs": [
    {
     "data": {
      "text/plain": [
       "2"
      ]
     },
     "execution_count": 119,
     "metadata": {},
     "output_type": "execute_result"
    }
   ],
   "source": [
    "\"abababa\".count(\"aba\")"
   ]
  },
  {
   "cell_type": "code",
   "execution_count": null,
   "id": "ea259092",
   "metadata": {},
   "outputs": [],
   "source": []
  }
 ],
 "metadata": {
  "kernelspec": {
   "display_name": "Python 3 (ipykernel)",
   "language": "python",
   "name": "python3"
  },
  "language_info": {
   "codemirror_mode": {
    "name": "ipython",
    "version": 3
   },
   "file_extension": ".py",
   "mimetype": "text/x-python",
   "name": "python",
   "nbconvert_exporter": "python",
   "pygments_lexer": "ipython3",
   "version": "3.9.12"
  }
 },
 "nbformat": 4,
 "nbformat_minor": 5
}
