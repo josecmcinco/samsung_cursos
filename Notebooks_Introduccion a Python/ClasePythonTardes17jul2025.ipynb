{
 "cells": [
  {
   "cell_type": "markdown",
   "id": "ead5359c",
   "metadata": {},
   "source": [
    "## Limitaciones en los tipos de clave para dict y set"
   ]
  },
  {
   "cell_type": "code",
   "execution_count": 1,
   "id": "3dc2523b",
   "metadata": {},
   "outputs": [
    {
     "ename": "TypeError",
     "evalue": "unhashable type: 'list'",
     "output_type": "error",
     "traceback": [
      "\u001b[1;31m---------------------------------------------------------------------------\u001b[0m",
      "\u001b[1;31mTypeError\u001b[0m                                 Traceback (most recent call last)",
      "Input \u001b[1;32mIn [1]\u001b[0m, in \u001b[0;36m<cell line: 4>\u001b[1;34m()\u001b[0m\n\u001b[0;32m      1\u001b[0m lista \u001b[38;5;241m=\u001b[39m [\u001b[38;5;241m1\u001b[39m,\u001b[38;5;241m2\u001b[39m,\u001b[38;5;241m3\u001b[39m]\n\u001b[0;32m      2\u001b[0m diccionario \u001b[38;5;241m=\u001b[39m {}\n\u001b[1;32m----> 4\u001b[0m diccionario[lista] \u001b[38;5;241m=\u001b[39m \u001b[38;5;241m2\u001b[39m\n",
      "\u001b[1;31mTypeError\u001b[0m: unhashable type: 'list'"
     ]
    }
   ],
   "source": [
    "lista = [1,2,3]\n",
    "diccionario = {}\n",
    "\n",
    "diccionario[lista] = 2"
   ]
  },
  {
   "cell_type": "code",
   "execution_count": 2,
   "id": "f96e8eb9",
   "metadata": {},
   "outputs": [
    {
     "ename": "TypeError",
     "evalue": "unhashable type: 'list'",
     "output_type": "error",
     "traceback": [
      "\u001b[1;31m---------------------------------------------------------------------------\u001b[0m",
      "\u001b[1;31mTypeError\u001b[0m                                 Traceback (most recent call last)",
      "Input \u001b[1;32mIn [2]\u001b[0m, in \u001b[0;36m<cell line: 1>\u001b[1;34m()\u001b[0m\n\u001b[1;32m----> 1\u001b[0m \u001b[38;5;28;43mhash\u001b[39;49m\u001b[43m(\u001b[49m\u001b[43mlista\u001b[49m\u001b[43m)\u001b[49m\n",
      "\u001b[1;31mTypeError\u001b[0m: unhashable type: 'list'"
     ]
    }
   ],
   "source": [
    "hash(lista)"
   ]
  },
  {
   "cell_type": "code",
   "execution_count": 3,
   "id": "ca4d560f",
   "metadata": {},
   "outputs": [
    {
     "data": {
      "text/plain": [
       "{(2, 3): 4}"
      ]
     },
     "execution_count": 3,
     "metadata": {},
     "output_type": "execute_result"
    }
   ],
   "source": [
    "diccionario[2,3] = 4\n",
    "\n",
    "diccionario"
   ]
  },
  {
   "cell_type": "markdown",
   "id": "dc302c34",
   "metadata": {},
   "source": [
    "### Tampoco podemos utilizar como claves los conjuntos"
   ]
  },
  {
   "cell_type": "code",
   "execution_count": 14,
   "id": "40602221",
   "metadata": {},
   "outputs": [],
   "source": [
    "d = {}\n",
    "cjt = {1,2,3}"
   ]
  },
  {
   "cell_type": "code",
   "execution_count": 15,
   "id": "65a4ed51",
   "metadata": {},
   "outputs": [
    {
     "data": {
      "text/plain": [
       "{1, 2, 3}"
      ]
     },
     "execution_count": 15,
     "metadata": {},
     "output_type": "execute_result"
    }
   ],
   "source": [
    "cjt"
   ]
  },
  {
   "cell_type": "code",
   "execution_count": 16,
   "id": "8c593e5e",
   "metadata": {},
   "outputs": [
    {
     "ename": "TypeError",
     "evalue": "unhashable type: 'set'",
     "output_type": "error",
     "traceback": [
      "\u001b[1;31m---------------------------------------------------------------------------\u001b[0m",
      "\u001b[1;31mTypeError\u001b[0m                                 Traceback (most recent call last)",
      "Input \u001b[1;32mIn [16]\u001b[0m, in \u001b[0;36m<cell line: 1>\u001b[1;34m()\u001b[0m\n\u001b[1;32m----> 1\u001b[0m \u001b[38;5;28;43mhash\u001b[39;49m\u001b[43m(\u001b[49m\u001b[43mcjt\u001b[49m\u001b[43m)\u001b[49m\n",
      "\u001b[1;31mTypeError\u001b[0m: unhashable type: 'set'"
     ]
    }
   ],
   "source": [
    "hash(cjt)"
   ]
  },
  {
   "cell_type": "code",
   "execution_count": 17,
   "id": "b10c0710",
   "metadata": {},
   "outputs": [
    {
     "ename": "TypeError",
     "evalue": "unhashable type: 'set'",
     "output_type": "error",
     "traceback": [
      "\u001b[1;31m---------------------------------------------------------------------------\u001b[0m",
      "\u001b[1;31mTypeError\u001b[0m                                 Traceback (most recent call last)",
      "Input \u001b[1;32mIn [17]\u001b[0m, in \u001b[0;36m<cell line: 1>\u001b[1;34m()\u001b[0m\n\u001b[1;32m----> 1\u001b[0m d[cjt] \u001b[38;5;241m=\u001b[39m \u001b[38;5;241m5\u001b[39m\n",
      "\u001b[1;31mTypeError\u001b[0m: unhashable type: 'set'"
     ]
    }
   ],
   "source": [
    "d[cjt] = 5"
   ]
  },
  {
   "cell_type": "code",
   "execution_count": 23,
   "id": "e24692d4",
   "metadata": {},
   "outputs": [
    {
     "data": {
      "text/plain": [
       "{1, 2, 3}"
      ]
     },
     "execution_count": 23,
     "metadata": {},
     "output_type": "execute_result"
    }
   ],
   "source": [
    "cjt"
   ]
  },
  {
   "cell_type": "code",
   "execution_count": 18,
   "id": "85ffda4b",
   "metadata": {},
   "outputs": [
    {
     "data": {
      "text/plain": [
       "(1, 2, 3)"
      ]
     },
     "execution_count": 18,
     "metadata": {},
     "output_type": "execute_result"
    }
   ],
   "source": [
    "tuple(cjt)"
   ]
  },
  {
   "cell_type": "code",
   "execution_count": 24,
   "id": "77c7a9b6",
   "metadata": {},
   "outputs": [
    {
     "data": {
      "text/plain": [
       "False"
      ]
     },
     "execution_count": 24,
     "metadata": {},
     "output_type": "execute_result"
    }
   ],
   "source": [
    "(1,2,3) == (3,2,1)"
   ]
  },
  {
   "cell_type": "code",
   "execution_count": 25,
   "id": "91bc0201",
   "metadata": {},
   "outputs": [
    {
     "data": {
      "text/plain": [
       "True"
      ]
     },
     "execution_count": 25,
     "metadata": {},
     "output_type": "execute_result"
    }
   ],
   "source": [
    "{1,2,3} == {3,2,1}"
   ]
  },
  {
   "cell_type": "code",
   "execution_count": 26,
   "id": "27f68fac",
   "metadata": {},
   "outputs": [
    {
     "data": {
      "text/plain": [
       "(1, 2, 3)"
      ]
     },
     "execution_count": 26,
     "metadata": {},
     "output_type": "execute_result"
    }
   ],
   "source": [
    "tuple(sorted(cjt))"
   ]
  },
  {
   "cell_type": "markdown",
   "id": "3b540c8f",
   "metadata": {},
   "source": [
    "#### Ejercicio\n",
    "\n",
    "Nos dan unas líneas de texto. Queremos sacar el cjt de palabras de cada línea y contar los conjuntos diferentes."
   ]
  },
  {
   "cell_type": "code",
   "execution_count": 27,
   "id": "b5cd2ed1",
   "metadata": {},
   "outputs": [],
   "source": [
    "lineas = \"\"\"\\\n",
    "casa casa perro gato\n",
    "gato gato gato\n",
    "perro gato\n",
    "gato perro perro\n",
    "casa gato\n",
    "gato casa casa\\\n",
    "\"\"\""
   ]
  },
  {
   "cell_type": "code",
   "execution_count": 36,
   "id": "19aceecf",
   "metadata": {},
   "outputs": [
    {
     "name": "stdout",
     "output_type": "stream",
     "text": [
      "Línea: casa casa perro gato {'perro', 'casa', 'gato'}\n",
      "Línea: gato gato gato {'gato'}\n",
      "Línea: perro gato {'perro', 'gato'}\n",
      "Línea: gato perro perro {'gato', 'perro'}\n",
      "Línea: casa gato {'gato', 'casa'}\n",
      "Línea: gato casa casa {'gato', 'casa'}\n"
     ]
    },
    {
     "data": {
      "text/plain": [
       "4"
      ]
     },
     "execution_count": 36,
     "metadata": {},
     "output_type": "execute_result"
    }
   ],
   "source": [
    "distintos = set()\n",
    "for linea in lineas.split('\\n'):\n",
    "    cjt_palabras = set(linea.split())\n",
    "    print(\"Línea:\",linea, cjt_palabras)\n",
    "    distintos.add(tuple(sorted(cjt_palabras)))\n",
    "len(distintos)"
   ]
  },
  {
   "cell_type": "markdown",
   "id": "69d8d03a",
   "metadata": {},
   "source": [
    "### Ejemplo ventajas diccionario/conjunto frente a lista\n",
    "\n",
    "Dada una lista con números enteros, crear otra lista donde solamente aparezcan los números que no han aparecido ya.\n",
    "\n",
    "Por ejemplo, dada la lista `[1,2,3,2,5,1,4,2]` devolverá `[1,2,3,5,4]`"
   ]
  },
  {
   "cell_type": "code",
   "execution_count": 4,
   "id": "7e686047",
   "metadata": {},
   "outputs": [],
   "source": [
    "import random"
   ]
  },
  {
   "cell_type": "code",
   "execution_count": 6,
   "id": "821ea595",
   "metadata": {},
   "outputs": [],
   "source": [
    "def sin_repetidos(lista):\n",
    "    resul = []\n",
    "    for elem in lista:\n",
    "        if elem not in resul:\n",
    "            resul.append(elem)\n",
    "    return resul"
   ]
  },
  {
   "cell_type": "code",
   "execution_count": 7,
   "id": "3637456e",
   "metadata": {},
   "outputs": [
    {
     "data": {
      "text/plain": [
       "[1, 2, 3, 5, 4]"
      ]
     },
     "execution_count": 7,
     "metadata": {},
     "output_type": "execute_result"
    }
   ],
   "source": [
    "sin_repetidos([1,2,3,2,5,1,4,2])"
   ]
  },
  {
   "cell_type": "code",
   "execution_count": 9,
   "id": "1bf79fef",
   "metadata": {},
   "outputs": [],
   "source": [
    "lista = [random.randrange(100_000) for i in range(100_000)]"
   ]
  },
  {
   "cell_type": "code",
   "execution_count": 10,
   "id": "f34142ae",
   "metadata": {},
   "outputs": [
    {
     "name": "stdout",
     "output_type": "stream",
     "text": [
      "31.1 s ± 235 ms per loop (mean ± std. dev. of 7 runs, 1 loop each)\n"
     ]
    }
   ],
   "source": [
    "%timeit sin_repetidos(lista)"
   ]
  },
  {
   "cell_type": "code",
   "execution_count": 11,
   "id": "3ee97f68",
   "metadata": {},
   "outputs": [],
   "source": [
    "def sin_repetidos_cjt(lista): # versión con un conjunto auxiliar\n",
    "    cjt = set()\n",
    "    resul = []\n",
    "    for elem in lista:\n",
    "        if elem not in cjt:\n",
    "            resul.append(elem)\n",
    "            cjt.add(elem)\n",
    "    return resul"
   ]
  },
  {
   "cell_type": "code",
   "execution_count": 12,
   "id": "295a59e5",
   "metadata": {},
   "outputs": [
    {
     "data": {
      "text/plain": [
       "[1, 2, 3, 5, 4]"
      ]
     },
     "execution_count": 12,
     "metadata": {},
     "output_type": "execute_result"
    }
   ],
   "source": [
    "sin_repetidos_cjt([1,2,3,2,5,1,4,2])"
   ]
  },
  {
   "cell_type": "code",
   "execution_count": 13,
   "id": "ff8015e2",
   "metadata": {},
   "outputs": [
    {
     "name": "stdout",
     "output_type": "stream",
     "text": [
      "13.2 ms ± 162 µs per loop (mean ± std. dev. of 7 runs, 100 loops each)\n"
     ]
    }
   ],
   "source": [
    "%timeit sin_repetidos_cjt(lista)"
   ]
  },
  {
   "cell_type": "code",
   "execution_count": null,
   "id": "460dd257",
   "metadata": {},
   "outputs": [],
   "source": []
  }
 ],
 "metadata": {
  "kernelspec": {
   "display_name": "Python 3 (ipykernel)",
   "language": "python",
   "name": "python3"
  },
  "language_info": {
   "codemirror_mode": {
    "name": "ipython",
    "version": 3
   },
   "file_extension": ".py",
   "mimetype": "text/x-python",
   "name": "python",
   "nbconvert_exporter": "python",
   "pygments_lexer": "ipython3",
   "version": "3.9.12"
  }
 },
 "nbformat": 4,
 "nbformat_minor": 5
}
