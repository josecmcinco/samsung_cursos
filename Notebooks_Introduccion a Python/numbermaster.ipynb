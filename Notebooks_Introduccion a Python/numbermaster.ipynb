{
 "cells": [
  {
   "cell_type": "code",
   "execution_count": 1,
   "id": "82e7b905",
   "metadata": {},
   "outputs": [],
   "source": [
    "import random"
   ]
  },
  {
   "cell_type": "code",
   "execution_count": 11,
   "id": "badd7f68",
   "metadata": {},
   "outputs": [
    {
     "data": {
      "text/plain": [
       "'9318'"
      ]
     },
     "execution_count": 11,
     "metadata": {},
     "output_type": "execute_result"
    }
   ],
   "source": [
    "num = random.randrange(1023,9878)\n",
    "cadena = str(num)\n",
    "cadena"
   ]
  },
  {
   "cell_type": "code",
   "execution_count": 12,
   "id": "b0450c2e",
   "metadata": {},
   "outputs": [
    {
     "data": {
      "text/plain": [
       "2"
      ]
     },
     "execution_count": 12,
     "metadata": {},
     "output_type": "execute_result"
    }
   ],
   "source": [
    "\"casa\".count(\"a\")"
   ]
  },
  {
   "cell_type": "code",
   "execution_count": 33,
   "id": "988c7b3e",
   "metadata": {},
   "outputs": [],
   "source": [
    "def sin_cifras_repetidas( cadena ):\n",
    "    \"\"\"\n",
    "    recibe una cadena con digitos\n",
    "    devuelve True si no tiene cifras repetidas\n",
    "    \"\"\"\n",
    "    if not cadena.isdigit():\n",
    "        return False\n",
    "    for cifra in range(10):\n",
    "        if cadena.count(str(cifra)) > 1:\n",
    "            return False\n",
    "    return True"
   ]
  },
  {
   "cell_type": "code",
   "execution_count": null,
   "id": "841ca313",
   "metadata": {},
   "outputs": [],
   "source": [
    "def genera_numero_oculto():\n",
    "    \"\"\"\n",
    "    genera un nº aleatorio de 4 cifras\n",
    "    sin cifras repetidas\n",
    "    \"\"\"\n",
    "    cadena = str(random.randrange(1023,9878))\n",
    "    while not sin_cifras_repetidas(cadena):\n",
    "        cadena = str(random.randrange(1023,9878))\n",
    "    return cadena"
   ]
  },
  {
   "cell_type": "code",
   "execution_count": null,
   "id": "629c7c46",
   "metadata": {},
   "outputs": [],
   "source": [
    "for i in range(20):\n",
    "    #print(str(random.randrange(1023,9878)))\n",
    "    print(genera_numero_oculto())"
   ]
  },
  {
   "cell_type": "code",
   "execution_count": null,
   "id": "0c9a0cb8",
   "metadata": {},
   "outputs": [],
   "source": [
    "def evaluar( oculto, intento ):\n",
    "    \"\"\"\n",
    "    Recibe 2 cadenas de 4 digitos sin cifras repetidas\n",
    "    Devuelve:\n",
    "      - nº cifras del intento en misma posición que oculto\n",
    "      - nº cifras del intento en distinta posición que oculto\n",
    "      - nº cifras incorrectas\n",
    "    \"\"\"\n",
    "    misma_pos = 0\n",
    "    for i in range(4):\n",
    "        if oculto[i] == intento[i]:\n",
    "            misma_pos += 1\n",
    "    estan = 0\n",
    "    for cifra in intento:\n",
    "        if cifra in oculto:\n",
    "            estan += 1\n",
    "    return misma_pos, estan-misma_pos, 4-estan\n",
    "    \n",
    "    \n",
    "    "
   ]
  },
  {
   "cell_type": "code",
   "execution_count": null,
   "id": "ef81d8c9",
   "metadata": {},
   "outputs": [],
   "source": [
    "evaluar('8695', '8652')"
   ]
  },
  {
   "cell_type": "code",
   "execution_count": null,
   "id": "93f71819",
   "metadata": {},
   "outputs": [],
   "source": [
    "evaluar('8695', '1654')"
   ]
  },
  {
   "cell_type": "code",
   "execution_count": null,
   "id": "7f4d308d",
   "metadata": {},
   "outputs": [],
   "source": [
    "evaluar('8695', '8695')"
   ]
  },
  {
   "cell_type": "code",
   "execution_count": null,
   "id": "6277f443",
   "metadata": {},
   "outputs": [],
   "source": [
    "'1234'.isdigit()"
   ]
  },
  {
   "cell_type": "code",
   "execution_count": 35,
   "id": "adaa2cd4",
   "metadata": {},
   "outputs": [
    {
     "name": "stdout",
     "output_type": "stream",
     "text": [
      "7254\n",
      "Escribe nº 4 cifras (te quedan 5 intentos): hola\n",
      "El valor introducido no es correcto\n",
      "Escribe nº 4 cifras (te quedan 4 intentos): 1234\n",
      "Hay 2 cifras en su sitio\n",
      "0 cifras en otro sitio\n",
      "Y 2 cifras incorrectas\n",
      "Escribe nº 4 cifras (te quedan 3 intentos): 3456\n",
      "Hay 1 cifras en su sitio\n",
      "1 cifras en otro sitio\n",
      "Y 2 cifras incorrectas\n",
      "Escribe nº 4 cifras (te quedan 2 intentos): 4567\n",
      "Hay 0 cifras en su sitio\n",
      "3 cifras en otro sitio\n",
      "Y 1 cifras incorrectas\n",
      "Escribe nº 4 cifras (te quedan 1 intentos): 1234\n",
      "Hay 2 cifras en su sitio\n",
      "0 cifras en otro sitio\n",
      "Y 2 cifras incorrectas\n"
     ]
    }
   ],
   "source": [
    "oculto = genera_numero_oculto()\n",
    "print(oculto)\n",
    "intentos = 5\n",
    "gano = False\n",
    "while not gano and intentos>0:\n",
    "    intento = input(f\"Escribe nº 4 cifras (te quedan {intentos} intentos): \")\n",
    "    intentos = intentos-1\n",
    "    if sin_cifras_repetidas(intento):\n",
    "        corr, casi, incorr = evaluar(oculto, intento)\n",
    "        if corr == 4:\n",
    "            gano = True\n",
    "        else:\n",
    "            print(f'Hay {corr} cifras en su sitio')\n",
    "            print(f'{casi} cifras en otro sitio')\n",
    "            print(f'Y {incorr} cifras incorrectas')\n",
    "    else:\n",
    "        print(\"El valor introducido no es correcto\")\n",
    "        \n",
    "if gano:\n",
    "    print(\"Enhorabuena\")\n",
    "else:\n",
    "    print(\"Has perdido! :(\")"
   ]
  },
  {
   "cell_type": "code",
   "execution_count": null,
   "id": "48c32ff9",
   "metadata": {},
   "outputs": [],
   "source": []
  }
 ],
 "metadata": {
  "kernelspec": {
   "display_name": "Python 3 (ipykernel)",
   "language": "python",
   "name": "python3"
  },
  "language_info": {
   "codemirror_mode": {
    "name": "ipython",
    "version": 3
   },
   "file_extension": ".py",
   "mimetype": "text/x-python",
   "name": "python",
   "nbconvert_exporter": "python",
   "pygments_lexer": "ipython3",
   "version": "3.9.12"
  }
 },
 "nbformat": 4,
 "nbformat_minor": 5
}
