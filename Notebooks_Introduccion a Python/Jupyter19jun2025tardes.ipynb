{
 "cells": [
  {
   "cell_type": "markdown",
   "id": "5678307e",
   "metadata": {},
   "source": [
    "## Jueves 19 junio 2025"
   ]
  },
  {
   "cell_type": "code",
   "execution_count": 1,
   "id": "34fa5fdf",
   "metadata": {},
   "outputs": [],
   "source": [
    "# listas\n",
    "lista = [1,2,3,\"hola\"]"
   ]
  },
  {
   "cell_type": "code",
   "execution_count": 2,
   "id": "fe2a5b44",
   "metadata": {},
   "outputs": [
    {
     "data": {
      "text/plain": [
       "['esto', 'es', 'una', 'prueba']"
      ]
     },
     "execution_count": 2,
     "metadata": {},
     "output_type": "execute_result"
    }
   ],
   "source": [
    "otra_lista = \"esto es una prueba\".split()\n",
    "otra_lista"
   ]
  },
  {
   "cell_type": "code",
   "execution_count": 3,
   "id": "1044af6f",
   "metadata": {},
   "outputs": [
    {
     "data": {
      "text/plain": [
       "[]"
      ]
     },
     "execution_count": 3,
     "metadata": {},
     "output_type": "execute_result"
    }
   ],
   "source": [
    "list()"
   ]
  },
  {
   "cell_type": "code",
   "execution_count": 4,
   "id": "bbc6a02a",
   "metadata": {},
   "outputs": [
    {
     "data": {
      "text/plain": [
       "[0, 1, 2, 3, 4, 5, 6, 7, 8, 9]"
      ]
     },
     "execution_count": 4,
     "metadata": {},
     "output_type": "execute_result"
    }
   ],
   "source": [
    "list(range(10))"
   ]
  },
  {
   "cell_type": "code",
   "execution_count": 5,
   "id": "673c6cf0",
   "metadata": {},
   "outputs": [
    {
     "name": "stdout",
     "output_type": "stream",
     "text": [
      "10\n",
      "20\n",
      "30\n"
     ]
    }
   ],
   "source": [
    "for elem in [10,20,30]:\n",
    "    print(elem)"
   ]
  },
  {
   "cell_type": "code",
   "execution_count": 7,
   "id": "c71dfdf6",
   "metadata": {},
   "outputs": [],
   "source": [
    "lista.append(12)"
   ]
  },
  {
   "cell_type": "code",
   "execution_count": 8,
   "id": "f70fb8c0",
   "metadata": {},
   "outputs": [],
   "source": [
    "lista.extend([20,30,40])"
   ]
  },
  {
   "cell_type": "code",
   "execution_count": 9,
   "id": "f6c7809e",
   "metadata": {},
   "outputs": [
    {
     "data": {
      "text/plain": [
       "['al_inicio', 1, 2, 3, 'hola', 12, 20, 30, 40]"
      ]
     },
     "execution_count": 9,
     "metadata": {},
     "output_type": "execute_result"
    }
   ],
   "source": [
    "lista.insert(0,\"al_inicio\")\n",
    "lista"
   ]
  },
  {
   "cell_type": "code",
   "execution_count": 10,
   "id": "0709b514",
   "metadata": {},
   "outputs": [],
   "source": [
    "lista.remove('hola')"
   ]
  },
  {
   "cell_type": "code",
   "execution_count": 11,
   "id": "878de31d",
   "metadata": {},
   "outputs": [
    {
     "data": {
      "text/plain": [
       "['al_inicio', 1, 2, 3, 12, 20, 30, 40]"
      ]
     },
     "execution_count": 11,
     "metadata": {},
     "output_type": "execute_result"
    }
   ],
   "source": [
    "lista"
   ]
  },
  {
   "cell_type": "code",
   "execution_count": 12,
   "id": "7da8c6ad",
   "metadata": {},
   "outputs": [
    {
     "data": {
      "text/plain": [
       "[1, 2, 3, 12, 20, 30, 40]"
      ]
     },
     "execution_count": 12,
     "metadata": {},
     "output_type": "execute_result"
    }
   ],
   "source": [
    "del lista[0]\n",
    "lista"
   ]
  },
  {
   "cell_type": "code",
   "execution_count": 13,
   "id": "ec6a02c3",
   "metadata": {},
   "outputs": [
    {
     "data": {
      "text/plain": [
       "[10, 20, 30, 20, 40]"
      ]
     },
     "execution_count": 13,
     "metadata": {},
     "output_type": "execute_result"
    }
   ],
   "source": [
    "a = [10,20,20,30,20,40]\n",
    "a.remove(20)\n",
    "a"
   ]
  },
  {
   "cell_type": "code",
   "execution_count": 14,
   "id": "3f62f3af",
   "metadata": {},
   "outputs": [
    {
     "data": {
      "text/plain": [
       "[20, 30, 20, 40]"
      ]
     },
     "execution_count": 14,
     "metadata": {},
     "output_type": "execute_result"
    }
   ],
   "source": [
    "del a[0]\n",
    "a"
   ]
  },
  {
   "cell_type": "code",
   "execution_count": 15,
   "id": "8c1c0061",
   "metadata": {},
   "outputs": [],
   "source": [
    "del a"
   ]
  },
  {
   "cell_type": "code",
   "execution_count": 16,
   "id": "a8f01a95",
   "metadata": {},
   "outputs": [
    {
     "ename": "NameError",
     "evalue": "name 'a' is not defined",
     "output_type": "error",
     "traceback": [
      "\u001b[1;31m---------------------------------------------------------------------------\u001b[0m",
      "\u001b[1;31mNameError\u001b[0m                                 Traceback (most recent call last)",
      "Input \u001b[1;32mIn [16]\u001b[0m, in \u001b[0;36m<cell line: 1>\u001b[1;34m()\u001b[0m\n\u001b[1;32m----> 1\u001b[0m \u001b[43ma\u001b[49m\n",
      "\u001b[1;31mNameError\u001b[0m: name 'a' is not defined"
     ]
    }
   ],
   "source": [
    "a"
   ]
  },
  {
   "cell_type": "code",
   "execution_count": 17,
   "id": "a2d9dab8",
   "metadata": {},
   "outputs": [],
   "source": [
    "a = [1,2,3]\n",
    "b = a\n",
    "del a"
   ]
  },
  {
   "cell_type": "code",
   "execution_count": 18,
   "id": "5c86d670",
   "metadata": {},
   "outputs": [
    {
     "data": {
      "text/plain": [
       "[1, 2, 3]"
      ]
     },
     "execution_count": 18,
     "metadata": {},
     "output_type": "execute_result"
    }
   ],
   "source": [
    "b"
   ]
  },
  {
   "cell_type": "code",
   "execution_count": 19,
   "id": "48519b54",
   "metadata": {},
   "outputs": [],
   "source": [
    "b = 5"
   ]
  },
  {
   "cell_type": "code",
   "execution_count": 20,
   "id": "8a6c0432",
   "metadata": {},
   "outputs": [
    {
     "data": {
      "text/plain": [
       "[1, 2, 3, 12, 20, 30, 40]"
      ]
     },
     "execution_count": 20,
     "metadata": {},
     "output_type": "execute_result"
    }
   ],
   "source": [
    "lista"
   ]
  },
  {
   "cell_type": "code",
   "execution_count": 21,
   "id": "47367332",
   "metadata": {},
   "outputs": [
    {
     "data": {
      "text/plain": [
       "40"
      ]
     },
     "execution_count": 21,
     "metadata": {},
     "output_type": "execute_result"
    }
   ],
   "source": [
    "lista.pop()"
   ]
  },
  {
   "cell_type": "code",
   "execution_count": 22,
   "id": "8f248f9d",
   "metadata": {},
   "outputs": [
    {
     "data": {
      "text/plain": [
       "[1, 2, 3, 12, 20, 30]"
      ]
     },
     "execution_count": 22,
     "metadata": {},
     "output_type": "execute_result"
    }
   ],
   "source": [
    "lista"
   ]
  },
  {
   "cell_type": "code",
   "execution_count": 23,
   "id": "e25de249",
   "metadata": {},
   "outputs": [
    {
     "data": {
      "text/plain": [
       "2"
      ]
     },
     "execution_count": 23,
     "metadata": {},
     "output_type": "execute_result"
    }
   ],
   "source": [
    "lista.pop(1)"
   ]
  },
  {
   "cell_type": "code",
   "execution_count": 24,
   "id": "66ca4116",
   "metadata": {},
   "outputs": [
    {
     "data": {
      "text/plain": [
       "[1, 3, 12, 20, 30]"
      ]
     },
     "execution_count": 24,
     "metadata": {},
     "output_type": "execute_result"
    }
   ],
   "source": [
    "lista"
   ]
  },
  {
   "cell_type": "markdown",
   "id": "f9c858fa",
   "metadata": {},
   "source": [
    "### slicing"
   ]
  },
  {
   "cell_type": "code",
   "execution_count": 25,
   "id": "b8115cbb",
   "metadata": {},
   "outputs": [
    {
     "data": {
      "text/plain": [
       "[20, 30, 40, 50]"
      ]
     },
     "execution_count": 25,
     "metadata": {},
     "output_type": "execute_result"
    }
   ],
   "source": [
    "lista = [10,20,30,40,50,60,70,80]\n",
    "lista[1:5]"
   ]
  },
  {
   "cell_type": "code",
   "execution_count": 26,
   "id": "9de7e146",
   "metadata": {},
   "outputs": [
    {
     "data": {
      "text/plain": [
       "[]"
      ]
     },
     "execution_count": 26,
     "metadata": {},
     "output_type": "execute_result"
    }
   ],
   "source": [
    "lista[1:1]"
   ]
  },
  {
   "cell_type": "code",
   "execution_count": 27,
   "id": "84023733",
   "metadata": {},
   "outputs": [
    {
     "data": {
      "text/plain": [
       "[]"
      ]
     },
     "execution_count": 27,
     "metadata": {},
     "output_type": "execute_result"
    }
   ],
   "source": [
    "lista[4:1]"
   ]
  },
  {
   "cell_type": "code",
   "execution_count": 28,
   "id": "f0cb7b17",
   "metadata": {},
   "outputs": [],
   "source": [
    "for x in range(4,1):\n",
    "    print(x)"
   ]
  },
  {
   "cell_type": "code",
   "execution_count": 32,
   "id": "9bb3b113",
   "metadata": {},
   "outputs": [
    {
     "data": {
      "text/plain": [
       "[60, 70, 80]"
      ]
     },
     "execution_count": 32,
     "metadata": {},
     "output_type": "execute_result"
    }
   ],
   "source": [
    "lista[-3:]"
   ]
  },
  {
   "cell_type": "code",
   "execution_count": 33,
   "id": "60f8c847",
   "metadata": {},
   "outputs": [
    {
     "data": {
      "text/plain": [
       "[10, 20]"
      ]
     },
     "execution_count": 33,
     "metadata": {},
     "output_type": "execute_result"
    }
   ],
   "source": [
    "lista[:2]"
   ]
  },
  {
   "cell_type": "code",
   "execution_count": 35,
   "id": "0fb08a58",
   "metadata": {},
   "outputs": [
    {
     "data": {
      "text/plain": [
       "[20, 30, 40, 50, 60, 70]"
      ]
     },
     "execution_count": 35,
     "metadata": {},
     "output_type": "execute_result"
    }
   ],
   "source": [
    "lista[1:-1]"
   ]
  },
  {
   "cell_type": "code",
   "execution_count": 38,
   "id": "b50d4ae4",
   "metadata": {},
   "outputs": [
    {
     "name": "stdout",
     "output_type": "stream",
     "text": [
      "False\n",
      "[] [1, 2, 3]\n"
     ]
    }
   ],
   "source": [
    "a = [1,2,3]\n",
    "b = a[:]\n",
    "print(a is b)\n",
    "a.clear()\n",
    "print(a,b)"
   ]
  },
  {
   "cell_type": "code",
   "execution_count": 39,
   "id": "5306b790",
   "metadata": {},
   "outputs": [
    {
     "name": "stdout",
     "output_type": "stream",
     "text": [
      "True\n",
      "[] []\n"
     ]
    }
   ],
   "source": [
    "a = [1,2,3]\n",
    "b = a\n",
    "print(a is b)\n",
    "a.clear()\n",
    "print(a,b)"
   ]
  },
  {
   "cell_type": "code",
   "execution_count": 41,
   "id": "554dee9d",
   "metadata": {},
   "outputs": [
    {
     "name": "stdout",
     "output_type": "stream",
     "text": [
      "[10, 40]\n"
     ]
    }
   ],
   "source": [
    "a = [10,20,30,40]\n",
    "del a[1:3]\n",
    "print(a)"
   ]
  },
  {
   "cell_type": "code",
   "execution_count": 42,
   "id": "bbe06b8e",
   "metadata": {},
   "outputs": [
    {
     "name": "stdout",
     "output_type": "stream",
     "text": [
      "[10, 50, 60, 70, 40]\n"
     ]
    }
   ],
   "source": [
    "a = [10,20,30,40]\n",
    "a[1:3] = [50,60,70]\n",
    "print(a)"
   ]
  },
  {
   "cell_type": "code",
   "execution_count": 43,
   "id": "05652d00",
   "metadata": {},
   "outputs": [
    {
     "data": {
      "text/plain": [
       "[30, 20]"
      ]
     },
     "execution_count": 43,
     "metadata": {},
     "output_type": "execute_result"
    }
   ],
   "source": [
    "a = [10,20,30,40]\n",
    "#     0  1  2  3\n",
    "#    -4 -3 -2 -1\n",
    "a[2:0:-1]"
   ]
  },
  {
   "cell_type": "code",
   "execution_count": 44,
   "id": "47601284",
   "metadata": {},
   "outputs": [],
   "source": [
    "frase = \"esto es una prueba de una frase escrita como cadena\"\n",
    "b = frase"
   ]
  },
  {
   "cell_type": "code",
   "execution_count": 45,
   "id": "ad38d5da",
   "metadata": {},
   "outputs": [
    {
     "data": {
      "text/plain": [
       "['esto',\n",
       " 'es',\n",
       " 'una',\n",
       " 'prueba',\n",
       " 'de',\n",
       " 'una',\n",
       " 'frase',\n",
       " 'escrita',\n",
       " 'como',\n",
       " 'cadena']"
      ]
     },
     "execution_count": 45,
     "metadata": {},
     "output_type": "execute_result"
    }
   ],
   "source": [
    "frase = frase.split()\n",
    "frase"
   ]
  },
  {
   "cell_type": "code",
   "execution_count": 49,
   "id": "33da6c74",
   "metadata": {},
   "outputs": [
    {
     "data": {
      "text/plain": [
       "'esto una de frase como'"
      ]
     },
     "execution_count": 49,
     "metadata": {},
     "output_type": "execute_result"
    }
   ],
   "source": [
    "\" \".join(lista[::2])"
   ]
  },
  {
   "cell_type": "code",
   "execution_count": 56,
   "id": "e114575a",
   "metadata": {},
   "outputs": [
    {
     "data": {
      "text/plain": [
       "'cadena como de es escrita esto frase prueba una una'"
      ]
     },
     "execution_count": 56,
     "metadata": {},
     "output_type": "execute_result"
    }
   ],
   "source": [
    "frase = \"esto es una prueba de una frase escrita como cadena\"\n",
    "frase = frase.split()\n",
    "frase.sort()\n",
    "\" \".join(frase)"
   ]
  },
  {
   "cell_type": "code",
   "execution_count": 58,
   "id": "2baf15a1",
   "metadata": {},
   "outputs": [
    {
     "name": "stdout",
     "output_type": "stream",
     "text": [
      "['cadena', 'como', 'de', 'es', 'escrita', 'esto', 'frase', 'prueba', 'una', 'una']\n",
      "['esto', 'es', 'una', 'prueba', 'de', 'una', 'frase', 'escrita', 'como', 'cadena']\n"
     ]
    }
   ],
   "source": [
    "frase = \"esto es una prueba de una frase escrita como cadena\"\n",
    "frase = frase.split()\n",
    "print(sorted(frase))\n",
    "print(frase)"
   ]
  },
  {
   "cell_type": "code",
   "execution_count": 60,
   "id": "9c71fc24",
   "metadata": {},
   "outputs": [
    {
     "name": "stdout",
     "output_type": "stream",
     "text": [
      "['cadena', 'como', 'escrita', 'frase', 'una', 'de', 'prueba', 'una', 'es', 'esto']\n",
      "['esto', 'es', 'una', 'prueba', 'de', 'una', 'frase', 'escrita', 'como', 'cadena']\n"
     ]
    }
   ],
   "source": [
    "frase = \"esto es una prueba de una frase escrita como cadena\"\n",
    "frase = frase.split()\n",
    "print(list(reversed(frase)))\n",
    "print(frase)"
   ]
  },
  {
   "cell_type": "code",
   "execution_count": 66,
   "id": "ead7217e",
   "metadata": {},
   "outputs": [
    {
     "data": {
      "text/plain": [
       "'esto prueba frase escrita como cadena'"
      ]
     },
     "execution_count": 66,
     "metadata": {},
     "output_type": "execute_result"
    }
   ],
   "source": [
    "frase = \"esto es una prueba de una frase escrita como cadena\"\n",
    "lista = []\n",
    "for palabra in frase.split():\n",
    "    # print(len(palabra), palabra)\n",
    "    if len(palabra) > 3:\n",
    "        lista.append(palabra)\n",
    "\" \".join(lista)"
   ]
  },
  {
   "cell_type": "markdown",
   "id": "674c1725",
   "metadata": {},
   "source": [
    "## Ejercicio\n",
    "\n",
    "- Pedir 2 frases (líneas) al usuario.\n",
    "- Decir qué palabras de la primera están en la segunda."
   ]
  },
  {
   "cell_type": "code",
   "execution_count": 69,
   "id": "1a05da61",
   "metadata": {},
   "outputs": [
    {
     "name": "stdout",
     "output_type": "stream",
     "text": [
      "Dime una frase: esto es una prueba\n",
      "Dime otra frase: la prueba\n"
     ]
    }
   ],
   "source": [
    "frase1 = input(\"Dime una frase: \")\n",
    "frase2 = input(\"Dime otra frase: \")"
   ]
  },
  {
   "cell_type": "code",
   "execution_count": 70,
   "id": "e4c2957b",
   "metadata": {},
   "outputs": [
    {
     "data": {
      "text/plain": [
       "'esto es una prueba'"
      ]
     },
     "execution_count": 70,
     "metadata": {},
     "output_type": "execute_result"
    }
   ],
   "source": [
    "frase1"
   ]
  },
  {
   "cell_type": "code",
   "execution_count": 71,
   "id": "cd960abd",
   "metadata": {},
   "outputs": [
    {
     "data": {
      "text/plain": [
       "True"
      ]
     },
     "execution_count": 71,
     "metadata": {},
     "output_type": "execute_result"
    }
   ],
   "source": [
    "'una' in frase1"
   ]
  },
  {
   "cell_type": "code",
   "execution_count": 72,
   "id": "2c1a54f6",
   "metadata": {},
   "outputs": [
    {
     "data": {
      "text/plain": [
       "False"
      ]
     },
     "execution_count": 72,
     "metadata": {},
     "output_type": "execute_result"
    }
   ],
   "source": [
    "'casa' in frase1"
   ]
  },
  {
   "cell_type": "code",
   "execution_count": 73,
   "id": "f30d8617",
   "metadata": {},
   "outputs": [
    {
     "data": {
      "text/plain": [
       "True"
      ]
     },
     "execution_count": 73,
     "metadata": {},
     "output_type": "execute_result"
    }
   ],
   "source": [
    "'cama' in 'vino el camarero'"
   ]
  },
  {
   "cell_type": "code",
   "execution_count": 74,
   "id": "0d421cd4",
   "metadata": {},
   "outputs": [
    {
     "data": {
      "text/plain": [
       "False"
      ]
     },
     "execution_count": 74,
     "metadata": {},
     "output_type": "execute_result"
    }
   ],
   "source": [
    "'cama' in ['vino', 'el', 'camarero']"
   ]
  },
  {
   "cell_type": "code",
   "execution_count": 75,
   "id": "bbbb6580",
   "metadata": {},
   "outputs": [
    {
     "name": "stdout",
     "output_type": "stream",
     "text": [
      "Dime una frase: esto es una prueba\n",
      "Dime otra frase: estoy en una clase\n",
      "Las palabras son: una\n"
     ]
    }
   ],
   "source": [
    "# pedir las 2 frases al usuario\n",
    "frase1 = input(\"Dime una frase: \")\n",
    "frase2 = input(\"Dime otra frase: \")\n",
    "\n",
    "# qué palabras de frase1 están en frase2\n",
    "lista2 = frase2.split()\n",
    "estan = []\n",
    "for palabra in frase1.split():\n",
    "    if palabra in lista2:\n",
    "        estan.append(palabra)\n",
    "        \n",
    "if len(estan) == 0:\n",
    "    print(\"No hay palabras de la primera en la segunda\")\n",
    "else:\n",
    "    print(\"Las palabras son:\", \", \".join(estan))"
   ]
  },
  {
   "cell_type": "markdown",
   "id": "f454d95a",
   "metadata": {},
   "source": [
    "### las cadenas son inmutables"
   ]
  },
  {
   "cell_type": "code",
   "execution_count": 82,
   "id": "cb9e4663",
   "metadata": {},
   "outputs": [],
   "source": [
    "a = \"hola\"\n",
    "b = a"
   ]
  },
  {
   "cell_type": "code",
   "execution_count": 83,
   "id": "c5306881",
   "metadata": {},
   "outputs": [],
   "source": [
    "b = b.upper()"
   ]
  },
  {
   "cell_type": "code",
   "execution_count": 84,
   "id": "9b232fdf",
   "metadata": {},
   "outputs": [
    {
     "name": "stdout",
     "output_type": "stream",
     "text": [
      "a hola\n",
      "b HOLA\n"
     ]
    }
   ],
   "source": [
    "print('a',a)\n",
    "print('b',b)"
   ]
  },
  {
   "cell_type": "markdown",
   "id": "32dd02c3",
   "metadata": {},
   "source": [
    "## Ejercicio\n",
    "\n",
    "- Pedir una serie de valores al usuario.\n",
    "- El usuario escribirá números enteros o bien la cadena 'fin' para finalizar.\n",
    "- A continuación, el programa dirá cuántos de los números introducidos terminaban en 0, cuántos en 1, cuántos en 2,... hasta cuántos en 9.\n",
    "\n",
    "Ejemplo:\n",
    "\n",
    "```\n",
    "Dame un dato: 12\n",
    "Dame un dato: 15\n",
    "Dame un dato: 32\n",
    "Dame un dato: fin\n",
    "Hay 0 números terminados en 0\n",
    "Hay 0 números terminados en 1\n",
    "Hay 2 números terminados en 2\n",
    "Hay 0 números terminados en 3\n",
    "Hay 0 números terminados en 4\n",
    "Hay 1 números terminados en 5\n",
    "Hay 0 números terminados en 6\n",
    "...\n",
    "```"
   ]
  },
  {
   "cell_type": "code",
   "execution_count": 89,
   "id": "a7bb4d33",
   "metadata": {},
   "outputs": [
    {
     "name": "stdout",
     "output_type": "stream",
     "text": [
      "Dame un dato: 12\n",
      "Dame un dato: 15\n",
      "Dame un dato: 22\n",
      "Dame un dato: 32\n",
      "Dame un dato: 447\n",
      "Dame un dato: fin\n",
      "Hay 0 números terminados en 0\n",
      "Hay 0 números terminados en 1\n",
      "Hay 3 números terminados en 2\n",
      "Hay 0 números terminados en 3\n",
      "Hay 0 números terminados en 4\n",
      "Hay 1 números terminados en 5\n",
      "Hay 0 números terminados en 6\n",
      "Hay 1 números terminados en 7\n",
      "Hay 0 números terminados en 8\n",
      "Hay 0 números terminados en 9\n"
     ]
    }
   ],
   "source": [
    "contador = [0] * 10\n",
    "dato = \"\"\n",
    "while dato != 'fin':\n",
    "    dato = input('Dame un dato: ')\n",
    "    if dato != 'fin':\n",
    "        num = int(dato)\n",
    "        cifra = num % 10\n",
    "        contador[cifra] += 1\n",
    "for i in range(10):\n",
    "    print(f'Hay {contador[i]} números terminados en {i}')"
   ]
  },
  {
   "cell_type": "code",
   "execution_count": 100,
   "id": "57d4e369",
   "metadata": {},
   "outputs": [
    {
     "name": "stdout",
     "output_type": "stream",
     "text": [
      "Dame un dato: 12\n",
      "Dame un dato: 23\n",
      "Dame un dato: 15\n",
      "Dame un dato: 32\n",
      "Dame un dato: 55\n",
      "Dame un dato: 31\n",
      "Dame un dato: 672\n",
      "Dame un dato: fin\n",
      "No hay números termiandos en 0\n",
      "Los números terminados en 1 son: [31]\n",
      "Los números terminados en 2 son: [12, 32, 672]\n",
      "Los números terminados en 3 son: [23]\n",
      "No hay números termiandos en 4\n",
      "Los números terminados en 5 son: [15, 55]\n",
      "No hay números termiandos en 6\n",
      "No hay números termiandos en 7\n",
      "No hay números termiandos en 8\n",
      "No hay números termiandos en 9\n"
     ]
    }
   ],
   "source": [
    "# variación guardando todos los números\n",
    "numeros = [[],[],[],[],[],[],[],[],[],[]]\n",
    "dato = \"\"\n",
    "while dato != 'fin':\n",
    "    dato = input('Dame un dato: ')\n",
    "    if dato != 'fin':\n",
    "        num = int(dato)\n",
    "        cifra = num % 10\n",
    "        numeros[cifra].append(num)\n",
    "        \n",
    "for i in range(10):\n",
    "    if len(numeros[i]) == 0:\n",
    "        print(f'No hay números terminados en {i}')\n",
    "    else:\n",
    "        print(f'Los números terminados en {i} son:',numeros[i])"
   ]
  },
  {
   "cell_type": "code",
   "execution_count": 90,
   "id": "e5ac2776",
   "metadata": {},
   "outputs": [
    {
     "data": {
      "text/plain": [
       "10"
      ]
     },
     "execution_count": 90,
     "metadata": {},
     "output_type": "execute_result"
    }
   ],
   "source": [
    "len(numeros)"
   ]
  },
  {
   "cell_type": "code",
   "execution_count": 96,
   "id": "83ff6f08",
   "metadata": {},
   "outputs": [
    {
     "data": {
      "text/plain": [
       "[[12, 32, 45, 65, 78, 89],\n",
       " [12, 32, 45, 65, 78, 89],\n",
       " [12, 32, 45, 65, 78, 89],\n",
       " [12, 32, 45, 65, 78, 89],\n",
       " [12, 32, 45, 65, 78, 89],\n",
       " [12, 32, 45, 65, 78, 89],\n",
       " [12, 32, 45, 65, 78, 89],\n",
       " [12, 32, 45, 65, 78, 89],\n",
       " [12, 32, 45, 65, 78, 89],\n",
       " [12, 32, 45, 65, 78, 89]]"
      ]
     },
     "execution_count": 96,
     "metadata": {},
     "output_type": "execute_result"
    }
   ],
   "source": [
    "# numeros = [[],[],[],[],[],[],[],[],[],[]]\n",
    "numeros = [[]]*10\n",
    "\n",
    "for n in [12,32,45,65,78,89]:\n",
    "    cifra = n % 10\n",
    "    numeros[cifra].append(n)\n",
    "numeros"
   ]
  },
  {
   "cell_type": "code",
   "execution_count": 93,
   "id": "3a060470",
   "metadata": {},
   "outputs": [
    {
     "data": {
      "text/plain": [
       "[[], [], [], [], [], [], [], [], [], []]"
      ]
     },
     "execution_count": 93,
     "metadata": {},
     "output_type": "execute_result"
    }
   ],
   "source": [
    "numeros = [[],[],[],[],[],[],[],[],[],[]]\n",
    "numeros"
   ]
  },
  {
   "cell_type": "code",
   "execution_count": 97,
   "id": "c8c6f004",
   "metadata": {},
   "outputs": [
    {
     "data": {
      "text/plain": [
       "[['hola'],\n",
       " ['hola'],\n",
       " ['hola'],\n",
       " ['hola'],\n",
       " ['hola'],\n",
       " ['hola'],\n",
       " ['hola'],\n",
       " ['hola'],\n",
       " ['hola'],\n",
       " ['hola']]"
      ]
     },
     "execution_count": 97,
     "metadata": {},
     "output_type": "execute_result"
    }
   ],
   "source": [
    "numeros = [[]]*10\n",
    "numeros[0].append(\"hola\")\n",
    "numeros"
   ]
  },
  {
   "cell_type": "code",
   "execution_count": 99,
   "id": "31f2cdce",
   "metadata": {},
   "outputs": [
    {
     "data": {
      "text/plain": [
       "[['hola'], [], [], [], [], [], [], [], [], []]"
      ]
     },
     "execution_count": 99,
     "metadata": {},
     "output_type": "execute_result"
    }
   ],
   "source": [
    "numeros = []\n",
    "for i in range(10):\n",
    "    numeros.append([])\n",
    "    \n",
    "numeros[0].append('hola')\n",
    "numeros"
   ]
  },
  {
   "cell_type": "markdown",
   "id": "552a73a9",
   "metadata": {},
   "source": [
    "## Tuplas"
   ]
  },
  {
   "cell_type": "code",
   "execution_count": 103,
   "id": "f47546b6",
   "metadata": {},
   "outputs": [
    {
     "name": "stdout",
     "output_type": "stream",
     "text": [
      "<class 'tuple'>\n",
      "(1, 2, 3)\n",
      "3\n"
     ]
    },
    {
     "data": {
      "text/plain": [
       "1"
      ]
     },
     "execution_count": 103,
     "metadata": {},
     "output_type": "execute_result"
    }
   ],
   "source": [
    "a = (1,2,3)\n",
    "print(type(a))\n",
    "print(a)\n",
    "print(len(a))\n",
    "a[0]"
   ]
  },
  {
   "cell_type": "code",
   "execution_count": 104,
   "id": "13a28b3a",
   "metadata": {},
   "outputs": [
    {
     "ename": "AttributeError",
     "evalue": "'tuple' object has no attribute 'append'",
     "output_type": "error",
     "traceback": [
      "\u001b[1;31m---------------------------------------------------------------------------\u001b[0m",
      "\u001b[1;31mAttributeError\u001b[0m                            Traceback (most recent call last)",
      "Input \u001b[1;32mIn [104]\u001b[0m, in \u001b[0;36m<cell line: 1>\u001b[1;34m()\u001b[0m\n\u001b[1;32m----> 1\u001b[0m \u001b[43ma\u001b[49m\u001b[38;5;241;43m.\u001b[39;49m\u001b[43mappend\u001b[49m(\u001b[38;5;241m4\u001b[39m)\n",
      "\u001b[1;31mAttributeError\u001b[0m: 'tuple' object has no attribute 'append'"
     ]
    }
   ],
   "source": [
    "a.append(4)"
   ]
  },
  {
   "cell_type": "code",
   "execution_count": 106,
   "id": "39056809",
   "metadata": {},
   "outputs": [
    {
     "data": {
      "text/plain": [
       "(1, 2, 3, 4, 5)"
      ]
     },
     "execution_count": 106,
     "metadata": {},
     "output_type": "execute_result"
    }
   ],
   "source": [
    "a + (4,5)"
   ]
  },
  {
   "cell_type": "code",
   "execution_count": 108,
   "id": "1e611b92",
   "metadata": {},
   "outputs": [
    {
     "data": {
      "text/plain": [
       "(1, 2, 3, 1, 2, 3, 1, 2, 3)"
      ]
     },
     "execution_count": 108,
     "metadata": {},
     "output_type": "execute_result"
    }
   ],
   "source": [
    "a * 3"
   ]
  },
  {
   "cell_type": "code",
   "execution_count": 109,
   "id": "72feec44",
   "metadata": {},
   "outputs": [],
   "source": [
    "lista = [10,20,30]\n",
    "tupla = (10,20,30)\n",
    "lista[0] = 100"
   ]
  },
  {
   "cell_type": "code",
   "execution_count": 110,
   "id": "3067606e",
   "metadata": {},
   "outputs": [
    {
     "data": {
      "text/plain": [
       "[100, 20, 30]"
      ]
     },
     "execution_count": 110,
     "metadata": {},
     "output_type": "execute_result"
    }
   ],
   "source": [
    "lista"
   ]
  },
  {
   "cell_type": "code",
   "execution_count": 111,
   "id": "5d93f4c4",
   "metadata": {},
   "outputs": [
    {
     "ename": "TypeError",
     "evalue": "'tuple' object does not support item assignment",
     "output_type": "error",
     "traceback": [
      "\u001b[1;31m---------------------------------------------------------------------------\u001b[0m",
      "\u001b[1;31mTypeError\u001b[0m                                 Traceback (most recent call last)",
      "Input \u001b[1;32mIn [111]\u001b[0m, in \u001b[0;36m<cell line: 1>\u001b[1;34m()\u001b[0m\n\u001b[1;32m----> 1\u001b[0m tupla[\u001b[38;5;241m0\u001b[39m] \u001b[38;5;241m=\u001b[39m \u001b[38;5;241m100\u001b[39m\n",
      "\u001b[1;31mTypeError\u001b[0m: 'tuple' object does not support item assignment"
     ]
    }
   ],
   "source": [
    "tupla[0] = 100"
   ]
  },
  {
   "cell_type": "code",
   "execution_count": 113,
   "id": "3940ee1e",
   "metadata": {},
   "outputs": [
    {
     "name": "stdout",
     "output_type": "stream",
     "text": [
      "[0, 1, 2, 3, 4, 5, 6, 7, 8, 9]\n",
      "[]\n"
     ]
    }
   ],
   "source": [
    "lista = []\n",
    "a = lista\n",
    "for i in range(10):\n",
    "    lista = lista + [i]\n",
    "print(lista)\n",
    "print(a)"
   ]
  },
  {
   "cell_type": "code",
   "execution_count": 114,
   "id": "d74ade94",
   "metadata": {},
   "outputs": [
    {
     "name": "stdout",
     "output_type": "stream",
     "text": [
      "[0, 1, 2, 3, 4, 5, 6, 7, 8, 9]\n",
      "[0, 1, 2, 3, 4, 5, 6, 7, 8, 9]\n"
     ]
    }
   ],
   "source": [
    "lista = []\n",
    "a = lista\n",
    "for i in range(10):\n",
    "    lista.append(i)\n",
    "print(lista)\n",
    "print(a)"
   ]
  },
  {
   "cell_type": "code",
   "execution_count": 116,
   "id": "38525809",
   "metadata": {},
   "outputs": [],
   "source": [
    "lista = []\n",
    "a = lista\n",
    "for i in range(10_000_000):\n",
    "    #lista = lista + [i] # MUY LENTO\n",
    "    lista.append(i)"
   ]
  },
  {
   "cell_type": "code",
   "execution_count": 117,
   "id": "14a79b61",
   "metadata": {},
   "outputs": [
    {
     "ename": "TypeError",
     "evalue": "'>' not supported between instances of 'int' and 'str'",
     "output_type": "error",
     "traceback": [
      "\u001b[1;31m---------------------------------------------------------------------------\u001b[0m",
      "\u001b[1;31mTypeError\u001b[0m                                 Traceback (most recent call last)",
      "Input \u001b[1;32mIn [117]\u001b[0m, in \u001b[0;36m<cell line: 1>\u001b[1;34m()\u001b[0m\n\u001b[1;32m----> 1\u001b[0m \u001b[38;5;28;43mmax\u001b[39;49m\u001b[43m(\u001b[49m\u001b[43m[\u001b[49m\u001b[38;5;124;43m\"\u001b[39;49m\u001b[38;5;124;43mhola\u001b[39;49m\u001b[38;5;124;43m\"\u001b[39;49m\u001b[43m,\u001b[49m\u001b[43m \u001b[49m\u001b[38;5;241;43m12\u001b[39;49m\u001b[43m]\u001b[49m\u001b[43m)\u001b[49m\n",
      "\u001b[1;31mTypeError\u001b[0m: '>' not supported between instances of 'int' and 'str'"
     ]
    }
   ],
   "source": [
    "max([\"hola\", 12])"
   ]
  },
  {
   "cell_type": "code",
   "execution_count": 120,
   "id": "8f5faaf1",
   "metadata": {},
   "outputs": [
    {
     "data": {
      "text/plain": [
       "0"
      ]
     },
     "execution_count": 120,
     "metadata": {},
     "output_type": "execute_result"
    }
   ],
   "source": [
    "max([], default=0)"
   ]
  },
  {
   "cell_type": "code",
   "execution_count": 121,
   "id": "c1373c28",
   "metadata": {},
   "outputs": [
    {
     "data": {
      "text/plain": [
       "12"
      ]
     },
     "execution_count": 121,
     "metadata": {},
     "output_type": "execute_result"
    }
   ],
   "source": [
    "max([3,12,9], default=0)"
   ]
  },
  {
   "cell_type": "code",
   "execution_count": 123,
   "id": "6bd86dd6",
   "metadata": {},
   "outputs": [
    {
     "name": "stdout",
     "output_type": "stream",
     "text": [
      "Dime una frase: esto es una prueba\n",
      "La palabra de mayor longitud es: prueba\n"
     ]
    }
   ],
   "source": [
    "## palabra de mayor longitud\n",
    "frase = input(\"Dime una frase: \")\n",
    "mas_larga = max(frase.split(), key=len)\n",
    "print('La palabra de mayor longitud es:', mas_larga)"
   ]
  },
  {
   "cell_type": "code",
   "execution_count": 125,
   "id": "05398f44",
   "metadata": {},
   "outputs": [
    {
     "data": {
      "text/plain": [
       "False"
      ]
     },
     "execution_count": 125,
     "metadata": {},
     "output_type": "execute_result"
    }
   ],
   "source": [
    "[5,2] < [1,2,3]"
   ]
  },
  {
   "cell_type": "markdown",
   "id": "c30ecaa8",
   "metadata": {},
   "source": [
    "### Usos de tuplas"
   ]
  },
  {
   "cell_type": "code",
   "execution_count": 126,
   "id": "51414022",
   "metadata": {},
   "outputs": [],
   "source": [
    "a,b,c = 1,2,3"
   ]
  },
  {
   "cell_type": "code",
   "execution_count": 127,
   "id": "f84e985b",
   "metadata": {},
   "outputs": [
    {
     "data": {
      "text/plain": [
       "1"
      ]
     },
     "execution_count": 127,
     "metadata": {},
     "output_type": "execute_result"
    }
   ],
   "source": [
    "a"
   ]
  },
  {
   "cell_type": "code",
   "execution_count": 128,
   "id": "2326617b",
   "metadata": {},
   "outputs": [
    {
     "name": "stdout",
     "output_type": "stream",
     "text": [
      "1 2\n",
      "2 1\n"
     ]
    }
   ],
   "source": [
    "print(a,b)\n",
    "a,b = b,a # intercambiar 2 variables usando tuplas\n",
    "print(a,b)"
   ]
  },
  {
   "cell_type": "code",
   "execution_count": 129,
   "id": "924b4676",
   "metadata": {},
   "outputs": [
    {
     "data": {
      "text/plain": [
       "(1, 2, 3)"
      ]
     },
     "execution_count": 129,
     "metadata": {},
     "output_type": "execute_result"
    }
   ],
   "source": [
    "a = (1,2,3)\n",
    "a"
   ]
  },
  {
   "cell_type": "code",
   "execution_count": 130,
   "id": "07bf7162",
   "metadata": {},
   "outputs": [
    {
     "name": "stdout",
     "output_type": "stream",
     "text": [
      "1 2 3\n"
     ]
    }
   ],
   "source": [
    "x,y,z = a # unboxing o 'desempaquetar' una tupla\n",
    "print(x,y,z)"
   ]
  },
  {
   "cell_type": "code",
   "execution_count": 131,
   "id": "bd9a574b",
   "metadata": {},
   "outputs": [
    {
     "ename": "ValueError",
     "evalue": "too many values to unpack (expected 3)",
     "output_type": "error",
     "traceback": [
      "\u001b[1;31m---------------------------------------------------------------------------\u001b[0m",
      "\u001b[1;31mValueError\u001b[0m                                Traceback (most recent call last)",
      "Input \u001b[1;32mIn [131]\u001b[0m, in \u001b[0;36m<cell line: 2>\u001b[1;34m()\u001b[0m\n\u001b[0;32m      1\u001b[0m a \u001b[38;5;241m=\u001b[39m (\u001b[38;5;241m1\u001b[39m,\u001b[38;5;241m2\u001b[39m,\u001b[38;5;241m3\u001b[39m,\u001b[38;5;241m4\u001b[39m)\n\u001b[1;32m----> 2\u001b[0m x,y,z \u001b[38;5;241m=\u001b[39m a \u001b[38;5;66;03m# unboxing o 'desempaquetar' una tupla\u001b[39;00m\n\u001b[0;32m      3\u001b[0m \u001b[38;5;28mprint\u001b[39m(x,y,z)\n",
      "\u001b[1;31mValueError\u001b[0m: too many values to unpack (expected 3)"
     ]
    }
   ],
   "source": [
    "a = (1,2,3,4)\n",
    "x,y,z = a # unboxing o 'desempaquetar' una tupla\n",
    "print(x,y,z)"
   ]
  },
  {
   "cell_type": "code",
   "execution_count": 132,
   "id": "4db415ab",
   "metadata": {},
   "outputs": [
    {
     "data": {
      "text/plain": [
       "(2, 3, 5, 6)"
      ]
     },
     "execution_count": 132,
     "metadata": {},
     "output_type": "execute_result"
    }
   ],
   "source": [
    "def f(x,y):\n",
    "    return x,y,x+y,x*y # un return puede devolver una tupla\n",
    "\n",
    "a = f(2,3)\n",
    "a"
   ]
  },
  {
   "cell_type": "code",
   "execution_count": 133,
   "id": "9957b1c2",
   "metadata": {},
   "outputs": [],
   "source": [
    "x,y,suma,prod = f(2,3)"
   ]
  },
  {
   "cell_type": "markdown",
   "id": "35cef0c6",
   "metadata": {},
   "source": [
    "## Ejercicio cadena más corta"
   ]
  },
  {
   "cell_type": "code",
   "execution_count": 134,
   "id": "2ef7f9c1",
   "metadata": {},
   "outputs": [
    {
     "data": {
      "text/plain": [
       "['abc', 'bcd', 'bcdgef', 'abba', 'cddc', 'holaaa']"
      ]
     },
     "execution_count": 134,
     "metadata": {},
     "output_type": "execute_result"
    }
   ],
   "source": [
    "lista = \"abc bcd bcdgef abba  cddc holaaa\".split()\n",
    "lista"
   ]
  },
  {
   "cell_type": "code",
   "execution_count": 136,
   "id": "6b348ae0",
   "metadata": {},
   "outputs": [
    {
     "data": {
      "text/plain": [
       "'abc'"
      ]
     },
     "execution_count": 136,
     "metadata": {},
     "output_type": "execute_result"
    }
   ],
   "source": [
    "min(lista, key=len)"
   ]
  },
  {
   "cell_type": "code",
   "execution_count": 138,
   "id": "cc35a736",
   "metadata": {},
   "outputs": [
    {
     "data": {
      "text/plain": [
       "'abc'"
      ]
     },
     "execution_count": 138,
     "metadata": {},
     "output_type": "execute_result"
    }
   ],
   "source": [
    "mas_corta = lista[0]\n",
    "for pal in lista:\n",
    "    if len(pal) < len(mas_corta):\n",
    "        mas_corta = pal\n",
    "mas_corta"
   ]
  },
  {
   "cell_type": "markdown",
   "id": "be1cfad2",
   "metadata": {},
   "source": [
    "### Diccionarios"
   ]
  },
  {
   "cell_type": "code",
   "execution_count": 141,
   "id": "26d6e18a",
   "metadata": {},
   "outputs": [],
   "source": [
    "d = {'hola':'hello', 'saludos':'hello', 'azul':'blue', 'rojo':'red'}"
   ]
  },
  {
   "cell_type": "code",
   "execution_count": 142,
   "id": "150f1ba6",
   "metadata": {},
   "outputs": [
    {
     "data": {
      "text/plain": [
       "dict"
      ]
     },
     "execution_count": 142,
     "metadata": {},
     "output_type": "execute_result"
    }
   ],
   "source": [
    "type(d)"
   ]
  },
  {
   "cell_type": "code",
   "execution_count": 143,
   "id": "653b6ee4",
   "metadata": {},
   "outputs": [
    {
     "data": {
      "text/plain": [
       "3"
      ]
     },
     "execution_count": 143,
     "metadata": {},
     "output_type": "execute_result"
    }
   ],
   "source": [
    "len(d)"
   ]
  },
  {
   "cell_type": "code",
   "execution_count": 144,
   "id": "c7d60803",
   "metadata": {},
   "outputs": [
    {
     "name": "stdout",
     "output_type": "stream",
     "text": [
      "hola\n",
      "azul\n",
      "rojo\n"
     ]
    }
   ],
   "source": [
    "for clave in d:\n",
    "    print(clave)"
   ]
  },
  {
   "cell_type": "code",
   "execution_count": 145,
   "id": "5ac7a336",
   "metadata": {},
   "outputs": [
    {
     "data": {
      "text/plain": [
       "True"
      ]
     },
     "execution_count": 145,
     "metadata": {},
     "output_type": "execute_result"
    }
   ],
   "source": [
    "'hola' in d"
   ]
  },
  {
   "cell_type": "code",
   "execution_count": 146,
   "id": "fea112ef",
   "metadata": {},
   "outputs": [
    {
     "data": {
      "text/plain": [
       "False"
      ]
     },
     "execution_count": 146,
     "metadata": {},
     "output_type": "execute_result"
    }
   ],
   "source": [
    "'casa' in d"
   ]
  },
  {
   "cell_type": "code",
   "execution_count": 147,
   "id": "504afa77",
   "metadata": {},
   "outputs": [
    {
     "data": {
      "text/plain": [
       "'hello'"
      ]
     },
     "execution_count": 147,
     "metadata": {},
     "output_type": "execute_result"
    }
   ],
   "source": [
    "d['hola']"
   ]
  },
  {
   "cell_type": "code",
   "execution_count": 148,
   "id": "729902d5",
   "metadata": {},
   "outputs": [
    {
     "name": "stdout",
     "output_type": "stream",
     "text": [
      "Texto: hola el coche azul impactó contra el arbol rojo\n"
     ]
    },
    {
     "data": {
      "text/plain": [
       "'hello el coche blue impactó contra el arbol red'"
      ]
     },
     "execution_count": 148,
     "metadata": {},
     "output_type": "execute_result"
    }
   ],
   "source": [
    "frase = input(\"Texto: \")\n",
    "resul = []\n",
    "for palabra in frase.split():\n",
    "    if palabra in d:\n",
    "        palabra = d[palabra]\n",
    "    resul.append(palabra)\n",
    "' '.join(resul)"
   ]
  },
  {
   "cell_type": "code",
   "execution_count": 149,
   "id": "d2e8e0f6",
   "metadata": {},
   "outputs": [
    {
     "data": {
      "text/plain": [
       "{'hola': 'hello', 'azul': 'blue', 'rojo': 'red'}"
      ]
     },
     "execution_count": 149,
     "metadata": {},
     "output_type": "execute_result"
    }
   ],
   "source": [
    "d"
   ]
  },
  {
   "cell_type": "code",
   "execution_count": 150,
   "id": "5b6b8310",
   "metadata": {},
   "outputs": [],
   "source": [
    "d['hola'] = 'hi'"
   ]
  },
  {
   "cell_type": "code",
   "execution_count": 151,
   "id": "5c098fdb",
   "metadata": {},
   "outputs": [
    {
     "data": {
      "text/plain": [
       "{'hola': 'hi', 'azul': 'blue', 'rojo': 'red'}"
      ]
     },
     "execution_count": 151,
     "metadata": {},
     "output_type": "execute_result"
    }
   ],
   "source": [
    "d"
   ]
  },
  {
   "cell_type": "code",
   "execution_count": 152,
   "id": "23c7bc85",
   "metadata": {},
   "outputs": [],
   "source": [
    "d['verde'] = 'green'"
   ]
  },
  {
   "cell_type": "code",
   "execution_count": 153,
   "id": "f4274989",
   "metadata": {},
   "outputs": [
    {
     "data": {
      "text/plain": [
       "{'hola': 'hi', 'azul': 'blue', 'rojo': 'red', 'verde': 'green'}"
      ]
     },
     "execution_count": 153,
     "metadata": {},
     "output_type": "execute_result"
    }
   ],
   "source": [
    "d"
   ]
  },
  {
   "cell_type": "code",
   "execution_count": 155,
   "id": "77c5312e",
   "metadata": {},
   "outputs": [],
   "source": [
    "del d['azul']"
   ]
  },
  {
   "cell_type": "code",
   "execution_count": 156,
   "id": "3e9397d8",
   "metadata": {},
   "outputs": [
    {
     "data": {
      "text/plain": [
       "{'hola': 'hi', 'rojo': 'red', 'verde': 'green'}"
      ]
     },
     "execution_count": 156,
     "metadata": {},
     "output_type": "execute_result"
    }
   ],
   "source": [
    "d"
   ]
  },
  {
   "cell_type": "code",
   "execution_count": 159,
   "id": "4fba1d68",
   "metadata": {},
   "outputs": [],
   "source": [
    "quijote = \"\"\"\n",
    "CAPÍTULO 1: Que trata de la condición y ejercicio del famoso hidalgo D. Quijote de la Mancha\n",
    "En un lugar de la Mancha, de cuyo nombre no quiero acordarme, no ha mucho tiempo que vivía un hidalgo de los de lanza en astillero, adarga antigua, rocín flaco y galgo corredor. Una olla de algo más vaca que carnero, salpicón las más noches, duelos y quebrantos los sábados, lentejas los viernes, algún palomino de añadidura los domingos, consumían las tres partes de su hacienda. El resto della concluían sayo de velarte, calzas de velludo para las fiestas con sus pantuflos de lo mismo, los días de entre semana se honraba con su vellori de lo más fino. Tenía en su casa una ama que pasaba de los cuarenta, y una sobrina que no llegaba a los veinte, y un mozo de campo y plaza, que así ensillaba el rocín como tomaba la podadera. Frisaba la edad de nuestro hidalgo con los cincuenta años, era de complexión recia, seco de carnes, enjuto de rostro; gran madrugador y amigo de la caza. Quieren decir que tenía el sobrenombre de Quijada o Quesada (que en esto hay alguna diferencia en los autores que deste caso escriben), aunque por conjeturas verosímiles se deja entender que se llama Quijana; pero esto importa poco a nuestro cuento; basta que en la narración dél no se salga un punto de la verdad. Es, pues, de saber, que este sobredicho hidalgo, los ratos que estaba ocioso (que eran los más del año) se daba a leer libros de caballerías con tanta afición y gusto, que olvidó casi de todo punto el ejercicio de la caza, y aun la administración de su hacienda; y llegó a tanto su curiosidad y desatino en esto, que vendió muchas hanegas de tierra de sembradura, para comprar libros de caballerías en que leer; y así llevó a su casa todos cuantos pudo haber dellos; y de todos ningunos le parecían tan bien como los que compuso el famoso Feliciano de Silva: porque la claridad de su prosa, y aquellas intrincadas razones suyas, le parecían de perlas; y más cuando llegaba a leer aquellos requiebros y cartas de desafío, donde en muchas partes hallaba escrito: la razón de la sinrazón que a mi razón se hace, de tal manera mi razón enflaquece, que con razón me quejo de la vuestra fermosura, y también cuando leía: los altos cielos que de vuestra divinidad divinamente con las estrellas se fortifican, y os hacen merecedora del merecimiento que merece la vuestra grandeza. Con estas y semejantes razones perdía el pobre caballero el juicio, y desvelábase por entenderlas, y desentrañarles el sentido, que no se lo sacara, ni las entendiera el mismo Aristóteles, si resucitara para sólo ello. No estaba muy bien con las heridas que don Belianis daba y recibía, porque se imaginaba que por grandes maestros que le hubiesen curado, no dejaría de tener el rostro y todo el cuerpo lleno de cicatrices y señales; pero con todo alababa en su autor aquel acabar su libro con la promesa de aquella inacabable aventura, y muchas veces le vino deseo de tomar la pluma, y darle fin al pie de la letra como allí se promete; y sin duda alguna lo hiciera, y aun saliera con ello, si otros mayores y continuos pensamientos no se lo estorbaran.\n",
    "Tuvo muchas veces competencia con el cura de su lugar (que era hombre docto graduado en Sigüenza), sobre cuál había sido mejor caballero, Palmerín de Inglaterra o Amadís de Gaula; mas maese Nicolás, barbero del mismo pueblo, decía que ninguno llegaba al caballero del Febo, y que si alguno se le podía comparar, era don Galaor, hermano de Amadís de Gaula, porque tenía muy acomodada condición para todo; que no era caballero melindroso, ni tan llorón como su hermano, y que en lo de la valentía no le iba en zaga.\n",
    "En resolución, él se enfrascó tanto en su lectura, que se le pasaban las noches leyendo de claro en claro, y los días de turbio en turbio, y así, del poco dormir y del mucho leer, se le secó el cerebro, de manera que vino a perder el juicio. Llenósele la fantasía de todo aquello que leía en los libros, así de encantamientos, como de pendencias, batallas, desafíos, heridas, requiebros, amores, tormentas y disparates imposibles, y asentósele de tal modo en la imaginación que era verdad toda aquella máquina de aquellas soñadas invenciones que leía, que para él no había otra\n",
    "historia más cierta en el mundo.\n",
    "Decía él, que el Cid Ruy Díaz había sido muy buen caballero; pero que no tenía que ver con el caballero de la ardiente espada, que de sólo un revés había partido por medio dos fieros y descomunales gigantes. Mejor estaba con Bernardo del Carpio, porque en Roncesvalle había muerto a Roldán el encantado, valiéndose de la industria de Hércules, cuando ahogó a Anteo, el hijo de la Tierra, entre los brazos. Decía mucho bien del gigante Morgante, porque con ser de aquella generación gigantesca, que todos son soberbios y descomedidos, él solo era afable y bien criado; pero sobre todos estaba bien con Reinaldos de Montalbán, y más cuando le veía salir de su castillo y robar cuantos topaba, y cuando en Allende robó aquel ídolo de Mahoma, que era todo de oro, según dice su historia. Diera él, por dar una mano de coces al traidor de Galalón, al ama que tenía y aun a su sobrina de añadidura.\n",
    "En efecto, rematado ya su juicio, vino a dar en el más extraño pensamiento que jamás dio loco en el mundo, y fue que le pareció convenible y necesario, así para el aumento de su honra, como para el servicio de su república, hacerse caballero andante, e irse por todo el mundo con sus armas y caballo a buscar las aventuras, y a ejercitarse en todo aquello que él había leído, que los caballeros andantes se ejercitaban, deshaciendo todo género de agravio, y poniéndose en ocasiones y peligros, donde acabándolos, cobrase eterno nombre y fama.\n",
    "Imaginábase el pobre ya coronado por el valor de su brazo por lo menos del imperio de Trapisonda: y así con estos tan agradables pensamientos, llevado del estraño gusto que en ellos sentía, se dió priesa a poner en efecto lo que deseaba. Y lo primero que hizo, fue limpiar unas armas, que habían sido de sus bisabuelos, que, tomadas de orín y llenas de moho, luengos siglos había que estaban puestas y olvidadas en un rincón. Limpiólas y aderezólas lo mejor que pudo; pero vió que tenían una gran falta, y era que no tenía celada de encaje, sino morrión simple; mas a esto suplió su industria, porque de cartones hizo un modo de media celada, que encajada con el morrión, hacía una apariencia de celada entera. Es verdad que para probar si era fuerte, y podía estar al riesgo de una cuchillada, sacó su espada, y le dió dos golpes, y con el primero y en un punto deshizo lo que había hecho en una semana: y no dejó de parecerle mal la facilidad con que la había hecho pedazos, y por asegurarse de este peligro, lo tornó a hacer de nuevo, poniéndole unas barras de hierro por de dentro de tal manera, que él quedó satisfecho de su fortaleza; y, sin querer hacer nueva experiencia de ella, la diputó y tuvo por celada finísima de encaje. Fue luego a ver a su rocín, y aunque tenía más cuartos que un real, y más tachas que el caballo de Gonela, que tantum pellis, et ossa fuit, le pareció que ni el Bucéfalo de Alejandro, ni Babieca el del Cid con él se igualaban. Cuatro días se le pasaron en imaginar qué nombre le podría: porque, según se decía él a sí mismo, no era razón que caballo de caballero tan famoso, y tan bueno él por sí, estuviese sin nombre conocido; y así procuraba acomodársele, de manera que declarase quien había sido, antes que fuese de caballero andante, y lo que era entones: pues estaba muy puesto en razón, que mudando su señor estado, mudase él también el nombre; y le cobrase famoso y de estruendo, como convenía a la nueva orden y al nuevo ejercicio que ya profesaba: y así después de muchos nombres que formó, borró y quitó, añadió, deshizo y tornó a hacer en su memoria e imaginación, al fin le vino a llamar Rocinante, nombre a su parecer alto, sonoro y significativo de lo que había sido cuando fue rocín, antes de lo que ahora era, que era antes y primero de todos los rocines del mundo. Puesto nombre y tan a su gusto a su caballo, quiso ponérsele a sí mismo, y en este pensamiento, duró otros ocho días, y al cabo se vino a llamar don Quijote, de donde como queda dicho, tomaron ocasión los autores de esta tan verdadera historia, que sin duda se debía llamar Quijada, y no Quesada como otros quisieron decir. Pero acordándose que el valeroso Amadís, no sólo se había contentado con llamarse Amadís a secas, sino que añadió el nombre de su reino y patria, por hacerla famosa, y se llamó Amadís de Gaula, así quiso, como buen caballero, añadir al suyo el nombre de la suya, y llamarse don Quijote de la Mancha, con que a su parecer declaraba muy al vivo su\n",
    "linaje y patria, y la honraba con tomar el sobrenombre della.\n",
    "\"\"\""
   ]
  },
  {
   "cell_type": "code",
   "execution_count": 160,
   "id": "2a468b5c",
   "metadata": {},
   "outputs": [
    {
     "data": {
      "text/plain": [
       "8942"
      ]
     },
     "execution_count": 160,
     "metadata": {},
     "output_type": "execute_result"
    }
   ],
   "source": [
    "len(quijote)"
   ]
  },
  {
   "cell_type": "code",
   "execution_count": 161,
   "id": "05f333fe",
   "metadata": {},
   "outputs": [
    {
     "data": {
      "text/plain": [
       "1582"
      ]
     },
     "execution_count": 161,
     "metadata": {},
     "output_type": "execute_result"
    }
   ],
   "source": [
    "lista_quijote = quijote.lower().replace(\",\",\" \").split()\n",
    "len(lista_quijote)"
   ]
  },
  {
   "cell_type": "code",
   "execution_count": 165,
   "id": "e9bad3bd",
   "metadata": {},
   "outputs": [
    {
     "data": {
      "text/plain": [
       "['En',\n",
       " 'efecto',\n",
       " 'rematado',\n",
       " 'ya',\n",
       " 'su',\n",
       " 'juicio',\n",
       " 'vino',\n",
       " 'a',\n",
       " 'dar',\n",
       " 'en',\n",
       " 'el',\n",
       " 'más']"
      ]
     },
     "execution_count": 165,
     "metadata": {},
     "output_type": "execute_result"
    }
   ],
   "source": [
    "txt = \"En efecto, rematado ya su juicio, vino a dar en el más\"\n",
    "txt.replace(\",\",\" \").split()"
   ]
  },
  {
   "cell_type": "code",
   "execution_count": null,
   "id": "49a6e0d1",
   "metadata": {},
   "outputs": [],
   "source": []
  }
 ],
 "metadata": {
  "kernelspec": {
   "display_name": "Python 3 (ipykernel)",
   "language": "python",
   "name": "python3"
  },
  "language_info": {
   "codemirror_mode": {
    "name": "ipython",
    "version": 3
   },
   "file_extension": ".py",
   "mimetype": "text/x-python",
   "name": "python",
   "nbconvert_exporter": "python",
   "pygments_lexer": "ipython3",
   "version": "3.9.12"
  }
 },
 "nbformat": 4,
 "nbformat_minor": 5
}
