{
 "cells": [
  {
   "cell_type": "markdown",
   "id": "8091c03b",
   "metadata": {},
   "source": [
    "## Métodos estáticos en clases"
   ]
  },
  {
   "cell_type": "code",
   "execution_count": 24,
   "id": "bf7d5098",
   "metadata": {},
   "outputs": [
    {
     "name": "stdout",
     "output_type": "stream",
     "text": [
      "3 1\n",
      "Hello\n"
     ]
    }
   ],
   "source": [
    "class Prueba:\n",
    "    def __init__(self, x, y = 1):\n",
    "        self.x = x\n",
    "        self.y = y\n",
    "    \n",
    "    def print_attr(self):\n",
    "        print(self.x, self.y)\n",
    "        \n",
    "    @staticmethod\n",
    "    def salute():\n",
    "        print(\"Hello\")\n",
    "        \n",
    "my_obj = Prueba(3)\n",
    "my_obj.print_attr()\n",
    "# Este método NO requiere de ningún atributo para ejecutarse\n",
    "my_obj.salute()"
   ]
  },
  {
   "cell_type": "code",
   "execution_count": 25,
   "id": "1e956d4f",
   "metadata": {},
   "outputs": [
    {
     "name": "stdout",
     "output_type": "stream",
     "text": [
      "Hello\n"
     ]
    }
   ],
   "source": [
    "# Como no requiere de ningún atributo, podemos ejecutarlo de este modo\n",
    "Prueba.salute()"
   ]
  },
  {
   "cell_type": "markdown",
   "id": "596fa942",
   "metadata": {},
   "source": [
    "### Utilización de métodos estáticos para cargar desde disco"
   ]
  },
  {
   "cell_type": "code",
   "execution_count": 15,
   "id": "6eec56ff",
   "metadata": {},
   "outputs": [
    {
     "name": "stdout",
     "output_type": "stream",
     "text": [
      "{'x': 3, 'y': 2}\n"
     ]
    }
   ],
   "source": [
    "import json\n",
    "\n",
    "class Vector:\n",
    "    def __init__(self, x, y):\n",
    "        self.x = x\n",
    "        self.y = y\n",
    "        \n",
    "    def to_dict(self):\n",
    "        return {\"x\": self.x, \"y\": self.y}\n",
    "    \n",
    "    def save(self, path):\n",
    "        with open(path, \"w\", encoding=\"utf-8\") as ofile:\n",
    "            json.dump(self.to_dict(), ofile)\n",
    "    \n",
    "a = Vector(3, 2)\n",
    "print(a.to_dict())\n",
    "a.save(\"vector.json\")"
   ]
  },
  {
   "cell_type": "markdown",
   "id": "92ce2aa6",
   "metadata": {},
   "source": [
    "### Si la carga la hacemos desde fuera de la clase, el código es muy poco expresivo"
   ]
  },
  {
   "cell_type": "code",
   "execution_count": 19,
   "id": "d217de91",
   "metadata": {},
   "outputs": [
    {
     "name": "stdout",
     "output_type": "stream",
     "text": [
      "{'x': 3, 'y': 2}\n"
     ]
    }
   ],
   "source": [
    "# Opción A para cargar Vector\n",
    "with open(\"vector.json\", \"r\", encoding=\"utf-8\") as ifile:\n",
    "    attr = json.load(ifile)\n",
    "    print(attr)\n",
    "    \n",
    "    b = Vector(**attr) # es igual a b = Vector(x=attr['x'], y=attr['y'])"
   ]
  },
  {
   "cell_type": "markdown",
   "id": "3431306b",
   "metadata": {},
   "source": [
    "### Podemos crear un método estático dentro de la clase vector para realizar la carga y que devuelva una instancia"
   ]
  },
  {
   "cell_type": "code",
   "execution_count": 27,
   "id": "ee975280",
   "metadata": {},
   "outputs": [],
   "source": [
    "class Vector:\n",
    "    def __init__(self, x, y):\n",
    "        self.x = x\n",
    "        self.y = y\n",
    "        \n",
    "    def to_dict(self):\n",
    "        return {\"x\": self.x, \"y\": self.y}\n",
    "    \n",
    "    def save(self, path):\n",
    "        with open(path, \"w\", encoding=\"utf-8\") as ofile:\n",
    "            json.dump(self.to_dict(), ofile)\n",
    "            \n",
    "    @staticmethod\n",
    "    def load(path):\n",
    "        # Opción B para cargar Vector. Mucho más expresivo, al estar asociado directamente\n",
    "        # a la clase Vector\n",
    "        with open(path, \"r\", encoding=\"utf-8\") as ifile:\n",
    "            attr = json.load(ifile)   \n",
    "            return Vector(**attr)"
   ]
  },
  {
   "cell_type": "code",
   "execution_count": 23,
   "id": "6ef16857",
   "metadata": {},
   "outputs": [
    {
     "data": {
      "text/plain": [
       "{'x': 3, 'y': 2}"
      ]
     },
     "execution_count": 23,
     "metadata": {},
     "output_type": "execute_result"
    }
   ],
   "source": [
    "Vector.load(\"vector.json\").to_dict()"
   ]
  },
  {
   "cell_type": "code",
   "execution_count": null,
   "id": "3e5d5926",
   "metadata": {},
   "outputs": [],
   "source": []
  }
 ],
 "metadata": {
  "kernelspec": {
   "display_name": "Python 3 (ipykernel)",
   "language": "python",
   "name": "python3"
  },
  "language_info": {
   "codemirror_mode": {
    "name": "ipython",
    "version": 3
   },
   "file_extension": ".py",
   "mimetype": "text/x-python",
   "name": "python",
   "nbconvert_exporter": "python",
   "pygments_lexer": "ipython3",
   "version": "3.9.12"
  }
 },
 "nbformat": 4,
 "nbformat_minor": 5
}
