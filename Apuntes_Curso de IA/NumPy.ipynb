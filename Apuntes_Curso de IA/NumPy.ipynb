{
 "cells": [
  {
   "cell_type": "markdown",
   "id": "f11f7841",
   "metadata": {},
   "source": [
    "## Importar numpy"
   ]
  },
  {
   "cell_type": "code",
   "execution_count": 2,
   "id": "19770892",
   "metadata": {},
   "outputs": [
    {
     "data": {
      "text/plain": [
       "'1.26.4'"
      ]
     },
     "execution_count": 2,
     "metadata": {},
     "output_type": "execute_result"
    }
   ],
   "source": [
    "import numpy as np\n",
    "\n",
    "np.__version__ # obtener versión"
   ]
  },
  {
   "cell_type": "markdown",
   "id": "e79772cd",
   "metadata": {},
   "source": [
    "## Creación de arrays numpy"
   ]
  },
  {
   "cell_type": "markdown",
   "id": "d7e01691",
   "metadata": {},
   "source": [
    "Notas varias: \n",
    "\n",
    "- Uso de \"deepcopy\" -> np.copy\n",
    "- Tamaño en bytes -> arr1.nbytes()"
   ]
  },
  {
   "cell_type": "code",
   "execution_count": null,
   "id": "4063b02c",
   "metadata": {},
   "outputs": [
    {
     "data": {
      "text/plain": [
       "array([1, 2, 3, 4, 5, 6])"
      ]
     },
     "execution_count": 4,
     "metadata": {},
     "output_type": "execute_result"
    }
   ],
   "source": [
    "#Es necesario crear una lista para crear un array numpy (o array n-dimensional)\n",
    "l = [1,2,3,4,5,6]\n",
    "\n",
    "np.array(l)"
   ]
  },
  {
   "cell_type": "code",
   "execution_count": null,
   "id": "1991367e",
   "metadata": {},
   "outputs": [
    {
     "name": "stdout",
     "output_type": "stream",
     "text": [
      "Array igual de distinto puntero (is): False\n",
      "Arrays con mismo puntero (is): True\n",
      "Arrays con mismo puntero (==): [ True  True  True  True  True  True]\n",
      "Array igual de distinto puntero (equal): True\n"
     ]
    }
   ],
   "source": [
    "l = [1,2,3,4,5,6]\n",
    "\n",
    "a1 = np.array(l)\n",
    "a2 = np.array(l)\n",
    "a3 = a1\n",
    "\n",
    "print(\"Array igual de distinto puntero (is):\", a1 is a2)\n",
    "print(\"Arrays con mismo puntero (is):\", a1 is a3)\n",
    "print(\"Arrays con mismo puntero (==):\", a1 == a3)\n",
    "\n",
    "print(\"Array igual de distinto puntero (equal):\", np.arrayequal(a1, a2))"
   ]
  },
  {
   "cell_type": "code",
   "execution_count": null,
   "id": "b892fb7c",
   "metadata": {},
   "outputs": [],
   "source": [
    "print(np.array([1,2,3,4])) # Creación tradicional\n",
    "print(np.arrange(0,10)) # Array-Range\n",
    "print(np.zeros(10)) # Array de 10 0's\n",
    "print(np.ones(10)) # Array de 10 1's\n"
   ]
  },
  {
   "cell_type": "markdown",
   "id": "9a4a1cfe",
   "metadata": {},
   "source": [
    "## Keyword arguments"
   ]
  },
  {
   "cell_type": "markdown",
   "id": "02fe79b3",
   "metadata": {},
   "source": [
    "- dytpe -> tipo de dato homogeneo (si no puede hace conversión) (bool de \"casa\" es False) \n"
   ]
  },
  {
   "cell_type": "markdown",
   "id": "8061ab86",
   "metadata": {},
   "source": [
    "## Diferencia entre \"len\" y \"size\""
   ]
  },
  {
   "cell_type": "code",
   "execution_count": null,
   "id": "cd6e0aca",
   "metadata": {},
   "outputs": [
    {
     "name": "stdout",
     "output_type": "stream",
     "text": [
      "len: 2\n",
      "size 6\n"
     ]
    }
   ],
   "source": [
    "a = np.array([[1, 2, 3],\n",
    "              [4, 5, 6]])\n",
    "              \n",
    "print(\"len:\", len(a)) # Tamaño del primer nivel\n",
    "print(\"size\", np.size(a1)) # Tamaño total \n"
   ]
  },
  {
   "cell_type": "code",
   "execution_count": null,
   "id": "c1c2843c",
   "metadata": {},
   "outputs": [
    {
     "name": "stdout",
     "output_type": "stream",
     "text": [
      "[1 2 3]\n",
      "[4 5 6]\n"
     ]
    }
   ],
   "source": [
    "m = np.array([[1,2,3], [4,5,6]])\n",
    "\n",
    "# El bucle solo recorre elementos a un nivel\n",
    "for i in m:\n",
    "    print(i)"
   ]
  }
 ],
 "metadata": {
  "kernelspec": {
   "display_name": "base",
   "language": "python",
   "name": "python3"
  },
  "language_info": {
   "codemirror_mode": {
    "name": "ipython",
    "version": 3
   },
   "file_extension": ".py",
   "mimetype": "text/x-python",
   "name": "python",
   "nbconvert_exporter": "python",
   "pygments_lexer": "ipython3",
   "version": "3.12.7"
  }
 },
 "nbformat": 4,
 "nbformat_minor": 5
}
