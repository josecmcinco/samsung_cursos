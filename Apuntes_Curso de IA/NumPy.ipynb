{
 "cells": [
  {
   "cell_type": "markdown",
   "id": "f11f7841",
   "metadata": {},
   "source": [
    "## Importar numpy"
   ]
  },
  {
   "cell_type": "code",
   "execution_count": 1,
   "id": "19770892",
   "metadata": {},
   "outputs": [
    {
     "data": {
      "text/plain": [
       "'1.26.4'"
      ]
     },
     "execution_count": 1,
     "metadata": {},
     "output_type": "execute_result"
    }
   ],
   "source": [
    "import numpy as np\n",
    "\n",
    "np.__version__ # obtener versión"
   ]
  },
  {
   "cell_type": "markdown",
   "id": "e79772cd",
   "metadata": {},
   "source": [
    "## Creación de arrays numpy"
   ]
  },
  {
   "cell_type": "markdown",
   "id": "d7e01691",
   "metadata": {},
   "source": [
    "Notas varias: \n",
    "\n",
    "- Uso de \"deepcopy\" -> np.copy\n",
    "- Tamaño en bytes -> arr1.nbytes()\n",
    "- Añadir o eliminar un elemento de un implica crearlo de nuevo (modificar no)"
   ]
  },
  {
   "cell_type": "code",
   "execution_count": null,
   "id": "4063b02c",
   "metadata": {},
   "outputs": [
    {
     "data": {
      "text/plain": [
       "array([1, 2, 3, 4, 5, 6])"
      ]
     },
     "execution_count": 4,
     "metadata": {},
     "output_type": "execute_result"
    }
   ],
   "source": [
    "#Es necesario crear una lista para crear un array numpy (o array n-dimensional)\n",
    "l = [1,2,3,4,5,6]\n",
    "\n",
    "np.array(l)"
   ]
  },
  {
   "cell_type": "code",
   "execution_count": null,
   "id": "1991367e",
   "metadata": {},
   "outputs": [
    {
     "name": "stdout",
     "output_type": "stream",
     "text": [
      "Array igual de distinto puntero (is): False\n",
      "Arrays con mismo puntero (is): True\n",
      "Arrays con mismo puntero (==): [ True  True  True  True  True  True]\n",
      "Array igual de distinto puntero (equal): True\n"
     ]
    }
   ],
   "source": [
    "l = [1,2,3,4,5,6]\n",
    "\n",
    "a1 = np.array(l)\n",
    "a2 = np.array(l)\n",
    "a3 = a1\n",
    "\n",
    "print(\"Array igual de distinto puntero (is):\", a1 is a2)\n",
    "print(\"Arrays con mismo puntero (is):\", a1 is a3)\n",
    "print(\"Arrays con mismo puntero (==):\", a1 == a3)\n",
    "\n",
    "print(\"Array igual de distinto puntero (equal):\", np.arrayequal(a1, a2))"
   ]
  },
  {
   "cell_type": "code",
   "execution_count": 4,
   "id": "b892fb7c",
   "metadata": {},
   "outputs": [
    {
     "name": "stdout",
     "output_type": "stream",
     "text": [
      "[1 2 3 4]\n",
      "[0 1 2 3 4 5 6 7 8 9]\n",
      "[0. 0. 0. 0. 0. 0. 0. 0. 0. 0.]\n",
      "[1. 1. 1. 1. 1. 1. 1. 1. 1. 1.]\n",
      "[-0.89120095 -0.291598   -0.68249385 -1.46262494 -0.54559388  0.08305436\n",
      " -2.61480131 -0.72675623  0.38723496 -0.9470736 ]\n"
     ]
    }
   ],
   "source": [
    "print(np.array([1,2,3,4])) # Creación tradicional\n",
    "print(np.arange(0,10)) # Array-Range\n",
    "print(np.zeros(10)) # Array de 10 0's\n",
    "print(np.ones(10)) # Array de 10 1's\n",
    "print(np.random.randn(10)) # Array de valores aleatorios\n",
    "\n"
   ]
  },
  {
   "cell_type": "markdown",
   "id": "9a4a1cfe",
   "metadata": {},
   "source": [
    "## Keyword arguments"
   ]
  },
  {
   "cell_type": "markdown",
   "id": "02fe79b3",
   "metadata": {},
   "source": [
    "- dytpe= X -> tipo de dato homogeneo (si no puede hace conversión) (bool de \"casa\" es False) \n"
   ]
  },
  {
   "cell_type": "markdown",
   "id": "97e2de48",
   "metadata": {},
   "source": [
    "## Métdodos importantes"
   ]
  },
  {
   "cell_type": "markdown",
   "id": "f8436bd9",
   "metadata": {},
   "source": [
    "Suponiendo que hay un array a1 y, si es necesario, un array a2:\n",
    "\n",
    " - np.copy(a1) -> Crea una copia independiente de a1. Los cambios no afectan al original.\n",
    " - np.reshape(a1, new_shape)-> Cambia la forma (dimensiones) del array a1 a new_shape. Intenta compartir memoria con el original\n",
    " - np.shares_memory(esp_mem1, esp_mem2) ->Devuelve True si esp_mem1 y esp_mem2 comparten la misma memoria interna"
   ]
  },
  {
   "cell_type": "markdown",
   "id": "8061ab86",
   "metadata": {},
   "source": [
    "## Diferencia entre \"len\" y \"size\""
   ]
  },
  {
   "cell_type": "markdown",
   "id": "652f3049",
   "metadata": {},
   "source": [
    "Dado un array a1:\n",
    "\n",
    "reshape ->"
   ]
  },
  {
   "cell_type": "code",
   "execution_count": null,
   "id": "cd6e0aca",
   "metadata": {},
   "outputs": [
    {
     "name": "stdout",
     "output_type": "stream",
     "text": [
      "len: 2\n",
      "size 6\n"
     ]
    }
   ],
   "source": [
    "a = np.array([[1, 2, 3],\n",
    "              [4, 5, 6]])\n",
    "              \n",
    "print(\"len:\", len(a)) # Tamaño del primer nivel\n",
    "print(\"size\", np.size(a1)) # Tamaño total \n"
   ]
  },
  {
   "cell_type": "code",
   "execution_count": null,
   "id": "c1c2843c",
   "metadata": {},
   "outputs": [
    {
     "name": "stdout",
     "output_type": "stream",
     "text": [
      "[1 2 3]\n",
      "[4 5 6]\n"
     ]
    }
   ],
   "source": [
    "m = np.array([[1,2,3], [4,5,6]])\n",
    "\n",
    "# El bucle solo recorre elementos a un nivel\n",
    "for i in m:\n",
    "    print(i)"
   ]
  }
 ],
 "metadata": {
  "kernelspec": {
   "display_name": "base",
   "language": "python",
   "name": "python3"
  },
  "language_info": {
   "codemirror_mode": {
    "name": "ipython",
    "version": 3
   },
   "file_extension": ".py",
   "mimetype": "text/x-python",
   "name": "python",
   "nbconvert_exporter": "python",
   "pygments_lexer": "ipython3",
   "version": "3.12.4"
  }
 },
 "nbformat": 4,
 "nbformat_minor": 5
}
