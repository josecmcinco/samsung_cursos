{
 "cells": [
  {
   "cell_type": "markdown",
   "id": "f11f7841",
   "metadata": {},
   "source": [
    "# Numpy"
   ]
  },
  {
   "cell_type": "code",
   "execution_count": 4,
   "id": "19770892",
   "metadata": {},
   "outputs": [
    {
     "data": {
      "text/plain": [
       "'1.26.4'"
      ]
     },
     "execution_count": 4,
     "metadata": {},
     "output_type": "execute_result"
    }
   ],
   "source": [
    "import numpy as np\n",
    "\n",
    "np.__version__ # obtener versión"
   ]
  },
  {
   "cell_type": "markdown",
   "id": "e79772cd",
   "metadata": {},
   "source": [
    "### Creación de arrays numpy"
   ]
  },
  {
   "cell_type": "markdown",
   "id": "d7e01691",
   "metadata": {},
   "source": [
    "Notas varias: \n",
    "\n",
    "- Uso de \"deepcopy\" para copiar refefrencias -> np.copy\n",
    "- Tamaño en bytes -> arr1.nbytes()\n",
    "- Añadir o eliminar un elemento de un implica crearlo de nuevo (pero modificar no)\n",
    "- Evitar bucles a ser posible"
   ]
  },
  {
   "cell_type": "code",
   "execution_count": null,
   "id": "4063b02c",
   "metadata": {},
   "outputs": [
    {
     "data": {
      "text/plain": [
       "array([1, 2, 3, 4, 5, 6])"
      ]
     },
     "execution_count": 4,
     "metadata": {},
     "output_type": "execute_result"
    }
   ],
   "source": [
    "#Es necesario crear una lista para crear un array numpy (o array n-dimensional)\n",
    "l = [1,2,3,4,5,6]\n",
    "\n",
    "np.array(l)"
   ]
  },
  {
   "cell_type": "code",
   "execution_count": null,
   "id": "1991367e",
   "metadata": {},
   "outputs": [
    {
     "name": "stdout",
     "output_type": "stream",
     "text": [
      "Array igual de distinto puntero (is): False\n",
      "Arrays con mismo puntero (is): True\n",
      "Arrays con mismo puntero (==): [ True  True  True  True  True  True]\n",
      "Array igual de distinto puntero (equal): True\n"
     ]
    }
   ],
   "source": [
    "l = [1,2,3,4,5,6]\n",
    "\n",
    "a1 = np.array(l)\n",
    "a2 = np.array(l)\n",
    "a3 = a1\n",
    "\n",
    "print(\"Array igual de distinto puntero (is):\", a1 is a2)\n",
    "print(\"Arrays con mismo puntero (is):\", a1 is a3)\n",
    "print(\"Arrays con mismo puntero (==):\", a1 == a3)\n",
    "\n",
    "print(\"Array igual de distinto puntero (equal):\", np.arrayequal(a1, a2))"
   ]
  },
  {
   "cell_type": "code",
   "execution_count": 12,
   "id": "b892fb7c",
   "metadata": {},
   "outputs": [
    {
     "name": "stdout",
     "output_type": "stream",
     "text": [
      "[1 2 3 4]\n",
      "[0 1 2 3 4 5 6 7 8 9]\n",
      "[0. 0. 0. 0. 0. 0. 0. 0. 0. 0.]\n",
      "[1. 1. 1. 1. 1. 1. 1. 1. 1. 1.]\n",
      "[-0.37758036 -0.19328541 -1.26504494 -1.983526    0.36815575  1.11825821\n",
      "  0.3866938   0.27157276 -1.30462067  0.39805607]\n",
      "[[8.63233314e-312 1.05235983e-321 0.00000000e+000 0.00000000e+000]\n",
      " [0.00000000e+000 5.02034658e+175 6.01354896e-067 9.41671420e-067]\n",
      " [3.40921423e-057 4.91605345e-062 1.75935209e-076 1.04915135e-153]\n",
      " [6.32299154e+233 6.32672800e+180 2.66371964e+233 1.47762365e+248]\n",
      " [1.16096346e-028 2.14027814e+161 4.96212127e+180 1.94919988e-153]\n",
      " [2.46447865e+184 1.10818069e-047 6.16880162e-042 1.53378354e-075]\n",
      " [1.41528119e+161 1.56602272e-076 1.48340478e-076 1.48242703e-071]\n",
      " [4.17921160e-062 1.14484251e+243 2.59903827e-144 4.24969524e-086]]\n"
     ]
    }
   ],
   "source": [
    "print(np.array([1,2,3,4])) # Creación tradicional\n",
    "print(np.arange(0,10)) # Array-Range\n",
    "print(np.zeros(10)) # Array de 10 0's\n",
    "print(np.ones(10)) # Array de 10 1's\n",
    "print(np.random.randn(10)) # Array de valores aleatorios\n",
    "print(np.empty((8,4))) # Array de valores sin inicializar\n",
    "\n"
   ]
  },
  {
   "cell_type": "markdown",
   "id": "8061ab86",
   "metadata": {},
   "source": [
    "### Diferencia entre \"len\" y \"size\""
   ]
  },
  {
   "cell_type": "markdown",
   "id": "652f3049",
   "metadata": {},
   "source": [
    "Dado un array a1:\n",
    "\n",
    "reshape ->"
   ]
  },
  {
   "cell_type": "code",
   "execution_count": null,
   "id": "cd6e0aca",
   "metadata": {},
   "outputs": [
    {
     "name": "stdout",
     "output_type": "stream",
     "text": [
      "len: 2\n",
      "size 6\n"
     ]
    }
   ],
   "source": [
    "a = np.array([[1, 2, 3],\n",
    "              [4, 5, 6]])\n",
    "              \n",
    "print(\"len:\", len(a)) # Tamaño del primer nivel\n",
    "print(\"size\", np.size(a1)) # Tamaño total \n"
   ]
  },
  {
   "cell_type": "code",
   "execution_count": null,
   "id": "c1c2843c",
   "metadata": {},
   "outputs": [
    {
     "name": "stdout",
     "output_type": "stream",
     "text": [
      "[1 2 3]\n",
      "[4 5 6]\n"
     ]
    }
   ],
   "source": [
    "m = np.array([[1,2,3], [4,5,6]])\n",
    "\n",
    "# El bucle solo recorre elementos a un nivel\n",
    "for i in m:\n",
    "    print(i)"
   ]
  },
  {
   "cell_type": "markdown",
   "id": "9a4024ee",
   "metadata": {},
   "source": [
    "### Slicing"
   ]
  },
  {
   "cell_type": "code",
   "execution_count": null,
   "id": "9b94c948",
   "metadata": {},
   "outputs": [
    {
     "name": "stdout",
     "output_type": "stream",
     "text": [
      "[[1 2 3]\n",
      " [4 5 6]]\n",
      "------\n",
      "[[2 3]\n",
      " [5 6]]\n",
      "------\n",
      "[[2 3]\n",
      " [5 6]\n",
      " [8 9]]\n"
     ]
    }
   ],
   "source": [
    "a1 = np.array([[1,2,3], [4,5,6], [7,8,9]])\n",
    "\n",
    "print(a1[:2]) # Dos primeras en primer nivel\n",
    "print(\"------\")\n",
    "print(a1[:2, 1:]) # Dos primeras en primer nivel y una en el segundo\n",
    "print(\"------\")\n",
    "print(a1[:, 1:]) # Todo del primer novel y uno del segundo\n",
    "\n"
   ]
  },
  {
   "cell_type": "markdown",
   "id": "f406eea0",
   "metadata": {},
   "source": [
    "### Indexing\n"
   ]
  },
  {
   "cell_type": "code",
   "execution_count": null,
   "id": "ae913218",
   "metadata": {},
   "outputs": [
    {
     "name": "stdout",
     "output_type": "stream",
     "text": [
      "[1 8]\n"
     ]
    }
   ],
   "source": [
    "a1 = np.array([[1,2,3], [4,5,6], [7,8,9]])\n",
    "\n",
    "print(a1[[0,2], [0,1]]) # Devuelve lista con elem 0,2 y 0,1"
   ]
  },
  {
   "cell_type": "markdown",
   "id": "247cbe7c",
   "metadata": {},
   "source": [
    "### Operaciones matriciales"
   ]
  },
  {
   "cell_type": "code",
   "execution_count": null,
   "id": "e993dcca",
   "metadata": {},
   "outputs": [],
   "source": [
    "A = np.array([0,1,2,3]).reshape(2,2)\n",
    "B = np.array([3,2,1,0]).reshape(2,2)\n",
    "\n",
    "A.dot(B) \n",
    "\n",
    "A @ B #Producto de matrices\n",
    "A.transpose() # Transponer la lista A\n",
    "\n",
    "# Operaciones con matrices complejas (uso de linalg)\n",
    "np.linalg.inv(A) #inversa de A\n",
    "\n",
    "np.linalg.det(A) #determinante"
   ]
  },
  {
   "cell_type": "markdown",
   "id": "ad318a64",
   "metadata": {},
   "source": [
    "### Otros métdodos importantes"
   ]
  },
  {
   "cell_type": "markdown",
   "id": "8d71f931",
   "metadata": {},
   "source": [
    "Suponiendo que hay un array a1 y, si es necesario, un array a2:\n",
    "\n",
    "Propiedades del array:\n",
    "- a1.shape → dimensiones\n",
    "- a1.dtype -> tipo de datos\n",
    "- a1.size -> número total de elementos\n",
    "- a1.ndim -> número de dimensiones\n",
    "- a1.itemsize -> bytes por elemento\n",
    "- a1.nbytes -> memoria total\n",
    "- len(a1) -> longitud a lo largo del primer eje\n",
    "  \n",
    "Transformación y manipulacion:\n",
    "\n",
    "- a1.reshape(shape) -> cambia la forma (sin modificar datos)\n",
    "- np.copy(a1) -> copia independiente\n",
    "- np.append(a1, element, axis) -> añade elementos\n",
    "- np.delete(a1, index, axis) -> elimina elementos\n",
    "- a1.astype(tipo) -> convierte el tipo de datos\n",
    "- np.tile(a1, reps) -> repite el array completo\n",
    "- np.repeat(a1, reps, axis) -> repite elementos\n",
    "- a1.transpose() / a1.T / np.transpose(a1) -> transposición\n",
    "\n",
    "Indexación y filtrado:\n",
    "- a1[i, j] → acceso a un elemento\n",
    "- a1[[i1, i2], [j1, j2]] → acceso múltiple\n",
    "- a1[condición] → filtrado por condición\n",
    "\n",
    "\n",
    "Operaciones matemáticas y funciones:\n",
    "- Operaciones (+ - * / **) -> Operación elemento a elemento\n",
    "- np.round(a1) -> Redondeo de valores\n",
    "- np.max(a1) -> devuelve el valor máximo\n",
    "- np.argmax(a1) -> devuelve el índice del valor máximo\n",
    "- np.std(a1) -> desviación estándar\n",
    "- np.var(a1) -> varianza\n",
    "\n",
    "\n",
    "Estadística:\n",
    "- np.unique(a1) ->Devuelve los valores únicos"
   ]
  },
  {
   "cell_type": "markdown",
   "id": "cdf413ce",
   "metadata": {},
   "source": [
    "# Pandas"
   ]
  },
  {
   "cell_type": "code",
   "execution_count": 1,
   "id": "566ed40b",
   "metadata": {},
   "outputs": [
    {
     "data": {
      "text/plain": [
       "'2.2.2'"
      ]
     },
     "execution_count": 1,
     "metadata": {},
     "output_type": "execute_result"
    }
   ],
   "source": [
    "import pandas as pd\n",
    "\n",
    "pd.__version__ # obtener versión"
   ]
  },
  {
   "cell_type": "markdown",
   "id": "fc3f62cf",
   "metadata": {},
   "source": [
    "Serie: unidimensional \n",
    "\n",
    "DataFrame: bidimensional\n",
    "\n",
    "LECTURA CON PANDAS = pd.read_csv(\"nombre.csv\")"
   ]
  },
  {
   "cell_type": "markdown",
   "id": "5e19a61f",
   "metadata": {},
   "source": [
    "### Creación de objetos con pandas"
   ]
  },
  {
   "cell_type": "markdown",
   "id": "0216720c",
   "metadata": {},
   "source": [
    "##### Series"
   ]
  },
  {
   "cell_type": "code",
   "execution_count": 2,
   "id": "8ef14422",
   "metadata": {},
   "outputs": [
    {
     "data": {
      "text/plain": [
       "red       10\n",
       "green     20\n",
       "blue      30\n",
       "orange    40\n",
       "dtype: int64"
      ]
     },
     "execution_count": 2,
     "metadata": {},
     "output_type": "execute_result"
    }
   ],
   "source": [
    "\n",
    "l = [1,2,3,4,5,6]\n",
    "\n",
    "pd.Series([10, 20, 30, 40], [\"red\", \"green\", \"blue\", \"orange\"])"
   ]
  },
  {
   "cell_type": "code",
   "execution_count": 6,
   "id": "4d73a727",
   "metadata": {},
   "outputs": [
    {
     "name": "stdout",
     "output_type": "stream",
     "text": [
      "0    1\n",
      "1    2\n",
      "2    3\n",
      "3    4\n",
      "dtype: int64\n",
      "0    0\n",
      "1    1\n",
      "2    2\n",
      "3    3\n",
      "4    4\n",
      "dtype: int64\n",
      "0    0.0\n",
      "1    0.0\n",
      "2    0.0\n",
      "3    0.0\n",
      "4    0.0\n",
      "dtype: float64\n",
      "0    1.0\n",
      "1    1.0\n",
      "2    1.0\n",
      "3    1.0\n",
      "4    1.0\n",
      "dtype: float64\n",
      "0    1.014547\n",
      "1   -0.027317\n",
      "2    0.723940\n",
      "3    1.699201\n",
      "4    0.131361\n",
      "dtype: float64\n",
      "0    None\n",
      "1    None\n",
      "2    None\n",
      "3    None\n",
      "4    None\n",
      "dtype: object\n"
     ]
    }
   ],
   "source": [
    "#ALTERNATIVAS PARA CREAR SERIES\n",
    "\n",
    "print(pd.Series([1, 2, 3, 4])) # Desde lista (similar a np.array)\n",
    "\n",
    "print(pd.Series(range(0, 5))) # Rango de números (similar a np.arange)\n",
    "\n",
    "print(pd.Series(np.zeros(5))) # Serie de ceros\n",
    "\n",
    "print(pd.Series(np.ones(5))) # Serie de unos\n",
    "\n",
    "print(pd.Series(np.random.randn(5))) # Serie con valores aleatorios\n",
    "\n",
    "print(pd.Series([None]*5)) # Serie vacía (con NaN) "
   ]
  },
  {
   "cell_type": "markdown",
   "id": "4c2cf331",
   "metadata": {},
   "source": [
    "### Métdodos importantes"
   ]
  },
  {
   "cell_type": "markdown",
   "id": "ef3e58cd",
   "metadata": {},
   "source": [
    "Propiedades del DataFrame\n",
    "\n",
    " - df.shape → dimensiones (filas, columnas)\n",
    " - df.columns → nombres de las columnas\n",
    " - df.index → índice del DataFrame\n",
    " - df.dtypes → tipos de datos de cada columna\n",
    " - df.size → número total de elementos\n",
    " - df.ndim → número de dimensiones (siempre 2 para DataFrames)\n",
    " - len(df) → número de filas\n",
    " - df.info() → resumen del DataFrame (tipo de datos, memoria, nulos)\n",
    " - df.describe() → estadísticas descriptivas (count, mean, std, min, max, percentiles)\n",
    " - df.count(axis) → número de elementos no nulos por eje\n",
    " - df.corr() → matriz de correlación entre columnas numéricas\n",
    "\n",
    " Transformación y manipulación\n",
    "\n",
    "- df.copy() → copia independiente\n",
    "- df.head(n) / df.tail(n) → primeras o últimas n filas\n",
    "- df.iloc[row_index] / df.loc[label] → acceso a filas por posición o índice\n",
    "- df.iloc[row_index, col_index] / df.loc[row_label, col_label] → acceso a un elemento\n",
    "- df[[col1, col2]] → acceso a varias columnas\n",
    "- df[col] → acceso a una columna (Series)\n",
    "- df['new_col'] = value → añadir columna (inplace)\n",
    "- df.drop(labels, axis, inplace=False) → eliminar filas o columnas\n",
    "- df.rename(columns={}, index={}, inplace=False) → renombrar columnas o índices selectivamente\n",
    "- df.reset_index(inplace=False) → convertir índice a columna o reiniciar índice\n",
    "- df.set_index('columna', inplace=False) → establecer columna como índice\n",
    "- df.sort_values(by=['col'], ascending=True) → ordenar por columna(s)\n",
    "- df.sort_index(ascending=True) → ordenar por índice\n",
    "- df.transpose() / df.T → transposición del DataFrame\n",
    "- df.reindex(new_index, fill_value=NaN) → reindexar filas\n",
    "\n",
    "Operaciones matemáticas y funciones:\n",
    "\n",
    "- Operaciones (+ - * /) -> operaciones alineando por índices, NaN si no coincide\n",
    "- df.apply(func) -> aplicar función a filas/columnas\n",
    "- df.sum(axis), df.mean(axis, skipna=True) -> suma y media por eje\n",
    "- df.groupby(['col1', 'col2'])['col3'].mean() -> agrupamiento y cálculo\n",
    "- df.corrwith(df2) -> correlación entre Series de DataFrames\n",
    "\n",
    "Lectura y combinación de DataFrames:\n",
    "\n",
    "- pd.read_csv(ruta) → leer CSV en DataFrame\n",
    "- pd.concat([df1, df2], axis, sort=False) → concatenar DataFrames\n",
    "- pd.pivot_table(df, index=[], columns=[], values='', aggfunc=sum, fill_value=NaN) → tabla pivote\n",
    "- pd.MultiIndex.from_tuples(list_of_tuples) → crear multi-índice\n",
    "Filtrado y condiciones\n",
    "- df[condición] → filtrar filas por condición\n",
    "- df.loc[condición, cols] → filtrar filas y seleccionar columnas\n",
    "\n",
    " "
   ]
  },
  {
   "cell_type": "code",
   "execution_count": 7,
   "id": "bee84998",
   "metadata": {},
   "outputs": [],
   "source": [
    "dict_data = {'c0':[1,2,3], 'c1':[4,5,6], 'c2':[7,8,9], 'c3':[10,11,12], 'c4':[13,14,15]}\n",
    "df = pd.DataFrame(dict_data, index=['r0', 'r1', 'r2'])"
   ]
  },
  {
   "cell_type": "markdown",
   "id": "4a5a7bc1",
   "metadata": {},
   "source": [
    "## Gestión de multiples dataframes"
   ]
  },
  {
   "cell_type": "markdown",
   "id": "5e68d1fe",
   "metadata": {},
   "source": [
    "- Inner join -> Devuelve los valores cuyo id está en ambas tablas\n",
    "- Left/Right join -> obtienes valores nulo filtrando un dato\n",
    "- Full outer join -> unir todo\n"
   ]
  },
  {
   "cell_type": "markdown",
   "id": "aece6d59",
   "metadata": {},
   "source": [
    "pd.merge(dfA, dfB, on=\"valorUnion\" \n",
    "how=\"inner\")\n",
    "\n",
    "\n",
    "pd.merge(dfA)"
   ]
  },
  {
   "cell_type": "code",
   "execution_count": null,
   "id": "4b9d077d",
   "metadata": {},
   "outputs": [],
   "source": [
    "dfA = pd.DataFrame({\n",
    "    'Name':'Harry Potter,David Baker,John Smith,Juan Martinez,Jane Connor'.split(','),\n",
    "    'Gender':'Male Male Male Male Female'.split(),\n",
    "    'Age':[23,31,22,36,30]\n",
    "    \n",
    "})\n",
    "\n",
    "dfB = pd.DataFrame({\n",
    "    'Name':'John Smith,Alex Du Bois,Joanne Rowling,Jane Connor'.split(','),\n",
    "    'Position':'Intern,Team Lead,Manager,Manager'.split(','),\n",
    "    'Wage':[25000,75000,90000,70000]\n",
    "    \n",
    "})\n",
    "\n",
    "pd.merge(dfA, dfB,\n",
    "    on=\"valorUnion\" # Nombre de índice para unir dos palabras (Opcional)\n",
    "    how=\"inner\" # Tipo de gestión (Opcional)\n",
    "    )\n",
    "\n",
    "\"\"\" \n",
    "Alternativa a on= \"valorUnion\"\n",
    " - on_right= \"valor1\", on_left=valor2\n",
    "\n",
    "\n",
    "Alternativas a how=\"inner\"\n",
    " - how = \"outer\"\n",
    " - how = \"left\"\n",
    " - how = \"right\" \n",
    "\n",
    "\"\"\"\n"
   ]
  },
  {
   "cell_type": "code",
   "execution_count": null,
   "id": "63691ef9",
   "metadata": {},
   "outputs": [
    {
     "name": "stderr",
     "output_type": "stream",
     "text": [
      "C:\\Users\\josec\\AppData\\Local\\Temp\\ipykernel_17632\\442866497.py:12: FutureWarning: The provided callable <function mean at 0x000002C6E874DD00> is currently using DataFrameGroupBy.mean. In a future version of pandas, the provided callable will be used directly. To keep current behavior pass the string \"mean\" instead.\n",
      "  pd.pivot_table(df,\n"
     ]
    },
    {
     "data": {
      "text/html": [
       "<div>\n",
       "<style scoped>\n",
       "    .dataframe tbody tr th:only-of-type {\n",
       "        vertical-align: middle;\n",
       "    }\n",
       "\n",
       "    .dataframe tbody tr th {\n",
       "        vertical-align: top;\n",
       "    }\n",
       "\n",
       "    .dataframe thead th {\n",
       "        text-align: right;\n",
       "    }\n",
       "</style>\n",
       "<table border=\"1\" class=\"dataframe\">\n",
       "  <thead>\n",
       "    <tr style=\"text-align: right;\">\n",
       "      <th></th>\n",
       "      <th>Location</th>\n",
       "      <th>L1</th>\n",
       "      <th>L2</th>\n",
       "    </tr>\n",
       "    <tr>\n",
       "      <th>Size</th>\n",
       "      <th>Type</th>\n",
       "      <th></th>\n",
       "      <th></th>\n",
       "    </tr>\n",
       "  </thead>\n",
       "  <tbody>\n",
       "    <tr>\n",
       "      <th>L</th>\n",
       "      <th>A</th>\n",
       "      <td>3.0</td>\n",
       "      <td>0.0</td>\n",
       "    </tr>\n",
       "    <tr>\n",
       "      <th rowspan=\"2\" valign=\"top\">M</th>\n",
       "      <th>A</th>\n",
       "      <td>5.0</td>\n",
       "      <td>0.0</td>\n",
       "    </tr>\n",
       "    <tr>\n",
       "      <th>B</th>\n",
       "      <td>0.0</td>\n",
       "      <td>5.5</td>\n",
       "    </tr>\n",
       "    <tr>\n",
       "      <th rowspan=\"2\" valign=\"top\">S</th>\n",
       "      <th>A</th>\n",
       "      <td>6.0</td>\n",
       "      <td>8.0</td>\n",
       "    </tr>\n",
       "    <tr>\n",
       "      <th>B</th>\n",
       "      <td>9.0</td>\n",
       "      <td>9.0</td>\n",
       "    </tr>\n",
       "  </tbody>\n",
       "</table>\n",
       "</div>"
      ],
      "text/plain": [
       "Location    L1   L2\n",
       "Size Type          \n",
       "L    A     3.0  0.0\n",
       "M    A     5.0  0.0\n",
       "     B     0.0  5.5\n",
       "S    A     6.0  8.0\n",
       "     B     9.0  9.0"
      ]
     },
     "execution_count": 17,
     "metadata": {},
     "output_type": "execute_result"
    }
   ],
   "source": [
    "my_dict = {'Size': list('LLMMMSSSS'),\n",
    "           'Type': list('AAABBAABB'),\n",
    "           'Location':[ 'L'+x for x in '111221221'],\n",
    "           'P1':[1,2,2,3,3,4,5,6,7],\n",
    "           'P2':[2,4,5,5,6,6,8,9,9]}\n",
    "my_dict\n",
    "\n",
    "df = pd.DataFrame(my_dict)\n",
    "\n",
    "df\n",
    "\n",
    "pd.pivot_table(df, \n",
    "               index = [\"Size\", \"Type\"], # Define las filas de la tabla pivote con combinaciones únicas\n",
    "               columns = \"Location\", # Define las columnas de la tabla pivote\n",
    "               values = \"P2\", # Lista de valores que se esperan como resultado\n",
    "               aggfunc= \"mean\",\n",
    "               fill_value=0\n",
    "               )"
   ]
  },
  {
   "cell_type": "markdown",
   "id": "316e2acc",
   "metadata": {},
   "source": [
    "- df.count(axis = 0) -> cuenta todos los valores usando como referencia un eje\n",
    "- df.corr() -> valor de correlación (opt df.column)\n",
    "df."
   ]
  },
  {
   "cell_type": "markdown",
   "id": "1cad9bf6",
   "metadata": {},
   "source": [
    "# Búsqueda y gestión de datos faltantes"
   ]
  },
  {
   "cell_type": "code",
   "execution_count": null,
   "id": "a01d763f",
   "metadata": {},
   "outputs": [
    {
     "data": {
      "text/plain": [
       "'0.13.2'"
      ]
     },
     "execution_count": 21,
     "metadata": {},
     "output_type": "execute_result"
    }
   ],
   "source": [
    "import seaborn as sns\n",
    "sns.__version__"
   ]
  },
  {
   "cell_type": "markdown",
   "id": "105e9e0f",
   "metadata": {},
   "source": [
    "##### Búsqueda de NaN"
   ]
  },
  {
   "cell_type": "code",
   "execution_count": null,
   "id": "ba6d3228",
   "metadata": {},
   "outputs": [
    {
     "name": "stdout",
     "output_type": "stream",
     "text": [
      "deck\n",
      "NaN    688\n",
      "C       59\n",
      "B       47\n",
      "D       33\n",
      "E       32\n",
      "A       15\n",
      "F       13\n",
      "G        4\n",
      "Name: count, dtype: int64\n"
     ]
    }
   ],
   "source": [
    "dropna= False\n",
    "df = sns.load_dataset(\"titanic\")\n",
    "nan_deck = df[\"deck\"].value_counts(dropna=False) # Incluir NaN en la lista de conteos\n",
    "print(nan_deck)\n"
   ]
  },
  {
   "cell_type": "markdown",
   "id": "455d286b",
   "metadata": {},
   "source": [
    "Métodos importantes:\n",
    "- isnull() -> True si NaN else False\n",
    "- value_counts() -> \n",
    "- dropna(axis = 1, thresh = 500) -> Borra todas las columnas con 500 o más NaN\n",
    "- df[column].fillna(value) -> rellena todos los valores nulos de la columna con \"value\"\n",
    "- ffill() / bfill() -> rellena los NaN con los valores anteriores/posteriores\n",
    "- idmax() -> devuelve de un set el valor que se repite más veces\n",
    "- duplicated (subset= None, keep =\"first\") -> busca duplicados, dejando solo uno (modificar comp con args) (usar con drop)\n",
    "- drop_duplicates() -> lo de arriba pero para borrar\n",
    "- s1.astype(\"category\") -> cambia el tipo a categoría (equivalente a ennum) (puedes poner una cat personalizada)\n",
    "- s1.cut(s1, bins = 3, labels= [\"alto\", \"medio\", \"bajo\"]) -> discreatizar valores continuos en forma de (1, 2], (2,3], (3,4]\n",
    "- pd.get_dummies(s1, drop_first = True) -> (Pues eso). Drop first permite quitarte una columna que se usa por descarte "
   ]
  },
  {
   "cell_type": "markdown",
   "id": "0ba9d28d",
   "metadata": {},
   "source": [
    "Notas:\n",
    "- Con Data Feature Engeniering se puede hacer variables Dummy (Aad, regresión lineal)\n",
    "- Normalizar: Asegurarse de que los valores están entre ciertos límites"
   ]
  },
  {
   "cell_type": "code",
   "execution_count": null,
   "id": "77b5a862",
   "metadata": {},
   "outputs": [],
   "source": [
    "# 1: Filtrado de datos no deseados\n",
    "\n",
    "# 2: "
   ]
  }
 ],
 "metadata": {
  "kernelspec": {
   "display_name": "base",
   "language": "python",
   "name": "python3"
  },
  "language_info": {
   "codemirror_mode": {
    "name": "ipython",
    "version": 3
   },
   "file_extension": ".py",
   "mimetype": "text/x-python",
   "name": "python",
   "nbconvert_exporter": "python",
   "pygments_lexer": "ipython3",
   "version": "3.12.7"
  }
 },
 "nbformat": 4,
 "nbformat_minor": 5
}
