{
 "cells": [
  {
   "cell_type": "markdown",
   "id": "006b629d-0c21-4c1c-875a-569308ec12c2",
   "metadata": {},
   "source": [
    "# Ejercicios de la Librería Pandas"
   ]
  },
  {
   "cell_type": "code",
   "execution_count": 13,
   "id": "426b7be4",
   "metadata": {},
   "outputs": [],
   "source": [
    "import numpy as np\n",
    "import pandas as pd"
   ]
  },
  {
   "cell_type": "markdown",
   "id": "7b560e8a-be8c-4d37-929f-86567490257f",
   "metadata": {},
   "source": [
    "## Ejercicio 1\n",
    "\n",
    "Escribir un programa que pregunte al usuario por las ventas de un rango de años y muestre por pantalla una serie con los datos de las ventas indexada por los años, antes y después de aplicarles un descuento del 10%."
   ]
  },
  {
   "cell_type": "code",
   "execution_count": null,
   "id": "b0fdc51f-e66c-4f29-a43f-96b5d4fa8eb5",
   "metadata": {},
   "outputs": [],
   "source": [
    "inicial = 2020\n",
    "final = 2025\n",
    "datos = []\n",
    "\n",
    "for anyo in range(inicial, final+1):\n",
    "    datos.append(float(input(\"Dame el precio del anyo \")))\n",
    "\n",
    "s1 = pd.Series(datos, index = range(inicial, final + 1))\n",
    "\n",
    "\n"
   ]
  },
  {
   "cell_type": "markdown",
   "id": "ee1b5c01-d4a2-4047-ac47-686ff86f99c4",
   "metadata": {},
   "source": [
    "## Ejercicio 2\n",
    "\n",
    "Escribir una función que reciba un diccionario con las notas de los alumno de un curso y devuelva una serie con la nota mínima, la máxima, media y la desviación típica."
   ]
  },
  {
   "cell_type": "code",
   "execution_count": null,
   "id": "3c02634e-f232-43eb-bd03-061084f30d8e",
   "metadata": {},
   "outputs": [
    {
     "data": {
      "text/plain": [
       "min        3.500000\n",
       "max        8.200000\n",
       "des_tip    2.129945\n",
       "dtype: float64"
      ]
     },
     "execution_count": 13,
     "metadata": {},
     "output_type": "execute_result"
    }
   ],
   "source": [
    "prueba = {\"María\": 7.8, \"Nuria\":6.7, \"Pepe\": 8.2, \"Juan\":3.5}\n",
    "\n",
    "def ejerc2(dict):\n",
    "    s1 = pd.Series(prueba)\n",
    "\n",
    "    min = s1.min()\n",
    "    max = s1.max()\n",
    "    des_tip = s1.std()\n",
    "\n",
    "    s2 = pd.Series([min, max, des_tip], index  = [\"min\", \"max\", \"des_tip\"])\n",
    "\n",
    "    return s2\n",
    "\n",
    "ejerc2(prueba)"
   ]
  },
  {
   "cell_type": "markdown",
   "id": "f6f3db15-b0c6-488d-8744-22d6a88f04c6",
   "metadata": {},
   "source": [
    "## Ejercicio 3\n",
    "\n",
    "Escribir una función que reciba un diccionario con las notas de los alumnos de un curso y devuelva una serie con las notas de los alumnos aprobados ordenadas de mayor a menor."
   ]
  },
  {
   "cell_type": "code",
   "execution_count": 4,
   "id": "91d51c47-e785-47da-9c26-2886c979ac3d",
   "metadata": {},
   "outputs": [
    {
     "data": {
      "text/plain": [
       "Pepe     8.2\n",
       "María    7.8\n",
       "Nuria    6.7\n",
       "dtype: float64"
      ]
     },
     "execution_count": 4,
     "metadata": {},
     "output_type": "execute_result"
    }
   ],
   "source": [
    "prueba = {\"María\": 7.8, \"Nuria\":6.7, \"Pepe\": 8.2, \"Juan\":3.5}\n",
    "\n",
    "def ejerc2(dict):\n",
    "    s1 = pd.Series(prueba)\n",
    "    s1 = s1.sort_values(ascending = False )\n",
    "    s1 = s1.drop(s1[s1 < 5].index)\n",
    "\n",
    "    return s1\n",
    "\n",
    "ejerc2(prueba)"
   ]
  },
  {
   "cell_type": "markdown",
   "id": "7e5c0132-8e4a-4af3-9264-6706ec3fb447",
   "metadata": {},
   "source": [
    "## Ejercicio 4\n",
    "Escribir programa que genere y muestre por pantalla un DataFrame con los datos de la tabla siguiente:\n",
    "\n",
    "| Mes     | Ventas | Gastos |\n",
    "|---------|-------:|-------:|\n",
    "| Enero   |  30500 |  22000 |\n",
    "| Febrero |  35600 |  23400 |\n",
    "| Marzo   |  28300 |  18100 |\n",
    "| Abril   |  33900 |  20700 |"
   ]
  },
  {
   "cell_type": "code",
   "execution_count": 6,
   "id": "d8140595-9904-4f64-be2f-2a10f3b65149",
   "metadata": {},
   "outputs": [
    {
     "data": {
      "text/html": [
       "<div>\n",
       "<style scoped>\n",
       "    .dataframe tbody tr th:only-of-type {\n",
       "        vertical-align: middle;\n",
       "    }\n",
       "\n",
       "    .dataframe tbody tr th {\n",
       "        vertical-align: top;\n",
       "    }\n",
       "\n",
       "    .dataframe thead th {\n",
       "        text-align: right;\n",
       "    }\n",
       "</style>\n",
       "<table border=\"1\" class=\"dataframe\">\n",
       "  <thead>\n",
       "    <tr style=\"text-align: right;\">\n",
       "      <th></th>\n",
       "      <th>Mes</th>\n",
       "      <th>Ventas</th>\n",
       "      <th>Gastos</th>\n",
       "    </tr>\n",
       "  </thead>\n",
       "  <tbody>\n",
       "    <tr>\n",
       "      <th>0</th>\n",
       "      <td>Enero</td>\n",
       "      <td>30500</td>\n",
       "      <td>22000</td>\n",
       "    </tr>\n",
       "    <tr>\n",
       "      <th>1</th>\n",
       "      <td>Febrero</td>\n",
       "      <td>35600</td>\n",
       "      <td>23400</td>\n",
       "    </tr>\n",
       "    <tr>\n",
       "      <th>2</th>\n",
       "      <td>Marzo</td>\n",
       "      <td>28300</td>\n",
       "      <td>18100</td>\n",
       "    </tr>\n",
       "    <tr>\n",
       "      <th>3</th>\n",
       "      <td>Abril</td>\n",
       "      <td>33900</td>\n",
       "      <td>20700</td>\n",
       "    </tr>\n",
       "  </tbody>\n",
       "</table>\n",
       "</div>"
      ],
      "text/plain": [
       "       Mes  Ventas  Gastos\n",
       "0    Enero   30500   22000\n",
       "1  Febrero   35600   23400\n",
       "2    Marzo   28300   18100\n",
       "3    Abril   33900   20700"
      ]
     },
     "execution_count": 6,
     "metadata": {},
     "output_type": "execute_result"
    }
   ],
   "source": [
    "df4 = pd.DataFrame({\n",
    "    'Mes': [\"Enero\", \"Febrero\", \"Marzo\", \"Abril\"],\n",
    "    'Ventas':[30500,35600,28300, 33900],\n",
    "    'Gastos':[22000,23400,18100,20700]\n",
    "    \n",
    "})\n",
    "\n",
    "df4"
   ]
  },
  {
   "cell_type": "markdown",
   "id": "50947e43-ad78-4143-9ff3-350d714bd1bd",
   "metadata": {},
   "source": [
    "## Ejercicio 5\n",
    "\n",
    "Escribir una función que reciba un DataFrame con el formato del ejercicio anterior, una lista de meses, y devuelva el balance (ventas - gastos) total en los meses indicados."
   ]
  },
  {
   "cell_type": "code",
   "execution_count": null,
   "id": "7a49a573-6a68-4202-b6cc-4b8958d534e6",
   "metadata": {},
   "outputs": [
    {
     "data": {
      "text/plain": [
       "<bound method Series.sum of 0     8500\n",
       "1    12200\n",
       "2    10200\n",
       "3    13200\n",
       "Name: balance, dtype: int64>"
      ]
     },
     "execution_count": 21,
     "metadata": {},
     "output_type": "execute_result"
    }
   ],
   "source": [
    "df4[\"balance\"] = df4[\"Ventas\"] - df4[\"Gastos\"]\n",
    "df4[\"balance\"].sum\n",
    "\n",
    "\n",
    "# def Ejerc5(df, meses):"
   ]
  },
  {
   "cell_type": "markdown",
   "id": "253086fa-e532-48d6-bad5-44cec67a6329",
   "metadata": {},
   "source": [
    "## Ejercicio 6\n",
    "\n",
    "El fichero [cotizacion.csv](https://aprendeconalf.es/docencia/python/ejercicios/soluciones/pandas/cotizacion.csv) contiene las cotizaciones de las empresas del IBEX35 con las siguientes columnas: nombre (nombre de la empresa), Final (precio de la acción al cierre de bolsa), Máximo (precio máximo de la acción durante la jornada), Mínimo (precio mínimo de la acción durante la jornada), volumen (Volumen al cierre de bolsa), Efectivo (capitalización al cierre en miles de euros). Construir una función que construya un DataFrame a partir del un fichero con el formato anterior y devuelva otro DataFrame con el mínimo, el máximo y la media de dada columna."
   ]
  },
  {
   "cell_type": "code",
   "execution_count": 30,
   "id": "68d64fcc-7977-420c-92c0-e046d4f8025b",
   "metadata": {},
   "outputs": [
    {
     "data": {
      "text/html": [
       "<div>\n",
       "<style scoped>\n",
       "    .dataframe tbody tr th:only-of-type {\n",
       "        vertical-align: middle;\n",
       "    }\n",
       "\n",
       "    .dataframe tbody tr th {\n",
       "        vertical-align: top;\n",
       "    }\n",
       "\n",
       "    .dataframe thead th {\n",
       "        text-align: right;\n",
       "    }\n",
       "</style>\n",
       "<table border=\"1\" class=\"dataframe\">\n",
       "  <thead>\n",
       "    <tr style=\"text-align: right;\">\n",
       "      <th></th>\n",
       "      <th>Min</th>\n",
       "      <th>Max</th>\n",
       "      <th>Media</th>\n",
       "    </tr>\n",
       "  </thead>\n",
       "  <tbody>\n",
       "    <tr>\n",
       "      <th>Final</th>\n",
       "      <td>1.0165</td>\n",
       "      <td>19705.00</td>\n",
       "      <td>2.796769e+03</td>\n",
       "    </tr>\n",
       "    <tr>\n",
       "      <th>Máximo</th>\n",
       "      <td>4.0675</td>\n",
       "      <td>19875.00</td>\n",
       "      <td>3.170113e+03</td>\n",
       "    </tr>\n",
       "    <tr>\n",
       "      <th>Mínimo</th>\n",
       "      <td>1.0165</td>\n",
       "      <td>19675.00</td>\n",
       "      <td>3.136510e+03</td>\n",
       "    </tr>\n",
       "    <tr>\n",
       "      <th>Volumen</th>\n",
       "      <td>1221.0000</td>\n",
       "      <td>36129692.00</td>\n",
       "      <td>4.252279e+06</td>\n",
       "    </tr>\n",
       "    <tr>\n",
       "      <th>Efectivo</th>\n",
       "      <td>2343.0900</td>\n",
       "      <td>145765.44</td>\n",
       "      <td>3.176778e+04</td>\n",
       "    </tr>\n",
       "  </tbody>\n",
       "</table>\n",
       "</div>"
      ],
      "text/plain": [
       "                Min          Max         Media\n",
       "Final        1.0165     19705.00  2.796769e+03\n",
       "Máximo       4.0675     19875.00  3.170113e+03\n",
       "Mínimo       1.0165     19675.00  3.136510e+03\n",
       "Volumen   1221.0000  36129692.00  4.252279e+06\n",
       "Efectivo  2343.0900    145765.44  3.176778e+04"
      ]
     },
     "execution_count": 30,
     "metadata": {},
     "output_type": "execute_result"
    }
   ],
   "source": [
    "df = pd.read_csv(\"../Utils_IA/cotizacion.csv\", thousands=\".\", sep=\";\", decimal=\",\", index_col = 0)\n",
    "pd.DataFrame({  \"Min\":df.min(), \"Max\":df.max(), \"Media\": df.mean()})"
   ]
  },
  {
   "cell_type": "markdown",
   "id": "8abd0d8d-8e80-40e4-bfdd-f652858cd733",
   "metadata": {},
   "source": [
    "## Ejercicio 7\n",
    "\n",
    "El fichero [titanic.csv](https://aprendeconalf.es/docencia/python/ejercicios/soluciones/pandas/titanic.csv) contiene información sobre los pasajeros del Titanic. Escribir un programa con los siguientes requisitos:\n",
    "\n",
    "1. Generar un DataFrame con los datos del fichero.\n",
    "1. Mostrar por pantalla las dimensiones del DataFrame, el número de datos que contiene, los nombres de sus columnas y filas, los tipos de datos de las columnas, las 10 primeras filas y las 10 últimas filas\n",
    "1. Mostrar por pantalla los datos del pasajero con identificador 148.\n",
    "1. Mostrar por pantalla las filas pares del DataFrame.\n",
    "1. Mostrar por pantalla los nombres de las personas que iban en primera clase ordenadas alfabéticamente.\n",
    "1. Mostrar por pantalla el porcentaje de personas que sobrevivieron y murieron.\n",
    "1. Mostrar por pantalla el porcentaje de personas que sobrevivieron en cada clase.\n",
    "1. Eliminar del DataFrame los pasajeros con edad desconocida.\n",
    "1. Mostrar por pantalla la edad media de las mujeres que viajaban en cada clase.\n",
    "1. Añadir una nueva columna booleana para ver si el pasajero era menor de edad o no.\n",
    "1. Mostrar por pantalla el porcentaje de menores y mayores de edad que sobrevivieron en cada clase."
   ]
  },
  {
   "cell_type": "code",
   "execution_count": null,
   "id": "575ed5f9-bdc3-4f24-b928-6f6094f43a99",
   "metadata": {},
   "outputs": [
    {
     "name": "stdout",
     "output_type": "stream",
     "text": [
      "Ejercicio 1\n",
      "             Survived  Pclass  \\\n",
      "PassengerId                     \n",
      "1                   0       3   \n",
      "2                   1       1   \n",
      "3                   1       3   \n",
      "4                   1       1   \n",
      "5                   0       3   \n",
      "...               ...     ...   \n",
      "887                 0       2   \n",
      "888                 1       1   \n",
      "889                 0       3   \n",
      "890                 1       1   \n",
      "891                 0       3   \n",
      "\n",
      "                                                          Name     Sex   Age  \\\n",
      "PassengerId                                                                    \n",
      "1                                      Braund, Mr. Owen Harris    male  22.0   \n",
      "2            Cumings, Mrs. John Bradley (Florence Briggs Th...  female  38.0   \n",
      "3                                       Heikkinen, Miss. Laina  female  26.0   \n",
      "4                 Futrelle, Mrs. Jacques Heath (Lily May Peel)  female  35.0   \n",
      "5                                     Allen, Mr. William Henry    male  35.0   \n",
      "...                                                        ...     ...   ...   \n",
      "887                                      Montvila, Rev. Juozas    male  27.0   \n",
      "888                               Graham, Miss. Margaret Edith  female  19.0   \n",
      "889                   Johnston, Miss. Catherine Helen \"Carrie\"  female   NaN   \n",
      "890                                      Behr, Mr. Karl Howell    male  26.0   \n",
      "891                                        Dooley, Mr. Patrick    male  32.0   \n",
      "\n",
      "             SibSp  Parch            Ticket     Fare Cabin Embarked  \n",
      "PassengerId                                                          \n",
      "1                1      0         A/5 21171   7.2500   NaN        S  \n",
      "2                1      0          PC 17599  71.2833   C85        C  \n",
      "3                0      0  STON/O2. 3101282   7.9250   NaN        S  \n",
      "4                1      0            113803  53.1000  C123        S  \n",
      "5                0      0            373450   8.0500   NaN        S  \n",
      "...            ...    ...               ...      ...   ...      ...  \n",
      "887              0      0            211536  13.0000   NaN        S  \n",
      "888              0      0            112053  30.0000   B42        S  \n",
      "889              1      2        W./C. 6607  23.4500   NaN        S  \n",
      "890              0      0            111369  30.0000  C148        C  \n",
      "891              0      0            370376   7.7500   NaN        Q  \n",
      "\n",
      "[891 rows x 11 columns]\n",
      "(891, 11)\n",
      "Survived      int64\n",
      "Pclass        int64\n",
      "Name         object\n",
      "Sex          object\n",
      "Age         float64\n",
      "SibSp         int64\n",
      "Parch         int64\n",
      "Ticket       object\n",
      "Fare        float64\n",
      "Cabin        object\n",
      "Embarked     object\n",
      "dtype: object\n",
      "Ejercicio 2\n",
      "             Survived  Pclass  \\\n",
      "PassengerId                     \n",
      "1                   0       3   \n",
      "2                   1       1   \n",
      "3                   1       3   \n",
      "4                   1       1   \n",
      "5                   0       3   \n",
      "6                   0       3   \n",
      "7                   0       1   \n",
      "8                   0       3   \n",
      "9                   1       3   \n",
      "10                  1       2   \n",
      "\n",
      "                                                          Name     Sex   Age  \\\n",
      "PassengerId                                                                    \n",
      "1                                      Braund, Mr. Owen Harris    male  22.0   \n",
      "2            Cumings, Mrs. John Bradley (Florence Briggs Th...  female  38.0   \n",
      "3                                       Heikkinen, Miss. Laina  female  26.0   \n",
      "4                 Futrelle, Mrs. Jacques Heath (Lily May Peel)  female  35.0   \n",
      "5                                     Allen, Mr. William Henry    male  35.0   \n",
      "6                                             Moran, Mr. James    male   NaN   \n",
      "7                                      McCarthy, Mr. Timothy J    male  54.0   \n",
      "8                               Palsson, Master. Gosta Leonard    male   2.0   \n",
      "9            Johnson, Mrs. Oscar W (Elisabeth Vilhelmina Berg)  female  27.0   \n",
      "10                         Nasser, Mrs. Nicholas (Adele Achem)  female  14.0   \n",
      "\n",
      "             SibSp  Parch            Ticket     Fare Cabin Embarked  \n",
      "PassengerId                                                          \n",
      "1                1      0         A/5 21171   7.2500   NaN        S  \n",
      "2                1      0          PC 17599  71.2833   C85        C  \n",
      "3                0      0  STON/O2. 3101282   7.9250   NaN        S  \n",
      "4                1      0            113803  53.1000  C123        S  \n",
      "5                0      0            373450   8.0500   NaN        S  \n",
      "6                0      0            330877   8.4583   NaN        Q  \n",
      "7                0      0             17463  51.8625   E46        S  \n",
      "8                3      1            349909  21.0750   NaN        S  \n",
      "9                0      2            347742  11.1333   NaN        S  \n",
      "10               1      0            237736  30.0708   NaN        C  \n",
      "             Survived  Pclass  \\\n",
      "PassengerId                     \n",
      "1                   0       3   \n",
      "2                   1       1   \n",
      "3                   1       3   \n",
      "4                   1       1   \n",
      "5                   0       3   \n",
      "6                   0       3   \n",
      "7                   0       1   \n",
      "8                   0       3   \n",
      "9                   1       3   \n",
      "10                  1       2   \n",
      "\n",
      "                                                          Name     Sex   Age  \\\n",
      "PassengerId                                                                    \n",
      "1                                      Braund, Mr. Owen Harris    male  22.0   \n",
      "2            Cumings, Mrs. John Bradley (Florence Briggs Th...  female  38.0   \n",
      "3                                       Heikkinen, Miss. Laina  female  26.0   \n",
      "4                 Futrelle, Mrs. Jacques Heath (Lily May Peel)  female  35.0   \n",
      "5                                     Allen, Mr. William Henry    male  35.0   \n",
      "6                                             Moran, Mr. James    male   NaN   \n",
      "7                                      McCarthy, Mr. Timothy J    male  54.0   \n",
      "8                               Palsson, Master. Gosta Leonard    male   2.0   \n",
      "9            Johnson, Mrs. Oscar W (Elisabeth Vilhelmina Berg)  female  27.0   \n",
      "10                         Nasser, Mrs. Nicholas (Adele Achem)  female  14.0   \n",
      "\n",
      "             SibSp  Parch            Ticket     Fare Cabin Embarked  \n",
      "PassengerId                                                          \n",
      "1                1      0         A/5 21171   7.2500   NaN        S  \n",
      "2                1      0          PC 17599  71.2833   C85        C  \n",
      "3                0      0  STON/O2. 3101282   7.9250   NaN        S  \n",
      "4                1      0            113803  53.1000  C123        S  \n",
      "5                0      0            373450   8.0500   NaN        S  \n",
      "6                0      0            330877   8.4583   NaN        Q  \n",
      "7                0      0             17463  51.8625   E46        S  \n",
      "8                3      1            349909  21.0750   NaN        S  \n",
      "9                0      2            347742  11.1333   NaN        S  \n",
      "10               1      0            237736  30.0708   NaN        C  \n",
      "Ejercicio 3\n",
      "Survived                                   0\n",
      "Pclass                                     3\n",
      "Name        Ford, Miss. Robina Maggie \"Ruby\"\n",
      "Sex                                   female\n",
      "Age                                      9.0\n",
      "SibSp                                      2\n",
      "Parch                                      2\n",
      "Ticket                            W./C. 6608\n",
      "Fare                                  34.375\n",
      "Cabin                                    NaN\n",
      "Embarked                                   S\n",
      "Name: 148, dtype: object\n",
      "Ejercicio 4\n",
      "Ejercio 6\n",
      "Sobrevivieron 38.38383838383838\n"
     ]
    }
   ],
   "source": [
    "df = pd.read_csv(\"../Utils_IA/titanic.csv\", index_col = 0)\n",
    "\n",
    "print(\"Ejercicio 1\")\n",
    "print(df)\n",
    "print(df.shape)\n",
    "print(df.dtypes)\n",
    "\n",
    "print(\"Ejercicio 2\")\n",
    "print(df.head(10))\n",
    "print(df.head(10))\n",
    "\n",
    "print(\"Ejercicio 3\")\n",
    "print(df.loc[148])\n",
    "\n",
    "print(\"Ejercicio 4\")\n",
    "\n",
    "print(\"Ejercio 6\")\n",
    "print(\"Sobrevivieron\", df.Survived.value_counts(normalize= True)[1] * 100)\n",
    "\n"
   ]
  }
 ],
 "metadata": {
  "kernelspec": {
   "display_name": "base",
   "language": "python",
   "name": "python3"
  },
  "language_info": {
   "codemirror_mode": {
    "name": "ipython",
    "version": 3
   },
   "file_extension": ".py",
   "mimetype": "text/x-python",
   "name": "python",
   "nbconvert_exporter": "python",
   "pygments_lexer": "ipython3",
   "version": "3.12.7"
  }
 },
 "nbformat": 4,
 "nbformat_minor": 5
}
