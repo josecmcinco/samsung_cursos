{
 "cells": [
  {
   "cell_type": "markdown",
   "id": "006b629d-0c21-4c1c-875a-569308ec12c2",
   "metadata": {},
   "source": [
    "# Ejercicios de la Librería Pandas"
   ]
  },
  {
   "cell_type": "code",
   "execution_count": 1,
   "id": "426b7be4",
   "metadata": {},
   "outputs": [],
   "source": [
    "import numpy as np\n",
    "import pandas as pd"
   ]
  },
  {
   "cell_type": "markdown",
   "id": "7b560e8a-be8c-4d37-929f-86567490257f",
   "metadata": {},
   "source": [
    "## Ejercicio 1\n",
    "\n",
    "Escribir un programa que pregunte al usuario por las ventas de un rango de años y muestre por pantalla una serie con los datos de las ventas indexada por los años, antes y después de aplicarles un descuento del 10%."
   ]
  },
  {
   "cell_type": "code",
   "execution_count": null,
   "id": "b0fdc51f-e66c-4f29-a43f-96b5d4fa8eb5",
   "metadata": {},
   "outputs": [],
   "source": [
    "inicial = 2020\n",
    "final = 2025\n",
    "datos = []\n",
    "\n",
    "for anyo in range(inicial, final+1):\n",
    "    datos.append(float(input(\"Dame el precio del anyo \")))\n",
    "\n",
    "s1 = pd.Series(datos, index = range(inicial, final + 1))\n",
    "\n",
    "\n"
   ]
  },
  {
   "cell_type": "markdown",
   "id": "ee1b5c01-d4a2-4047-ac47-686ff86f99c4",
   "metadata": {},
   "source": [
    "## Ejercicio 2\n",
    "\n",
    "Escribir una función que reciba un diccionario con las notas de los alumno de un curso y devuelva una serie con la nota mínima, la máxima, media y la desviación típica."
   ]
  },
  {
   "cell_type": "code",
   "execution_count": null,
   "id": "3c02634e-f232-43eb-bd03-061084f30d8e",
   "metadata": {},
   "outputs": [
    {
     "data": {
      "text/plain": [
       "min        3.500000\n",
       "max        8.200000\n",
       "des_tip    2.129945\n",
       "dtype: float64"
      ]
     },
     "execution_count": 13,
     "metadata": {},
     "output_type": "execute_result"
    }
   ],
   "source": [
    "prueba = {\"María\": 7.8, \"Nuria\":6.7, \"Pepe\": 8.2, \"Juan\":3.5}\n",
    "\n",
    "def ejerc2(dict):\n",
    "    s1 = pd.Series(prueba)\n",
    "\n",
    "    min = s1.min()\n",
    "    max = s1.max()\n",
    "    des_tip = s1.std()\n",
    "\n",
    "    s2 = pd.Series([min, max, des_tip], index  = [\"min\", \"max\", \"des_tip\"])\n",
    "\n",
    "    return s2\n",
    "\n",
    "ejerc2(prueba)"
   ]
  },
  {
   "cell_type": "markdown",
   "id": "f6f3db15-b0c6-488d-8744-22d6a88f04c6",
   "metadata": {},
   "source": [
    "\n",
    "##  Ejercicio 3\n",
    "\n",
    "Escribir una función que reciba un diccionario con las notas de los alumnos de un curso y devuelva una serie con las notas de los alumnos aprobados ordenadas de mayor a menor."
   ]
  },
  {
   "cell_type": "code",
   "execution_count": null,
   "id": "91d51c47-e785-47da-9c26-2886c979ac3d",
   "metadata": {},
   "outputs": [
    {
     "data": {
      "text/plain": [
       "Pepe     8.2\n",
       "María    7.8\n",
       "Nuria    6.7\n",
       "Juan     3.5\n",
       "dtype: float64"
      ]
     },
     "execution_count": 29,
     "metadata": {},
     "output_type": "execute_result"
    }
   ],
   "source": [
    "prueba = {\"María\": 7.8, \"Nuria\":6.7, \"Pepe\": 8.2, \"Juan\":3.5}\n",
    "\n",
    "def ejerc2(dict):\n",
    "    s1 = pd.Series(prueba)\n",
    "    s1.filter()\n",
    "    s1 = s1.sort_values(ascending = False )\n",
    "\n",
    "    return s1\n",
    "\n",
    "ejerc2(prueba)"
   ]
  },
  {
   "cell_type": "markdown",
   "id": "7e5c0132-8e4a-4af3-9264-6706ec3fb447",
   "metadata": {},
   "source": [
    "## Ejercicio 4\n",
    "Escribir programa que genere y muestre por pantalla un DataFrame con los datos de la tabla siguiente:\n",
    "\n",
    "| Mes     | Ventas | Gastos |\n",
    "|---------|-------:|-------:|\n",
    "| Enero   |  30500 |  22000 |\n",
    "| Febrero |  35600 |  23400 |\n",
    "| Marzo   |  28300 |  18100 |\n",
    "| Abril   |  33900 |  20700 |"
   ]
  },
  {
   "cell_type": "code",
   "execution_count": null,
   "id": "d8140595-9904-4f64-be2f-2a10f3b65149",
   "metadata": {},
   "outputs": [],
   "source": []
  },
  {
   "cell_type": "markdown",
   "id": "50947e43-ad78-4143-9ff3-350d714bd1bd",
   "metadata": {},
   "source": [
    "## Ejercicio 5\n",
    "\n",
    "Escribir una función que reciba un DataFrame con el formato del ejercicio anterior, una lista de meses, y devuelva el balance (ventas - gastos) total en los meses indicados."
   ]
  },
  {
   "cell_type": "code",
   "execution_count": null,
   "id": "7a49a573-6a68-4202-b6cc-4b8958d534e6",
   "metadata": {},
   "outputs": [],
   "source": []
  },
  {
   "cell_type": "markdown",
   "id": "253086fa-e532-48d6-bad5-44cec67a6329",
   "metadata": {},
   "source": [
    "## Ejercicio 6\n",
    "\n",
    "El fichero [cotizacion.csv](https://aprendeconalf.es/docencia/python/ejercicios/soluciones/pandas/cotizacion.csv) contiene las cotizaciones de las empresas del IBEX35 con las siguientes columnas: nombre (nombre de la empresa), Final (precio de la acción al cierre de bolsa), Máximo (precio máximo de la acción durante la jornada), Mínimo (precio mínimo de la acción durante la jornada), volumen (Volumen al cierre de bolsa), Efectivo (capitalización al cierre en miles de euros). Construir una función que construya un DataFrame a partir del un fichero con el formato anterior y devuelva otro DataFrame con el mínimo, el máximo y la media de dada columna."
   ]
  },
  {
   "cell_type": "code",
   "execution_count": null,
   "id": "68d64fcc-7977-420c-92c0-e046d4f8025b",
   "metadata": {},
   "outputs": [],
   "source": []
  },
  {
   "cell_type": "markdown",
   "id": "8abd0d8d-8e80-40e4-bfdd-f652858cd733",
   "metadata": {},
   "source": [
    "## Ejercicio 7\n",
    "\n",
    "El fichero [titanic.csv](https://aprendeconalf.es/docencia/python/ejercicios/soluciones/pandas/titanic.csv) contiene información sobre los pasajeros del Titanic. Escribir un programa con los siguientes requisitos:\n",
    "\n",
    "1. Generar un DataFrame con los datos del fichero.\n",
    "1. Mostrar por pantalla las dimensiones del DataFrame, el número de datos que contiene, los nombres de sus columnas y filas, los tipos de datos de las columnas, las 10 primeras filas y las 10 últimas filas\n",
    "1. Mostrar por pantalla los datos del pasajero con identificador 148.\n",
    "1. Mostrar por pantalla las filas pares del DataFrame.\n",
    "1. Mostrar por pantalla los nombres de las personas que iban en primera clase ordenadas alfabéticamente.\n",
    "1. Mostrar por pantalla el porcentaje de personas que sobrevivieron y murieron.\n",
    "1. Mostrar por pantalla el porcentaje de personas que sobrevivieron en cada clase.\n",
    "1. Eliminar del DataFrame los pasajeros con edad desconocida.\n",
    "1. Mostrar por pantalla la edad media de las mujeres que viajaban en cada clase.\n",
    "1. Añadir una nueva columna booleana para ver si el pasajero era menor de edad o no.\n",
    "1. Mostrar por pantalla el porcentaje de menores y mayores de edad que sobrevivieron en cada clase."
   ]
  },
  {
   "cell_type": "code",
   "execution_count": null,
   "id": "575ed5f9-bdc3-4f24-b928-6f6094f43a99",
   "metadata": {},
   "outputs": [],
   "source": []
  }
 ],
 "metadata": {
  "kernelspec": {
   "display_name": "base",
   "language": "python",
   "name": "python3"
  },
  "language_info": {
   "codemirror_mode": {
    "name": "ipython",
    "version": 3
   },
   "file_extension": ".py",
   "mimetype": "text/x-python",
   "name": "python",
   "nbconvert_exporter": "python",
   "pygments_lexer": "ipython3",
   "version": "3.12.7"
  }
 },
 "nbformat": 4,
 "nbformat_minor": 5
}
