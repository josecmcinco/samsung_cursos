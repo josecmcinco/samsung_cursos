{
 "cells": [
  {
   "cell_type": "code",
   "execution_count": 1,
   "id": "218b9341",
   "metadata": {},
   "outputs": [
    {
     "data": {
      "text/plain": [
       "[1, 2, 3, ['hola'], ['hola']]"
      ]
     },
     "execution_count": 1,
     "metadata": {},
     "output_type": "execute_result"
    }
   ],
   "source": [
    "objeto = [\"hola\"]\n",
    "lista = [1,2,3,objeto,objeto]\n",
    "lista"
   ]
  },
  {
   "cell_type": "code",
   "execution_count": 2,
   "id": "6f4b659b",
   "metadata": {},
   "outputs": [
    {
     "data": {
      "text/plain": [
       "['hola', 'mundo']"
      ]
     },
     "execution_count": 2,
     "metadata": {},
     "output_type": "execute_result"
    }
   ],
   "source": [
    "objeto.append(\"mundo\")\n",
    "objeto"
   ]
  },
  {
   "cell_type": "code",
   "execution_count": 3,
   "id": "177d6ced",
   "metadata": {},
   "outputs": [
    {
     "data": {
      "text/plain": [
       "[1, 2, 3, ['hola', 'mundo'], ['hola', 'mundo']]"
      ]
     },
     "execution_count": 3,
     "metadata": {},
     "output_type": "execute_result"
    }
   ],
   "source": [
    "lista"
   ]
  },
  {
   "cell_type": "code",
   "execution_count": 4,
   "id": "799b7424",
   "metadata": {},
   "outputs": [],
   "source": [
    "otro_objeto = ['hola','mundo']"
   ]
  },
  {
   "cell_type": "code",
   "execution_count": 5,
   "id": "f37fdd45",
   "metadata": {},
   "outputs": [
    {
     "data": {
      "text/plain": [
       "True"
      ]
     },
     "execution_count": 5,
     "metadata": {},
     "output_type": "execute_result"
    }
   ],
   "source": [
    "objeto == otro_objeto"
   ]
  },
  {
   "cell_type": "code",
   "execution_count": 6,
   "id": "6a7e76c2",
   "metadata": {},
   "outputs": [
    {
     "data": {
      "text/plain": [
       "1708720702400"
      ]
     },
     "execution_count": 6,
     "metadata": {},
     "output_type": "execute_result"
    }
   ],
   "source": [
    "id(objeto)"
   ]
  },
  {
   "cell_type": "code",
   "execution_count": 7,
   "id": "81721dd7",
   "metadata": {},
   "outputs": [
    {
     "data": {
      "text/plain": [
       "1708720400896"
      ]
     },
     "execution_count": 7,
     "metadata": {},
     "output_type": "execute_result"
    }
   ],
   "source": [
    "id(otro_objeto)"
   ]
  },
  {
   "cell_type": "code",
   "execution_count": 8,
   "id": "8378d891",
   "metadata": {},
   "outputs": [
    {
     "data": {
      "text/plain": [
       "False"
      ]
     },
     "execution_count": 8,
     "metadata": {},
     "output_type": "execute_result"
    }
   ],
   "source": [
    "objeto is otro_objeto"
   ]
  },
  {
   "cell_type": "code",
   "execution_count": 9,
   "id": "b7c04d99",
   "metadata": {},
   "outputs": [
    {
     "data": {
      "text/plain": [
       "True"
      ]
     },
     "execution_count": 9,
     "metadata": {},
     "output_type": "execute_result"
    }
   ],
   "source": [
    "objeto is lista[-1]"
   ]
  },
  {
   "cell_type": "code",
   "execution_count": 10,
   "id": "17de0d52",
   "metadata": {},
   "outputs": [
    {
     "data": {
      "text/plain": [
       "['h', 'o', 'l', 'a']"
      ]
     },
     "execution_count": 10,
     "metadata": {},
     "output_type": "execute_result"
    }
   ],
   "source": [
    "list(\"hola\")"
   ]
  },
  {
   "cell_type": "code",
   "execution_count": 11,
   "id": "d3f492b0",
   "metadata": {},
   "outputs": [
    {
     "data": {
      "text/plain": [
       "'aloh'"
      ]
     },
     "execution_count": 11,
     "metadata": {},
     "output_type": "execute_result"
    }
   ],
   "source": [
    "\"hola\"[::-1]"
   ]
  },
  {
   "cell_type": "code",
   "execution_count": 12,
   "id": "76602e3f",
   "metadata": {},
   "outputs": [
    {
     "data": {
      "text/plain": [
       "(1, 2, 3, 4)"
      ]
     },
     "execution_count": 12,
     "metadata": {},
     "output_type": "execute_result"
    }
   ],
   "source": [
    "(1,2) + (3,4)"
   ]
  },
  {
   "cell_type": "code",
   "execution_count": 13,
   "id": "1b54afb4",
   "metadata": {},
   "outputs": [
    {
     "data": {
      "text/plain": [
       "[1, 2, 3, 4]"
      ]
     },
     "execution_count": 13,
     "metadata": {},
     "output_type": "execute_result"
    }
   ],
   "source": [
    "[1,2] + [3,4]"
   ]
  },
  {
   "cell_type": "code",
   "execution_count": 14,
   "id": "f1b90038",
   "metadata": {},
   "outputs": [
    {
     "ename": "TypeError",
     "evalue": "can only concatenate tuple (not \"list\") to tuple",
     "output_type": "error",
     "traceback": [
      "\u001b[1;31m---------------------------------------------------------------------------\u001b[0m",
      "\u001b[1;31mTypeError\u001b[0m                                 Traceback (most recent call last)",
      "Input \u001b[1;32mIn [14]\u001b[0m, in \u001b[0;36m<cell line: 1>\u001b[1;34m()\u001b[0m\n\u001b[1;32m----> 1\u001b[0m \u001b[43m(\u001b[49m\u001b[38;5;241;43m1\u001b[39;49m\u001b[43m,\u001b[49m\u001b[38;5;241;43m2\u001b[39;49m\u001b[43m)\u001b[49m\u001b[43m \u001b[49m\u001b[38;5;241;43m+\u001b[39;49m\u001b[43m \u001b[49m\u001b[43m[\u001b[49m\u001b[38;5;241;43m3\u001b[39;49m\u001b[43m,\u001b[49m\u001b[38;5;241;43m4\u001b[39;49m\u001b[43m]\u001b[49m\n",
      "\u001b[1;31mTypeError\u001b[0m: can only concatenate tuple (not \"list\") to tuple"
     ]
    }
   ],
   "source": [
    "(1,2) + [3,4]"
   ]
  },
  {
   "cell_type": "code",
   "execution_count": 16,
   "id": "37db335f",
   "metadata": {},
   "outputs": [
    {
     "data": {
      "text/plain": [
       "(1, 2, 3, 4)"
      ]
     },
     "execution_count": 16,
     "metadata": {},
     "output_type": "execute_result"
    }
   ],
   "source": [
    "a = (1,2)\n",
    "b = [3,4]\n",
    "a+tuple(b)"
   ]
  },
  {
   "cell_type": "code",
   "execution_count": 17,
   "id": "1f31d57b",
   "metadata": {},
   "outputs": [
    {
     "data": {
      "text/plain": [
       "[1, 2, 3, 4]"
      ]
     },
     "execution_count": 17,
     "metadata": {},
     "output_type": "execute_result"
    }
   ],
   "source": [
    "list(a)+b"
   ]
  },
  {
   "cell_type": "code",
   "execution_count": 18,
   "id": "69393873",
   "metadata": {},
   "outputs": [
    {
     "data": {
      "text/plain": [
       "[3, 4]"
      ]
     },
     "execution_count": 18,
     "metadata": {},
     "output_type": "execute_result"
    }
   ],
   "source": [
    "b"
   ]
  },
  {
   "cell_type": "code",
   "execution_count": 19,
   "id": "52d4452e",
   "metadata": {},
   "outputs": [
    {
     "data": {
      "text/plain": [
       "(3, 4)"
      ]
     },
     "execution_count": 19,
     "metadata": {},
     "output_type": "execute_result"
    }
   ],
   "source": [
    "tuple(b)"
   ]
  },
  {
   "cell_type": "code",
   "execution_count": 20,
   "id": "445dc8a9",
   "metadata": {},
   "outputs": [
    {
     "data": {
      "text/plain": [
       "('h', 'o', 'l', 'a')"
      ]
     },
     "execution_count": 20,
     "metadata": {},
     "output_type": "execute_result"
    }
   ],
   "source": [
    "tuple(\"hola\")"
   ]
  },
  {
   "cell_type": "code",
   "execution_count": 21,
   "id": "28940251",
   "metadata": {},
   "outputs": [
    {
     "data": {
      "text/plain": [
       "(0, 1, 2, 3, 4)"
      ]
     },
     "execution_count": 21,
     "metadata": {},
     "output_type": "execute_result"
    }
   ],
   "source": [
    "tuple(range(5))"
   ]
  },
  {
   "cell_type": "code",
   "execution_count": 22,
   "id": "81331203",
   "metadata": {},
   "outputs": [
    {
     "data": {
      "text/plain": [
       "('a', 'b', 'c', 'd', 'e')"
      ]
     },
     "execution_count": 22,
     "metadata": {},
     "output_type": "execute_result"
    }
   ],
   "source": [
    "t2 = ('a', 'b', 'c')\n",
    "t3 = ('d', 'e')\n",
    "t2+t3"
   ]
  },
  {
   "cell_type": "code",
   "execution_count": 23,
   "id": "af5e271c",
   "metadata": {},
   "outputs": [
    {
     "name": "stdout",
     "output_type": "stream",
     "text": [
      "[('a', 'b', 'c', 'd', 'e')]\n"
     ]
    }
   ],
   "source": [
    "print([ t2+t3 ])"
   ]
  },
  {
   "cell_type": "code",
   "execution_count": 24,
   "id": "3425fc21",
   "metadata": {},
   "outputs": [
    {
     "name": "stdout",
     "output_type": "stream",
     "text": [
      "['a', 'b', 'c', 'd', 'e']\n"
     ]
    }
   ],
   "source": [
    "print( list(t2+t3) )"
   ]
  },
  {
   "cell_type": "code",
   "execution_count": 25,
   "id": "f29d3ad3",
   "metadata": {},
   "outputs": [
    {
     "name": "stdout",
     "output_type": "stream",
     "text": [
      "['hola']\n"
     ]
    }
   ],
   "source": [
    "print( [ 'hola' ] )"
   ]
  },
  {
   "cell_type": "code",
   "execution_count": 26,
   "id": "d6853c42",
   "metadata": {},
   "outputs": [
    {
     "name": "stdout",
     "output_type": "stream",
     "text": [
      "['h', 'o', 'l', 'a']\n"
     ]
    }
   ],
   "source": [
    "print( list(\"hola\") )"
   ]
  },
  {
   "cell_type": "code",
   "execution_count": 27,
   "id": "6170300d",
   "metadata": {},
   "outputs": [
    {
     "data": {
      "text/plain": [
       "[5]"
      ]
     },
     "execution_count": 27,
     "metadata": {},
     "output_type": "execute_result"
    }
   ],
   "source": [
    "[5]"
   ]
  },
  {
   "cell_type": "code",
   "execution_count": 28,
   "id": "4928d68c",
   "metadata": {},
   "outputs": [
    {
     "ename": "TypeError",
     "evalue": "'int' object is not iterable",
     "output_type": "error",
     "traceback": [
      "\u001b[1;31m---------------------------------------------------------------------------\u001b[0m",
      "\u001b[1;31mTypeError\u001b[0m                                 Traceback (most recent call last)",
      "Input \u001b[1;32mIn [28]\u001b[0m, in \u001b[0;36m<cell line: 1>\u001b[1;34m()\u001b[0m\n\u001b[1;32m----> 1\u001b[0m \u001b[38;5;28;43mlist\u001b[39;49m\u001b[43m(\u001b[49m\u001b[38;5;241;43m5\u001b[39;49m\u001b[43m)\u001b[49m\n",
      "\u001b[1;31mTypeError\u001b[0m: 'int' object is not iterable"
     ]
    }
   ],
   "source": [
    "list(5)"
   ]
  },
  {
   "cell_type": "code",
   "execution_count": 33,
   "id": "8f944f13",
   "metadata": {},
   "outputs": [
    {
     "name": "stdout",
     "output_type": "stream",
     "text": [
      "Daily sales record (100, 121, 120, 130, 140, 120, 122, 123, 190, 125)\n",
      "In the past 10 days, 3 days had reduced sales compared to previous day\n"
     ]
    }
   ],
   "source": [
    "dsr = (100,121,120,130,140,120,122,123,190,125)\n",
    "print('Daily sales record',dsr)\n",
    "count = 0\n",
    "\n",
    "# COMPLETAR\n",
    "for i in range(1, len(dsr)):\n",
    "    if dsr[i-1] > dsr[i]:\n",
    "        count += 1\n",
    "\n",
    "print(f'In the past {len(dsr)} days, {count} days had reduced sales compared to previous day')"
   ]
  },
  {
   "cell_type": "code",
   "execution_count": 34,
   "id": "d06b7ace",
   "metadata": {},
   "outputs": [
    {
     "name": "stdout",
     "output_type": "stream",
     "text": [
      "3\n",
      "0 10\n",
      "1 20\n",
      "2 30\n"
     ]
    }
   ],
   "source": [
    "lista = [10,20,30]\n",
    "print(len(lista))\n",
    "for i in range(len(lista)):\n",
    "    print(i, lista[i])"
   ]
  },
  {
   "cell_type": "code",
   "execution_count": 35,
   "id": "39d1834f",
   "metadata": {},
   "outputs": [],
   "source": [
    "lista = [20,5,7]\n",
    "lista.sort()"
   ]
  },
  {
   "cell_type": "code",
   "execution_count": 36,
   "id": "e997362e",
   "metadata": {},
   "outputs": [
    {
     "data": {
      "text/plain": [
       "[5, 7, 20]"
      ]
     },
     "execution_count": 36,
     "metadata": {},
     "output_type": "execute_result"
    }
   ],
   "source": [
    "lista"
   ]
  },
  {
   "cell_type": "code",
   "execution_count": 37,
   "id": "479953b1",
   "metadata": {},
   "outputs": [
    {
     "ename": "AttributeError",
     "evalue": "'tuple' object has no attribute 'sort'",
     "output_type": "error",
     "traceback": [
      "\u001b[1;31m---------------------------------------------------------------------------\u001b[0m",
      "\u001b[1;31mAttributeError\u001b[0m                            Traceback (most recent call last)",
      "Input \u001b[1;32mIn [37]\u001b[0m, in \u001b[0;36m<cell line: 2>\u001b[1;34m()\u001b[0m\n\u001b[0;32m      1\u001b[0m tupla \u001b[38;5;241m=\u001b[39m (\u001b[38;5;241m20\u001b[39m,\u001b[38;5;241m5\u001b[39m,\u001b[38;5;241m7\u001b[39m)\n\u001b[1;32m----> 2\u001b[0m \u001b[43mtupla\u001b[49m\u001b[38;5;241;43m.\u001b[39;49m\u001b[43msort\u001b[49m()\n",
      "\u001b[1;31mAttributeError\u001b[0m: 'tuple' object has no attribute 'sort'"
     ]
    }
   ],
   "source": [
    "tupla = (20,5,7)\n",
    "tupla.sort()"
   ]
  },
  {
   "cell_type": "code",
   "execution_count": 38,
   "id": "14a5e529",
   "metadata": {},
   "outputs": [
    {
     "data": {
      "text/plain": [
       "[5, 7, 20]"
      ]
     },
     "execution_count": 38,
     "metadata": {},
     "output_type": "execute_result"
    }
   ],
   "source": [
    "lista = [20,5,7]\n",
    "sorted(lista)"
   ]
  },
  {
   "cell_type": "code",
   "execution_count": 39,
   "id": "53c6263d",
   "metadata": {},
   "outputs": [
    {
     "data": {
      "text/plain": [
       "[20, 5, 7]"
      ]
     },
     "execution_count": 39,
     "metadata": {},
     "output_type": "execute_result"
    }
   ],
   "source": [
    "lista"
   ]
  },
  {
   "cell_type": "code",
   "execution_count": 40,
   "id": "16ae98fc",
   "metadata": {},
   "outputs": [
    {
     "data": {
      "text/plain": [
       "[5, 7, 20]"
      ]
     },
     "execution_count": 40,
     "metadata": {},
     "output_type": "execute_result"
    }
   ],
   "source": [
    "sorted(tupla)"
   ]
  },
  {
   "cell_type": "code",
   "execution_count": 42,
   "id": "9752c033",
   "metadata": {},
   "outputs": [
    {
     "data": {
      "text/plain": [
       "(1, 2, 3)"
      ]
     },
     "execution_count": 42,
     "metadata": {},
     "output_type": "execute_result"
    }
   ],
   "source": [
    "tupla1 = (3,2,1)\n",
    "tupla2 = tuple( sorted(tupla) )\n",
    "tupla2"
   ]
  },
  {
   "cell_type": "code",
   "execution_count": 43,
   "id": "685c4625",
   "metadata": {},
   "outputs": [
    {
     "data": {
      "text/plain": [
       "1"
      ]
     },
     "execution_count": 43,
     "metadata": {},
     "output_type": "execute_result"
    }
   ],
   "source": [
    "tupla2[0]"
   ]
  },
  {
   "cell_type": "code",
   "execution_count": 53,
   "id": "721a1214",
   "metadata": {},
   "outputs": [],
   "source": [
    "def contar( iterable ):\n",
    "    d = {}\n",
    "    for elem in iterable:\n",
    "        d[elem] = d.get(elem,0) + 1\n",
    "    return d"
   ]
  },
  {
   "cell_type": "code",
   "execution_count": 76,
   "id": "93c40052",
   "metadata": {},
   "outputs": [
    {
     "data": {
      "text/plain": [
       "{1: 1, 2: 1, 5: 1, 4: 2, 3: 3, 21: 1, 7: 2, 8: 1, 9: 3}"
      ]
     },
     "execution_count": 76,
     "metadata": {},
     "output_type": "execute_result"
    }
   ],
   "source": [
    "t = (1,2,5,4,3,21,4,7,8,9,9,3,7,3,9)\n",
    "d = contar(t)\n",
    "d"
   ]
  },
  {
   "cell_type": "code",
   "execution_count": 78,
   "id": "fbb209a2",
   "metadata": {},
   "outputs": [
    {
     "data": {
      "text/plain": [
       "[(1, 1), (1, 2), (1, 5), (2, 4), (3, 3), (1, 21), (2, 7), (1, 8), (3, 9)]"
      ]
     },
     "execution_count": 78,
     "metadata": {},
     "output_type": "execute_result"
    }
   ],
   "source": [
    "[ (y,x) for x,y in d.items()]"
   ]
  },
  {
   "cell_type": "code",
   "execution_count": 79,
   "id": "8b23a46f",
   "metadata": {},
   "outputs": [
    {
     "data": {
      "text/plain": [
       "(3, 9)"
      ]
     },
     "execution_count": 79,
     "metadata": {},
     "output_type": "execute_result"
    }
   ],
   "source": [
    "max(  [ (y,x) for x,y in d.items() ] )"
   ]
  },
  {
   "cell_type": "code",
   "execution_count": null,
   "id": "4089120e",
   "metadata": {},
   "outputs": [],
   "source": []
  },
  {
   "cell_type": "code",
   "execution_count": 59,
   "id": "17ef648f",
   "metadata": {},
   "outputs": [
    {
     "name": "stdout",
     "output_type": "stream",
     "text": [
      "1\n",
      "2\n",
      "5\n",
      "4\n",
      "3\n",
      "21\n",
      "7\n",
      "8\n",
      "9\n"
     ]
    }
   ],
   "source": [
    "for x in d:\n",
    "    print(x)"
   ]
  },
  {
   "cell_type": "code",
   "execution_count": 60,
   "id": "bed53545",
   "metadata": {},
   "outputs": [
    {
     "name": "stdout",
     "output_type": "stream",
     "text": [
      "1\n",
      "1\n",
      "1\n",
      "2\n",
      "3\n",
      "1\n",
      "2\n",
      "1\n",
      "3\n"
     ]
    }
   ],
   "source": [
    "for x in d.values():\n",
    "    print(x)"
   ]
  },
  {
   "cell_type": "code",
   "execution_count": 64,
   "id": "cf1dbaf4",
   "metadata": {},
   "outputs": [
    {
     "name": "stdout",
     "output_type": "stream",
     "text": [
      "1 1\n",
      "1 2\n",
      "1 5\n",
      "2 4\n",
      "3 3\n",
      "1 21\n",
      "2 7\n",
      "1 8\n",
      "3 9\n"
     ]
    }
   ],
   "source": [
    "for x,y in d.items():\n",
    "    print(y,x)"
   ]
  },
  {
   "cell_type": "code",
   "execution_count": 58,
   "id": "631cfdd2",
   "metadata": {},
   "outputs": [
    {
     "data": {
      "text/plain": [
       "3"
      ]
     },
     "execution_count": 58,
     "metadata": {},
     "output_type": "execute_result"
    }
   ],
   "source": [
    "max(d.values())"
   ]
  },
  {
   "cell_type": "code",
   "execution_count": 45,
   "id": "37304ed7",
   "metadata": {},
   "outputs": [],
   "source": [
    "d = { 2:4, 5:25 }"
   ]
  },
  {
   "cell_type": "code",
   "execution_count": 46,
   "id": "4ed831d4",
   "metadata": {},
   "outputs": [
    {
     "data": {
      "text/plain": [
       "4"
      ]
     },
     "execution_count": 46,
     "metadata": {},
     "output_type": "execute_result"
    }
   ],
   "source": [
    "d[2]"
   ]
  },
  {
   "cell_type": "code",
   "execution_count": 51,
   "id": "23079b82",
   "metadata": {},
   "outputs": [
    {
     "data": {
      "text/plain": [
       "'hola'"
      ]
     },
     "execution_count": 51,
     "metadata": {},
     "output_type": "execute_result"
    }
   ],
   "source": [
    "d.get(10, \"hola\")"
   ]
  },
  {
   "cell_type": "code",
   "execution_count": 52,
   "id": "57a447cf",
   "metadata": {},
   "outputs": [
    {
     "data": {
      "text/plain": [
       "4"
      ]
     },
     "execution_count": 52,
     "metadata": {},
     "output_type": "execute_result"
    }
   ],
   "source": [
    "d.get(2, \"hola\")"
   ]
  },
  {
   "cell_type": "markdown",
   "id": "7bcd560f",
   "metadata": {},
   "source": [
    "## Listas intensionales (comprehension lists)\n",
    "\n",
    "Notación:\n",
    "\n",
    "```\n",
    "[ expresion for variable in iterable ]\n",
    "[ expresion for variable in iterable if condicion]\n",
    "```"
   ]
  },
  {
   "cell_type": "code",
   "execution_count": 65,
   "id": "1629f8b7",
   "metadata": {},
   "outputs": [
    {
     "data": {
      "text/plain": [
       "[10, 20, 30]"
      ]
     },
     "execution_count": 65,
     "metadata": {},
     "output_type": "execute_result"
    }
   ],
   "source": [
    "[10,20,30]"
   ]
  },
  {
   "cell_type": "code",
   "execution_count": 67,
   "id": "fe755996",
   "metadata": {},
   "outputs": [
    {
     "data": {
      "text/plain": [
       "[0, 1, 4, 9, 16, 25, 36, 49, 64, 81]"
      ]
     },
     "execution_count": 67,
     "metadata": {},
     "output_type": "execute_result"
    }
   ],
   "source": [
    "[x**2 for x in range(10)]"
   ]
  },
  {
   "cell_type": "code",
   "execution_count": 68,
   "id": "c4ec9fd7",
   "metadata": {},
   "outputs": [
    {
     "data": {
      "text/plain": [
       "[0, 1, 4, 9, 16, 25, 36, 49, 64, 81]"
      ]
     },
     "execution_count": 68,
     "metadata": {},
     "output_type": "execute_result"
    }
   ],
   "source": [
    "a = []\n",
    "for x in range(10):\n",
    "    a.append( x**2 )\n",
    "a"
   ]
  },
  {
   "cell_type": "code",
   "execution_count": 71,
   "id": "0798c250",
   "metadata": {},
   "outputs": [
    {
     "data": {
      "text/plain": [
       "[10, 34, 34, 78]"
      ]
     },
     "execution_count": 71,
     "metadata": {},
     "output_type": "execute_result"
    }
   ],
   "source": [
    "lista = [10,11,34,34,45,78,29]\n",
    "[x for x in lista if x%2==0]"
   ]
  },
  {
   "cell_type": "code",
   "execution_count": 73,
   "id": "3d65c844",
   "metadata": {},
   "outputs": [
    {
     "data": {
      "text/plain": [
       "'10 11 34 34 45 78 29'"
      ]
     },
     "execution_count": 73,
     "metadata": {},
     "output_type": "execute_result"
    }
   ],
   "source": [
    "lista = [10,11,34,34,45,78,29]\n",
    "\" \".join([str(x) for x in lista])"
   ]
  },
  {
   "cell_type": "code",
   "execution_count": 74,
   "id": "d84655f5",
   "metadata": {},
   "outputs": [
    {
     "ename": "TypeError",
     "evalue": "sequence item 0: expected str instance, int found",
     "output_type": "error",
     "traceback": [
      "\u001b[1;31m---------------------------------------------------------------------------\u001b[0m",
      "\u001b[1;31mTypeError\u001b[0m                                 Traceback (most recent call last)",
      "Input \u001b[1;32mIn [74]\u001b[0m, in \u001b[0;36m<cell line: 1>\u001b[1;34m()\u001b[0m\n\u001b[1;32m----> 1\u001b[0m \u001b[38;5;124;43m\"\u001b[39;49m\u001b[38;5;124;43m \u001b[39;49m\u001b[38;5;124;43m\"\u001b[39;49m\u001b[38;5;241;43m.\u001b[39;49m\u001b[43mjoin\u001b[49m\u001b[43m(\u001b[49m\u001b[43mlista\u001b[49m\u001b[43m)\u001b[49m\n",
      "\u001b[1;31mTypeError\u001b[0m: sequence item 0: expected str instance, int found"
     ]
    }
   ],
   "source": [
    "\" \".join(lista)"
   ]
  },
  {
   "cell_type": "markdown",
   "id": "4a291632",
   "metadata": {},
   "source": [
    "## Ejercicio slide 207\n",
    "\n",
    "Dada una tupla con nºs devolver el valor que más veces se repita.\n",
    "\n",
    "En caso de empate de nº repeticiones, devolver el valor más alto"
   ]
  },
  {
   "cell_type": "code",
   "execution_count": null,
   "id": "dbc55b2d",
   "metadata": {},
   "outputs": [],
   "source": [
    "def contar( iterable ):\n",
    "    d = {}\n",
    "    for elem in iterable:\n",
    "        d[elem] = d.get(elem,0) + 1\n",
    "    return d"
   ]
  },
  {
   "cell_type": "code",
   "execution_count": 82,
   "id": "85b4e949",
   "metadata": {},
   "outputs": [
    {
     "name": "stdout",
     "output_type": "stream",
     "text": [
      "En la tupla (1, 2, 5, 4, 3, 21, 4, 7, 8, 9, 9, 3, 7, 3, 9)\n",
      "El valor 9 se repite 3 veces\n"
     ]
    }
   ],
   "source": [
    "t = (1,2,5,4,3,21,4,7,8,9,9,3,7,3,9)\n",
    "d = contar(t)\n",
    "maxreps,valor = max( [(y,x) for x,y in d.items()] )\n",
    "print(\"En la tupla\",t)\n",
    "print(f\"El valor {valor} se repite {maxreps} veces\")"
   ]
  },
  {
   "cell_type": "code",
   "execution_count": 83,
   "id": "068667e6",
   "metadata": {},
   "outputs": [
    {
     "data": {
      "text/plain": [
       "[(1, 1), (1, 2), (1, 5), (2, 4), (3, 3), (1, 21), (2, 7), (1, 8), (3, 9)]"
      ]
     },
     "execution_count": 83,
     "metadata": {},
     "output_type": "execute_result"
    }
   ],
   "source": [
    "[(y,x) for x,y in d.items()]"
   ]
  },
  {
   "cell_type": "code",
   "execution_count": 84,
   "id": "d1474e1d",
   "metadata": {},
   "outputs": [
    {
     "data": {
      "text/plain": [
       "<generator object <genexpr> at 0x0000018DD9E893C0>"
      ]
     },
     "execution_count": 84,
     "metadata": {},
     "output_type": "execute_result"
    }
   ],
   "source": [
    "((y,x) for x,y in d.items())"
   ]
  },
  {
   "cell_type": "code",
   "execution_count": 85,
   "id": "8ad9a8fd",
   "metadata": {},
   "outputs": [
    {
     "data": {
      "text/plain": [
       "(3, 9)"
      ]
     },
     "execution_count": 85,
     "metadata": {},
     "output_type": "execute_result"
    }
   ],
   "source": [
    "max((y,x) for x,y in d.items())"
   ]
  },
  {
   "cell_type": "markdown",
   "id": "29d563fd",
   "metadata": {},
   "source": [
    "### Ejercicio\n",
    "\n",
    "Dada una cadena con palabras separadas por espacio.\n",
    "\n",
    "Dejar únicamente las palabras de longitud mayor a 2."
   ]
  },
  {
   "cell_type": "code",
   "execution_count": 87,
   "id": "feb29a01",
   "metadata": {},
   "outputs": [],
   "source": [
    "texto = \"esto es un ejemplo de frase\""
   ]
  },
  {
   "cell_type": "code",
   "execution_count": 92,
   "id": "23d6c12e",
   "metadata": {},
   "outputs": [
    {
     "data": {
      "text/plain": [
       "'esto ejemplo frase'"
      ]
     },
     "execution_count": 92,
     "metadata": {},
     "output_type": "execute_result"
    }
   ],
   "source": [
    "resul = []\n",
    "for pal in texto.split():\n",
    "    if len(pal) > 2:\n",
    "        resul.append(pal)\n",
    "\" \".join(resul)"
   ]
  },
  {
   "cell_type": "code",
   "execution_count": 98,
   "id": "a63a08d1",
   "metadata": {},
   "outputs": [
    {
     "data": {
      "text/plain": [
       "'Esto Ejemplo Frase'"
      ]
     },
     "execution_count": 98,
     "metadata": {},
     "output_type": "execute_result"
    }
   ],
   "source": [
    "\" \".join(pal.capitalize() for pal in texto.split() if len(pal)>2)"
   ]
  },
  {
   "cell_type": "code",
   "execution_count": 100,
   "id": "0a0dc70b",
   "metadata": {},
   "outputs": [
    {
     "data": {
      "text/plain": [
       "'Esto ejemplo frase'"
      ]
     },
     "execution_count": 100,
     "metadata": {},
     "output_type": "execute_result"
    }
   ],
   "source": [
    "\" \".join(pal for pal in texto.split() if len(pal)>2).capitalize()"
   ]
  },
  {
   "cell_type": "code",
   "execution_count": 102,
   "id": "e2674e47",
   "metadata": {},
   "outputs": [
    {
     "data": {
      "text/plain": [
       "tuple"
      ]
     },
     "execution_count": 102,
     "metadata": {},
     "output_type": "execute_result"
    }
   ],
   "source": [
    "a = ()\n",
    "type(a)"
   ]
  },
  {
   "cell_type": "code",
   "execution_count": 103,
   "id": "0a2d9797",
   "metadata": {},
   "outputs": [
    {
     "data": {
      "text/plain": [
       "int"
      ]
     },
     "execution_count": 103,
     "metadata": {},
     "output_type": "execute_result"
    }
   ],
   "source": [
    "a = (5)\n",
    "type(a)"
   ]
  },
  {
   "cell_type": "code",
   "execution_count": 105,
   "id": "c406d75e",
   "metadata": {},
   "outputs": [
    {
     "data": {
      "text/plain": [
       "(5,)"
      ]
     },
     "execution_count": 105,
     "metadata": {},
     "output_type": "execute_result"
    }
   ],
   "source": [
    "tuple([5])"
   ]
  },
  {
   "cell_type": "code",
   "execution_count": 106,
   "id": "d1066189",
   "metadata": {},
   "outputs": [
    {
     "data": {
      "text/plain": [
       "tuple"
      ]
     },
     "execution_count": 106,
     "metadata": {},
     "output_type": "execute_result"
    }
   ],
   "source": [
    "a = (5,)\n",
    "type(a)"
   ]
  },
  {
   "cell_type": "code",
   "execution_count": 107,
   "id": "8c07c10b",
   "metadata": {},
   "outputs": [
    {
     "data": {
      "text/plain": [
       "(5,)"
      ]
     },
     "execution_count": 107,
     "metadata": {},
     "output_type": "execute_result"
    }
   ],
   "source": [
    "a"
   ]
  },
  {
   "cell_type": "code",
   "execution_count": 108,
   "id": "44e2ba7a",
   "metadata": {},
   "outputs": [
    {
     "data": {
      "text/plain": [
       "1"
      ]
     },
     "execution_count": 108,
     "metadata": {},
     "output_type": "execute_result"
    }
   ],
   "source": [
    "len(a)"
   ]
  },
  {
   "cell_type": "code",
   "execution_count": 109,
   "id": "b44a6c43",
   "metadata": {},
   "outputs": [
    {
     "data": {
      "text/plain": [
       "5"
      ]
     },
     "execution_count": 109,
     "metadata": {},
     "output_type": "execute_result"
    }
   ],
   "source": [
    "a[0]"
   ]
  },
  {
   "cell_type": "code",
   "execution_count": 110,
   "id": "aa0217a3",
   "metadata": {},
   "outputs": [
    {
     "data": {
      "text/plain": [
       "12"
      ]
     },
     "execution_count": 110,
     "metadata": {},
     "output_type": "execute_result"
    }
   ],
   "source": [
    "(2+2)*3"
   ]
  },
  {
   "cell_type": "code",
   "execution_count": 112,
   "id": "10548c63",
   "metadata": {},
   "outputs": [
    {
     "data": {
      "text/plain": [
       "8"
      ]
     },
     "execution_count": 112,
     "metadata": {},
     "output_type": "execute_result"
    }
   ],
   "source": [
    "2+2*3"
   ]
  },
  {
   "cell_type": "code",
   "execution_count": 113,
   "id": "8ad12e5e",
   "metadata": {},
   "outputs": [
    {
     "data": {
      "text/plain": [
       "4"
      ]
     },
     "execution_count": 113,
     "metadata": {},
     "output_type": "execute_result"
    }
   ],
   "source": [
    "(2+2)"
   ]
  },
  {
   "cell_type": "markdown",
   "id": "d1cc5c12",
   "metadata": {},
   "source": [
    "### Ejercicio slide 208\n",
    "\n",
    "Eliminar tuplas vacías, cadenas vacías, listas vacías"
   ]
  },
  {
   "cell_type": "code",
   "execution_count": 121,
   "id": "ba5be53e",
   "metadata": {},
   "outputs": [],
   "source": [
    "original = [(), (1,), [], 'abc', (), (), (1,), ('a',), ('a','b'), ((),), '']\n",
    "tb_orig = original"
   ]
  },
  {
   "cell_type": "code",
   "execution_count": 122,
   "id": "44afde8b",
   "metadata": {},
   "outputs": [
    {
     "name": "stdout",
     "output_type": "stream",
     "text": [
      "() True\n",
      "(1,) False\n",
      "[] True\n",
      "'abc' False\n",
      "() True\n",
      "() True\n",
      "(1,) False\n",
      "('a',) False\n",
      "('a', 'b') False\n",
      "((),) False\n",
      "'' True\n"
     ]
    }
   ],
   "source": [
    "for elem in original:\n",
    "    print(repr(elem), elem in ('', (), []))"
   ]
  },
  {
   "cell_type": "code",
   "execution_count": 123,
   "id": "dafcb1a8",
   "metadata": {},
   "outputs": [
    {
     "data": {
      "text/plain": [
       "[(1,), 'abc', (1,), ('a',), ('a', 'b'), ((),)]"
      ]
     },
     "execution_count": 123,
     "metadata": {},
     "output_type": "execute_result"
    }
   ],
   "source": [
    "nueva = [elem for elem in original if elem not in ('',(),[])]\n",
    "nueva"
   ]
  },
  {
   "cell_type": "code",
   "execution_count": 124,
   "id": "3523b24a",
   "metadata": {},
   "outputs": [
    {
     "data": {
      "text/plain": [
       "[(), (1,), [], 'abc', (), (), (1,), ('a',), ('a', 'b'), ((),), '']"
      ]
     },
     "execution_count": 124,
     "metadata": {},
     "output_type": "execute_result"
    }
   ],
   "source": [
    "original"
   ]
  },
  {
   "cell_type": "code",
   "execution_count": 125,
   "id": "2c955b75",
   "metadata": {},
   "outputs": [
    {
     "data": {
      "text/plain": [
       "[(1,), 'abc', (1,), ('a',), ('a', 'b'), ((),)]"
      ]
     },
     "execution_count": 125,
     "metadata": {},
     "output_type": "execute_result"
    }
   ],
   "source": [
    "original = nueva\n",
    "original"
   ]
  },
  {
   "cell_type": "code",
   "execution_count": 126,
   "id": "591b5de1",
   "metadata": {},
   "outputs": [
    {
     "data": {
      "text/plain": [
       "[(), (1,), [], 'abc', (), (), (1,), ('a',), ('a', 'b'), ((),), '']"
      ]
     },
     "execution_count": 126,
     "metadata": {},
     "output_type": "execute_result"
    }
   ],
   "source": [
    "tb_orig"
   ]
  },
  {
   "cell_type": "code",
   "execution_count": 131,
   "id": "f14f9311",
   "metadata": {},
   "outputs": [],
   "source": [
    "def limpiar_lista( lista ):\n",
    "    lista[:] = [elem for elem in lista if elem not in ('',(),[])]\n",
    "    return lista"
   ]
  },
  {
   "cell_type": "code",
   "execution_count": 132,
   "id": "1bfad769",
   "metadata": {},
   "outputs": [
    {
     "data": {
      "text/plain": [
       "[(1,), 'abc', (1,), ('a',), ('a', 'b'), ((),)]"
      ]
     },
     "execution_count": 132,
     "metadata": {},
     "output_type": "execute_result"
    }
   ],
   "source": [
    "t = [(), (1,), [], 'abc', (), (), (1,), ('a',), ('a','b'), ((),), '']\n",
    "limpiar_lista(t)"
   ]
  },
  {
   "cell_type": "code",
   "execution_count": 133,
   "id": "b80642b3",
   "metadata": {},
   "outputs": [
    {
     "data": {
      "text/plain": [
       "[(1,), 'abc', (1,), ('a',), ('a', 'b'), ((),)]"
      ]
     },
     "execution_count": 133,
     "metadata": {},
     "output_type": "execute_result"
    }
   ],
   "source": [
    "t"
   ]
  },
  {
   "cell_type": "code",
   "execution_count": 139,
   "id": "02092a14",
   "metadata": {},
   "outputs": [
    {
     "name": "stdout",
     "output_type": "stream",
     "text": [
      "1708757791360\n"
     ]
    },
    {
     "data": {
      "text/plain": [
       "[10, 12]"
      ]
     },
     "execution_count": 139,
     "metadata": {},
     "output_type": "execute_result"
    }
   ],
   "source": [
    "lista = [10,21,12,15]\n",
    "otra_ref = lista\n",
    "print(id(lista))\n",
    "lista[:] = [x for x in lista if x%2==0]\n",
    "otra_ref"
   ]
  },
  {
   "cell_type": "markdown",
   "id": "f9722f37",
   "metadata": {},
   "source": [
    "### JSON"
   ]
  },
  {
   "cell_type": "code",
   "execution_count": 140,
   "id": "505a583f",
   "metadata": {},
   "outputs": [],
   "source": [
    "import json"
   ]
  },
  {
   "cell_type": "code",
   "execution_count": 143,
   "id": "625d9526",
   "metadata": {},
   "outputs": [],
   "source": [
    "ejemplo = \"\"\"\\\n",
    "{\n",
    "  \"departamento\":8,\n",
    "  \"nombredepto\":\"Ventas\",\n",
    "  \"director\": \"Juan Rodríguez\",\n",
    "  \"empleados\":[\n",
    "    {\n",
    "      \"nombre\":\"Pedro\",\n",
    "      \"apellido\":\"Fernández\"\n",
    "    },{\n",
    "      \"nombre\":\"Jacinto\",\n",
    "      \"apellido\":\"Benavente\"\n",
    "    } \n",
    "  ]\n",
    "}\n",
    "\"\"\""
   ]
  },
  {
   "cell_type": "code",
   "execution_count": 144,
   "id": "60aca700",
   "metadata": {},
   "outputs": [
    {
     "data": {
      "text/plain": [
       "'{\\n  \"departamento\":8,\\n  \"nombredepto\":\"Ventas\",\\n  \"director\": \"Juan Rodríguez\",\\n  \"empleados\":[\\n    {\\n      \"nombre\":\"Pedro\",\\n      \"apellido\":\"Fernández\"\\n    },{\\n      \"nombre\":\"Jacinto\",\\n      \"apellido\":\"Benavente\"\\n    } \\n  ]\\n}\\n'"
      ]
     },
     "execution_count": 144,
     "metadata": {},
     "output_type": "execute_result"
    }
   ],
   "source": [
    "ejemplo"
   ]
  },
  {
   "cell_type": "code",
   "execution_count": 145,
   "id": "3d90bb3a",
   "metadata": {},
   "outputs": [
    {
     "name": "stdout",
     "output_type": "stream",
     "text": [
      "{\n",
      "  \"departamento\":8,\n",
      "  \"nombredepto\":\"Ventas\",\n",
      "  \"director\": \"Juan Rodríguez\",\n",
      "  \"empleados\":[\n",
      "    {\n",
      "      \"nombre\":\"Pedro\",\n",
      "      \"apellido\":\"Fernández\"\n",
      "    },{\n",
      "      \"nombre\":\"Jacinto\",\n",
      "      \"apellido\":\"Benavente\"\n",
      "    } \n",
      "  ]\n",
      "}\n",
      "\n"
     ]
    }
   ],
   "source": [
    "print(ejemplo)"
   ]
  },
  {
   "cell_type": "code",
   "execution_count": 147,
   "id": "c67548a7",
   "metadata": {},
   "outputs": [
    {
     "data": {
      "text/plain": [
       "{'departamento': 8,\n",
       " 'nombredepto': 'Ventas',\n",
       " 'director': 'Juan Rodríguez',\n",
       " 'empleados': [{'nombre': 'Pedro', 'apellido': 'Fernández'},\n",
       "  {'nombre': 'Jacinto', 'apellido': 'Benavente'}]}"
      ]
     },
     "execution_count": 147,
     "metadata": {},
     "output_type": "execute_result"
    }
   ],
   "source": [
    "d = json.loads(ejemplo)\n",
    "d"
   ]
  },
  {
   "cell_type": "code",
   "execution_count": 148,
   "id": "22fa25dd",
   "metadata": {},
   "outputs": [
    {
     "data": {
      "text/plain": [
       "'Juan Rodríguez'"
      ]
     },
     "execution_count": 148,
     "metadata": {},
     "output_type": "execute_result"
    }
   ],
   "source": [
    "d['director']"
   ]
  },
  {
   "cell_type": "code",
   "execution_count": 149,
   "id": "a837f2e6",
   "metadata": {},
   "outputs": [
    {
     "data": {
      "text/plain": [
       "12"
      ]
     },
     "execution_count": 149,
     "metadata": {},
     "output_type": "execute_result"
    }
   ],
   "source": [
    "json.loads('12')"
   ]
  },
  {
   "cell_type": "code",
   "execution_count": 150,
   "id": "bd2b0461",
   "metadata": {},
   "outputs": [
    {
     "data": {
      "text/plain": [
       "True"
      ]
     },
     "execution_count": 150,
     "metadata": {},
     "output_type": "execute_result"
    }
   ],
   "source": [
    "json.loads('true')"
   ]
  },
  {
   "cell_type": "code",
   "execution_count": 151,
   "id": "18e377b4",
   "metadata": {},
   "outputs": [
    {
     "data": {
      "text/plain": [
       "[12, 30]"
      ]
     },
     "execution_count": 151,
     "metadata": {},
     "output_type": "execute_result"
    }
   ],
   "source": [
    "json.loads('[12,30]')"
   ]
  },
  {
   "cell_type": "code",
   "execution_count": 152,
   "id": "fdf3fcc7",
   "metadata": {},
   "outputs": [
    {
     "data": {
      "text/plain": [
       "{'hola': 5}"
      ]
     },
     "execution_count": 152,
     "metadata": {},
     "output_type": "execute_result"
    }
   ],
   "source": [
    "json.loads('{\"hola\":5}')"
   ]
  },
  {
   "cell_type": "code",
   "execution_count": 153,
   "id": "fabf54ed",
   "metadata": {},
   "outputs": [
    {
     "data": {
      "text/plain": [
       "{'departamento': 8,\n",
       " 'nombredepto': 'Ventas',\n",
       " 'director': 'Juan Rodríguez',\n",
       " 'empleados': [{'nombre': 'Pedro', 'apellido': 'Fernández'},\n",
       "  {'nombre': 'Jacinto', 'apellido': 'Benavente'}]}"
      ]
     },
     "execution_count": 153,
     "metadata": {},
     "output_type": "execute_result"
    }
   ],
   "source": [
    "d"
   ]
  },
  {
   "cell_type": "code",
   "execution_count": 157,
   "id": "4b1be74a",
   "metadata": {},
   "outputs": [
    {
     "name": "stdout",
     "output_type": "stream",
     "text": [
      "{\n",
      " \"departamento\": 8,\n",
      " \"nombredepto\": \"Ventas\",\n",
      " \"director\": \"Juan Rodr\\u00edguez\",\n",
      " \"empleados\": [\n",
      "  {\n",
      "   \"nombre\": \"Pedro\",\n",
      "   \"apellido\": \"Fern\\u00e1ndez\"\n",
      "  },\n",
      "  {\n",
      "   \"nombre\": \"Jacinto\",\n",
      "   \"apellido\": \"Benavente\"\n",
      "  }\n",
      " ]\n",
      "}\n"
     ]
    }
   ],
   "source": [
    "print(json.dumps(d,indent=1))"
   ]
  },
  {
   "cell_type": "markdown",
   "id": "a80b59f5",
   "metadata": {},
   "source": [
    "## Ficheros"
   ]
  },
  {
   "cell_type": "code",
   "execution_count": 163,
   "id": "df0fc2aa",
   "metadata": {},
   "outputs": [
    {
     "name": "stdout",
     "output_type": "stream",
     "text": [
      "'uno\\ndos\\ntres\\n'\n",
      "\n",
      "uno\n",
      "dos\n",
      "tres\n",
      "\n"
     ]
    }
   ],
   "source": [
    "f = open('ejemplo.txt')\n",
    "contenido = f.read()\n",
    "print(repr(contenido))\n",
    "print()\n",
    "print(contenido)"
   ]
  },
  {
   "cell_type": "code",
   "execution_count": 166,
   "id": "21a24e3f",
   "metadata": {},
   "outputs": [
    {
     "name": "stdout",
     "output_type": "stream",
     "text": [
      "4 0.50\n",
      "7 0.70\n",
      "2 1.25\n",
      "3 0.65\n",
      "6 0.55\n",
      "2 0.55\n"
     ]
    }
   ],
   "source": [
    "f = open(\"ejemplo.txt\")\n",
    "for linea in f:\n",
    "    # esto lo puedo hacer porque hay 3:\n",
    "    nombre, numero, pvp = linea.split()\n",
    "    print(numero,pvp)\n",
    "f.close()"
   ]
  },
  {
   "cell_type": "code",
   "execution_count": 190,
   "id": "18749c16",
   "metadata": {},
   "outputs": [
    {
     "name": "stdout",
     "output_type": "stream",
     "text": [
      "15.75\n"
     ]
    }
   ],
   "source": [
    "total = 0\n",
    "with open(\"ejemplo.txt\") as f:\n",
    "    for linea in f:\n",
    "        # esto lo puedo hacer porque hay 3 campos en split:\n",
    "        nombre, numero, pvp = linea.split()\n",
    "        numero = float(numero)\n",
    "        pvp = float(pvp)\n",
    "        total += numero * pvp\n",
    "print(round(total,2))"
   ]
  },
  {
   "cell_type": "code",
   "execution_count": 169,
   "id": "ba709de1",
   "metadata": {},
   "outputs": [
    {
     "data": {
      "text/plain": [
       "[10, 20, 30]"
      ]
     },
     "execution_count": 169,
     "metadata": {},
     "output_type": "execute_result"
    }
   ],
   "source": [
    "a = [10,20,30]\n",
    "a"
   ]
  },
  {
   "cell_type": "code",
   "execution_count": 170,
   "id": "8dd2da0d",
   "metadata": {},
   "outputs": [],
   "source": [
    "a,b,c = [10,20,30]"
   ]
  },
  {
   "cell_type": "code",
   "execution_count": 171,
   "id": "3b2ccea6",
   "metadata": {},
   "outputs": [
    {
     "data": {
      "text/plain": [
       "10"
      ]
     },
     "execution_count": 171,
     "metadata": {},
     "output_type": "execute_result"
    }
   ],
   "source": [
    "a"
   ]
  },
  {
   "cell_type": "code",
   "execution_count": 172,
   "id": "238a8d4c",
   "metadata": {},
   "outputs": [
    {
     "data": {
      "text/plain": [
       "20"
      ]
     },
     "execution_count": 172,
     "metadata": {},
     "output_type": "execute_result"
    }
   ],
   "source": [
    "b"
   ]
  },
  {
   "cell_type": "code",
   "execution_count": 173,
   "id": "78037322",
   "metadata": {},
   "outputs": [
    {
     "data": {
      "text/plain": [
       "30"
      ]
     },
     "execution_count": 173,
     "metadata": {},
     "output_type": "execute_result"
    }
   ],
   "source": [
    "c"
   ]
  },
  {
   "cell_type": "code",
   "execution_count": 185,
   "id": "934049cd",
   "metadata": {},
   "outputs": [],
   "source": [
    "a,b,*c,d = [10,20,20,30,40,50]"
   ]
  },
  {
   "cell_type": "code",
   "execution_count": 180,
   "id": "96a72e95",
   "metadata": {},
   "outputs": [
    {
     "data": {
      "text/plain": [
       "10"
      ]
     },
     "execution_count": 180,
     "metadata": {},
     "output_type": "execute_result"
    }
   ],
   "source": [
    "a"
   ]
  },
  {
   "cell_type": "code",
   "execution_count": 181,
   "id": "2d642c41",
   "metadata": {},
   "outputs": [
    {
     "data": {
      "text/plain": [
       "20"
      ]
     },
     "execution_count": 181,
     "metadata": {},
     "output_type": "execute_result"
    }
   ],
   "source": [
    "b"
   ]
  },
  {
   "cell_type": "code",
   "execution_count": 182,
   "id": "ce8af2ea",
   "metadata": {},
   "outputs": [
    {
     "data": {
      "text/plain": [
       "[20, 30, 40]"
      ]
     },
     "execution_count": 182,
     "metadata": {},
     "output_type": "execute_result"
    }
   ],
   "source": [
    "c"
   ]
  },
  {
   "cell_type": "code",
   "execution_count": 183,
   "id": "af2bb4e0",
   "metadata": {},
   "outputs": [
    {
     "data": {
      "text/plain": [
       "50"
      ]
     },
     "execution_count": 183,
     "metadata": {},
     "output_type": "execute_result"
    }
   ],
   "source": [
    "d"
   ]
  },
  {
   "cell_type": "code",
   "execution_count": 192,
   "id": "ae3aee5b",
   "metadata": {},
   "outputs": [
    {
     "name": "stdout",
     "output_type": "stream",
     "text": [
      "b\n",
      "o\n",
      "t\n",
      "e\n",
      "_\n",
      "r\n",
      "e\n",
      "f\n",
      "r\n",
      "e\n",
      "s\n",
      "c\n",
      "o\n",
      " \n",
      "4\n",
      " \n",
      "0\n",
      ".\n",
      "5\n",
      "0\n",
      "\n",
      "\n",
      "b\n",
      "a\n",
      "r\n",
      "r\n",
      "a\n",
      "_\n",
      "p\n",
      "a\n",
      "n\n",
      " \n",
      "7\n",
      " \n",
      "0\n",
      ".\n",
      "7\n",
      "0\n",
      "\n",
      "\n",
      "s\n",
      "a\n",
      "l\n",
      "s\n",
      "a\n",
      "_\n",
      "t\n",
      "o\n",
      "m\n",
      "a\n",
      "t\n",
      "e\n",
      " \n",
      "2\n",
      " \n",
      "1\n",
      ".\n",
      "2\n",
      "5\n",
      "\n",
      "\n",
      "b\n",
      "a\n",
      "r\n",
      "r\n",
      "a\n",
      "_\n",
      "p\n",
      "a\n",
      "n\n",
      " \n",
      "3\n",
      " \n",
      "0\n",
      ".\n",
      "6\n",
      "5\n",
      "\n",
      "\n",
      "a\n",
      "g\n",
      "u\n",
      "a\n",
      "_\n",
      "m\n",
      "i\n",
      "n\n",
      "e\n",
      "r\n",
      "a\n",
      "l\n",
      " \n",
      "6\n",
      " \n",
      "0\n",
      ".\n",
      "5\n",
      "5\n",
      "\n",
      "\n",
      "b\n",
      "o\n",
      "t\n",
      "e\n",
      "_\n",
      "r\n",
      "e\n",
      "f\n",
      "r\n",
      "e\n",
      "s\n",
      "c\n",
      "o\n",
      " \n",
      "2\n",
      " \n",
      "0\n",
      ".\n",
      "5\n",
      "5\n",
      "\n",
      "\n",
      "\n"
     ]
    }
   ],
   "source": [
    "with open(\"ejemplo.txt\") as f:\n",
    "    c = \"xxxx\"\n",
    "    while c!=\"\":\n",
    "        c = f.read(1)\n",
    "        print(c)"
   ]
  },
  {
   "cell_type": "code",
   "execution_count": null,
   "id": "d11018b2",
   "metadata": {},
   "outputs": [],
   "source": [
    "with open(\"ejemplo.txt\") as f:\n",
    "    c = \"xxxx\"\n",
    "    while c!=\"\":\n",
    "        c = f.readlines"
   ]
  },
  {
   "cell_type": "code",
   "execution_count": 197,
   "id": "f1e8921a",
   "metadata": {},
   "outputs": [],
   "source": [
    "with open(\"prueba.txt\", \"w\", encoding=\"UTF-8\") as f:\n",
    "    for i in range(1,10+1):\n",
    "        f.write(f'hola estoy en la línea {i}\\n')"
   ]
  },
  {
   "cell_type": "code",
   "execution_count": 200,
   "id": "366ac68c",
   "metadata": {},
   "outputs": [],
   "source": [
    "with open(\"ejemplo.txt\") as f_r:\n",
    "    with open(\"prueba.txt\", \"w\", encoding='UTF-8') as f_w:\n",
    "        contenido = f_r.read()\n",
    "        f_w.write(contenido.upper())"
   ]
  },
  {
   "cell_type": "code",
   "execution_count": 201,
   "id": "d0a508f8",
   "metadata": {},
   "outputs": [],
   "source": [
    "with (open(\"ejemplo.txt\") as f_r,\n",
    "      open(\"prueba.txt\", \"w\", encoding='UTF-8') as f_w):\n",
    "        contenido = f_r.read()\n",
    "        f_w.write(contenido.upper())"
   ]
  },
  {
   "cell_type": "code",
   "execution_count": null,
   "id": "455cd484",
   "metadata": {},
   "outputs": [],
   "source": []
  }
 ],
 "metadata": {
  "kernelspec": {
   "display_name": "Python 3 (ipykernel)",
   "language": "python",
   "name": "python3"
  },
  "language_info": {
   "codemirror_mode": {
    "name": "ipython",
    "version": 3
   },
   "file_extension": ".py",
   "mimetype": "text/x-python",
   "name": "python",
   "nbconvert_exporter": "python",
   "pygments_lexer": "ipython3",
   "version": "3.9.12"
  }
 },
 "nbformat": 4,
 "nbformat_minor": 5
}
