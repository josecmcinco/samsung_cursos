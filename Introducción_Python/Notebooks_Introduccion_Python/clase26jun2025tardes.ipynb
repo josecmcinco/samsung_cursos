{
 "cells": [
  {
   "cell_type": "code",
   "execution_count": 1,
   "id": "90bf2f98",
   "metadata": {},
   "outputs": [],
   "source": [
    "import json"
   ]
  },
  {
   "cell_type": "markdown",
   "id": "34111c67",
   "metadata": {},
   "source": [
    "- json.load\n",
    "- json.loads\n",
    "\n",
    "- json.dump\n",
    "- json.dumps"
   ]
  },
  {
   "cell_type": "code",
   "execution_count": 3,
   "id": "d36aa270",
   "metadata": {},
   "outputs": [],
   "source": [
    "with open('prueba26jun2025.ipynb', 'r', encoding='UTF-8') as f:\n",
    "    d = json.load(f)"
   ]
  },
  {
   "cell_type": "code",
   "execution_count": 4,
   "id": "6abf7fcc",
   "metadata": {},
   "outputs": [
    {
     "data": {
      "text/plain": [
       "{'cells': [{'cell_type': 'markdown',\n",
       "   'id': '50d2a84e',\n",
       "   'metadata': {},\n",
       "   'source': ['## Título']},\n",
       "  {'cell_type': 'code',\n",
       "   'execution_count': 1,\n",
       "   'id': 'd902a1ae',\n",
       "   'metadata': {},\n",
       "   'outputs': [{'data': {'text/plain': ['9']},\n",
       "     'execution_count': 1,\n",
       "     'metadata': {},\n",
       "     'output_type': 'execute_result'}],\n",
       "   'source': ['def f(x):\\n', '    return x+5\\n', 'f(4)']},\n",
       "  {'cell_type': 'code',\n",
       "   'execution_count': 2,\n",
       "   'id': 'a6fee912',\n",
       "   'metadata': {},\n",
       "   'outputs': [{'name': 'stdout',\n",
       "     'output_type': 'stream',\n",
       "     'text': ['hola mundo\\n']}],\n",
       "   'source': ['print(\"hola mundo\")']},\n",
       "  {'cell_type': 'code',\n",
       "   'execution_count': None,\n",
       "   'id': 'a236bb68',\n",
       "   'metadata': {},\n",
       "   'outputs': [],\n",
       "   'source': []}],\n",
       " 'metadata': {'kernelspec': {'display_name': 'Python 3 (ipykernel)',\n",
       "   'language': 'python',\n",
       "   'name': 'python3'},\n",
       "  'language_info': {'codemirror_mode': {'name': 'ipython', 'version': 3},\n",
       "   'file_extension': '.py',\n",
       "   'mimetype': 'text/x-python',\n",
       "   'name': 'python',\n",
       "   'nbconvert_exporter': 'python',\n",
       "   'pygments_lexer': 'ipython3',\n",
       "   'version': '3.9.12'}},\n",
       " 'nbformat': 4,\n",
       " 'nbformat_minor': 5}"
      ]
     },
     "execution_count": 4,
     "metadata": {},
     "output_type": "execute_result"
    }
   ],
   "source": [
    "d"
   ]
  },
  {
   "cell_type": "code",
   "execution_count": 6,
   "id": "1616bcef",
   "metadata": {},
   "outputs": [],
   "source": [
    "d['cells'].reverse()"
   ]
  },
  {
   "cell_type": "code",
   "execution_count": 7,
   "id": "2c96adef",
   "metadata": {},
   "outputs": [],
   "source": [
    "with open('alreves.ipynb', 'w', encoding='UTF-8') as f:\n",
    "    json.dump(d,f)"
   ]
  },
  {
   "cell_type": "code",
   "execution_count": 8,
   "id": "76812975",
   "metadata": {},
   "outputs": [],
   "source": [
    "list_array = [[1,2,3],\n",
    "              [4,5,6],\n",
    "              [7,8,9]]"
   ]
  },
  {
   "cell_type": "code",
   "execution_count": 12,
   "id": "6691139d",
   "metadata": {},
   "outputs": [
    {
     "data": {
      "text/plain": [
       "[[1, 2, 3], [4, 5, 6], [7, 8, 9]]"
      ]
     },
     "execution_count": 12,
     "metadata": {},
     "output_type": "execute_result"
    }
   ],
   "source": [
    "list_array"
   ]
  },
  {
   "cell_type": "code",
   "execution_count": 11,
   "id": "4dd0c0e9",
   "metadata": {},
   "outputs": [
    {
     "data": {
      "text/plain": [
       "8"
      ]
     },
     "execution_count": 11,
     "metadata": {},
     "output_type": "execute_result"
    }
   ],
   "source": [
    "list_array[2][1]"
   ]
  },
  {
   "cell_type": "code",
   "execution_count": 13,
   "id": "cd3175e4",
   "metadata": {},
   "outputs": [
    {
     "name": "stdout",
     "output_type": "stream",
     "text": [
      "[1, 2, 3]\n",
      "[4, 5, 6]\n",
      "[7, 8, 9]\n"
     ]
    }
   ],
   "source": [
    "for fila in list_array:\n",
    "    print(fila)"
   ]
  },
  {
   "cell_type": "code",
   "execution_count": 15,
   "id": "f5568c46",
   "metadata": {},
   "outputs": [
    {
     "name": "stdout",
     "output_type": "stream",
     "text": [
      "[4, 5, 6]\n"
     ]
    }
   ],
   "source": [
    "a = list_array[1]\n",
    "print(a)"
   ]
  },
  {
   "cell_type": "code",
   "execution_count": 16,
   "id": "c973e966",
   "metadata": {},
   "outputs": [
    {
     "name": "stdout",
     "output_type": "stream",
     "text": [
      "1 2 [3]\n",
      "4 5 [6]\n",
      "7 8 [9]\n"
     ]
    }
   ],
   "source": [
    "for i,j,*k in list_array:\n",
    "    print(i,j,k)"
   ]
  },
  {
   "cell_type": "code",
   "execution_count": 17,
   "id": "67925125",
   "metadata": {},
   "outputs": [],
   "source": [
    "list_array = [[100,  25, 331],\n",
    "              [412, 500,  67],\n",
    "              [ 70,   8,   9]]"
   ]
  },
  {
   "cell_type": "code",
   "execution_count": 21,
   "id": "41dcedcb",
   "metadata": {},
   "outputs": [
    {
     "name": "stdout",
     "output_type": "stream",
     "text": [
      "100,  25, 331, \n",
      "412, 500,  67, \n",
      " 70,   8,   9, \n"
     ]
    }
   ],
   "source": [
    "for row in list_array:\n",
    "    for elem in row:\n",
    "        print(f'{elem:3}',end=\", \")\n",
    "    print()"
   ]
  },
  {
   "cell_type": "code",
   "execution_count": 30,
   "id": "655b2960",
   "metadata": {},
   "outputs": [
    {
     "name": "stdout",
     "output_type": "stream",
     "text": [
      "100,  25, 331\n",
      "412, 500,  67\n",
      " 70,   8,   9\n"
     ]
    }
   ],
   "source": [
    "for row in list_array:\n",
    "    print(\", \".join(f'{x:3}' for x in row))"
   ]
  },
  {
   "cell_type": "code",
   "execution_count": 31,
   "id": "87a292f9",
   "metadata": {},
   "outputs": [
    {
     "name": "stdout",
     "output_type": "stream",
     "text": [
      "100,  25, 331\n",
      "412, 500,  67\n",
      " 70,   8,   9\n"
     ]
    }
   ],
   "source": [
    "for row in list_array:\n",
    "    aux = []\n",
    "    for elem in row:\n",
    "        aux.append(f'{elem:3}')\n",
    "    print(\", \".join(aux))"
   ]
  },
  {
   "cell_type": "code",
   "execution_count": 33,
   "id": "1cdd977d",
   "metadata": {},
   "outputs": [
    {
     "name": "stdout",
     "output_type": "stream",
     "text": [
      "100,  25, 331\n",
      "412, 500,  67\n",
      " 70,   8,   9\n"
     ]
    }
   ],
   "source": [
    "for row in list_array:\n",
    "    for i,elem in enumerate(row):\n",
    "        print(f'{elem:3}',end=\"\")\n",
    "        if i<len(row)-1:\n",
    "            print(\", \", end=\"\")\n",
    "    print()"
   ]
  },
  {
   "cell_type": "markdown",
   "id": "3d539bc2",
   "metadata": {},
   "source": [
    "### Ejercicio lista de listas\n",
    "\n",
    "Un centro deportivo tiene 5 pistas de tenis.\n",
    "\n",
    "Nos dan una cadena con líneas con:\n",
    "\n",
    "dia,mes,pista,nºreservas\n",
    "\n",
    "Queremos crear una matriz con nº reservas por mes y pista."
   ]
  },
  {
   "cell_type": "code",
   "execution_count": 70,
   "id": "8331a905",
   "metadata": {},
   "outputs": [
    {
     "data": {
      "text/plain": [
       "'10,1,3,2\\n11,1,3,1\\n12,1,2,5\\n20,10,0,10\\n21,10,0,15'"
      ]
     },
     "execution_count": 70,
     "metadata": {},
     "output_type": "execute_result"
    }
   ],
   "source": [
    "reservas = \"\"\"\\\n",
    "10,1,3,2\n",
    "11,1,3,1\n",
    "12,1,2,5\n",
    "20,10,0,10\n",
    "21,10,0,15\\\n",
    "\"\"\"\n",
    "\n",
    "reservas"
   ]
  },
  {
   "cell_type": "code",
   "execution_count": 71,
   "id": "7729555e",
   "metadata": {},
   "outputs": [
    {
     "name": "stdout",
     "output_type": "stream",
     "text": [
      "10 1 3 2\n",
      "11 1 3 1\n",
      "12 1 2 5\n",
      "20 10 0 10\n",
      "21 10 0 15\n"
     ]
    }
   ],
   "source": [
    "for linea in reservas.split('\\n'):\n",
    "    dia,mes,pista,num_res = [int(x) for x in linea.split(\",\")]\n",
    "    print(dia,mes,pista,num_res)"
   ]
  },
  {
   "cell_type": "code",
   "execution_count": 72,
   "id": "219e039d",
   "metadata": {},
   "outputs": [
    {
     "data": {
      "text/plain": [
       "21"
      ]
     },
     "execution_count": 72,
     "metadata": {},
     "output_type": "execute_result"
    }
   ],
   "source": [
    "dia"
   ]
  },
  {
   "cell_type": "code",
   "execution_count": 73,
   "id": "ad714c7d",
   "metadata": {},
   "outputs": [
    {
     "data": {
      "text/plain": [
       "[[0, 0, 0, 0, 0],\n",
       " [0, 0, 0, 0, 0],\n",
       " [0, 0, 0, 0, 0],\n",
       " [0, 0, 0, 0, 0],\n",
       " [0, 0, 0, 0, 0],\n",
       " [0, 0, 0, 0, 0],\n",
       " [0, 0, 0, 0, 0],\n",
       " [0, 0, 0, 0, 0],\n",
       " [0, 0, 0, 0, 0],\n",
       " [0, 0, 0, 0, 0],\n",
       " [0, 0, 0, 0, 0],\n",
       " [0, 0, 0, 0, 0]]"
      ]
     },
     "execution_count": 73,
     "metadata": {},
     "output_type": "execute_result"
    }
   ],
   "source": [
    "m = [[0]*5] * 12 # MAL MAL MAL MAL la lista de dentro se repite\n",
    "m = [[0]*5 for _ in range(12)] # OK ESTA BIEN\n",
    "m = [[0 for _ in range(5)] for _ in range(12)] # ok no hace falta tan complicado\n",
    "m"
   ]
  },
  {
   "cell_type": "code",
   "execution_count": 74,
   "id": "47c70835",
   "metadata": {},
   "outputs": [
    {
     "data": {
      "text/plain": [
       "[[0, 0, 0, 0, 0],\n",
       " [0, 0, 0, 0, 0],\n",
       " [0, 0, 0, 7, 0],\n",
       " [0, 0, 0, 0, 0],\n",
       " [0, 0, 0, 0, 0],\n",
       " [0, 0, 0, 0, 0],\n",
       " [0, 0, 0, 0, 0],\n",
       " [0, 0, 0, 0, 0],\n",
       " [0, 0, 0, 0, 0],\n",
       " [0, 0, 0, 0, 0],\n",
       " [0, 0, 0, 0, 0],\n",
       " [0, 0, 0, 0, 0]]"
      ]
     },
     "execution_count": 74,
     "metadata": {},
     "output_type": "execute_result"
    }
   ],
   "source": [
    "m[2][3] = 7\n",
    "m"
   ]
  },
  {
   "cell_type": "code",
   "execution_count": 75,
   "id": "9fe47ecb",
   "metadata": {},
   "outputs": [
    {
     "data": {
      "text/plain": [
       "[0, 0, 0, 0, 0]"
      ]
     },
     "execution_count": 75,
     "metadata": {},
     "output_type": "execute_result"
    }
   ],
   "source": [
    "v = [0]*5\n",
    "v"
   ]
  },
  {
   "cell_type": "code",
   "execution_count": 76,
   "id": "57544c1a",
   "metadata": {},
   "outputs": [
    {
     "data": {
      "text/plain": [
       "[0, 2, 0, 0, 0]"
      ]
     },
     "execution_count": 76,
     "metadata": {},
     "output_type": "execute_result"
    }
   ],
   "source": [
    "v[1] = 2\n",
    "v"
   ]
  },
  {
   "cell_type": "code",
   "execution_count": 84,
   "id": "9178501f",
   "metadata": {},
   "outputs": [
    {
     "data": {
      "text/plain": [
       "[[0, 0, 5, 3, 0],\n",
       " [0, 0, 0, 0, 0],\n",
       " [0, 0, 0, 0, 0],\n",
       " [0, 0, 0, 0, 0],\n",
       " [0, 0, 0, 0, 0],\n",
       " [0, 0, 0, 0, 0],\n",
       " [0, 0, 0, 0, 0],\n",
       " [0, 0, 0, 0, 0],\n",
       " [0, 0, 0, 0, 0],\n",
       " [25, 0, 0, 0, 0],\n",
       " [0, 0, 0, 0, 0],\n",
       " [0, 0, 0, 0, 0]]"
      ]
     },
     "execution_count": 84,
     "metadata": {},
     "output_type": "execute_result"
    }
   ],
   "source": [
    "m = [[0]*5 for _ in range(12)] # matriz 12 filas 5 columnas\n",
    "for linea in reservas.split('\\n'):\n",
    "    dia,mes,pista,num_res = [int(x) for x in linea.split(\",\")]\n",
    "    m[mes-1][pista] += num_res\n",
    "    # m[mes-1, pista] += num_res # error en una lista de lista, en numpy ok\n",
    "m"
   ]
  },
  {
   "cell_type": "code",
   "execution_count": 78,
   "id": "069b03b3",
   "metadata": {},
   "outputs": [],
   "source": [
    "import numpy as np"
   ]
  },
  {
   "cell_type": "code",
   "execution_count": 82,
   "id": "981ac1ab",
   "metadata": {},
   "outputs": [
    {
     "data": {
      "text/plain": [
       "array([[ 0,  0,  5,  3,  0],\n",
       "       [ 0,  0,  0,  0,  0],\n",
       "       [ 0,  0,  0,  0,  0],\n",
       "       [ 0,  0,  0,  0,  0],\n",
       "       [ 0,  0,  0,  0,  0],\n",
       "       [ 0,  0,  0,  0,  0],\n",
       "       [ 0,  0,  0,  0,  0],\n",
       "       [ 0,  0,  0,  0,  0],\n",
       "       [ 0,  0,  0,  0,  0],\n",
       "       [25,  0,  0,  0,  0],\n",
       "       [ 0,  0,  0,  0,  0],\n",
       "       [ 0,  0,  0,  0,  0]])"
      ]
     },
     "execution_count": 82,
     "metadata": {},
     "output_type": "execute_result"
    }
   ],
   "source": [
    "m = np.zeros((12,5), dtype=int)\n",
    "for linea in reservas.split('\\n'):\n",
    "    dia,mes,pista,num_res = [int(x) for x in linea.split(\",\")]\n",
    "    # m[mes-1][pista] += num_res\n",
    "    m[mes-1, pista] += num_res\n",
    "m"
   ]
  },
  {
   "cell_type": "markdown",
   "id": "cf2d4c8d",
   "metadata": {},
   "source": [
    "### Copiar listas de listas"
   ]
  },
  {
   "cell_type": "code",
   "execution_count": 85,
   "id": "8e91444b",
   "metadata": {},
   "outputs": [],
   "source": [
    "list_array = [[1,2,3],\n",
    "              [4,5,6],\n",
    "              [7,8,9]]"
   ]
  },
  {
   "cell_type": "code",
   "execution_count": 88,
   "id": "6ffe3776",
   "metadata": {},
   "outputs": [],
   "source": [
    "otra_ref = list_array\n",
    "copia = list_array.copy()"
   ]
  },
  {
   "cell_type": "code",
   "execution_count": 89,
   "id": "e00db4d4",
   "metadata": {},
   "outputs": [
    {
     "name": "stdout",
     "output_type": "stream",
     "text": [
      "2953453351296\n",
      "2953453351296\n",
      "2953453350272\n"
     ]
    }
   ],
   "source": [
    "print(id(list_array))\n",
    "print(id(otra_ref))\n",
    "print(id(copia))"
   ]
  },
  {
   "cell_type": "code",
   "execution_count": 90,
   "id": "a19fa974",
   "metadata": {},
   "outputs": [],
   "source": [
    "copia.append(\"hola\")"
   ]
  },
  {
   "cell_type": "code",
   "execution_count": 91,
   "id": "16e9e86d",
   "metadata": {},
   "outputs": [
    {
     "data": {
      "text/plain": [
       "[[100, 2, 3], [4, 5, 6], [7, 8, 9]]"
      ]
     },
     "execution_count": 91,
     "metadata": {},
     "output_type": "execute_result"
    }
   ],
   "source": [
    "list_array"
   ]
  },
  {
   "cell_type": "code",
   "execution_count": 92,
   "id": "84e511aa",
   "metadata": {},
   "outputs": [
    {
     "data": {
      "text/plain": [
       "[[100, 2, 3], [4, 5, 6], [7, 8, 9]]"
      ]
     },
     "execution_count": 92,
     "metadata": {},
     "output_type": "execute_result"
    }
   ],
   "source": [
    "otra_ref"
   ]
  },
  {
   "cell_type": "code",
   "execution_count": 93,
   "id": "af39f7a0",
   "metadata": {},
   "outputs": [
    {
     "data": {
      "text/plain": [
       "[[100, 2, 3], [4, 5, 6], [7, 8, 9], 'hola']"
      ]
     },
     "execution_count": 93,
     "metadata": {},
     "output_type": "execute_result"
    }
   ],
   "source": [
    "copia"
   ]
  },
  {
   "cell_type": "code",
   "execution_count": 94,
   "id": "36abd6f2",
   "metadata": {},
   "outputs": [
    {
     "name": "stdout",
     "output_type": "stream",
     "text": [
      "2953453195392\n",
      "2953453195392\n"
     ]
    }
   ],
   "source": [
    "print(id(list_array[0]))\n",
    "print(id(copia[0]))"
   ]
  },
  {
   "cell_type": "code",
   "execution_count": 95,
   "id": "c09ca7af",
   "metadata": {},
   "outputs": [
    {
     "data": {
      "text/plain": [
       "[[100, 2, 3], [4, 5, 6], [7, 8, 9]]"
      ]
     },
     "execution_count": 95,
     "metadata": {},
     "output_type": "execute_result"
    }
   ],
   "source": [
    "copia[0][0] = 100\n",
    "\n",
    "list_array"
   ]
  },
  {
   "cell_type": "code",
   "execution_count": 96,
   "id": "d53bf4ad",
   "metadata": {},
   "outputs": [],
   "source": [
    "list_array = [[1,2,3],\n",
    "              [4,5,6],\n",
    "              [7,8,9]]\n",
    "\n",
    "copia = [fila.copy() for fila in list_array]"
   ]
  },
  {
   "cell_type": "code",
   "execution_count": 97,
   "id": "7fe9b119",
   "metadata": {},
   "outputs": [
    {
     "data": {
      "text/plain": [
       "[[100, 2, 3], [4, 5, 6], [7, 8, 9]]"
      ]
     },
     "execution_count": 97,
     "metadata": {},
     "output_type": "execute_result"
    }
   ],
   "source": [
    "copia[0][0] = 100\n",
    "copia"
   ]
  },
  {
   "cell_type": "code",
   "execution_count": 98,
   "id": "0f1bf443",
   "metadata": {},
   "outputs": [
    {
     "data": {
      "text/plain": [
       "[[1, 2, 3], [4, 5, 6], [7, 8, 9]]"
      ]
     },
     "execution_count": 98,
     "metadata": {},
     "output_type": "execute_result"
    }
   ],
   "source": [
    "list_array"
   ]
  },
  {
   "cell_type": "code",
   "execution_count": 99,
   "id": "0cf0bd95",
   "metadata": {},
   "outputs": [
    {
     "data": {
      "text/plain": [
       "[[1, 2, 3], [4, 5, 6], [7, 8, 9]]"
      ]
     },
     "execution_count": 99,
     "metadata": {},
     "output_type": "execute_result"
    }
   ],
   "source": [
    "import copy\n",
    "copia2 = copy.deepcopy(list_array)\n",
    "copia2"
   ]
  },
  {
   "cell_type": "code",
   "execution_count": 100,
   "id": "7bc62212",
   "metadata": {},
   "outputs": [
    {
     "data": {
      "text/plain": [
       "[[2000, 2, 3], [4, 5, 6], [7, 8, 9]]"
      ]
     },
     "execution_count": 100,
     "metadata": {},
     "output_type": "execute_result"
    }
   ],
   "source": [
    "copia2[0][0] = 2000\n",
    "copia2"
   ]
  },
  {
   "cell_type": "code",
   "execution_count": 101,
   "id": "82b41ca6",
   "metadata": {},
   "outputs": [
    {
     "data": {
      "text/plain": [
       "[[1, 2, 3], [4, 5, 6], [7, 8, 9]]"
      ]
     },
     "execution_count": 101,
     "metadata": {},
     "output_type": "execute_result"
    }
   ],
   "source": [
    "list_array"
   ]
  },
  {
   "cell_type": "markdown",
   "id": "c5f847a7",
   "metadata": {},
   "source": [
    "### barbaridad"
   ]
  },
  {
   "cell_type": "code",
   "execution_count": 102,
   "id": "372243c2",
   "metadata": {},
   "outputs": [],
   "source": [
    "a = []"
   ]
  },
  {
   "cell_type": "code",
   "execution_count": 103,
   "id": "f9b93224",
   "metadata": {},
   "outputs": [],
   "source": [
    "a.append(a)"
   ]
  },
  {
   "cell_type": "code",
   "execution_count": 104,
   "id": "b843439d",
   "metadata": {},
   "outputs": [
    {
     "data": {
      "text/plain": [
       "[[...]]"
      ]
     },
     "execution_count": 104,
     "metadata": {},
     "output_type": "execute_result"
    }
   ],
   "source": [
    "a"
   ]
  },
  {
   "cell_type": "code",
   "execution_count": 105,
   "id": "f2f7f1d1",
   "metadata": {},
   "outputs": [],
   "source": [
    "b = copy.deepcopy(a)"
   ]
  },
  {
   "cell_type": "code",
   "execution_count": 106,
   "id": "058fbdb6",
   "metadata": {},
   "outputs": [
    {
     "data": {
      "text/plain": [
       "[[...]]"
      ]
     },
     "execution_count": 106,
     "metadata": {},
     "output_type": "execute_result"
    }
   ],
   "source": [
    "b"
   ]
  },
  {
   "cell_type": "code",
   "execution_count": 107,
   "id": "a7170893",
   "metadata": {},
   "outputs": [
    {
     "data": {
      "text/plain": [
       "True"
      ]
     },
     "execution_count": 107,
     "metadata": {},
     "output_type": "execute_result"
    }
   ],
   "source": [
    "a[0] is a"
   ]
  },
  {
   "cell_type": "code",
   "execution_count": 108,
   "id": "c16faff4",
   "metadata": {},
   "outputs": [
    {
     "data": {
      "text/plain": [
       "True"
      ]
     },
     "execution_count": 108,
     "metadata": {},
     "output_type": "execute_result"
    }
   ],
   "source": [
    "b[0] is b"
   ]
  },
  {
   "cell_type": "code",
   "execution_count": 109,
   "id": "cb05d93a",
   "metadata": {},
   "outputs": [
    {
     "data": {
      "text/plain": [
       "False"
      ]
     },
     "execution_count": 109,
     "metadata": {},
     "output_type": "execute_result"
    }
   ],
   "source": [
    "a is b"
   ]
  },
  {
   "cell_type": "markdown",
   "id": "70377818",
   "metadata": {},
   "source": [
    "### Jagged list"
   ]
  },
  {
   "cell_type": "code",
   "execution_count": 110,
   "id": "9fe734ac",
   "metadata": {},
   "outputs": [],
   "source": [
    "import random"
   ]
  },
  {
   "cell_type": "code",
   "execution_count": 111,
   "id": "5cc5cd23",
   "metadata": {},
   "outputs": [
    {
     "data": {
      "text/plain": [
       "36"
      ]
     },
     "execution_count": 111,
     "metadata": {},
     "output_type": "execute_result"
    }
   ],
   "source": [
    "random.randint(1,100)"
   ]
  },
  {
   "cell_type": "code",
   "execution_count": 112,
   "id": "6c25f50e",
   "metadata": {},
   "outputs": [
    {
     "data": {
      "text/plain": [
       "[98, 45, 85, 80, 41]"
      ]
     },
     "execution_count": 112,
     "metadata": {},
     "output_type": "execute_result"
    }
   ],
   "source": [
    "[random.randint(1,100) for _ in range(5)]"
   ]
  },
  {
   "cell_type": "code",
   "execution_count": 115,
   "id": "6da504e3",
   "metadata": {},
   "outputs": [
    {
     "data": {
      "text/plain": [
       "[96, 96, 96, 96, 96]"
      ]
     },
     "execution_count": 115,
     "metadata": {},
     "output_type": "execute_result"
    }
   ],
   "source": [
    "[random.randint(1,100)] * 5"
   ]
  },
  {
   "cell_type": "code",
   "execution_count": 118,
   "id": "f9b7953c",
   "metadata": {},
   "outputs": [
    {
     "data": {
      "text/plain": [
       "[[80], [18, 93], [68, 85, 17], [18, 37, 62, 15], [3, 76, 47, 98, 29]]"
      ]
     },
     "execution_count": 118,
     "metadata": {},
     "output_type": "execute_result"
    }
   ],
   "source": [
    "[[random.randint(1,100) for _ in range(i+1)] for i in range(5)]"
   ]
  },
  {
   "cell_type": "code",
   "execution_count": 123,
   "id": "f911cc26",
   "metadata": {},
   "outputs": [
    {
     "data": {
      "text/plain": [
       "[[1, 2, 3, 4], [5, 6, 7, 8], [9, 10, 11, 12], [13, 14, 15, 16]]"
      ]
     },
     "execution_count": 123,
     "metadata": {},
     "output_type": "execute_result"
    }
   ],
   "source": [
    "n = 4\n",
    "[list(range(1+i*n,(i+1)*n+1)) for i in range(n)]"
   ]
  },
  {
   "cell_type": "code",
   "execution_count": 124,
   "id": "289b1f8d",
   "metadata": {},
   "outputs": [
    {
     "data": {
      "text/plain": [
       "[[1, 2, 3, 4], [5, 6, 7, 8], [9, 10, 11, 12], [13, 14, 15, 16]]"
      ]
     },
     "execution_count": 124,
     "metadata": {},
     "output_type": "execute_result"
    }
   ],
   "source": [
    "resul = []\n",
    "d = 1\n",
    "for i in range(n):\n",
    "    fila = []\n",
    "    for j in range(n):\n",
    "        fila.append(d)\n",
    "        d+=1\n",
    "    resul.append(fila)\n",
    "resul"
   ]
  },
  {
   "cell_type": "markdown",
   "id": "adb32e30",
   "metadata": {},
   "source": [
    "### Ejercicio slide 281"
   ]
  },
  {
   "cell_type": "code",
   "execution_count": 128,
   "id": "05eb9cec",
   "metadata": {},
   "outputs": [
    {
     "name": "stdout",
     "output_type": "stream",
     "text": [
      "Introduce n: 8\n"
     ]
    },
    {
     "data": {
      "text/plain": [
       "[[1, 0, 1, 0, 1, 0, 1, 0],\n",
       " [0, 1, 0, 1, 0, 1, 0, 1],\n",
       " [1, 0, 1, 0, 1, 0, 1, 0],\n",
       " [0, 1, 0, 1, 0, 1, 0, 1],\n",
       " [1, 0, 1, 0, 1, 0, 1, 0],\n",
       " [0, 1, 0, 1, 0, 1, 0, 1],\n",
       " [1, 0, 1, 0, 1, 0, 1, 0],\n",
       " [0, 1, 0, 1, 0, 1, 0, 1]]"
      ]
     },
     "execution_count": 128,
     "metadata": {},
     "output_type": "execute_result"
    }
   ],
   "source": [
    "def crea_matriz( n ):\n",
    "    # COMPLETAR\n",
    "    m = []\n",
    "    for i in range(1,n+1):\n",
    "        m.append([j%2 for j in range(i%2,i%2+n)])\n",
    "    return m\n",
    "    \n",
    "# pedir n y llamar a crea_matriz\n",
    "n = int(input(\"Introduce n: \"))\n",
    "crea_matriz(n)"
   ]
  },
  {
   "cell_type": "code",
   "execution_count": 130,
   "id": "2a69de0c",
   "metadata": {
    "scrolled": true
   },
   "outputs": [
    {
     "name": "stdout",
     "output_type": "stream",
     "text": [
      "Introduce n: 5\n"
     ]
    },
    {
     "data": {
      "text/plain": [
       "[[1, 0, 1, 0, 1],\n",
       " [0, 1, 0, 1, 0],\n",
       " [1, 0, 1, 0, 1],\n",
       " [0, 1, 0, 1, 0],\n",
       " [1, 0, 1, 0, 1]]"
      ]
     },
     "execution_count": 130,
     "metadata": {},
     "output_type": "execute_result"
    }
   ],
   "source": [
    "def crea_matriz( n ):\n",
    "    return [[j%2 for j in range(i%2,i%2+n)] for i in range(1,n+1)]\n",
    "\n",
    "# pedir n y llamar a crea_matriz\n",
    "n = int(input(\"Introduce n: \"))\n",
    "crea_matriz(n)"
   ]
  },
  {
   "cell_type": "code",
   "execution_count": 129,
   "id": "a8c48821",
   "metadata": {},
   "outputs": [
    {
     "name": "stdout",
     "output_type": "stream",
     "text": [
      "Introduce n: 8\n"
     ]
    },
    {
     "data": {
      "text/plain": [
       "[[1, 0, 1, 0, 1, 0, 1, 0],\n",
       " [0, 1, 0, 1, 0, 1, 0, 1],\n",
       " [1, 0, 1, 0, 1, 0, 1, 0],\n",
       " [0, 1, 0, 1, 0, 1, 0, 1],\n",
       " [1, 0, 1, 0, 1, 0, 1, 0],\n",
       " [0, 1, 0, 1, 0, 1, 0, 1],\n",
       " [1, 0, 1, 0, 1, 0, 1, 0],\n",
       " [0, 1, 0, 1, 0, 1, 0, 1]]"
      ]
     },
     "execution_count": 129,
     "metadata": {},
     "output_type": "execute_result"
    }
   ],
   "source": [
    "def crea_matriz( n ):\n",
    "    # COMPLETAR\n",
    "    m = []\n",
    "    d = 1\n",
    "    for i in range(n):\n",
    "        e = d\n",
    "        fila = []\n",
    "        for j in range(n):\n",
    "            fila.append(e)\n",
    "            e = 1-e\n",
    "        m.append(fila)\n",
    "        d = 1-d\n",
    "    return m\n",
    "    \n",
    "# pedir n y llamar a crea_matriz\n",
    "n = int(input(\"Introduce n: \"))\n",
    "crea_matriz(n)"
   ]
  },
  {
   "cell_type": "code",
   "execution_count": 131,
   "id": "9dd0a950",
   "metadata": {},
   "outputs": [
    {
     "name": "stdout",
     "output_type": "stream",
     "text": [
      "Introduce n: 5\n"
     ]
    },
    {
     "data": {
      "text/plain": [
       "[[1, 0, 1, 0, 1],\n",
       " [0, 1, 0, 1, 0],\n",
       " [1, 0, 1, 0, 1],\n",
       " [0, 1, 0, 1, 0],\n",
       " [1, 0, 1, 0, 1]]"
      ]
     },
     "execution_count": 131,
     "metadata": {},
     "output_type": "execute_result"
    }
   ],
   "source": [
    "def crea_matriz( n ):\n",
    "    return [[(i+j+1)%2 for j in range(n)] for i in range(n)]\n",
    "\n",
    "# pedir n y llamar a crea_matriz\n",
    "n = int(input(\"Introduce n: \"))\n",
    "crea_matriz(n)"
   ]
  },
  {
   "cell_type": "markdown",
   "id": "ffe7ff96",
   "metadata": {},
   "source": [
    "## Contar con diccionarios"
   ]
  },
  {
   "cell_type": "code",
   "execution_count": 132,
   "id": "a0aae140",
   "metadata": {},
   "outputs": [],
   "source": [
    "cadena = \"abababbbbaaacccdeeaabeeedde\""
   ]
  },
  {
   "cell_type": "code",
   "execution_count": 133,
   "id": "abac64de",
   "metadata": {},
   "outputs": [
    {
     "data": {
      "text/plain": [
       "8"
      ]
     },
     "execution_count": 133,
     "metadata": {},
     "output_type": "execute_result"
    }
   ],
   "source": [
    "cadena.count('a')"
   ]
  },
  {
   "cell_type": "code",
   "execution_count": 134,
   "id": "0877fed8",
   "metadata": {},
   "outputs": [
    {
     "data": {
      "text/plain": [
       "{'a': 8, 'b': 7, 'c': 3, 'd': 3, 'e': 6}"
      ]
     },
     "execution_count": 134,
     "metadata": {},
     "output_type": "execute_result"
    }
   ],
   "source": [
    "d = {}\n",
    "for ch in cadena:\n",
    "    if ch not in d:\n",
    "        d[ch] = 0\n",
    "    d[ch] += 1\n",
    "d"
   ]
  },
  {
   "cell_type": "code",
   "execution_count": 139,
   "id": "e7293df1",
   "metadata": {},
   "outputs": [
    {
     "data": {
      "text/plain": [
       "8"
      ]
     },
     "execution_count": 139,
     "metadata": {},
     "output_type": "execute_result"
    }
   ],
   "source": [
    "d.get('a',0)"
   ]
  },
  {
   "cell_type": "code",
   "execution_count": 140,
   "id": "4b052ae5",
   "metadata": {},
   "outputs": [
    {
     "data": {
      "text/plain": [
       "0"
      ]
     },
     "execution_count": 140,
     "metadata": {},
     "output_type": "execute_result"
    }
   ],
   "source": [
    "d.get('x',0)"
   ]
  },
  {
   "cell_type": "code",
   "execution_count": 141,
   "id": "c4b6454a",
   "metadata": {},
   "outputs": [
    {
     "data": {
      "text/plain": [
       "{'a': 8, 'b': 7, 'c': 3, 'd': 3, 'e': 6}"
      ]
     },
     "execution_count": 141,
     "metadata": {},
     "output_type": "execute_result"
    }
   ],
   "source": [
    "d = {}\n",
    "for ch in cadena:\n",
    "    d[ch] = d.get(ch,0) + 1\n",
    "d"
   ]
  },
  {
   "cell_type": "markdown",
   "id": "e8b99d55",
   "metadata": {},
   "source": [
    "### diferencia entre `get` y `setdefault`"
   ]
  },
  {
   "cell_type": "code",
   "execution_count": 142,
   "id": "f8de4d4e",
   "metadata": {},
   "outputs": [],
   "source": [
    "d = {'a':8, 'b':4}"
   ]
  },
  {
   "cell_type": "code",
   "execution_count": 143,
   "id": "29aa1a30",
   "metadata": {},
   "outputs": [
    {
     "data": {
      "text/plain": [
       "8"
      ]
     },
     "execution_count": 143,
     "metadata": {},
     "output_type": "execute_result"
    }
   ],
   "source": [
    "d.get('a',10000) # la clave está, el default SE IGNORA"
   ]
  },
  {
   "cell_type": "code",
   "execution_count": 144,
   "id": "d58e9a40",
   "metadata": {},
   "outputs": [
    {
     "data": {
      "text/plain": [
       "10000"
      ]
     },
     "execution_count": 144,
     "metadata": {},
     "output_type": "execute_result"
    }
   ],
   "source": [
    "d.get('x',10000) # la clave no está, devolvemos default, d NO CAMBIA"
   ]
  },
  {
   "cell_type": "code",
   "execution_count": 145,
   "id": "e9513f22",
   "metadata": {},
   "outputs": [
    {
     "data": {
      "text/plain": [
       "{'a': 8, 'b': 4}"
      ]
     },
     "execution_count": 145,
     "metadata": {},
     "output_type": "execute_result"
    }
   ],
   "source": [
    "d # d no ha cambiado:"
   ]
  },
  {
   "cell_type": "code",
   "execution_count": 146,
   "id": "d56ed374",
   "metadata": {},
   "outputs": [
    {
     "data": {
      "text/plain": [
       "8"
      ]
     },
     "execution_count": 146,
     "metadata": {},
     "output_type": "execute_result"
    }
   ],
   "source": [
    "d.setdefault('a',10000) # lo mismo que get (la clave está, default se ignora)"
   ]
  },
  {
   "cell_type": "code",
   "execution_count": 147,
   "id": "a7d48c2c",
   "metadata": {},
   "outputs": [
    {
     "data": {
      "text/plain": [
       "10000"
      ]
     },
     "execution_count": 147,
     "metadata": {},
     "output_type": "execute_result"
    }
   ],
   "source": [
    "d.setdefault('x',10000) # 'x' no está, devuelvo 10000"
   ]
  },
  {
   "cell_type": "code",
   "execution_count": 148,
   "id": "286fed5b",
   "metadata": {},
   "outputs": [
    {
     "data": {
      "text/plain": [
       "{'a': 8, 'b': 4, 'x': 10000}"
      ]
     },
     "execution_count": 148,
     "metadata": {},
     "output_type": "execute_result"
    }
   ],
   "source": [
    "d"
   ]
  },
  {
   "cell_type": "code",
   "execution_count": 149,
   "id": "066e1f00",
   "metadata": {},
   "outputs": [
    {
     "data": {
      "text/plain": [
       "{'a': 8, 'b': 7, 'c': 3, 'd': 3, 'e': 6}"
      ]
     },
     "execution_count": 149,
     "metadata": {},
     "output_type": "execute_result"
    }
   ],
   "source": [
    "d = {}\n",
    "for ch in cadena:\n",
    "    d[ch] = d.setdefault(ch,0) + 1 # funciona, serviría d.get\n",
    "d"
   ]
  },
  {
   "cell_type": "code",
   "execution_count": 150,
   "id": "fc405a4d",
   "metadata": {},
   "outputs": [
    {
     "data": {
      "text/plain": [
       "{'a': 8, 'b': 7, 'c': 3, 'd': 3, 'e': 6}"
      ]
     },
     "execution_count": 150,
     "metadata": {},
     "output_type": "execute_result"
    }
   ],
   "source": [
    "d = {}\n",
    "for ch in cadena:\n",
    "    d.setdefault(ch,0) # si ch no está en d, lo añade con valor 0\n",
    "    d[ch] += 1\n",
    "d"
   ]
  },
  {
   "cell_type": "code",
   "execution_count": 151,
   "id": "b1133d8e",
   "metadata": {},
   "outputs": [],
   "source": [
    "import collections"
   ]
  },
  {
   "cell_type": "code",
   "execution_count": 152,
   "id": "b2e6308e",
   "metadata": {},
   "outputs": [
    {
     "data": {
      "text/plain": [
       "Counter({'a': 8, 'b': 7, 'c': 3, 'd': 3, 'e': 6})"
      ]
     },
     "execution_count": 152,
     "metadata": {},
     "output_type": "execute_result"
    }
   ],
   "source": [
    "d = collections.Counter(cadena)\n",
    "d"
   ]
  },
  {
   "cell_type": "code",
   "execution_count": 153,
   "id": "964c859e",
   "metadata": {},
   "outputs": [],
   "source": [
    "def devuelvo_cero():\n",
    "    print(\"ejecutan devuelvo_cero\")\n",
    "    return 0"
   ]
  },
  {
   "cell_type": "code",
   "execution_count": 154,
   "id": "bec819b4",
   "metadata": {},
   "outputs": [
    {
     "name": "stdout",
     "output_type": "stream",
     "text": [
      "ejecutan devuelvo_cero\n"
     ]
    },
    {
     "data": {
      "text/plain": [
       "0"
      ]
     },
     "execution_count": 154,
     "metadata": {},
     "output_type": "execute_result"
    }
   ],
   "source": [
    "devuelvo_cero()"
   ]
  },
  {
   "cell_type": "code",
   "execution_count": 155,
   "id": "b020a473",
   "metadata": {},
   "outputs": [],
   "source": [
    "d = collections.defaultdict(devuelvo_cero)"
   ]
  },
  {
   "cell_type": "code",
   "execution_count": 156,
   "id": "a2d95317",
   "metadata": {},
   "outputs": [
    {
     "data": {
      "text/plain": [
       "defaultdict(<function __main__.devuelvo_cero()>, {})"
      ]
     },
     "execution_count": 156,
     "metadata": {},
     "output_type": "execute_result"
    }
   ],
   "source": [
    "d"
   ]
  },
  {
   "cell_type": "code",
   "execution_count": 157,
   "id": "7414b76e",
   "metadata": {},
   "outputs": [],
   "source": [
    "d['casa'] = 10"
   ]
  },
  {
   "cell_type": "code",
   "execution_count": 158,
   "id": "e6d265cf",
   "metadata": {},
   "outputs": [
    {
     "data": {
      "text/plain": [
       "defaultdict(<function __main__.devuelvo_cero()>, {'casa': 10})"
      ]
     },
     "execution_count": 158,
     "metadata": {},
     "output_type": "execute_result"
    }
   ],
   "source": [
    "d"
   ]
  },
  {
   "cell_type": "code",
   "execution_count": 159,
   "id": "b018aba9",
   "metadata": {},
   "outputs": [
    {
     "data": {
      "text/plain": [
       "10"
      ]
     },
     "execution_count": 159,
     "metadata": {},
     "output_type": "execute_result"
    }
   ],
   "source": [
    "d['casa']"
   ]
  },
  {
   "cell_type": "code",
   "execution_count": 160,
   "id": "8397f8f4",
   "metadata": {},
   "outputs": [
    {
     "name": "stdout",
     "output_type": "stream",
     "text": [
      "ejecutan devuelvo_cero\n"
     ]
    },
    {
     "data": {
      "text/plain": [
       "0"
      ]
     },
     "execution_count": 160,
     "metadata": {},
     "output_type": "execute_result"
    }
   ],
   "source": [
    "d['gato']"
   ]
  },
  {
   "cell_type": "code",
   "execution_count": 161,
   "id": "5dfa0d64",
   "metadata": {},
   "outputs": [
    {
     "data": {
      "text/plain": [
       "defaultdict(<function __main__.devuelvo_cero()>, {'casa': 10, 'gato': 0})"
      ]
     },
     "execution_count": 161,
     "metadata": {},
     "output_type": "execute_result"
    }
   ],
   "source": [
    "d"
   ]
  },
  {
   "cell_type": "code",
   "execution_count": 162,
   "id": "7b1b09ea",
   "metadata": {},
   "outputs": [
    {
     "data": {
      "text/plain": [
       "0"
      ]
     },
     "execution_count": 162,
     "metadata": {},
     "output_type": "execute_result"
    }
   ],
   "source": [
    "int()"
   ]
  },
  {
   "cell_type": "code",
   "execution_count": 163,
   "id": "8a0016f6",
   "metadata": {},
   "outputs": [
    {
     "data": {
      "text/plain": [
       "0.0"
      ]
     },
     "execution_count": 163,
     "metadata": {},
     "output_type": "execute_result"
    }
   ],
   "source": [
    "float()"
   ]
  },
  {
   "cell_type": "code",
   "execution_count": 164,
   "id": "9287041d",
   "metadata": {},
   "outputs": [
    {
     "data": {
      "text/plain": [
       "[]"
      ]
     },
     "execution_count": 164,
     "metadata": {},
     "output_type": "execute_result"
    }
   ],
   "source": [
    "list()"
   ]
  },
  {
   "cell_type": "code",
   "execution_count": 168,
   "id": "fc06a0f3",
   "metadata": {},
   "outputs": [
    {
     "data": {
      "text/plain": [
       "defaultdict(int, {'a': 8, 'b': 7, 'c': 3, 'd': 3, 'e': 6})"
      ]
     },
     "execution_count": 168,
     "metadata": {},
     "output_type": "execute_result"
    }
   ],
   "source": [
    "d = collections.defaultdict(int)\n",
    "for ch in cadena:\n",
    "    d[ch] += 1\n",
    "d"
   ]
  },
  {
   "cell_type": "markdown",
   "id": "58f735b0",
   "metadata": {},
   "source": [
    "### update"
   ]
  },
  {
   "cell_type": "code",
   "execution_count": 169,
   "id": "fdaa2395",
   "metadata": {},
   "outputs": [],
   "source": [
    "d = {1:2, 3:4}"
   ]
  },
  {
   "cell_type": "code",
   "execution_count": 170,
   "id": "7bdf6fcf",
   "metadata": {},
   "outputs": [],
   "source": [
    "otro = {1:100, 5:500}"
   ]
  },
  {
   "cell_type": "code",
   "execution_count": 171,
   "id": "47dcadf4",
   "metadata": {},
   "outputs": [
    {
     "data": {
      "text/plain": [
       "{1: 100, 3: 4, 5: 500}"
      ]
     },
     "execution_count": 171,
     "metadata": {},
     "output_type": "execute_result"
    }
   ],
   "source": [
    "d.update(otro) # update pasándole otro diccionario\n",
    "d"
   ]
  },
  {
   "cell_type": "code",
   "execution_count": 172,
   "id": "a9053032",
   "metadata": {},
   "outputs": [
    {
     "data": {
      "text/plain": [
       "{'rojo': 'red', 'azul': 'blue', 'verde': 'green', 'blanco': 'white'}"
      ]
     },
     "execution_count": 172,
     "metadata": {},
     "output_type": "execute_result"
    }
   ],
   "source": [
    "d = {'rojo':'red', 'azul':'¿¿??', 'verde':'green'}\n",
    "d.update(azul='blue', blanco='white') # usando argumentos con nombre\n",
    "d"
   ]
  },
  {
   "cell_type": "code",
   "execution_count": 173,
   "id": "cc36041f",
   "metadata": {},
   "outputs": [
    {
     "name": "stdout",
     "output_type": "stream",
     "text": [
      "hola 20 30\n"
     ]
    }
   ],
   "source": [
    "def f(x,y,z):\n",
    "    print(x,y,z)\n",
    "    \n",
    "f(\"hola\",20,30)"
   ]
  },
  {
   "cell_type": "code",
   "execution_count": 179,
   "id": "119a9286",
   "metadata": {},
   "outputs": [
    {
     "name": "stdout",
     "output_type": "stream",
     "text": [
      "1 2 3\n"
     ]
    }
   ],
   "source": [
    "f(1,2,3)"
   ]
  },
  {
   "cell_type": "code",
   "execution_count": 180,
   "id": "09d684da",
   "metadata": {},
   "outputs": [
    {
     "name": "stdout",
     "output_type": "stream",
     "text": [
      "3 1 2\n"
     ]
    }
   ],
   "source": [
    "f(y=1,z=2,x=3)"
   ]
  },
  {
   "cell_type": "code",
   "execution_count": 174,
   "id": "71e85608",
   "metadata": {},
   "outputs": [],
   "source": [
    "def g(x,y,*resto):\n",
    "    print(x,y,resto)"
   ]
  },
  {
   "cell_type": "code",
   "execution_count": 175,
   "id": "d80082e3",
   "metadata": {},
   "outputs": [
    {
     "name": "stdout",
     "output_type": "stream",
     "text": [
      "1 2 ()\n"
     ]
    }
   ],
   "source": [
    "g(1,2)"
   ]
  },
  {
   "cell_type": "code",
   "execution_count": 176,
   "id": "04da20ba",
   "metadata": {},
   "outputs": [
    {
     "name": "stdout",
     "output_type": "stream",
     "text": [
      "1 2 (3, 4)\n"
     ]
    }
   ],
   "source": [
    "g(1,2,3,4)"
   ]
  },
  {
   "cell_type": "code",
   "execution_count": 177,
   "id": "23575366",
   "metadata": {},
   "outputs": [
    {
     "name": "stdout",
     "output_type": "stream",
     "text": [
      "hola gato ('casa', 'coche')\n"
     ]
    }
   ],
   "source": [
    "g(\"hola\",\"gato\",\"casa\",\"coche\")"
   ]
  },
  {
   "cell_type": "code",
   "execution_count": 183,
   "id": "8e9c9e60",
   "metadata": {},
   "outputs": [],
   "source": [
    "def h(*posicionales, **con_nombre):\n",
    "    print(f'{posicionales=}')\n",
    "    print(f'{con_nombre=}')"
   ]
  },
  {
   "cell_type": "code",
   "execution_count": 187,
   "id": "141003f1",
   "metadata": {},
   "outputs": [
    {
     "name": "stdout",
     "output_type": "stream",
     "text": [
      "posicionales=(1, 2, 3)\n",
      "con_nombre={'azul': 'blue', 'rojo': 'red', 'end': ' '}\n"
     ]
    }
   ],
   "source": [
    "h(1,2,3, azul='blue', rojo='red', end=' ')"
   ]
  },
  {
   "cell_type": "code",
   "execution_count": 186,
   "id": "e9a51fc0",
   "metadata": {},
   "outputs": [
    {
     "data": {
      "text/plain": [
       "'el resultado es a=5'"
      ]
     },
     "execution_count": 186,
     "metadata": {},
     "output_type": "execute_result"
    }
   ],
   "source": [
    "a = 5\n",
    "f'el resultado es {a=}'"
   ]
  },
  {
   "cell_type": "code",
   "execution_count": 192,
   "id": "f5ba91bb",
   "metadata": {},
   "outputs": [
    {
     "data": {
      "text/plain": [
       "30"
      ]
     },
     "execution_count": 192,
     "metadata": {},
     "output_type": "execute_result"
    }
   ],
   "source": [
    "lista = [10,20,30]\n",
    "lista.pop()"
   ]
  },
  {
   "cell_type": "code",
   "execution_count": 193,
   "id": "62888d10",
   "metadata": {},
   "outputs": [
    {
     "data": {
      "text/plain": [
       "[10, 20]"
      ]
     },
     "execution_count": 193,
     "metadata": {},
     "output_type": "execute_result"
    }
   ],
   "source": [
    "lista"
   ]
  },
  {
   "cell_type": "code",
   "execution_count": 194,
   "id": "65bee48a",
   "metadata": {},
   "outputs": [
    {
     "data": {
      "text/plain": [
       "10"
      ]
     },
     "execution_count": 194,
     "metadata": {},
     "output_type": "execute_result"
    }
   ],
   "source": [
    "lista.pop(0)"
   ]
  },
  {
   "cell_type": "code",
   "execution_count": 195,
   "id": "83f5124e",
   "metadata": {},
   "outputs": [
    {
     "data": {
      "text/plain": [
       "[20]"
      ]
     },
     "execution_count": 195,
     "metadata": {},
     "output_type": "execute_result"
    }
   ],
   "source": [
    "lista"
   ]
  },
  {
   "cell_type": "code",
   "execution_count": 196,
   "id": "6ad7d7ec",
   "metadata": {},
   "outputs": [
    {
     "data": {
      "text/plain": [
       "30"
      ]
     },
     "execution_count": 196,
     "metadata": {},
     "output_type": "execute_result"
    }
   ],
   "source": [
    "d = {1:20, 2:30, 3:40}\n",
    "d.pop(2)"
   ]
  },
  {
   "cell_type": "code",
   "execution_count": 197,
   "id": "f1fa5f08",
   "metadata": {},
   "outputs": [
    {
     "data": {
      "text/plain": [
       "{1: 20, 3: 40}"
      ]
     },
     "execution_count": 197,
     "metadata": {},
     "output_type": "execute_result"
    }
   ],
   "source": [
    "d"
   ]
  },
  {
   "cell_type": "code",
   "execution_count": 198,
   "id": "be7b5aed",
   "metadata": {},
   "outputs": [
    {
     "data": {
      "text/plain": [
       "(3, 40)"
      ]
     },
     "execution_count": 198,
     "metadata": {},
     "output_type": "execute_result"
    }
   ],
   "source": [
    "d.popitem()"
   ]
  },
  {
   "cell_type": "code",
   "execution_count": 199,
   "id": "60c857a6",
   "metadata": {},
   "outputs": [
    {
     "data": {
      "text/plain": [
       "{1: 20}"
      ]
     },
     "execution_count": 199,
     "metadata": {},
     "output_type": "execute_result"
    }
   ],
   "source": [
    "d"
   ]
  },
  {
   "cell_type": "markdown",
   "id": "584e5db2",
   "metadata": {},
   "source": [
    "### Ejercicio diccionarios\n",
    "\n",
    "Dado un diccionario con palabras y su traducción (ambas en minúscula), reemplazar en un texto todas las palabras que estén en el diccionario por su traducción conservando los siguientes casos:\n",
    "\n",
    "- la palabra está en minúscula\n",
    "- la palabra está en mayúscula\n",
    "- la palabra está capitalized (primera en mayúscula, resto minúscula)\n",
    "- en cualquier otro caso la deja en minúscula\n",
    "\n",
    "Ejemplo:\n",
    "\n",
    "```\n",
    "d = {'casa':'house', 'gato':'cat', 'perro':'dog'}\n",
    "texto = \"La caSa tiene un GATO y un Perro\"\n",
    "resultado = \"La house tiene un CAT y un Dog\"\n",
    "```\n"
   ]
  },
  {
   "cell_type": "code",
   "execution_count": 201,
   "id": "c57c2ab1",
   "metadata": {},
   "outputs": [
    {
     "name": "stdout",
     "output_type": "stream",
     "text": [
      "casa\n",
      "CASA\n",
      "Casa\n"
     ]
    }
   ],
   "source": [
    "palabra = \"caSa\"\n",
    "print(palabra.lower())\n",
    "print(palabra.upper())\n",
    "print(palabra.capitalize())"
   ]
  },
  {
   "cell_type": "code",
   "execution_count": 202,
   "id": "efef973d",
   "metadata": {},
   "outputs": [
    {
     "data": {
      "text/plain": [
       "True"
      ]
     },
     "execution_count": 202,
     "metadata": {},
     "output_type": "execute_result"
    }
   ],
   "source": [
    "'Casa'.istitle()"
   ]
  },
  {
   "cell_type": "code",
   "execution_count": 203,
   "id": "0e69f616",
   "metadata": {},
   "outputs": [
    {
     "data": {
      "text/plain": [
       "False"
      ]
     },
     "execution_count": 203,
     "metadata": {},
     "output_type": "execute_result"
    }
   ],
   "source": [
    "'caSa'.istitle()"
   ]
  },
  {
   "cell_type": "code",
   "execution_count": 206,
   "id": "96308362",
   "metadata": {},
   "outputs": [],
   "source": [
    "d = {'casa':'house', 'gato':'cat', 'perro':'dog'}\n",
    "texto = \"La caSa tiene un GATO y un Perro\""
   ]
  },
  {
   "cell_type": "code",
   "execution_count": 207,
   "id": "d0763cac",
   "metadata": {},
   "outputs": [
    {
     "data": {
      "text/plain": [
       "'La house tiene un CAT y un Dog'"
      ]
     },
     "execution_count": 207,
     "metadata": {},
     "output_type": "execute_result"
    }
   ],
   "source": [
    "lista = texto.split()\n",
    "for i,palabra in enumerate(lista):\n",
    "    minusc = palabra.lower()\n",
    "    if minusc in d:\n",
    "        sust = d[minusc]\n",
    "        if palabra.isupper():\n",
    "            sust = sust.upper()\n",
    "        elif palabra.istitle():\n",
    "            sust = sust.capitalize()\n",
    "        lista[i] = sust\n",
    "' '.join(lista)"
   ]
  },
  {
   "cell_type": "code",
   "execution_count": null,
   "id": "7f9140c2",
   "metadata": {},
   "outputs": [],
   "source": []
  }
 ],
 "metadata": {
  "kernelspec": {
   "display_name": "Python 3 (ipykernel)",
   "language": "python",
   "name": "python3"
  },
  "language_info": {
   "codemirror_mode": {
    "name": "ipython",
    "version": 3
   },
   "file_extension": ".py",
   "mimetype": "text/x-python",
   "name": "python",
   "nbconvert_exporter": "python",
   "pygments_lexer": "ipython3",
   "version": "3.9.12"
  }
 },
 "nbformat": 4,
 "nbformat_minor": 5
}
