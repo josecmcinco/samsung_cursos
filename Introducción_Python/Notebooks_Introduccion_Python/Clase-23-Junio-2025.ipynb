{
 "cells": [
  {
   "cell_type": "code",
   "execution_count": 12,
   "id": "02a4d43e",
   "metadata": {},
   "outputs": [
    {
     "data": {
      "text/plain": [
       "{1: 'dos'}"
      ]
     },
     "execution_count": 12,
     "metadata": {},
     "output_type": "execute_result"
    }
   ],
   "source": [
    "# Duplicados, cuidado!\n",
    "a = {1: \"uno\", 1: \"dos\"}\n",
    "a"
   ]
  },
  {
   "cell_type": "code",
   "execution_count": 13,
   "id": "3cc92ef6",
   "metadata": {},
   "outputs": [
    {
     "data": {
      "text/plain": [
       "{'uno': 1}"
      ]
     },
     "execution_count": 13,
     "metadata": {},
     "output_type": "execute_result"
    }
   ],
   "source": [
    "# Inicializar un diccionario con una entra (clave, valor)\n",
    "a = {\"uno\": 1}\n",
    "a"
   ]
  },
  {
   "cell_type": "code",
   "execution_count": 14,
   "id": "36d5f564",
   "metadata": {},
   "outputs": [
    {
     "data": {
      "text/plain": [
       "1"
      ]
     },
     "execution_count": 14,
     "metadata": {},
     "output_type": "execute_result"
    }
   ],
   "source": [
    "# Acceso a una entrada\n",
    "a[\"uno\"]"
   ]
  },
  {
   "cell_type": "code",
   "execution_count": 16,
   "id": "4b67648a",
   "metadata": {},
   "outputs": [
    {
     "ename": "KeyError",
     "evalue": "'dos'",
     "output_type": "error",
     "traceback": [
      "\u001b[1;31m---------------------------------------------------------------------------\u001b[0m",
      "\u001b[1;31mKeyError\u001b[0m                                  Traceback (most recent call last)",
      "Input \u001b[1;32mIn [16]\u001b[0m, in \u001b[0;36m<cell line: 2>\u001b[1;34m()\u001b[0m\n\u001b[0;32m      1\u001b[0m \u001b[38;5;66;03m# Acceso a una entrada que NO existe (da error)\u001b[39;00m\n\u001b[1;32m----> 2\u001b[0m \u001b[43ma\u001b[49m\u001b[43m[\u001b[49m\u001b[38;5;124;43m\"\u001b[39;49m\u001b[38;5;124;43mdos\u001b[39;49m\u001b[38;5;124;43m\"\u001b[39;49m\u001b[43m]\u001b[49m\n",
      "\u001b[1;31mKeyError\u001b[0m: 'dos'"
     ]
    }
   ],
   "source": [
    "# Acceso a una entrada que NO existe (da error)\n",
    "a[\"dos\"]"
   ]
  },
  {
   "cell_type": "code",
   "execution_count": 20,
   "id": "c84bf70f",
   "metadata": {},
   "outputs": [
    {
     "data": {
      "text/plain": [
       "{'uno': 1, 'dos': 2}"
      ]
     },
     "execution_count": 20,
     "metadata": {},
     "output_type": "execute_result"
    }
   ],
   "source": [
    "# Añadiendo una entrada al diccionario (no existe la entrada \"dos\")\n",
    "a[\"dos\"] = 2\n",
    "a"
   ]
  },
  {
   "cell_type": "code",
   "execution_count": 22,
   "id": "7a478653",
   "metadata": {},
   "outputs": [
    {
     "data": {
      "text/plain": [
       "{'uno': 1, 'dos': -2}"
      ]
     },
     "execution_count": 22,
     "metadata": {},
     "output_type": "execute_result"
    }
   ],
   "source": [
    "# Actualizar una entrada al diccionario (la entrada \"dos\" existe)\n",
    "a[\"dos\"] = -2\n",
    "a"
   ]
  },
  {
   "cell_type": "code",
   "execution_count": 24,
   "id": "db3e8293",
   "metadata": {},
   "outputs": [
    {
     "data": {
      "text/plain": [
       "2"
      ]
     },
     "execution_count": 24,
     "metadata": {},
     "output_type": "execute_result"
    }
   ],
   "source": [
    "# Número de entradas en el diccionario\n",
    "len(a)"
   ]
  },
  {
   "cell_type": "code",
   "execution_count": 28,
   "id": "0ccb3609",
   "metadata": {},
   "outputs": [
    {
     "name": "stdout",
     "output_type": "stream",
     "text": [
      "uno\n",
      "dos\n",
      "-----\n",
      "uno\n",
      "dos\n"
     ]
    }
   ],
   "source": [
    "# Cómo recorrer las claves de un diccionario\n",
    "for k in a:\n",
    "    print(k)\n",
    "    \n",
    "print(\"-----\")\n",
    "\n",
    "# Forma alternativa\n",
    "for k in a.keys():\n",
    "    print(k)"
   ]
  },
  {
   "cell_type": "code",
   "execution_count": 32,
   "id": "dde53daa",
   "metadata": {},
   "outputs": [
    {
     "name": "stdout",
     "output_type": "stream",
     "text": [
      "\"uno\" está en la lista\n",
      "------\n",
      "\"tres\" NO está en la lista\n"
     ]
    }
   ],
   "source": [
    "# Comprobar que una clave está en el diccionario\n",
    "if \"uno\" in a:\n",
    "    print('\"uno\" está en la lista')\n",
    "    \n",
    "else:\n",
    "    print('\"uno\" NO está en la lista')\n",
    "\n",
    "print(\"------\")\n",
    "    \n",
    "if \"tres\" in a:\n",
    "    print('\"tres\" está en la lista')\n",
    "    \n",
    "else:\n",
    "    print('\"tres\" NO está en la lista')"
   ]
  },
  {
   "cell_type": "code",
   "execution_count": 34,
   "id": "c7f08cda",
   "metadata": {},
   "outputs": [
    {
     "name": "stdout",
     "output_type": "stream",
     "text": [
      "clave:tres\n",
      "No existe\n"
     ]
    }
   ],
   "source": [
    "clave = input(\"clave:\")\n",
    "valor = \"No existe\"\n",
    "\n",
    "if clave in a:\n",
    "    valor = a[clave]\n",
    "\n",
    "print(valor)"
   ]
  },
  {
   "cell_type": "code",
   "execution_count": 38,
   "id": "cf60e1b1",
   "metadata": {},
   "outputs": [
    {
     "name": "stdout",
     "output_type": "stream",
     "text": [
      "clave:edad\n",
      "valor:22\n",
      "{'color': 'verde', 'forma': 'cuadrada', 'edad': '22'}\n"
     ]
    }
   ],
   "source": [
    "# Solo insertar entradas nuevas sin actualizar\n",
    "\n",
    "dic = {\"color\": \"verde\", \"forma\": \"cuadrada\"}\n",
    "\n",
    "clave = input(\"clave:\")\n",
    "valor = input(\"valor:\")\n",
    "\n",
    "if clave not in dic:\n",
    "    dic[clave] = valor\n",
    "    \n",
    "else:\n",
    "    print(f\"La entrada '{clave}' ya existe.\")\n",
    "    \n",
    "print(dic)"
   ]
  },
  {
   "cell_type": "code",
   "execution_count": 40,
   "id": "44ec92a9",
   "metadata": {},
   "outputs": [
    {
     "name": "stdout",
     "output_type": "stream",
     "text": [
      "None\n",
      "cuadrada\n"
     ]
    }
   ],
   "source": [
    "# Acceder al valor de una claver O devolvemos None en caso de que no exista (NO da error)\n",
    "print(dic.get(\"nombre\"))\n",
    "print(dic.get(\"forma\"))"
   ]
  },
  {
   "cell_type": "markdown",
   "id": "815e4d74",
   "metadata": {},
   "source": [
    "### Contar distribución de palabras en un texto"
   ]
  },
  {
   "cell_type": "code",
   "execution_count": 41,
   "id": "3bc9ca39",
   "metadata": {},
   "outputs": [],
   "source": [
    "quijote = \"\"\"\n",
    "CAPÍTULO 1: Que trata de la condición y ejercicio del famoso hidalgo D. Quijote de la Mancha\n",
    "En un lugar de la Mancha, de cuyo nombre no quiero acordarme, no ha mucho tiempo que vivía un hidalgo de los de lanza en astillero, adarga antigua, rocín flaco y galgo corredor. Una olla de algo más vaca que carnero, salpicón las más noches, duelos y quebrantos los sábados, lentejas los viernes, algún palomino de añadidura los domingos, consumían las tres partes de su hacienda. El resto della concluían sayo de velarte, calzas de velludo para las fiestas con sus pantuflos de lo mismo, los días de entre semana se honraba con su vellori de lo más fino. Tenía en su casa una ama que pasaba de los cuarenta, y una sobrina que no llegaba a los veinte, y un mozo de campo y plaza, que así ensillaba el rocín como tomaba la podadera. Frisaba la edad de nuestro hidalgo con los cincuenta años, era de complexión recia, seco de carnes, enjuto de rostro; gran madrugador y amigo de la caza. Quieren decir que tenía el sobrenombre de Quijada o Quesada (que en esto hay alguna diferencia en los autores que deste caso escriben), aunque por conjeturas verosímiles se deja entender que se llama Quijana; pero esto importa poco a nuestro cuento; basta que en la narración dél no se salga un punto de la verdad. Es, pues, de saber, que este sobredicho hidalgo, los ratos que estaba ocioso (que eran los más del año) se daba a leer libros de caballerías con tanta afición y gusto, que olvidó casi de todo punto el ejercicio de la caza, y aun la administración de su hacienda; y llegó a tanto su curiosidad y desatino en esto, que vendió muchas hanegas de tierra de sembradura, para comprar libros de caballerías en que leer; y así llevó a su casa todos cuantos pudo haber dellos; y de todos ningunos le parecían tan bien como los que compuso el famoso Feliciano de Silva: porque la claridad de su prosa, y aquellas intrincadas razones suyas, le parecían de perlas; y más cuando llegaba a leer aquellos requiebros y cartas de desafío, donde en muchas partes hallaba escrito: la razón de la sinrazón que a mi razón se hace, de tal manera mi razón enflaquece, que con razón me quejo de la vuestra fermosura, y también cuando leía: los altos cielos que de vuestra divinidad divinamente con las estrellas se fortifican, y os hacen merecedora del merecimiento que merece la vuestra grandeza. Con estas y semejantes razones perdía el pobre caballero el juicio, y desvelábase por entenderlas, y desentrañarles el sentido, que no se lo sacara, ni las entendiera el mismo Aristóteles, si resucitara para sólo ello. No estaba muy bien con las heridas que don Belianis daba y recibía, porque se imaginaba que por grandes maestros que le hubiesen curado, no dejaría de tener el rostro y todo el cuerpo lleno de cicatrices y señales; pero con todo alababa en su autor aquel acabar su libro con la promesa de aquella inacabable aventura, y muchas veces le vino deseo de tomar la pluma, y darle fin al pie de la letra como allí se promete; y sin duda alguna lo hiciera, y aun saliera con ello, si otros mayores y continuos pensamientos no se lo estorbaran.\n",
    "Tuvo muchas veces competencia con el cura de su lugar (que era hombre docto graduado en Sigüenza), sobre cuál había sido mejor caballero, Palmerín de Inglaterra o Amadís de Gaula; mas maese Nicolás, barbero del mismo pueblo, decía que ninguno llegaba al caballero del Febo, y que si alguno se le podía comparar, era don Galaor, hermano de Amadís de Gaula, porque tenía muy acomodada condición para todo; que no era caballero melindroso, ni tan llorón como su hermano, y que en lo de la valentía no le iba en zaga.\n",
    "En resolución, él se enfrascó tanto en su lectura, que se le pasaban las noches leyendo de claro en claro, y los días de turbio en turbio, y así, del poco dormir y del mucho leer, se le secó el cerebro, de manera que vino a perder el juicio. Llenósele la fantasía de todo aquello que leía en los libros, así de encantamientos, como de pendencias, batallas, desafíos, heridas, requiebros, amores, tormentas y disparates imposibles, y asentósele de tal modo en la imaginación que era verdad toda aquella máquina de aquellas soñadas invenciones que leía, que para él no había otra\n",
    "historia más cierta en el mundo.\n",
    "Decía él, que el Cid Ruy Díaz había sido muy buen caballero; pero que no tenía que ver con el caballero de la ardiente espada, que de sólo un revés había partido por medio dos fieros y descomunales gigantes. Mejor estaba con Bernardo del Carpio, porque en Roncesvalle había muerto a Roldán el encantado, valiéndose de la industria de Hércules, cuando ahogó a Anteo, el hijo de la Tierra, entre los brazos. Decía mucho bien del gigante Morgante, porque con ser de aquella generación gigantesca, que todos son soberbios y descomedidos, él solo era afable y bien criado; pero sobre todos estaba bien con Reinaldos de Montalbán, y más cuando le veía salir de su castillo y robar cuantos topaba, y cuando en Allende robó aquel ídolo de Mahoma, que era todo de oro, según dice su historia. Diera él, por dar una mano de coces al traidor de Galalón, al ama que tenía y aun a su sobrina de añadidura.\n",
    "En efecto, rematado ya su juicio, vino a dar en el más extraño pensamiento que jamás dio loco en el mundo, y fue que le pareció convenible y necesario, así para el aumento de su honra, como para el servicio de su república, hacerse caballero andante, e irse por todo el mundo con sus armas y caballo a buscar las aventuras, y a ejercitarse en todo aquello que él había leído, que los caballeros andantes se ejercitaban, deshaciendo todo género de agravio, y poniéndose en ocasiones y peligros, donde acabándolos, cobrase eterno nombre y fama.\n",
    "Imaginábase el pobre ya coronado por el valor de su brazo por lo menos del imperio de Trapisonda: y así con estos tan agradables pensamientos, llevado del estraño gusto que en ellos sentía, se dió priesa a poner en efecto lo que deseaba. Y lo primero que hizo, fue limpiar unas armas, que habían sido de sus bisabuelos, que, tomadas de orín y llenas de moho, luengos siglos había que estaban puestas y olvidadas en un rincón. Limpiólas y aderezólas lo mejor que pudo; pero vió que tenían una gran falta, y era que no tenía celada de encaje, sino morrión simple; mas a esto suplió su industria, porque de cartones hizo un modo de media celada, que encajada con el morrión, hacía una apariencia de celada entera. Es verdad que para probar si era fuerte, y podía estar al riesgo de una cuchillada, sacó su espada, y le dió dos golpes, y con el primero y en un punto deshizo lo que había hecho en una semana: y no dejó de parecerle mal la facilidad con que la había hecho pedazos, y por asegurarse de este peligro, lo tornó a hacer de nuevo, poniéndole unas barras de hierro por de dentro de tal manera, que él quedó satisfecho de su fortaleza; y, sin querer hacer nueva experiencia de ella, la diputó y tuvo por celada finísima de encaje. Fue luego a ver a su rocín, y aunque tenía más cuartos que un real, y más tachas que el caballo de Gonela, que tantum pellis, et ossa fuit, le pareció que ni el Bucéfalo de Alejandro, ni Babieca el del Cid con él se igualaban. Cuatro días se le pasaron en imaginar qué nombre le podría: porque, según se decía él a sí mismo, no era razón que caballo de caballero tan famoso, y tan bueno él por sí, estuviese sin nombre conocido; y así procuraba acomodársele, de manera que declarase quien había sido, antes que fuese de caballero andante, y lo que era entones: pues estaba muy puesto en razón, que mudando su señor estado, mudase él también el nombre; y le cobrase famoso y de estruendo, como convenía a la nueva orden y al nuevo ejercicio que ya profesaba: y así después de muchos nombres que formó, borró y quitó, añadió, deshizo y tornó a hacer en su memoria e imaginación, al fin le vino a llamar Rocinante, nombre a su parecer alto, sonoro y significativo de lo que había sido cuando fue rocín, antes de lo que ahora era, que era antes y primero de todos los rocines del mundo. Puesto nombre y tan a su gusto a su caballo, quiso ponérsele a sí mismo, y en este pensamiento, duró otros ocho días, y al cabo se vino a llamar don Quijote, de donde como queda dicho, tomaron ocasión los autores de esta tan verdadera historia, que sin duda se debía llamar Quijada, y no Quesada como otros quisieron decir. Pero acordándose que el valeroso Amadís, no sólo se había contentado con llamarse Amadís a secas, sino que añadió el nombre de su reino y patria, por hacerla famosa, y se llamó Amadís de Gaula, así quiso, como buen caballero, añadir al suyo el nombre de la suya, y llamarse don Quijote de la Mancha, con que a su parecer declaraba muy al vivo su\n",
    "linaje y patria, y la honraba con tomar el sobrenombre della.\n",
    "\"\"\""
   ]
  },
  {
   "cell_type": "code",
   "execution_count": 43,
   "id": "8b8b66cd",
   "metadata": {},
   "outputs": [
    {
     "data": {
      "text/plain": [
       "8942"
      ]
     },
     "execution_count": 43,
     "metadata": {},
     "output_type": "execute_result"
    }
   ],
   "source": [
    "# Longitud de la cadena en caracteres\n",
    "len(quijote)"
   ]
  },
  {
   "cell_type": "code",
   "execution_count": 49,
   "id": "8dc34864",
   "metadata": {},
   "outputs": [
    {
     "name": "stdout",
     "output_type": "stream",
     "text": [
      "['capítulo', '1:', 'que', 'trata', 'de', 'la', 'condición', 'y', 'ejercicio', 'del', 'famoso', 'hidalgo', 'd.', 'quijote', 'de', 'la', 'mancha', 'en', 'un', 'lugar', 'de', 'la', 'mancha', 'de', 'cuyo', 'nombre', 'no', 'quiero', 'acordarme', 'no', 'ha', 'mucho', 'tiempo', 'que', 'vivía', 'un', 'hidalgo', 'de', 'los', 'de', 'lanza', 'en', 'astillero', 'adarga', 'antigua', 'rocín', 'flaco', 'y', 'galgo', 'corredor.', 'una', 'olla', 'de', 'algo', 'más', 'vaca', 'que', 'carnero', 'salpicón', 'las', 'más', 'noches', 'duelos', 'y', 'quebrantos', 'los', 'sábados', 'lentejas', 'los', 'viernes', 'algún', 'palomino', 'de', 'añadidura', 'los', 'domingos', 'consumían', 'las', 'tres', 'partes', 'de', 'su', 'hacienda.', 'el', 'resto', 'della', 'concluían', 'sayo', 'de', 'velarte', 'calzas', 'de', 'velludo', 'para', 'las', 'fiestas', 'con', 'sus', 'pantuflos', 'de', 'lo', 'mismo', 'los', 'días', 'de', 'entre', 'semana', 'se', 'honraba', 'con', 'su', 'vellori', 'de', 'lo', 'más', 'fino.', 'tenía', 'en', 'su', 'casa', 'una', 'ama', 'que', 'pasaba', 'de', 'los', 'cuarenta', 'y', 'una', 'sobrina', 'que', 'no', 'llegaba', 'a', 'los', 'veinte', 'y', 'un', 'mozo', 'de', 'campo', 'y', 'plaza', 'que', 'así', 'ensillaba', 'el', 'rocín', 'como', 'tomaba', 'la', 'podadera.', 'frisaba', 'la', 'edad', 'de', 'nuestro', 'hidalgo', 'con', 'los', 'cincuenta', 'años', 'era', 'de', 'complexión', 'recia', 'seco', 'de', 'carnes', 'enjuto', 'de', 'rostro;', 'gran', 'madrugador', 'y', 'amigo', 'de', 'la', 'caza.', 'quieren', 'decir', 'que', 'tenía', 'el', 'sobrenombre', 'de', 'quijada', 'o', 'quesada', '(que', 'en', 'esto', 'hay', 'alguna', 'diferencia', 'en', 'los', 'autores', 'que', 'deste', 'caso', 'escriben)', 'aunque', 'por', 'conjeturas', 'verosímiles', 'se', 'deja', 'entender', 'que', 'se', 'llama', 'quijana;', 'pero', 'esto', 'importa', 'poco', 'a', 'nuestro', 'cuento;', 'basta', 'que', 'en', 'la', 'narración', 'dél', 'no', 'se', 'salga', 'un', 'punto', 'de', 'la', 'verdad.', 'es', 'pues', 'de', 'saber', 'que', 'este', 'sobredicho', 'hidalgo', 'los', 'ratos', 'que', 'estaba', 'ocioso', '(que', 'eran', 'los', 'más', 'del', 'año)', 'se', 'daba', 'a', 'leer', 'libros', 'de', 'caballerías', 'con', 'tanta', 'afición', 'y', 'gusto', 'que', 'olvidó', 'casi', 'de', 'todo', 'punto', 'el', 'ejercicio', 'de', 'la', 'caza', 'y', 'aun', 'la', 'administración', 'de', 'su', 'hacienda;', 'y', 'llegó', 'a', 'tanto', 'su', 'curiosidad', 'y', 'desatino', 'en', 'esto', 'que', 'vendió', 'muchas', 'hanegas', 'de', 'tierra', 'de', 'sembradura', 'para', 'comprar', 'libros', 'de', 'caballerías', 'en', 'que', 'leer;', 'y', 'así', 'llevó', 'a', 'su', 'casa', 'todos', 'cuantos', 'pudo', 'haber', 'dellos;', 'y', 'de', 'todos', 'ningunos', 'le', 'parecían', 'tan', 'bien', 'como', 'los', 'que', 'compuso', 'el', 'famoso', 'feliciano', 'de', 'silva:', 'porque', 'la', 'claridad', 'de', 'su', 'prosa', 'y', 'aquellas', 'intrincadas', 'razones', 'suyas', 'le', 'parecían', 'de', 'perlas;', 'y', 'más', 'cuando', 'llegaba', 'a', 'leer', 'aquellos', 'requiebros', 'y', 'cartas', 'de', 'desafío', 'donde', 'en', 'muchas', 'partes', 'hallaba', 'escrito:', 'la', 'razón', 'de', 'la', 'sinrazón', 'que', 'a', 'mi', 'razón', 'se', 'hace', 'de', 'tal', 'manera', 'mi', 'razón', 'enflaquece', 'que', 'con', 'razón', 'me', 'quejo', 'de', 'la', 'vuestra', 'fermosura', 'y', 'también', 'cuando', 'leía:', 'los', 'altos', 'cielos', 'que', 'de', 'vuestra', 'divinidad', 'divinamente', 'con', 'las', 'estrellas', 'se', 'fortifican', 'y', 'os', 'hacen', 'merecedora', 'del', 'merecimiento', 'que', 'merece', 'la', 'vuestra', 'grandeza.', 'con', 'estas', 'y', 'semejantes', 'razones', 'perdía', 'el', 'pobre', 'caballero', 'el', 'juicio', 'y', 'desvelábase', 'por', 'entenderlas', 'y', 'desentrañarles', 'el', 'sentido', 'que', 'no', 'se', 'lo', 'sacara', 'ni', 'las', 'entendiera', 'el', 'mismo', 'aristóteles', 'si', 'resucitara', 'para', 'sólo', 'ello.', 'no', 'estaba', 'muy', 'bien', 'con', 'las', 'heridas', 'que', 'don', 'belianis', 'daba', 'y', 'recibía', 'porque', 'se', 'imaginaba', 'que', 'por', 'grandes', 'maestros', 'que', 'le', 'hubiesen', 'curado', 'no', 'dejaría', 'de', 'tener', 'el', 'rostro', 'y', 'todo', 'el', 'cuerpo', 'lleno', 'de', 'cicatrices', 'y', 'señales;', 'pero', 'con', 'todo', 'alababa', 'en', 'su', 'autor', 'aquel', 'acabar', 'su', 'libro', 'con', 'la', 'promesa', 'de', 'aquella', 'inacabable', 'aventura', 'y', 'muchas', 'veces', 'le', 'vino', 'deseo', 'de', 'tomar', 'la', 'pluma', 'y', 'darle', 'fin', 'al', 'pie', 'de', 'la', 'letra', 'como', 'allí', 'se', 'promete;', 'y', 'sin', 'duda', 'alguna', 'lo', 'hiciera', 'y', 'aun', 'saliera', 'con', 'ello', 'si', 'otros', 'mayores', 'y', 'continuos', 'pensamientos', 'no', 'se', 'lo', 'estorbaran.', 'tuvo', 'muchas', 'veces', 'competencia', 'con', 'el', 'cura', 'de', 'su', 'lugar', '(que', 'era', 'hombre', 'docto', 'graduado', 'en', 'sigüenza)', 'sobre', 'cuál', 'había', 'sido', 'mejor', 'caballero', 'palmerín', 'de', 'inglaterra', 'o', 'amadís', 'de', 'gaula;', 'mas', 'maese', 'nicolás', 'barbero', 'del', 'mismo', 'pueblo', 'decía', 'que', 'ninguno', 'llegaba', 'al', 'caballero', 'del', 'febo', 'y', 'que', 'si', 'alguno', 'se', 'le', 'podía', 'comparar', 'era', 'don', 'galaor', 'hermano', 'de', 'amadís', 'de', 'gaula', 'porque', 'tenía', 'muy', 'acomodada', 'condición', 'para', 'todo;', 'que', 'no', 'era', 'caballero', 'melindroso', 'ni', 'tan', 'llorón', 'como', 'su', 'hermano', 'y', 'que', 'en', 'lo', 'de', 'la', 'valentía', 'no', 'le', 'iba', 'en', 'zaga.', 'en', 'resolución', 'él', 'se', 'enfrascó', 'tanto', 'en', 'su', 'lectura', 'que', 'se', 'le', 'pasaban', 'las', 'noches', 'leyendo', 'de', 'claro', 'en', 'claro', 'y', 'los', 'días', 'de', 'turbio', 'en', 'turbio', 'y', 'así', 'del', 'poco', 'dormir', 'y', 'del', 'mucho', 'leer', 'se', 'le', 'secó', 'el', 'cerebro', 'de', 'manera', 'que', 'vino', 'a', 'perder', 'el', 'juicio.', 'llenósele', 'la', 'fantasía', 'de', 'todo', 'aquello', 'que', 'leía', 'en', 'los', 'libros', 'así', 'de', 'encantamientos', 'como', 'de', 'pendencias', 'batallas', 'desafíos', 'heridas', 'requiebros', 'amores', 'tormentas', 'y', 'disparates', 'imposibles', 'y', 'asentósele', 'de', 'tal', 'modo', 'en', 'la', 'imaginación', 'que', 'era', 'verdad', 'toda', 'aquella', 'máquina', 'de', 'aquellas', 'soñadas', 'invenciones', 'que', 'leía', 'que', 'para', 'él', 'no', 'había', 'otra', 'historia', 'más', 'cierta', 'en', 'el', 'mundo.', 'decía', 'él', 'que', 'el', 'cid', 'ruy', 'díaz', 'había', 'sido', 'muy', 'buen', 'caballero;', 'pero', 'que', 'no', 'tenía', 'que', 'ver', 'con', 'el', 'caballero', 'de', 'la', 'ardiente', 'espada', 'que', 'de', 'sólo', 'un', 'revés', 'había', 'partido', 'por', 'medio', 'dos', 'fieros', 'y', 'descomunales', 'gigantes.', 'mejor', 'estaba', 'con', 'bernardo', 'del', 'carpio', 'porque', 'en', 'roncesvalle', 'había', 'muerto', 'a', 'roldán', 'el', 'encantado', 'valiéndose', 'de', 'la', 'industria', 'de', 'hércules', 'cuando', 'ahogó', 'a', 'anteo', 'el', 'hijo', 'de', 'la', 'tierra', 'entre', 'los', 'brazos.', 'decía', 'mucho', 'bien', 'del', 'gigante', 'morgante', 'porque', 'con', 'ser', 'de', 'aquella', 'generación', 'gigantesca', 'que', 'todos', 'son', 'soberbios', 'y', 'descomedidos', 'él', 'solo', 'era', 'afable', 'y', 'bien', 'criado;', 'pero', 'sobre', 'todos', 'estaba', 'bien', 'con', 'reinaldos', 'de', 'montalbán', 'y', 'más', 'cuando', 'le', 'veía', 'salir', 'de', 'su', 'castillo', 'y', 'robar', 'cuantos', 'topaba', 'y', 'cuando', 'en', 'allende', 'robó', 'aquel', 'ídolo', 'de', 'mahoma', 'que', 'era', 'todo', 'de', 'oro', 'según', 'dice', 'su', 'historia.', 'diera', 'él', 'por', 'dar', 'una', 'mano', 'de', 'coces', 'al', 'traidor', 'de', 'galalón', 'al', 'ama', 'que', 'tenía', 'y', 'aun', 'a', 'su', 'sobrina', 'de', 'añadidura.', 'en', 'efecto', 'rematado', 'ya', 'su', 'juicio', 'vino', 'a', 'dar', 'en', 'el', 'más', 'extraño', 'pensamiento', 'que', 'jamás', 'dio', 'loco', 'en', 'el', 'mundo', 'y', 'fue', 'que', 'le', 'pareció', 'convenible', 'y', 'necesario', 'así', 'para', 'el', 'aumento', 'de', 'su', 'honra', 'como', 'para', 'el', 'servicio', 'de', 'su', 'república', 'hacerse', 'caballero', 'andante', 'e', 'irse', 'por', 'todo', 'el', 'mundo', 'con', 'sus', 'armas', 'y', 'caballo', 'a', 'buscar', 'las', 'aventuras', 'y', 'a', 'ejercitarse', 'en', 'todo', 'aquello', 'que', 'él', 'había', 'leído', 'que', 'los', 'caballeros', 'andantes', 'se', 'ejercitaban', 'deshaciendo', 'todo', 'género', 'de', 'agravio', 'y', 'poniéndose', 'en', 'ocasiones', 'y', 'peligros', 'donde', 'acabándolos', 'cobrase', 'eterno', 'nombre', 'y', 'fama.', 'imaginábase', 'el', 'pobre', 'ya', 'coronado', 'por', 'el', 'valor', 'de', 'su', 'brazo', 'por', 'lo', 'menos', 'del', 'imperio', 'de', 'trapisonda:', 'y', 'así', 'con', 'estos', 'tan', 'agradables', 'pensamientos', 'llevado', 'del', 'estraño', 'gusto', 'que', 'en', 'ellos', 'sentía', 'se', 'dió', 'priesa', 'a', 'poner', 'en', 'efecto', 'lo', 'que', 'deseaba.', 'y', 'lo', 'primero', 'que', 'hizo', 'fue', 'limpiar', 'unas', 'armas', 'que', 'habían', 'sido', 'de', 'sus', 'bisabuelos', 'que', 'tomadas', 'de', 'orín', 'y', 'llenas', 'de', 'moho', 'luengos', 'siglos', 'había', 'que', 'estaban', 'puestas', 'y', 'olvidadas', 'en', 'un', 'rincón.', 'limpiólas', 'y', 'aderezólas', 'lo', 'mejor', 'que', 'pudo;', 'pero', 'vió', 'que', 'tenían', 'una', 'gran', 'falta', 'y', 'era', 'que', 'no', 'tenía', 'celada', 'de', 'encaje', 'sino', 'morrión', 'simple;', 'mas', 'a', 'esto', 'suplió', 'su', 'industria', 'porque', 'de', 'cartones', 'hizo', 'un', 'modo', 'de', 'media', 'celada', 'que', 'encajada', 'con', 'el', 'morrión', 'hacía', 'una', 'apariencia', 'de', 'celada', 'entera.', 'es', 'verdad', 'que', 'para', 'probar', 'si', 'era', 'fuerte', 'y', 'podía', 'estar', 'al', 'riesgo', 'de', 'una', 'cuchillada', 'sacó', 'su', 'espada', 'y', 'le', 'dió', 'dos', 'golpes', 'y', 'con', 'el', 'primero', 'y', 'en', 'un', 'punto', 'deshizo', 'lo', 'que', 'había', 'hecho', 'en', 'una', 'semana:', 'y', 'no', 'dejó', 'de', 'parecerle', 'mal', 'la', 'facilidad', 'con', 'que', 'la', 'había', 'hecho', 'pedazos', 'y', 'por', 'asegurarse', 'de', 'este', 'peligro', 'lo', 'tornó', 'a', 'hacer', 'de', 'nuevo', 'poniéndole', 'unas', 'barras', 'de', 'hierro', 'por', 'de', 'dentro', 'de', 'tal', 'manera', 'que', 'él', 'quedó', 'satisfecho', 'de', 'su', 'fortaleza;', 'y', 'sin', 'querer', 'hacer', 'nueva', 'experiencia', 'de', 'ella', 'la', 'diputó', 'y', 'tuvo', 'por', 'celada', 'finísima', 'de', 'encaje.', 'fue', 'luego', 'a', 'ver', 'a', 'su', 'rocín', 'y', 'aunque', 'tenía', 'más', 'cuartos', 'que', 'un', 'real', 'y', 'más', 'tachas', 'que', 'el', 'caballo', 'de', 'gonela', 'que', 'tantum', 'pellis', 'et', 'ossa', 'fuit', 'le', 'pareció', 'que', 'ni', 'el', 'bucéfalo', 'de', 'alejandro', 'ni', 'babieca', 'el', 'del', 'cid', 'con', 'él', 'se', 'igualaban.', 'cuatro', 'días', 'se', 'le', 'pasaron', 'en', 'imaginar', 'qué', 'nombre', 'le', 'podría:', 'porque', 'según', 'se', 'decía', 'él', 'a', 'sí', 'mismo', 'no', 'era', 'razón', 'que', 'caballo', 'de', 'caballero', 'tan', 'famoso', 'y', 'tan', 'bueno', 'él', 'por', 'sí', 'estuviese', 'sin', 'nombre', 'conocido;', 'y', 'así', 'procuraba', 'acomodársele', 'de', 'manera', 'que', 'declarase', 'quien', 'había', 'sido', 'antes', 'que', 'fuese', 'de', 'caballero', 'andante', 'y', 'lo', 'que', 'era', 'entones:', 'pues', 'estaba', 'muy', 'puesto', 'en', 'razón', 'que', 'mudando', 'su', 'señor', 'estado', 'mudase', 'él', 'también', 'el', 'nombre;', 'y', 'le', 'cobrase', 'famoso', 'y', 'de', 'estruendo', 'como', 'convenía', 'a', 'la', 'nueva', 'orden', 'y', 'al', 'nuevo', 'ejercicio', 'que', 'ya', 'profesaba:', 'y', 'así', 'después', 'de', 'muchos', 'nombres', 'que', 'formó', 'borró', 'y', 'quitó', 'añadió', 'deshizo', 'y', 'tornó', 'a', 'hacer', 'en', 'su', 'memoria', 'e', 'imaginación', 'al', 'fin', 'le', 'vino', 'a', 'llamar', 'rocinante', 'nombre', 'a', 'su', 'parecer', 'alto', 'sonoro', 'y', 'significativo', 'de', 'lo', 'que', 'había', 'sido', 'cuando', 'fue', 'rocín', 'antes', 'de', 'lo', 'que', 'ahora', 'era', 'que', 'era', 'antes', 'y', 'primero', 'de', 'todos', 'los', 'rocines', 'del', 'mundo.', 'puesto', 'nombre', 'y', 'tan', 'a', 'su', 'gusto', 'a', 'su', 'caballo', 'quiso', 'ponérsele', 'a', 'sí', 'mismo', 'y', 'en', 'este', 'pensamiento', 'duró', 'otros', 'ocho', 'días', 'y', 'al', 'cabo', 'se', 'vino', 'a', 'llamar', 'don', 'quijote', 'de', 'donde', 'como', 'queda', 'dicho', 'tomaron', 'ocasión', 'los', 'autores', 'de', 'esta', 'tan', 'verdadera', 'historia', 'que', 'sin', 'duda', 'se', 'debía', 'llamar', 'quijada', 'y', 'no', 'quesada', 'como', 'otros', 'quisieron', 'decir.', 'pero', 'acordándose', 'que', 'el', 'valeroso', 'amadís', 'no', 'sólo', 'se', 'había', 'contentado', 'con', 'llamarse', 'amadís', 'a', 'secas', 'sino', 'que', 'añadió', 'el', 'nombre', 'de', 'su', 'reino', 'y', 'patria', 'por', 'hacerla', 'famosa', 'y', 'se', 'llamó', 'amadís', 'de', 'gaula', 'así', 'quiso', 'como', 'buen', 'caballero', 'añadir', 'al', 'suyo', 'el', 'nombre', 'de', 'la', 'suya', 'y', 'llamarse', 'don', 'quijote', 'de', 'la', 'mancha', 'con', 'que', 'a', 'su', 'parecer', 'declaraba', 'muy', 'al', 'vivo', 'su', 'linaje', 'y', 'patria', 'y', 'la', 'honraba', 'con', 'tomar', 'el', 'sobrenombre', 'della.']\n"
     ]
    }
   ],
   "source": [
    "lista_quijote = quijote.lower().replace(\",\",\" \").split()\n",
    "print(lista_quijote)\n"
   ]
  },
  {
   "cell_type": "code",
   "execution_count": 50,
   "id": "c99fac09",
   "metadata": {},
   "outputs": [
    {
     "data": {
      "text/plain": [
       "1582"
      ]
     },
     "execution_count": 50,
     "metadata": {},
     "output_type": "execute_result"
    }
   ],
   "source": [
    "len(lista_quijote)"
   ]
  },
  {
   "cell_type": "code",
   "execution_count": 54,
   "id": "62cead0b",
   "metadata": {},
   "outputs": [
    {
     "data": {
      "text/plain": [
       "{'capítulo': 1,\n",
       " '1:': 1,\n",
       " 'que': 77,\n",
       " 'trata': 1,\n",
       " 'de': 110,\n",
       " 'la': 31,\n",
       " 'condición': 2,\n",
       " 'y': 86,\n",
       " 'ejercicio': 3,\n",
       " 'del': 13,\n",
       " 'famoso': 4,\n",
       " 'hidalgo': 4,\n",
       " 'd.': 1,\n",
       " 'quijote': 3,\n",
       " 'mancha': 3,\n",
       " 'en': 36,\n",
       " 'un': 9,\n",
       " 'lugar': 2,\n",
       " 'cuyo': 1,\n",
       " 'nombre': 8,\n",
       " 'no': 17,\n",
       " 'quiero': 1,\n",
       " 'acordarme': 1,\n",
       " 'ha': 1,\n",
       " 'mucho': 3,\n",
       " 'tiempo': 1,\n",
       " 'vivía': 1,\n",
       " 'los': 19,\n",
       " 'lanza': 1,\n",
       " 'astillero': 1,\n",
       " 'adarga': 1,\n",
       " 'antigua': 1,\n",
       " 'rocín': 4,\n",
       " 'flaco': 1,\n",
       " 'galgo': 1,\n",
       " 'corredor.': 1,\n",
       " 'una': 8,\n",
       " 'olla': 1,\n",
       " 'algo': 1,\n",
       " 'más': 10,\n",
       " 'vaca': 1,\n",
       " 'carnero': 1,\n",
       " 'salpicón': 1,\n",
       " 'las': 8,\n",
       " 'noches': 2,\n",
       " 'duelos': 1,\n",
       " 'quebrantos': 1,\n",
       " 'sábados': 1,\n",
       " 'lentejas': 1,\n",
       " 'viernes': 1,\n",
       " 'algún': 1,\n",
       " 'palomino': 1,\n",
       " 'añadidura': 1,\n",
       " 'domingos': 1,\n",
       " 'consumían': 1,\n",
       " 'tres': 1,\n",
       " 'partes': 2,\n",
       " 'su': 31,\n",
       " 'hacienda.': 1,\n",
       " 'el': 36,\n",
       " 'resto': 1,\n",
       " 'della': 1,\n",
       " 'concluían': 1,\n",
       " 'sayo': 1,\n",
       " 'velarte': 1,\n",
       " 'calzas': 1,\n",
       " 'velludo': 1,\n",
       " 'para': 8,\n",
       " 'fiestas': 1,\n",
       " 'con': 25,\n",
       " 'sus': 3,\n",
       " 'pantuflos': 1,\n",
       " 'lo': 15,\n",
       " 'mismo': 5,\n",
       " 'días': 4,\n",
       " 'entre': 2,\n",
       " 'semana': 1,\n",
       " 'se': 24,\n",
       " 'honraba': 2,\n",
       " 'vellori': 1,\n",
       " 'fino.': 1,\n",
       " 'tenía': 7,\n",
       " 'casa': 2,\n",
       " 'ama': 2,\n",
       " 'pasaba': 1,\n",
       " 'cuarenta': 1,\n",
       " 'sobrina': 2,\n",
       " 'llegaba': 3,\n",
       " 'a': 30,\n",
       " 'veinte': 1,\n",
       " 'mozo': 1,\n",
       " 'campo': 1,\n",
       " 'plaza': 1,\n",
       " 'así': 9,\n",
       " 'ensillaba': 1,\n",
       " 'como': 10,\n",
       " 'tomaba': 1,\n",
       " 'podadera.': 1,\n",
       " 'frisaba': 1,\n",
       " 'edad': 1,\n",
       " 'nuestro': 2,\n",
       " 'cincuenta': 1,\n",
       " 'años': 1,\n",
       " 'era': 13,\n",
       " 'complexión': 1,\n",
       " 'recia': 1,\n",
       " 'seco': 1,\n",
       " 'carnes': 1,\n",
       " 'enjuto': 1,\n",
       " 'rostro;': 1,\n",
       " 'gran': 2,\n",
       " 'madrugador': 1,\n",
       " 'amigo': 1,\n",
       " 'caza.': 1,\n",
       " 'quieren': 1,\n",
       " 'decir': 1,\n",
       " 'sobrenombre': 2,\n",
       " 'quijada': 2,\n",
       " 'o': 2,\n",
       " 'quesada': 2,\n",
       " '(que': 3,\n",
       " 'esto': 4,\n",
       " 'hay': 1,\n",
       " 'alguna': 2,\n",
       " 'diferencia': 1,\n",
       " 'autores': 2,\n",
       " 'deste': 1,\n",
       " 'caso': 1,\n",
       " 'escriben)': 1,\n",
       " 'aunque': 2,\n",
       " 'por': 13,\n",
       " 'conjeturas': 1,\n",
       " 'verosímiles': 1,\n",
       " 'deja': 1,\n",
       " 'entender': 1,\n",
       " 'llama': 1,\n",
       " 'quijana;': 1,\n",
       " 'pero': 6,\n",
       " 'importa': 1,\n",
       " 'poco': 2,\n",
       " 'cuento;': 1,\n",
       " 'basta': 1,\n",
       " 'narración': 1,\n",
       " 'dél': 1,\n",
       " 'salga': 1,\n",
       " 'punto': 3,\n",
       " 'verdad.': 1,\n",
       " 'es': 2,\n",
       " 'pues': 2,\n",
       " 'saber': 1,\n",
       " 'este': 3,\n",
       " 'sobredicho': 1,\n",
       " 'ratos': 1,\n",
       " 'estaba': 5,\n",
       " 'ocioso': 1,\n",
       " 'eran': 1,\n",
       " 'año)': 1,\n",
       " 'daba': 2,\n",
       " 'leer': 3,\n",
       " 'libros': 3,\n",
       " 'caballerías': 2,\n",
       " 'tanta': 1,\n",
       " 'afición': 1,\n",
       " 'gusto': 3,\n",
       " 'olvidó': 1,\n",
       " 'casi': 1,\n",
       " 'todo': 8,\n",
       " 'caza': 1,\n",
       " 'aun': 3,\n",
       " 'administración': 1,\n",
       " 'hacienda;': 1,\n",
       " 'llegó': 1,\n",
       " 'tanto': 2,\n",
       " 'curiosidad': 1,\n",
       " 'desatino': 1,\n",
       " 'vendió': 1,\n",
       " 'muchas': 4,\n",
       " 'hanegas': 1,\n",
       " 'tierra': 2,\n",
       " 'sembradura': 1,\n",
       " 'comprar': 1,\n",
       " 'leer;': 1,\n",
       " 'llevó': 1,\n",
       " 'todos': 5,\n",
       " 'cuantos': 2,\n",
       " 'pudo': 1,\n",
       " 'haber': 1,\n",
       " 'dellos;': 1,\n",
       " 'ningunos': 1,\n",
       " 'le': 16,\n",
       " 'parecían': 2,\n",
       " 'tan': 7,\n",
       " 'bien': 5,\n",
       " 'compuso': 1,\n",
       " 'feliciano': 1,\n",
       " 'silva:': 1,\n",
       " 'porque': 7,\n",
       " 'claridad': 1,\n",
       " 'prosa': 1,\n",
       " 'aquellas': 2,\n",
       " 'intrincadas': 1,\n",
       " 'razones': 2,\n",
       " 'suyas': 1,\n",
       " 'perlas;': 1,\n",
       " 'cuando': 6,\n",
       " 'aquellos': 1,\n",
       " 'requiebros': 2,\n",
       " 'cartas': 1,\n",
       " 'desafío': 1,\n",
       " 'donde': 3,\n",
       " 'hallaba': 1,\n",
       " 'escrito:': 1,\n",
       " 'razón': 6,\n",
       " 'sinrazón': 1,\n",
       " 'mi': 2,\n",
       " 'hace': 1,\n",
       " 'tal': 3,\n",
       " 'manera': 4,\n",
       " 'enflaquece': 1,\n",
       " 'me': 1,\n",
       " 'quejo': 1,\n",
       " 'vuestra': 3,\n",
       " 'fermosura': 1,\n",
       " 'también': 2,\n",
       " 'leía:': 1,\n",
       " 'altos': 1,\n",
       " 'cielos': 1,\n",
       " 'divinidad': 1,\n",
       " 'divinamente': 1,\n",
       " 'estrellas': 1,\n",
       " 'fortifican': 1,\n",
       " 'os': 1,\n",
       " 'hacen': 1,\n",
       " 'merecedora': 1,\n",
       " 'merecimiento': 1,\n",
       " 'merece': 1,\n",
       " 'grandeza.': 1,\n",
       " 'estas': 1,\n",
       " 'semejantes': 1,\n",
       " 'perdía': 1,\n",
       " 'pobre': 2,\n",
       " 'caballero': 9,\n",
       " 'juicio': 2,\n",
       " 'desvelábase': 1,\n",
       " 'entenderlas': 1,\n",
       " 'desentrañarles': 1,\n",
       " 'sentido': 1,\n",
       " 'sacara': 1,\n",
       " 'ni': 4,\n",
       " 'entendiera': 1,\n",
       " 'aristóteles': 1,\n",
       " 'si': 4,\n",
       " 'resucitara': 1,\n",
       " 'sólo': 3,\n",
       " 'ello.': 1,\n",
       " 'muy': 5,\n",
       " 'heridas': 2,\n",
       " 'don': 4,\n",
       " 'belianis': 1,\n",
       " 'recibía': 1,\n",
       " 'imaginaba': 1,\n",
       " 'grandes': 1,\n",
       " 'maestros': 1,\n",
       " 'hubiesen': 1,\n",
       " 'curado': 1,\n",
       " 'dejaría': 1,\n",
       " 'tener': 1,\n",
       " 'rostro': 1,\n",
       " 'cuerpo': 1,\n",
       " 'lleno': 1,\n",
       " 'cicatrices': 1,\n",
       " 'señales;': 1,\n",
       " 'alababa': 1,\n",
       " 'autor': 1,\n",
       " 'aquel': 2,\n",
       " 'acabar': 1,\n",
       " 'libro': 1,\n",
       " 'promesa': 1,\n",
       " 'aquella': 3,\n",
       " 'inacabable': 1,\n",
       " 'aventura': 1,\n",
       " 'veces': 2,\n",
       " 'vino': 5,\n",
       " 'deseo': 1,\n",
       " 'tomar': 2,\n",
       " 'pluma': 1,\n",
       " 'darle': 1,\n",
       " 'fin': 2,\n",
       " 'al': 10,\n",
       " 'pie': 1,\n",
       " 'letra': 1,\n",
       " 'allí': 1,\n",
       " 'promete;': 1,\n",
       " 'sin': 4,\n",
       " 'duda': 2,\n",
       " 'hiciera': 1,\n",
       " 'saliera': 1,\n",
       " 'ello': 1,\n",
       " 'otros': 3,\n",
       " 'mayores': 1,\n",
       " 'continuos': 1,\n",
       " 'pensamientos': 2,\n",
       " 'estorbaran.': 1,\n",
       " 'tuvo': 2,\n",
       " 'competencia': 1,\n",
       " 'cura': 1,\n",
       " 'hombre': 1,\n",
       " 'docto': 1,\n",
       " 'graduado': 1,\n",
       " 'sigüenza)': 1,\n",
       " 'sobre': 2,\n",
       " 'cuál': 1,\n",
       " 'había': 12,\n",
       " 'sido': 5,\n",
       " 'mejor': 3,\n",
       " 'palmerín': 1,\n",
       " 'inglaterra': 1,\n",
       " 'amadís': 5,\n",
       " 'gaula;': 1,\n",
       " 'mas': 2,\n",
       " 'maese': 1,\n",
       " 'nicolás': 1,\n",
       " 'barbero': 1,\n",
       " 'pueblo': 1,\n",
       " 'decía': 4,\n",
       " 'ninguno': 1,\n",
       " 'febo': 1,\n",
       " 'alguno': 1,\n",
       " 'podía': 2,\n",
       " 'comparar': 1,\n",
       " 'galaor': 1,\n",
       " 'hermano': 2,\n",
       " 'gaula': 2,\n",
       " 'acomodada': 1,\n",
       " 'todo;': 1,\n",
       " 'melindroso': 1,\n",
       " 'llorón': 1,\n",
       " 'valentía': 1,\n",
       " 'iba': 1,\n",
       " 'zaga.': 1,\n",
       " 'resolución': 1,\n",
       " 'él': 11,\n",
       " 'enfrascó': 1,\n",
       " 'lectura': 1,\n",
       " 'pasaban': 1,\n",
       " 'leyendo': 1,\n",
       " 'claro': 2,\n",
       " 'turbio': 2,\n",
       " 'dormir': 1,\n",
       " 'secó': 1,\n",
       " 'cerebro': 1,\n",
       " 'perder': 1,\n",
       " 'juicio.': 1,\n",
       " 'llenósele': 1,\n",
       " 'fantasía': 1,\n",
       " 'aquello': 2,\n",
       " 'leía': 2,\n",
       " 'encantamientos': 1,\n",
       " 'pendencias': 1,\n",
       " 'batallas': 1,\n",
       " 'desafíos': 1,\n",
       " 'amores': 1,\n",
       " 'tormentas': 1,\n",
       " 'disparates': 1,\n",
       " 'imposibles': 1,\n",
       " 'asentósele': 1,\n",
       " 'modo': 2,\n",
       " 'imaginación': 2,\n",
       " 'verdad': 2,\n",
       " 'toda': 1,\n",
       " 'máquina': 1,\n",
       " 'soñadas': 1,\n",
       " 'invenciones': 1,\n",
       " 'otra': 1,\n",
       " 'historia': 2,\n",
       " 'cierta': 1,\n",
       " 'mundo.': 2,\n",
       " 'cid': 2,\n",
       " 'ruy': 1,\n",
       " 'díaz': 1,\n",
       " 'buen': 2,\n",
       " 'caballero;': 1,\n",
       " 'ver': 2,\n",
       " 'ardiente': 1,\n",
       " 'espada': 2,\n",
       " 'revés': 1,\n",
       " 'partido': 1,\n",
       " 'medio': 1,\n",
       " 'dos': 2,\n",
       " 'fieros': 1,\n",
       " 'descomunales': 1,\n",
       " 'gigantes.': 1,\n",
       " 'bernardo': 1,\n",
       " 'carpio': 1,\n",
       " 'roncesvalle': 1,\n",
       " 'muerto': 1,\n",
       " 'roldán': 1,\n",
       " 'encantado': 1,\n",
       " 'valiéndose': 1,\n",
       " 'industria': 2,\n",
       " 'hércules': 1,\n",
       " 'ahogó': 1,\n",
       " 'anteo': 1,\n",
       " 'hijo': 1,\n",
       " 'brazos.': 1,\n",
       " 'gigante': 1,\n",
       " 'morgante': 1,\n",
       " 'ser': 1,\n",
       " 'generación': 1,\n",
       " 'gigantesca': 1,\n",
       " 'son': 1,\n",
       " 'soberbios': 1,\n",
       " 'descomedidos': 1,\n",
       " 'solo': 1,\n",
       " 'afable': 1,\n",
       " 'criado;': 1,\n",
       " 'reinaldos': 1,\n",
       " 'montalbán': 1,\n",
       " 'veía': 1,\n",
       " 'salir': 1,\n",
       " 'castillo': 1,\n",
       " 'robar': 1,\n",
       " 'topaba': 1,\n",
       " 'allende': 1,\n",
       " 'robó': 1,\n",
       " 'ídolo': 1,\n",
       " 'mahoma': 1,\n",
       " 'oro': 1,\n",
       " 'según': 2,\n",
       " 'dice': 1,\n",
       " 'historia.': 1,\n",
       " 'diera': 1,\n",
       " 'dar': 2,\n",
       " 'mano': 1,\n",
       " 'coces': 1,\n",
       " 'traidor': 1,\n",
       " 'galalón': 1,\n",
       " 'añadidura.': 1,\n",
       " 'efecto': 2,\n",
       " 'rematado': 1,\n",
       " 'ya': 3,\n",
       " 'extraño': 1,\n",
       " 'pensamiento': 2,\n",
       " 'jamás': 1,\n",
       " 'dio': 1,\n",
       " 'loco': 1,\n",
       " 'mundo': 2,\n",
       " 'fue': 4,\n",
       " 'pareció': 2,\n",
       " 'convenible': 1,\n",
       " 'necesario': 1,\n",
       " 'aumento': 1,\n",
       " 'honra': 1,\n",
       " 'servicio': 1,\n",
       " 'república': 1,\n",
       " 'hacerse': 1,\n",
       " 'andante': 2,\n",
       " 'e': 2,\n",
       " 'irse': 1,\n",
       " 'armas': 2,\n",
       " 'caballo': 4,\n",
       " 'buscar': 1,\n",
       " 'aventuras': 1,\n",
       " 'ejercitarse': 1,\n",
       " 'leído': 1,\n",
       " 'caballeros': 1,\n",
       " 'andantes': 1,\n",
       " 'ejercitaban': 1,\n",
       " 'deshaciendo': 1,\n",
       " 'género': 1,\n",
       " 'agravio': 1,\n",
       " 'poniéndose': 1,\n",
       " 'ocasiones': 1,\n",
       " 'peligros': 1,\n",
       " 'acabándolos': 1,\n",
       " 'cobrase': 2,\n",
       " 'eterno': 1,\n",
       " 'fama.': 1,\n",
       " 'imaginábase': 1,\n",
       " 'coronado': 1,\n",
       " 'valor': 1,\n",
       " 'brazo': 1,\n",
       " 'menos': 1,\n",
       " 'imperio': 1,\n",
       " 'trapisonda:': 1,\n",
       " 'estos': 1,\n",
       " 'agradables': 1,\n",
       " 'llevado': 1,\n",
       " 'estraño': 1,\n",
       " 'ellos': 1,\n",
       " 'sentía': 1,\n",
       " 'dió': 2,\n",
       " 'priesa': 1,\n",
       " 'poner': 1,\n",
       " 'deseaba.': 1,\n",
       " 'primero': 3,\n",
       " 'hizo': 2,\n",
       " 'limpiar': 1,\n",
       " 'unas': 2,\n",
       " 'habían': 1,\n",
       " 'bisabuelos': 1,\n",
       " 'tomadas': 1,\n",
       " 'orín': 1,\n",
       " 'llenas': 1,\n",
       " 'moho': 1,\n",
       " 'luengos': 1,\n",
       " 'siglos': 1,\n",
       " 'estaban': 1,\n",
       " 'puestas': 1,\n",
       " 'olvidadas': 1,\n",
       " 'rincón.': 1,\n",
       " 'limpiólas': 1,\n",
       " 'aderezólas': 1,\n",
       " 'pudo;': 1,\n",
       " 'vió': 1,\n",
       " 'tenían': 1,\n",
       " 'falta': 1,\n",
       " 'celada': 4,\n",
       " 'encaje': 1,\n",
       " 'sino': 2,\n",
       " 'morrión': 2,\n",
       " 'simple;': 1,\n",
       " 'suplió': 1,\n",
       " 'cartones': 1,\n",
       " 'media': 1,\n",
       " 'encajada': 1,\n",
       " 'hacía': 1,\n",
       " 'apariencia': 1,\n",
       " 'entera.': 1,\n",
       " 'probar': 1,\n",
       " 'fuerte': 1,\n",
       " 'estar': 1,\n",
       " 'riesgo': 1,\n",
       " 'cuchillada': 1,\n",
       " 'sacó': 1,\n",
       " 'golpes': 1,\n",
       " 'deshizo': 2,\n",
       " 'hecho': 2,\n",
       " 'semana:': 1,\n",
       " 'dejó': 1,\n",
       " 'parecerle': 1,\n",
       " 'mal': 1,\n",
       " 'facilidad': 1,\n",
       " 'pedazos': 1,\n",
       " 'asegurarse': 1,\n",
       " 'peligro': 1,\n",
       " 'tornó': 2,\n",
       " 'hacer': 3,\n",
       " 'nuevo': 2,\n",
       " 'poniéndole': 1,\n",
       " 'barras': 1,\n",
       " 'hierro': 1,\n",
       " 'dentro': 1,\n",
       " 'quedó': 1,\n",
       " 'satisfecho': 1,\n",
       " 'fortaleza;': 1,\n",
       " 'querer': 1,\n",
       " 'nueva': 2,\n",
       " 'experiencia': 1,\n",
       " 'ella': 1,\n",
       " 'diputó': 1,\n",
       " 'finísima': 1,\n",
       " 'encaje.': 1,\n",
       " 'luego': 1,\n",
       " 'cuartos': 1,\n",
       " 'real': 1,\n",
       " 'tachas': 1,\n",
       " 'gonela': 1,\n",
       " 'tantum': 1,\n",
       " 'pellis': 1,\n",
       " 'et': 1,\n",
       " 'ossa': 1,\n",
       " 'fuit': 1,\n",
       " 'bucéfalo': 1,\n",
       " 'alejandro': 1,\n",
       " 'babieca': 1,\n",
       " 'igualaban.': 1,\n",
       " 'cuatro': 1,\n",
       " 'pasaron': 1,\n",
       " 'imaginar': 1,\n",
       " 'qué': 1,\n",
       " 'podría:': 1,\n",
       " 'sí': 3,\n",
       " 'bueno': 1,\n",
       " 'estuviese': 1,\n",
       " 'conocido;': 1,\n",
       " 'procuraba': 1,\n",
       " 'acomodársele': 1,\n",
       " 'declarase': 1,\n",
       " 'quien': 1,\n",
       " 'antes': 3,\n",
       " 'fuese': 1,\n",
       " 'entones:': 1,\n",
       " 'puesto': 2,\n",
       " 'mudando': 1,\n",
       " 'señor': 1,\n",
       " 'estado': 1,\n",
       " 'mudase': 1,\n",
       " 'nombre;': 1,\n",
       " 'estruendo': 1,\n",
       " 'convenía': 1,\n",
       " 'orden': 1,\n",
       " 'profesaba:': 1,\n",
       " 'después': 1,\n",
       " 'muchos': 1,\n",
       " 'nombres': 1,\n",
       " 'formó': 1,\n",
       " 'borró': 1,\n",
       " 'quitó': 1,\n",
       " 'añadió': 2,\n",
       " 'memoria': 1,\n",
       " 'llamar': 3,\n",
       " 'rocinante': 1,\n",
       " 'parecer': 2,\n",
       " 'alto': 1,\n",
       " 'sonoro': 1,\n",
       " 'significativo': 1,\n",
       " 'ahora': 1,\n",
       " 'rocines': 1,\n",
       " 'quiso': 2,\n",
       " 'ponérsele': 1,\n",
       " 'duró': 1,\n",
       " 'ocho': 1,\n",
       " 'cabo': 1,\n",
       " 'queda': 1,\n",
       " 'dicho': 1,\n",
       " 'tomaron': 1,\n",
       " 'ocasión': 1,\n",
       " 'esta': 1,\n",
       " 'verdadera': 1,\n",
       " 'debía': 1,\n",
       " 'quisieron': 1,\n",
       " 'decir.': 1,\n",
       " 'acordándose': 1,\n",
       " 'valeroso': 1,\n",
       " 'contentado': 1,\n",
       " 'llamarse': 2,\n",
       " 'secas': 1,\n",
       " 'reino': 1,\n",
       " 'patria': 2,\n",
       " 'hacerla': 1,\n",
       " 'famosa': 1,\n",
       " 'llamó': 1,\n",
       " 'añadir': 1,\n",
       " 'suyo': 1,\n",
       " 'suya': 1,\n",
       " 'declaraba': 1,\n",
       " 'vivo': 1,\n",
       " 'linaje': 1,\n",
       " 'della.': 1}"
      ]
     },
     "execution_count": 54,
     "metadata": {},
     "output_type": "execute_result"
    }
   ],
   "source": [
    "# Contar número de veces que aparece cada palabra\n",
    "\n",
    "# Diccionario vacío\n",
    "freq_aparicion = {}\n",
    "\n",
    "# Recorremos la lista de palabras\n",
    "for palabra in lista_quijote:\n",
    "    # Si la palabra se encuentra en el diccionario\n",
    "    # sumamos 1 a lo que llevamos.\n",
    "    if palabra in freq_aparicion:\n",
    "        freq_aparicion[palabra] += 1\n",
    "        \n",
    "    else:\n",
    "        freq_aparicion[palabra] = 1\n",
    "    \n",
    "freq_aparicion"
   ]
  },
  {
   "cell_type": "code",
   "execution_count": 61,
   "id": "89b06e6d",
   "metadata": {},
   "outputs": [
    {
     "data": {
      "text/plain": [
       "([1, 2, 3, 4], [1, 2, 3, 4], [1, 2, 3, 5])"
      ]
     },
     "execution_count": 61,
     "metadata": {},
     "output_type": "execute_result"
    }
   ],
   "source": [
    "# Copia de listas\n",
    "a = [1,2,3]\n",
    "b = a\n",
    "c = a.copy()\n",
    "\n",
    "b.append(4)\n",
    "c.append(5)\n",
    "\n",
    "a, b, c"
   ]
  },
  {
   "cell_type": "code",
   "execution_count": 63,
   "id": "f7def8dd",
   "metadata": {},
   "outputs": [],
   "source": [
    "# Copia de un diccionario\n",
    "dic2 = freq_aparicion.copy()"
   ]
  },
  {
   "cell_type": "code",
   "execution_count": 64,
   "id": "6346807c",
   "metadata": {},
   "outputs": [
    {
     "data": {
      "text/plain": [
       "19"
      ]
     },
     "execution_count": 64,
     "metadata": {},
     "output_type": "execute_result"
    }
   ],
   "source": [
    "dic2[\"los\"]"
   ]
  },
  {
   "cell_type": "code",
   "execution_count": 65,
   "id": "ac5b8ac4",
   "metadata": {},
   "outputs": [],
   "source": [
    "# Eliminar \"los\" del diccionario\n",
    "del dic2[\"los\"]"
   ]
  },
  {
   "cell_type": "code",
   "execution_count": 66,
   "id": "693e346f",
   "metadata": {},
   "outputs": [
    {
     "ename": "KeyError",
     "evalue": "'los'",
     "output_type": "error",
     "traceback": [
      "\u001b[1;31m---------------------------------------------------------------------------\u001b[0m",
      "\u001b[1;31mKeyError\u001b[0m                                  Traceback (most recent call last)",
      "Input \u001b[1;32mIn [66]\u001b[0m, in \u001b[0;36m<cell line: 1>\u001b[1;34m()\u001b[0m\n\u001b[1;32m----> 1\u001b[0m \u001b[43mdic2\u001b[49m\u001b[43m[\u001b[49m\u001b[38;5;124;43m\"\u001b[39;49m\u001b[38;5;124;43mlos\u001b[39;49m\u001b[38;5;124;43m\"\u001b[39;49m\u001b[43m]\u001b[49m\n",
      "\u001b[1;31mKeyError\u001b[0m: 'los'"
     ]
    }
   ],
   "source": [
    "dic2[\"los\"]"
   ]
  },
  {
   "cell_type": "markdown",
   "id": "063d6cc6",
   "metadata": {},
   "source": [
    "### Q2. (p. 129)"
   ]
  },
  {
   "cell_type": "code",
   "execution_count": 69,
   "id": "e81919b4",
   "metadata": {},
   "outputs": [
    {
     "name": "stdout",
     "output_type": "stream",
     "text": [
      "apple 5000\n",
      "banana 4000\n",
      "grape 5300\n",
      "melon 6500\n",
      "------------\n",
      "apple 5000\n",
      "banana 4000\n",
      "grape 5300\n",
      "melon 6500\n"
     ]
    }
   ],
   "source": [
    "fruits_dic = {\n",
    "    \"apple\": 5000,\n",
    "    \"banana\": 4000,\n",
    "    \"grape\": 5300,\n",
    "    \"melon\": 6500\n",
    "}\n",
    "\n",
    "# Alternativa 1: recorro las claves y accedo al valor\n",
    "for fruta in fruits_dic.keys():\n",
    "    print(fruta, fruits_dic[fruta])\n",
    "    \n",
    "print(\"------------\")\n",
    "\n",
    "# Alternativa 2: recorro las clave-valor\n",
    "for fruta, precio in fruits_dic.items():\n",
    "    print(fruta, precio)"
   ]
  },
  {
   "cell_type": "code",
   "execution_count": 74,
   "id": "235f182e",
   "metadata": {},
   "outputs": [
    {
     "data": {
      "text/plain": [
       "{'lista_de_numeros': [1, 2, 3, 4],\n",
       " 'tupla_de_numeros': (1, 2, 3, 4),\n",
       " 'un_numero': 1,\n",
       " 'una_cadena': 'Hello World!',\n",
       " 'dicccionario_en_diccionario': {'abc': 'def'},\n",
       " (1, 2): 'uno-dos'}"
      ]
     },
     "execution_count": 74,
     "metadata": {},
     "output_type": "execute_result"
    }
   ],
   "source": [
    "dic3 = {\n",
    "    \"lista_de_numeros\": [1,2,3,4],\n",
    "    \"tupla_de_numeros\": (1,2,3,4),\n",
    "    \"un_numero\": 1,\n",
    "    \"una_cadena\": \"Hello World!\",\n",
    "    \"dicccionario_en_diccionario\": {\"abc\": \"def\"},\n",
    "    (1, 2): \"uno-dos\"\n",
    "}\n",
    "\n",
    "# Diccionario heterogéneo (HORROR!)\n",
    "dic3"
   ]
  },
  {
   "cell_type": "code",
   "execution_count": 75,
   "id": "87d08627",
   "metadata": {},
   "outputs": [
    {
     "data": {
      "text/plain": [
       "[1, 2, 3, 4, 1, 2, 3, 4, 1, 2, 3, 4]"
      ]
     },
     "execution_count": 75,
     "metadata": {},
     "output_type": "execute_result"
    }
   ],
   "source": [
    "lista = [1,2,3,4] * 3\n",
    "lista"
   ]
  },
  {
   "cell_type": "code",
   "execution_count": 77,
   "id": "68d756b4",
   "metadata": {},
   "outputs": [
    {
     "data": {
      "text/plain": [
       "[1, 2, -3, 4, 1, 2, 3, 4, 1, 2, 3, 4]"
      ]
     },
     "execution_count": 77,
     "metadata": {},
     "output_type": "execute_result"
    }
   ],
   "source": [
    "lista[2] = -3\n",
    "lista"
   ]
  },
  {
   "cell_type": "code",
   "execution_count": 78,
   "id": "f2ef80bd",
   "metadata": {},
   "outputs": [
    {
     "data": {
      "text/plain": [
       "[[1, 2, 4], [3, 4, 5], [1, 2, 4], [3, 4, 5], [1, 2, 4], [3, 4, 5]]"
      ]
     },
     "execution_count": 78,
     "metadata": {},
     "output_type": "execute_result"
    }
   ],
   "source": [
    "lista2 = [[1,2,4], [3,4,5]] * 3\n",
    "lista2"
   ]
  },
  {
   "cell_type": "code",
   "execution_count": 79,
   "id": "2ab520ec",
   "metadata": {},
   "outputs": [
    {
     "data": {
      "text/plain": [
       "[[-1, 2, 4], [3, 4, 5], [-1, 2, 4], [3, 4, 5], [-1, 2, 4], [3, 4, 5]]"
      ]
     },
     "execution_count": 79,
     "metadata": {},
     "output_type": "execute_result"
    }
   ],
   "source": [
    "lista2[2][0] = -1\n",
    "lista2"
   ]
  },
  {
   "cell_type": "code",
   "execution_count": 80,
   "id": "f95ec8cb",
   "metadata": {},
   "outputs": [
    {
     "name": "stdout",
     "output_type": "stream",
     "text": [
      "2405483161984\n",
      "2405483499328\n",
      "2405483161984\n",
      "2405483499328\n",
      "2405483161984\n",
      "2405483499328\n"
     ]
    }
   ],
   "source": [
    "for lista in lista2:\n",
    "    print(id(lista))"
   ]
  },
  {
   "cell_type": "code",
   "execution_count": 82,
   "id": "77115c92",
   "metadata": {},
   "outputs": [
    {
     "name": "stdout",
     "output_type": "stream",
     "text": [
      "2405483101440\n",
      "2405483178176\n",
      "2405483101440\n",
      "2405483178176\n",
      "2405483101440\n",
      "2405483178176\n",
      "--------\n",
      "2405483416000\n",
      "2405483479872\n",
      "2405483100160\n",
      "2405483270336\n",
      "2405483100544\n",
      "2405483101120\n"
     ]
    }
   ],
   "source": [
    "lista3 = [[1,2,4], [3,4,5]]\n",
    "lista4 = []\n",
    "lista5 = []\n",
    "\n",
    "# El * 3 en lista, paso a paso\n",
    "for _ in range(3):\n",
    "    for elemento in lista3:\n",
    "        # Como hace Python con el lista*3\n",
    "        lista4.append(elemento)\n",
    "        # Como deberíamos hacerlo\n",
    "        lista5.append(elemento.copy())\n",
    "        \n",
    "for lista in lista4:\n",
    "    print(id(lista))\n",
    "    \n",
    "print(\"--------\")\n",
    "    \n",
    "for lista in lista5:\n",
    "    print(id(lista))"
   ]
  }
 ],
 "metadata": {
  "kernelspec": {
   "display_name": "Python 3 (ipykernel)",
   "language": "python",
   "name": "python3"
  },
  "language_info": {
   "codemirror_mode": {
    "name": "ipython",
    "version": 3
   },
   "file_extension": ".py",
   "mimetype": "text/x-python",
   "name": "python",
   "nbconvert_exporter": "python",
   "pygments_lexer": "ipython3",
   "version": "3.9.12"
  }
 },
 "nbformat": 4,
 "nbformat_minor": 5
}
