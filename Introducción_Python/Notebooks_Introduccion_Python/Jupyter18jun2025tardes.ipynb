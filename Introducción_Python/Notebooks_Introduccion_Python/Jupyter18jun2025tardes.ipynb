{
 "cells": [
  {
   "cell_type": "markdown",
   "id": "a7647a53",
   "metadata": {},
   "source": [
    "## Dirección url:\n",
    "\n",
    "```\n",
    "shorter.me/xPl2_\n",
    "```\n",
    "\n",
    "Mi correo: `sespana@dsic.upv.es`   (Salva)\n",
    "\n",
    "Correo Vicent: `vahuir@dsic.upv.es`"
   ]
  },
  {
   "cell_type": "markdown",
   "id": "dc27ad22",
   "metadata": {},
   "source": [
    "### Ejemplo sumatorio"
   ]
  },
  {
   "cell_type": "code",
   "execution_count": 4,
   "id": "76a7935b",
   "metadata": {},
   "outputs": [
    {
     "name": "stdout",
     "output_type": "stream",
     "text": [
      "Introduce n:5\n",
      "La suma desde 1 hasta 5 es 15\n",
      "La suma desde 1 hasta 5 es 15\n",
      "La suma desde 1 hasta 5 es 15\n",
      "La suma desde 1 hasta {n} es {s}\n"
     ]
    }
   ],
   "source": [
    "n = int(input(\"Introduce n:\"))\n",
    "s = 0\n",
    "i = 1\n",
    "while i<=n:\n",
    "    s += i\n",
    "    i += 1\n",
    "print(\"La suma desde 1 hasta\",n,\"es\",s)\n",
    "print(\"La suma desde 1 hasta %d es %d\" % (n,s)) # arcaico\n",
    "print(\"La suma desde 1 hasta {} es {}\".format(n,s)) # slides Samsung\n",
    "print(f\"La suma desde 1 hasta {n} es {s}\") # f-string"
   ]
  },
  {
   "cell_type": "code",
   "execution_count": 5,
   "id": "f7cd7e30",
   "metadata": {},
   "outputs": [
    {
     "name": "stdout",
     "output_type": "stream",
     "text": [
      "Introduce n:5\n",
      "La suma desde 1 hasta 5 es 15\n"
     ]
    }
   ],
   "source": [
    "n = int(input(\"Introduce n:\"))\n",
    "s = 0\n",
    "for i in range(1,n+1):\n",
    "    s += i\n",
    "print(f\"La suma desde 1 hasta {n} es {s}\") # f-string"
   ]
  },
  {
   "cell_type": "code",
   "execution_count": 6,
   "id": "e5e0ad15",
   "metadata": {},
   "outputs": [
    {
     "name": "stdout",
     "output_type": "stream",
     "text": [
      "Introduce n:5\n",
      "La suma desde 1 hasta 5 es 15\n"
     ]
    }
   ],
   "source": [
    "n = int(input(\"Introduce n:\"))\n",
    "s = sum( range(1,n+1) )\n",
    "print(f\"La suma desde 1 hasta {n} es {s}\") # f-string"
   ]
  },
  {
   "cell_type": "code",
   "execution_count": 7,
   "id": "075721d8",
   "metadata": {},
   "outputs": [
    {
     "name": "stdout",
     "output_type": "stream",
     "text": [
      "Introduce n:5\n",
      "La suma desde 1 hasta 5 es 15\n"
     ]
    }
   ],
   "source": [
    "n = int(input(\"Introduce n:\"))\n",
    "s = (1+n)*n//2\n",
    "print(f\"La suma desde 1 hasta {n} es {s}\") # f-string"
   ]
  },
  {
   "cell_type": "markdown",
   "id": "5d6c8efa",
   "metadata": {},
   "source": [
    "### Piedra papel tijera"
   ]
  },
  {
   "cell_type": "code",
   "execution_count": 9,
   "id": "9bdf89bd",
   "metadata": {},
   "outputs": [
    {
     "name": "stdout",
     "output_type": "stream",
     "text": [
      "x vale 2 y vale 3\n"
     ]
    },
    {
     "data": {
      "text/plain": [
       "5"
      ]
     },
     "execution_count": 9,
     "metadata": {},
     "output_type": "execute_result"
    }
   ],
   "source": [
    "# funcion\n",
    "def nombre(x,y):\n",
    "    print(\"x vale\",x,\"y vale\",y)\n",
    "    return x+y\n",
    "    print(\"esto no se ejecuta nunca\")\n",
    "\n",
    "nombre(2,3)"
   ]
  },
  {
   "cell_type": "code",
   "execution_count": 17,
   "id": "5d8123ee",
   "metadata": {},
   "outputs": [],
   "source": [
    "def pedir_ppt(usuario):\n",
    "    selected = None\n",
    "    while selected not in ['piedra', 'papel', 'tijeras']:\n",
    "        selected = input(f\"(usuario {usuario}) Elije piedra, papel o tijeras: \")\n",
    "    return selected"
   ]
  },
  {
   "cell_type": "code",
   "execution_count": 20,
   "id": "d1814d2f",
   "metadata": {},
   "outputs": [],
   "source": [
    "def pedir_ppt(usuario):\n",
    "    selected = input(f\"(usuario {usuario}) Elije piedra, papel o tijeras: \")\n",
    "    while selected not in ['piedra', 'papel', 'tijeras']:\n",
    "        print(\"Te has equivocado, te vuelvo a pedir\")\n",
    "        selected = input(f\"(usuario {usuario}) Elije piedra, papel o tijeras: \")\n",
    "    return selected"
   ]
  },
  {
   "cell_type": "code",
   "execution_count": 21,
   "id": "519e33f4",
   "metadata": {},
   "outputs": [
    {
     "name": "stdout",
     "output_type": "stream",
     "text": [
      "(usuario A) Elije piedra, papel o tijeras: \n",
      "Te has equivocado, te vuelvo a pedir\n",
      "(usuario A) Elije piedra, papel o tijeras: peidra\n",
      "Te has equivocado, te vuelvo a pedir\n",
      "(usuario A) Elije piedra, papel o tijeras: papell\n",
      "Te has equivocado, te vuelvo a pedir\n",
      "(usuario A) Elije piedra, papel o tijeras: papel\n"
     ]
    },
    {
     "data": {
      "text/plain": [
       "'papel'"
      ]
     },
     "execution_count": 21,
     "metadata": {},
     "output_type": "execute_result"
    }
   ],
   "source": [
    "pedir_ppt('A')"
   ]
  },
  {
   "cell_type": "code",
   "execution_count": 19,
   "id": "0da6674e",
   "metadata": {},
   "outputs": [
    {
     "name": "stdout",
     "output_type": "stream",
     "text": [
      "(usuario A) Elije piedra, papel o tijeras: peidra\n",
      "(usuario A) Elije piedra, papel o tijeras: piedra\n",
      "(usuario B) Elije piedra, papel o tijeras: papel\n"
     ]
    }
   ],
   "source": [
    "selectA = pedir_ppt('A')\n",
    "selectB = pedir_ppt('B')"
   ]
  },
  {
   "cell_type": "code",
   "execution_count": 54,
   "id": "35bc7009",
   "metadata": {},
   "outputs": [],
   "source": [
    "def quien_gana(selectA, selectB):\n",
    "    \"\"\"\n",
    "    devuelve una cadena\n",
    "    si gana selectA devuelve 'primero'\n",
    "    si gana selectB devuelve 'segundo'\n",
    "    si ampetan devuelve 'empatan'\n",
    "    \"\"\"\n",
    "    if selectA == selectB:\n",
    "        return 'empatan'\n",
    "    elif (selectA, selectB) in [('piedra','tijeras'), \n",
    "                                ('papel','piedra'),\n",
    "                                ('tijeras','papel')]:\n",
    "        return 'primero'\n",
    "    else:\n",
    "        return 'segundo'\n",
    "    "
   ]
  },
  {
   "cell_type": "code",
   "execution_count": 55,
   "id": "384c1f9d",
   "metadata": {},
   "outputs": [
    {
     "name": "stdout",
     "output_type": "stream",
     "text": [
      "(usuario A) Elije piedra, papel o tijeras: tijeras\n",
      "(usuario B) Elije piedra, papel o tijeras: piedra\n",
      "segundo\n"
     ]
    }
   ],
   "source": [
    "selectA = pedir_ppt('A')\n",
    "selectB = pedir_ppt('B')\n",
    "print(quien_gana(selectA, selectB))"
   ]
  },
  {
   "cell_type": "code",
   "execution_count": 38,
   "id": "20749cb5",
   "metadata": {},
   "outputs": [
    {
     "name": "stdout",
     "output_type": "stream",
     "text": [
      "hola\n"
     ]
    }
   ],
   "source": [
    "a = print(\"hola\")"
   ]
  },
  {
   "cell_type": "code",
   "execution_count": 39,
   "id": "3cb08218",
   "metadata": {},
   "outputs": [
    {
     "name": "stdout",
     "output_type": "stream",
     "text": [
      "None\n"
     ]
    }
   ],
   "source": [
    "print(a)"
   ]
  },
  {
   "cell_type": "code",
   "execution_count": 47,
   "id": "6c5afaa4",
   "metadata": {},
   "outputs": [
    {
     "data": {
      "text/plain": [
       "list"
      ]
     },
     "execution_count": 47,
     "metadata": {},
     "output_type": "execute_result"
    }
   ],
   "source": [
    "type([2,3])"
   ]
  },
  {
   "cell_type": "code",
   "execution_count": 48,
   "id": "051f7f53",
   "metadata": {},
   "outputs": [
    {
     "data": {
      "text/plain": [
       "tuple"
      ]
     },
     "execution_count": 48,
     "metadata": {},
     "output_type": "execute_result"
    }
   ],
   "source": [
    "a = (2,3)\n",
    "type(a)"
   ]
  },
  {
   "cell_type": "code",
   "execution_count": 51,
   "id": "d5d39615",
   "metadata": {},
   "outputs": [
    {
     "name": "stdout",
     "output_type": "stream",
     "text": [
      "<class 'list'>\n",
      "('piedra', 'tijeras')\n",
      "('papel', 'piedra')\n",
      "('tijeras', 'papel')\n"
     ]
    }
   ],
   "source": [
    "a = [('piedra','tijeras'), ('papel','piedra'), ('tijeras','papel')]\n",
    "print(type(a))\n",
    "for x in a:\n",
    "    print(x)"
   ]
  },
  {
   "cell_type": "code",
   "execution_count": 53,
   "id": "bf3c395a",
   "metadata": {},
   "outputs": [
    {
     "data": {
      "text/plain": [
       "True"
      ]
     },
     "execution_count": 53,
     "metadata": {},
     "output_type": "execute_result"
    }
   ],
   "source": [
    "('tijeras','papel') in [('piedra','tijeras'), ('papel','piedra'), ('tijeras','papel')]"
   ]
  },
  {
   "cell_type": "code",
   "execution_count": 60,
   "id": "9657d4b9",
   "metadata": {},
   "outputs": [
    {
     "name": "stdout",
     "output_type": "stream",
     "text": [
      "Dime la nota (entre 0 y 10): -1\n",
      "Incorrecto, dime la nota (entre 0 y 10): 34\n",
      "Incorrecto, dime la nota (entre 0 y 10): 7.8\n"
     ]
    }
   ],
   "source": [
    "nota = float(input(\"Dime la nota (entre 0 y 10): \"))\n",
    "while (nota < 0) or (nota > 10):\n",
    "    nota = float(input(\"Incorrecto, dime la nota (entre 0 y 10): \"))\n"
   ]
  },
  {
   "cell_type": "code",
   "execution_count": 62,
   "id": "5888a78a",
   "metadata": {},
   "outputs": [
    {
     "name": "stdout",
     "output_type": "stream",
     "text": [
      "Dime la nota (entre 0 y 10): 12\n",
      "Dime la nota (entre 0 y 10): -1\n",
      "Dime la nota (entre 0 y 10): 7.8\n"
     ]
    }
   ],
   "source": [
    "nota = -1\n",
    "while not(0 <= nota <= 10): #  not(0<=nota and nota<=10)\n",
    "    nota = float(input(\"Dime la nota (entre 0 y 10): \"))\n"
   ]
  },
  {
   "cell_type": "markdown",
   "id": "3f366daf",
   "metadata": {},
   "source": [
    "## Pedir números"
   ]
  },
  {
   "cell_type": "code",
   "execution_count": 66,
   "id": "a769736b",
   "metadata": {},
   "outputs": [
    {
     "name": "stdout",
     "output_type": "stream",
     "text": [
      "Dame los números separados por espacio: 10 230 34\n",
      "En total suman 274\n"
     ]
    }
   ],
   "source": [
    "tokens = input(\"Dame los números separados por espacio: \").split()\n",
    "total = 0\n",
    "for token in tokens:\n",
    "    total = total + int(token)\n",
    "print(\"En total suman\",total)"
   ]
  },
  {
   "cell_type": "code",
   "execution_count": 69,
   "id": "55e6785a",
   "metadata": {},
   "outputs": [
    {
     "name": "stdout",
     "output_type": "stream",
     "text": [
      "Escribe un número a sumar (<=0 para parar): 10\n",
      "Escribe un número a sumar (<=0 para parar): 20\n",
      "Escribe un número a sumar (<=0 para parar): 30\n",
      "Escribe un número a sumar (<=0 para parar): -50\n",
      "El total es 60\n"
     ]
    }
   ],
   "source": [
    "total = 0\n",
    "numero = 1\n",
    "while numero > 0:\n",
    "    numero = int(input(\"Escribe un número a sumar (<=0 para parar): \"))\n",
    "    if numero > 0:\n",
    "        total = total + numero\n",
    "print(\"El total es\", total)"
   ]
  },
  {
   "cell_type": "code",
   "execution_count": 70,
   "id": "5d221d3e",
   "metadata": {},
   "outputs": [
    {
     "name": "stdout",
     "output_type": "stream",
     "text": [
      "Escribe un entero: 3443\n"
     ]
    }
   ],
   "source": [
    "numero = int(input(\"Escribe un entero: \"))"
   ]
  },
  {
   "cell_type": "code",
   "execution_count": 71,
   "id": "f3b8013c",
   "metadata": {},
   "outputs": [
    {
     "data": {
      "text/plain": [
       "3443"
      ]
     },
     "execution_count": 71,
     "metadata": {},
     "output_type": "execute_result"
    }
   ],
   "source": [
    "numero"
   ]
  },
  {
   "cell_type": "code",
   "execution_count": 72,
   "id": "2c1f4d2c",
   "metadata": {},
   "outputs": [
    {
     "data": {
      "text/plain": [
       "'3443'"
      ]
     },
     "execution_count": 72,
     "metadata": {},
     "output_type": "execute_result"
    }
   ],
   "source": [
    "str(numero)"
   ]
  },
  {
   "cell_type": "code",
   "execution_count": 78,
   "id": "c79bdb82",
   "metadata": {},
   "outputs": [
    {
     "name": "stdout",
     "output_type": "stream",
     "text": [
      "8\n",
      "4567\n"
     ]
    }
   ],
   "source": [
    "numero = 45678\n",
    "print(numero %  10)\n",
    "print(numero // 10)"
   ]
  },
  {
   "cell_type": "code",
   "execution_count": 84,
   "id": "b630612f",
   "metadata": {},
   "outputs": [],
   "source": [
    "def voltear_numero( numero ):\n",
    "    reves = 0\n",
    "    while numero != 0:\n",
    "        digito = numero % 10\n",
    "        reves = reves * 10 + digito\n",
    "        numero = numero // 10\n",
    "    return reves"
   ]
  },
  {
   "cell_type": "code",
   "execution_count": 85,
   "id": "c17fd4eb",
   "metadata": {},
   "outputs": [
    {
     "data": {
      "text/plain": [
       "4321"
      ]
     },
     "execution_count": 85,
     "metadata": {},
     "output_type": "execute_result"
    }
   ],
   "source": [
    "voltear_numero(1234)"
   ]
  },
  {
   "cell_type": "code",
   "execution_count": 86,
   "id": "b8ea8a4f",
   "metadata": {},
   "outputs": [
    {
     "data": {
      "text/plain": [
       "3443"
      ]
     },
     "execution_count": 86,
     "metadata": {},
     "output_type": "execute_result"
    }
   ],
   "source": [
    "voltear_numero(3443)"
   ]
  },
  {
   "cell_type": "code",
   "execution_count": null,
   "id": "af3c6cf2",
   "metadata": {},
   "outputs": [],
   "source": [
    "def es_palindromo( numero ):\n",
    "    al_reves = voltear_numero( numero )\n",
    "    if numero == al_reves:\n",
    "        return True\n",
    "    else:\n",
    "        return False\n",
    "    \n",
    "def es_palindromo( numero ):\n",
    "    return numero == voltear_numero( numero )"
   ]
  },
  {
   "cell_type": "code",
   "execution_count": 87,
   "id": "157d3166",
   "metadata": {},
   "outputs": [
    {
     "data": {
      "text/plain": [
       "'123'"
      ]
     },
     "execution_count": 87,
     "metadata": {},
     "output_type": "execute_result"
    }
   ],
   "source": [
    "numero = 123\n",
    "str(numero)"
   ]
  },
  {
   "cell_type": "code",
   "execution_count": 88,
   "id": "fc48a851",
   "metadata": {},
   "outputs": [
    {
     "data": {
      "text/plain": [
       "'aloh'"
      ]
     },
     "execution_count": 88,
     "metadata": {},
     "output_type": "execute_result"
    }
   ],
   "source": [
    "'hola'[::-1]"
   ]
  },
  {
   "cell_type": "code",
   "execution_count": null,
   "id": "086e1c09",
   "metadata": {},
   "outputs": [],
   "source": [
    "def es_palindromo( numero ):\n",
    "    cadena = str(numero)\n",
    "    return cadena = cadena[::-1]"
   ]
  },
  {
   "cell_type": "markdown",
   "id": "a820f3f1",
   "metadata": {},
   "source": [
    "## Adivinar nº"
   ]
  },
  {
   "cell_type": "code",
   "execution_count": 89,
   "id": "c0defd0d",
   "metadata": {},
   "outputs": [],
   "source": [
    "import random"
   ]
  },
  {
   "cell_type": "code",
   "execution_count": 91,
   "id": "d6697aec",
   "metadata": {},
   "outputs": [
    {
     "name": "stdout",
     "output_type": "stream",
     "text": [
      "Enter a number:50\n",
      "Lower\n",
      "Enter a number:25\n",
      "Lower\n",
      "Enter a number:12\n",
      "Higher\n",
      "Enter a number:20\n",
      "Lower\n",
      "Enter a number:16\n",
      "Lower\n",
      "Enter a number:14\n",
      "Higher\n",
      "Enter a number:15\n",
      "Congratulations. Total try = 7\n"
     ]
    }
   ],
   "source": [
    "oculto = random.randrange(1,101)\n",
    "intentos = 0\n",
    "usuario = 1000\n",
    "while usuario != oculto:\n",
    "    usuario = int(input('Enter a number:'))\n",
    "    intentos = intentos+1\n",
    "    if usuario < oculto:\n",
    "        print(\"Higher\")\n",
    "    elif usuario > oculto:\n",
    "        print(\"Lower\")\n",
    "print(\"Congratulations. Total try =\", intentos)"
   ]
  },
  {
   "cell_type": "code",
   "execution_count": null,
   "id": "eec3b235",
   "metadata": {},
   "outputs": [],
   "source": []
  }
 ],
 "metadata": {
  "kernelspec": {
   "display_name": "Python 3 (ipykernel)",
   "language": "python",
   "name": "python3"
  },
  "language_info": {
   "codemirror_mode": {
    "name": "ipython",
    "version": 3
   },
   "file_extension": ".py",
   "mimetype": "text/x-python",
   "name": "python",
   "nbconvert_exporter": "python",
   "pygments_lexer": "ipython3",
   "version": "3.9.12"
  }
 },
 "nbformat": 4,
 "nbformat_minor": 5
}
