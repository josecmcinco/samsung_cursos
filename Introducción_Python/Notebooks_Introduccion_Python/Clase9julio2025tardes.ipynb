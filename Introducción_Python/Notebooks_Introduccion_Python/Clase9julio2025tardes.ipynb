{
 "cells": [
  {
   "cell_type": "markdown",
   "id": "4b73b84a",
   "metadata": {},
   "source": [
    "# Excepciones"
   ]
  },
  {
   "cell_type": "code",
   "execution_count": 1,
   "id": "413608fb",
   "metadata": {},
   "outputs": [],
   "source": [
    "def f():\n",
    "    a = {}\n",
    "    return a[0]"
   ]
  },
  {
   "cell_type": "code",
   "execution_count": 2,
   "id": "317b69ab",
   "metadata": {},
   "outputs": [
    {
     "ename": "KeyError",
     "evalue": "0",
     "output_type": "error",
     "traceback": [
      "\u001b[1;31m---------------------------------------------------------------------------\u001b[0m",
      "\u001b[1;31mKeyError\u001b[0m                                  Traceback (most recent call last)",
      "Input \u001b[1;32mIn [2]\u001b[0m, in \u001b[0;36m<cell line: 1>\u001b[1;34m()\u001b[0m\n\u001b[1;32m----> 1\u001b[0m \u001b[43mf\u001b[49m\u001b[43m(\u001b[49m\u001b[43m)\u001b[49m\n",
      "Input \u001b[1;32mIn [1]\u001b[0m, in \u001b[0;36mf\u001b[1;34m()\u001b[0m\n\u001b[0;32m      1\u001b[0m \u001b[38;5;28;01mdef\u001b[39;00m \u001b[38;5;21mf\u001b[39m():\n\u001b[0;32m      2\u001b[0m     a \u001b[38;5;241m=\u001b[39m {}\n\u001b[1;32m----> 3\u001b[0m     \u001b[38;5;28;01mreturn\u001b[39;00m \u001b[43ma\u001b[49m\u001b[43m[\u001b[49m\u001b[38;5;241;43m0\u001b[39;49m\u001b[43m]\u001b[49m\n",
      "\u001b[1;31mKeyError\u001b[0m: 0"
     ]
    }
   ],
   "source": [
    "f()"
   ]
  },
  {
   "cell_type": "code",
   "execution_count": 4,
   "id": "533c5836",
   "metadata": {},
   "outputs": [
    {
     "ename": "FileNotFoundError",
     "evalue": "[Errno 2] No such file or directory: 'noexiste.txt'",
     "output_type": "error",
     "traceback": [
      "\u001b[1;31m---------------------------------------------------------------------------\u001b[0m",
      "\u001b[1;31mFileNotFoundError\u001b[0m                         Traceback (most recent call last)",
      "Input \u001b[1;32mIn [4]\u001b[0m, in \u001b[0;36m<cell line: 5>\u001b[1;34m()\u001b[0m\n\u001b[0;32m      2\u001b[0m     \u001b[38;5;28;01mwith\u001b[39;00m \u001b[38;5;28mopen\u001b[39m(\u001b[38;5;124m\"\u001b[39m\u001b[38;5;124mnoexiste.txt\u001b[39m\u001b[38;5;124m\"\u001b[39m) \u001b[38;5;28;01mas\u001b[39;00m f:\n\u001b[0;32m      3\u001b[0m         \u001b[38;5;28;01mreturn\u001b[39;00m f\u001b[38;5;241m.\u001b[39mread()\n\u001b[1;32m----> 5\u001b[0m \u001b[43mg\u001b[49m\u001b[43m(\u001b[49m\u001b[43m)\u001b[49m\n",
      "Input \u001b[1;32mIn [4]\u001b[0m, in \u001b[0;36mg\u001b[1;34m()\u001b[0m\n\u001b[0;32m      1\u001b[0m \u001b[38;5;28;01mdef\u001b[39;00m \u001b[38;5;21mg\u001b[39m():\n\u001b[1;32m----> 2\u001b[0m     \u001b[38;5;28;01mwith\u001b[39;00m \u001b[38;5;28;43mopen\u001b[39;49m\u001b[43m(\u001b[49m\u001b[38;5;124;43m\"\u001b[39;49m\u001b[38;5;124;43mnoexiste.txt\u001b[39;49m\u001b[38;5;124;43m\"\u001b[39;49m\u001b[43m)\u001b[49m \u001b[38;5;28;01mas\u001b[39;00m f:\n\u001b[0;32m      3\u001b[0m         \u001b[38;5;28;01mreturn\u001b[39;00m f\u001b[38;5;241m.\u001b[39mread()\n",
      "\u001b[1;31mFileNotFoundError\u001b[0m: [Errno 2] No such file or directory: 'noexiste.txt'"
     ]
    }
   ],
   "source": [
    "def g():\n",
    "    with open(\"noexiste.txt\") as f:\n",
    "        return f.read()\n",
    "    \n",
    "g()"
   ]
  },
  {
   "cell_type": "code",
   "execution_count": 13,
   "id": "dc25937d",
   "metadata": {},
   "outputs": [
    {
     "ename": "ZeroDivisionError",
     "evalue": "division by zero",
     "output_type": "error",
     "traceback": [
      "\u001b[1;31m---------------------------------------------------------------------------\u001b[0m",
      "\u001b[1;31mZeroDivisionError\u001b[0m                         Traceback (most recent call last)",
      "Input \u001b[1;32mIn [13]\u001b[0m, in \u001b[0;36m<cell line: 4>\u001b[1;34m()\u001b[0m\n\u001b[0;32m      1\u001b[0m \u001b[38;5;28;01mdef\u001b[39;00m \u001b[38;5;21mh\u001b[39m():\n\u001b[0;32m      2\u001b[0m     \u001b[38;5;28;01mreturn\u001b[39;00m \u001b[38;5;241m1\u001b[39m\u001b[38;5;241m/\u001b[39m\u001b[38;5;241m0\u001b[39m\n\u001b[1;32m----> 4\u001b[0m \u001b[43mh\u001b[49m\u001b[43m(\u001b[49m\u001b[43m)\u001b[49m\n",
      "Input \u001b[1;32mIn [13]\u001b[0m, in \u001b[0;36mh\u001b[1;34m()\u001b[0m\n\u001b[0;32m      1\u001b[0m \u001b[38;5;28;01mdef\u001b[39;00m \u001b[38;5;21mh\u001b[39m():\n\u001b[1;32m----> 2\u001b[0m     \u001b[38;5;28;01mreturn\u001b[39;00m \u001b[38;5;241;43m1\u001b[39;49m\u001b[38;5;241;43m/\u001b[39;49m\u001b[38;5;241;43m0\u001b[39;49m\n",
      "\u001b[1;31mZeroDivisionError\u001b[0m: division by zero"
     ]
    }
   ],
   "source": [
    "def h():\n",
    "    return 1/0\n",
    "\n",
    "h()"
   ]
  },
  {
   "cell_type": "code",
   "execution_count": 20,
   "id": "8e426928",
   "metadata": {},
   "outputs": [
    {
     "name": "stdout",
     "output_type": "stream",
     "text": [
      "ejecuto un print\n",
      "Otro tipo de error [Errno 2] No such file or directory: 'noexiste.txt'\n",
      "esto se imprime pase lo que pase\n"
     ]
    }
   ],
   "source": [
    "try:\n",
    "    print(\"ejecuto un print\")\n",
    "    # h() # provoca DivisionByZero\n",
    "    # f() # provoca KeyError\n",
    "    g() # provoca FileNotFoundError\n",
    "    print(\"otro print\")\n",
    "except KeyError as e:\n",
    "    print(\"No encuentra clave\",e)\n",
    "except Exception as e:\n",
    "    print(\"Otro tipo de error\",e)\n",
    "else:\n",
    "    print(\"No se ha producido ninguna excepción en el try\")\n",
    "finally:\n",
    "    print(\"esto se imprime pase lo que pase\")"
   ]
  },
  {
   "cell_type": "code",
   "execution_count": 21,
   "id": "95146b4a",
   "metadata": {},
   "outputs": [
    {
     "ename": "ValueError",
     "evalue": "too many values to unpack (expected 2)",
     "output_type": "error",
     "traceback": [
      "\u001b[1;31m---------------------------------------------------------------------------\u001b[0m",
      "\u001b[1;31mValueError\u001b[0m                                Traceback (most recent call last)",
      "Input \u001b[1;32mIn [21]\u001b[0m, in \u001b[0;36m<cell line: 1>\u001b[1;34m()\u001b[0m\n\u001b[1;32m----> 1\u001b[0m a,b \u001b[38;5;241m=\u001b[39m [\u001b[38;5;241m1\u001b[39m,\u001b[38;5;241m2\u001b[39m,\u001b[38;5;241m3\u001b[39m]\n",
      "\u001b[1;31mValueError\u001b[0m: too many values to unpack (expected 2)"
     ]
    }
   ],
   "source": [
    "a,b = [1,2,3]"
   ]
  },
  {
   "cell_type": "code",
   "execution_count": 22,
   "id": "8880d93d",
   "metadata": {},
   "outputs": [
    {
     "ename": "ValueError",
     "evalue": "invalid literal for int() with base 10: 'casa'",
     "output_type": "error",
     "traceback": [
      "\u001b[1;31m---------------------------------------------------------------------------\u001b[0m",
      "\u001b[1;31mValueError\u001b[0m                                Traceback (most recent call last)",
      "Input \u001b[1;32mIn [22]\u001b[0m, in \u001b[0;36m<cell line: 1>\u001b[1;34m()\u001b[0m\n\u001b[1;32m----> 1\u001b[0m \u001b[38;5;28;43mint\u001b[39;49m\u001b[43m(\u001b[49m\u001b[38;5;124;43m\"\u001b[39;49m\u001b[38;5;124;43mcasa\u001b[39;49m\u001b[38;5;124;43m\"\u001b[39;49m\u001b[43m)\u001b[49m\n",
      "\u001b[1;31mValueError\u001b[0m: invalid literal for int() with base 10: 'casa'"
     ]
    }
   ],
   "source": [
    "int(\"casa\")"
   ]
  },
  {
   "cell_type": "markdown",
   "id": "71e58671",
   "metadata": {},
   "source": [
    "## Ejemplo uso try except"
   ]
  },
  {
   "cell_type": "code",
   "execution_count": 23,
   "id": "2e76366f",
   "metadata": {},
   "outputs": [
    {
     "name": "stdout",
     "output_type": "stream",
     "text": [
      "Introduce dos valores: 1 2 3\n",
      "Check if numbers are correct\n"
     ]
    }
   ],
   "source": [
    "try:\n",
    "    a,b = input(\"Introduce dos valores: \").split()\n",
    "    r = int(a) / int(b)\n",
    "    print(f\"{a} / {b} = {r}\")\n",
    "except:\n",
    "    print(\"Check if numbers are correct\")"
   ]
  },
  {
   "cell_type": "code",
   "execution_count": 29,
   "id": "dc86b31b",
   "metadata": {},
   "outputs": [
    {
     "name": "stdout",
     "output_type": "stream",
     "text": [
      "Introduce dos valores: 1 2 3\n",
      "Check if numbers are correct\n",
      "Introduce dos valores: hola casa\n",
      "Check if numbers are correct\n",
      "Introduce dos valores: 20 0\n",
      "Check if numbers are correct\n",
      "Introduce dos valores: 20 2\n",
      "20 / 2 = 10.0\n"
     ]
    }
   ],
   "source": [
    "while True:\n",
    "    try:\n",
    "        a,b = input(\"Introduce dos valores: \").split()\n",
    "        r = int(a) / int(b)\n",
    "        break\n",
    "    except:\n",
    "        print(\"Check if numbers are correct\")\n",
    "print(f\"{a} / {b} = {r}\")"
   ]
  },
  {
   "cell_type": "code",
   "execution_count": 31,
   "id": "64e523e3",
   "metadata": {},
   "outputs": [
    {
     "name": "stdout",
     "output_type": "stream",
     "text": [
      "Introduce dos valores: 1 2 3\n",
      "No eran dos valores\n",
      "Introduce dos valores: 2 casas\n",
      "Alguno no era un número entero\n",
      "Introduce dos valores: 20 0\n",
      "No es posible dividir entre cero\n",
      "Introduce dos valores: 20 2\n",
      "20 / 2 = 10.0\n"
     ]
    }
   ],
   "source": [
    "ok = False\n",
    "while not ok:\n",
    "    try:\n",
    "        a,b = input(\"Introduce dos valores: \").split()\n",
    "        try:\n",
    "            a, b = int(a), int(b)\n",
    "            try:\n",
    "                r = a/b\n",
    "                print(f\"{a} / {b} = {r}\")\n",
    "                ok = True\n",
    "            except ZeroDivisionError:\n",
    "                print(\"No es posible dividir entre cero\")\n",
    "        except ValueError:\n",
    "            print(\"Alguno no era un número entero\")            \n",
    "    except ValueError:\n",
    "        print(\"No eran dos valores\")\n",
    "\n"
   ]
  },
  {
   "cell_type": "code",
   "execution_count": 34,
   "id": "87f80e97",
   "metadata": {},
   "outputs": [
    {
     "name": "stdout",
     "output_type": "stream",
     "text": [
      "Introduce dos valores: 1 2 3\n",
      "No eran dos valores\n",
      "Introduce dos valores: 20 hola\n",
      "Alguno no era un número entero\n",
      "Introduce dos valores: 20 0\n",
      "No es posible dividir entre cero\n",
      "Introduce dos valores: 20 3\n",
      "20 / 3 = 6.666666666666667\n"
     ]
    }
   ],
   "source": [
    "ok = False\n",
    "while not ok:\n",
    "    \n",
    "    try:\n",
    "        a,b = input(\"Introduce dos valores: \").split()    \n",
    "    except ValueError:\n",
    "        print(\"No eran dos valores\")\n",
    "        continue\n",
    "        \n",
    "    try:\n",
    "        a, b = int(a), int(b)\n",
    "    except ValueError:\n",
    "        print(\"Alguno no era un número entero\")\n",
    "        continue\n",
    "        \n",
    "    try:\n",
    "        r = a/b\n",
    "        print(f\"{a} / {b} = {r}\")\n",
    "        ok = True\n",
    "    except ZeroDivisionError:\n",
    "        print(\"No es posible dividir entre cero\")      "
   ]
  },
  {
   "cell_type": "markdown",
   "id": "c9dbf7ce",
   "metadata": {},
   "source": [
    "## Iteradores"
   ]
  },
  {
   "cell_type": "markdown",
   "id": "d2b502fd",
   "metadata": {},
   "source": [
    "### Diferencia entre iterable e iterador"
   ]
  },
  {
   "cell_type": "code",
   "execution_count": 36,
   "id": "bd321d6f",
   "metadata": {},
   "outputs": [
    {
     "name": "stdout",
     "output_type": "stream",
     "text": [
      "10\n",
      "20\n",
      "30\n",
      "Segunda vez\n",
      "10\n",
      "20\n",
      "30\n"
     ]
    }
   ],
   "source": [
    "lista = [10,20,30]\n",
    "\n",
    "for x in lista:\n",
    "    print(x)\n",
    "print(\"Segunda vez\")\n",
    "for x in lista:\n",
    "    print(x)"
   ]
  },
  {
   "cell_type": "code",
   "execution_count": 37,
   "id": "9c2cd01f",
   "metadata": {},
   "outputs": [
    {
     "name": "stdout",
     "output_type": "stream",
     "text": [
      "10\n",
      "20\n",
      "30\n",
      "Segunda vez\n"
     ]
    }
   ],
   "source": [
    "lista = [10,20,30]\n",
    "i = iter(lista)\n",
    "\n",
    "for x in i:\n",
    "    print(x)\n",
    "print(\"Segunda vez\")\n",
    "for x in i:\n",
    "    print(x)"
   ]
  },
  {
   "cell_type": "code",
   "execution_count": 39,
   "id": "ec2a9c57",
   "metadata": {},
   "outputs": [
    {
     "name": "stdout",
     "output_type": "stream",
     "text": [
      "<class 'list_iterator'>\n",
      "<list_iterator object at 0x00000231A849AD30>\n"
     ]
    }
   ],
   "source": [
    "i = iter(lista)\n",
    "print(type(i))\n",
    "print(i)"
   ]
  },
  {
   "cell_type": "code",
   "execution_count": 40,
   "id": "cd11b1fa",
   "metadata": {},
   "outputs": [
    {
     "data": {
      "text/plain": [
       "2412300053808"
      ]
     },
     "execution_count": 40,
     "metadata": {},
     "output_type": "execute_result"
    }
   ],
   "source": [
    "id(i)"
   ]
  },
  {
   "cell_type": "code",
   "execution_count": 41,
   "id": "4a2550c1",
   "metadata": {},
   "outputs": [],
   "source": [
    "i2 = iter(i)"
   ]
  },
  {
   "cell_type": "code",
   "execution_count": 42,
   "id": "7adb8051",
   "metadata": {},
   "outputs": [
    {
     "data": {
      "text/plain": [
       "2412300053808"
      ]
     },
     "execution_count": 42,
     "metadata": {},
     "output_type": "execute_result"
    }
   ],
   "source": [
    "id(i2)"
   ]
  },
  {
   "cell_type": "code",
   "execution_count": 43,
   "id": "1042ee3c",
   "metadata": {},
   "outputs": [
    {
     "data": {
      "text/plain": [
       "True"
      ]
     },
     "execution_count": 43,
     "metadata": {},
     "output_type": "execute_result"
    }
   ],
   "source": [
    "i is i2"
   ]
  },
  {
   "cell_type": "code",
   "execution_count": 44,
   "id": "99df5f15",
   "metadata": {},
   "outputs": [
    {
     "data": {
      "text/plain": [
       "10"
      ]
     },
     "execution_count": 44,
     "metadata": {},
     "output_type": "execute_result"
    }
   ],
   "source": [
    "next(i)"
   ]
  },
  {
   "cell_type": "code",
   "execution_count": 45,
   "id": "e7efaf1d",
   "metadata": {},
   "outputs": [
    {
     "data": {
      "text/plain": [
       "20"
      ]
     },
     "execution_count": 45,
     "metadata": {},
     "output_type": "execute_result"
    }
   ],
   "source": [
    "next(i)"
   ]
  },
  {
   "cell_type": "code",
   "execution_count": 46,
   "id": "03b34adb",
   "metadata": {},
   "outputs": [
    {
     "data": {
      "text/plain": [
       "30"
      ]
     },
     "execution_count": 46,
     "metadata": {},
     "output_type": "execute_result"
    }
   ],
   "source": [
    "next(i)"
   ]
  },
  {
   "cell_type": "code",
   "execution_count": 47,
   "id": "a2c84185",
   "metadata": {},
   "outputs": [
    {
     "ename": "StopIteration",
     "evalue": "",
     "output_type": "error",
     "traceback": [
      "\u001b[1;31m---------------------------------------------------------------------------\u001b[0m",
      "\u001b[1;31mStopIteration\u001b[0m                             Traceback (most recent call last)",
      "Input \u001b[1;32mIn [47]\u001b[0m, in \u001b[0;36m<cell line: 1>\u001b[1;34m()\u001b[0m\n\u001b[1;32m----> 1\u001b[0m \u001b[38;5;28;43mnext\u001b[39;49m\u001b[43m(\u001b[49m\u001b[43mi\u001b[49m\u001b[43m)\u001b[49m\n",
      "\u001b[1;31mStopIteration\u001b[0m: "
     ]
    }
   ],
   "source": [
    "next(i)"
   ]
  },
  {
   "cell_type": "code",
   "execution_count": null,
   "id": "c6a0f150",
   "metadata": {},
   "outputs": [],
   "source": [
    "\"\"\"\n",
    "\n",
    "for variable in iterable:\n",
    "    codigo\n",
    "    \n",
    "tmp = iter(iterable)\n",
    "while True:\n",
    "   try:\n",
    "       variable = next(tmp)\n",
    "       codigo\n",
    "   except StopIteration:\n",
    "       break\n",
    "    \n",
    "    "
   ]
  },
  {
   "cell_type": "markdown",
   "id": "0e578003",
   "metadata": {},
   "source": [
    "### Puedo tener varios iteradores de un mismo objeto"
   ]
  },
  {
   "cell_type": "code",
   "execution_count": 48,
   "id": "be4a31a0",
   "metadata": {},
   "outputs": [
    {
     "data": {
      "text/plain": [
       "False"
      ]
     },
     "execution_count": 48,
     "metadata": {},
     "output_type": "execute_result"
    }
   ],
   "source": [
    "lista = [10,20,30]\n",
    "i1 = iter(lista)\n",
    "i2 = iter(lista)\n",
    "i1 is i2"
   ]
  },
  {
   "cell_type": "code",
   "execution_count": 49,
   "id": "d491bb32",
   "metadata": {},
   "outputs": [
    {
     "data": {
      "text/plain": [
       "10"
      ]
     },
     "execution_count": 49,
     "metadata": {},
     "output_type": "execute_result"
    }
   ],
   "source": [
    "next(i1)"
   ]
  },
  {
   "cell_type": "code",
   "execution_count": 50,
   "id": "cb45a365",
   "metadata": {},
   "outputs": [
    {
     "data": {
      "text/plain": [
       "20"
      ]
     },
     "execution_count": 50,
     "metadata": {},
     "output_type": "execute_result"
    }
   ],
   "source": [
    "next(i1)"
   ]
  },
  {
   "cell_type": "code",
   "execution_count": 51,
   "id": "5d73f6e7",
   "metadata": {},
   "outputs": [
    {
     "data": {
      "text/plain": [
       "10"
      ]
     },
     "execution_count": 51,
     "metadata": {},
     "output_type": "execute_result"
    }
   ],
   "source": [
    "next(i2)"
   ]
  },
  {
   "cell_type": "code",
   "execution_count": 57,
   "id": "cf876152",
   "metadata": {},
   "outputs": [],
   "source": [
    "class Prueba:\n",
    "    def __iter__(self): # hace que Prueba sea iterable\n",
    "        return MiIterador() # tiene que devolver un iterador\n",
    "    \n",
    "class MiIterador:\n",
    "    def __next__(self):\n",
    "        return \"hola\"\n",
    "    def __iter__(self):\n",
    "        return self"
   ]
  },
  {
   "cell_type": "code",
   "execution_count": 58,
   "id": "663f6a09",
   "metadata": {},
   "outputs": [],
   "source": [
    "p = Prueba()"
   ]
  },
  {
   "cell_type": "code",
   "execution_count": null,
   "id": "0f9a3dc1",
   "metadata": {},
   "outputs": [],
   "source": [
    "for x in p:\n",
    "    print(x)"
   ]
  },
  {
   "cell_type": "code",
   "execution_count": 56,
   "id": "8385a517",
   "metadata": {},
   "outputs": [
    {
     "ename": "TypeError",
     "evalue": "'Prueba' object is not iterable",
     "output_type": "error",
     "traceback": [
      "\u001b[1;31m---------------------------------------------------------------------------\u001b[0m",
      "\u001b[1;31mTypeError\u001b[0m                                 Traceback (most recent call last)",
      "Input \u001b[1;32mIn [56]\u001b[0m, in \u001b[0;36m<cell line: 1>\u001b[1;34m()\u001b[0m\n\u001b[1;32m----> 1\u001b[0m \u001b[38;5;28;43miter\u001b[39;49m\u001b[43m(\u001b[49m\u001b[43mp\u001b[49m\u001b[43m)\u001b[49m\n",
      "\u001b[1;31mTypeError\u001b[0m: 'Prueba' object is not iterable"
     ]
    }
   ],
   "source": [
    "iter(p)"
   ]
  },
  {
   "cell_type": "code",
   "execution_count": 77,
   "id": "31d710e8",
   "metadata": {},
   "outputs": [],
   "source": [
    "class Rango:\n",
    "    def __init__(self, n):\n",
    "        self.n = n\n",
    "    def __iter__(self): # hace que Prueba sea iterable\n",
    "        return IteraRango(self) # tiene que devolver un iterador\n",
    "    \n",
    "class IteraRango:\n",
    "    def __init__(self, rango):\n",
    "        self.rango = rango\n",
    "        self.contador = 0\n",
    "        \n",
    "    def __next__(self):\n",
    "        if self.contador >= self.rango.n:\n",
    "            raise StopIteration\n",
    "        devuelvo = self.contador\n",
    "        self.contador += 1\n",
    "        return devuelvo\n",
    "    \n",
    "    def __iter__(self):\n",
    "        return self"
   ]
  },
  {
   "cell_type": "code",
   "execution_count": 78,
   "id": "787e7866",
   "metadata": {},
   "outputs": [
    {
     "name": "stdout",
     "output_type": "stream",
     "text": [
      "0\n",
      "1\n",
      "2\n",
      "3\n",
      "4\n",
      "5\n",
      "6\n",
      "7\n",
      "8\n",
      "9\n"
     ]
    }
   ],
   "source": [
    "for x in Rango(10):\n",
    "    print(x)"
   ]
  },
  {
   "cell_type": "code",
   "execution_count": 79,
   "id": "a5d0e8ea",
   "metadata": {},
   "outputs": [],
   "source": [
    "r = Rango(10)"
   ]
  },
  {
   "cell_type": "code",
   "execution_count": 80,
   "id": "0ccf3fd2",
   "metadata": {},
   "outputs": [
    {
     "data": {
      "text/plain": [
       "10"
      ]
     },
     "execution_count": 80,
     "metadata": {},
     "output_type": "execute_result"
    }
   ],
   "source": [
    "r.n"
   ]
  },
  {
   "cell_type": "code",
   "execution_count": 81,
   "id": "868b8512",
   "metadata": {},
   "outputs": [],
   "source": [
    "i1 = iter(r)\n",
    "i2 = iter(r)"
   ]
  },
  {
   "cell_type": "code",
   "execution_count": 82,
   "id": "24825aa0",
   "metadata": {},
   "outputs": [
    {
     "data": {
      "text/plain": [
       "0"
      ]
     },
     "execution_count": 82,
     "metadata": {},
     "output_type": "execute_result"
    }
   ],
   "source": [
    "next(i1)"
   ]
  },
  {
   "cell_type": "code",
   "execution_count": 83,
   "id": "6bcf9a04",
   "metadata": {},
   "outputs": [
    {
     "data": {
      "text/plain": [
       "1"
      ]
     },
     "execution_count": 83,
     "metadata": {},
     "output_type": "execute_result"
    }
   ],
   "source": [
    "next(i1)"
   ]
  },
  {
   "cell_type": "code",
   "execution_count": 85,
   "id": "332bd91b",
   "metadata": {},
   "outputs": [
    {
     "name": "stdout",
     "output_type": "stream",
     "text": [
      "2\n",
      "3\n",
      "4\n",
      "5\n",
      "6\n",
      "7\n",
      "8\n",
      "9\n"
     ]
    }
   ],
   "source": [
    "for x in i1:\n",
    "    print(x)"
   ]
  },
  {
   "cell_type": "code",
   "execution_count": 86,
   "id": "02886902",
   "metadata": {},
   "outputs": [
    {
     "name": "stdout",
     "output_type": "stream",
     "text": [
      "x 10\n",
      "y 20\n",
      "z 30\n",
      "z 40\n",
      "z 50\n",
      "z 60\n",
      "z 70\n"
     ]
    }
   ],
   "source": [
    "lista = [10,20,30,40,50,60,70]\n",
    "i = iter(lista)\n",
    "for x in i:\n",
    "    print('x',x)\n",
    "    for y in i:\n",
    "        print('y',y)\n",
    "        for z in i:\n",
    "            print('z',z)"
   ]
  },
  {
   "cell_type": "code",
   "execution_count": 88,
   "id": "9671941f",
   "metadata": {},
   "outputs": [
    {
     "data": {
      "text/plain": [
       "['esto', 'es', 'una', 'cadena', 'de', 'texto', 'con', 'varias', 'palabras']"
      ]
     },
     "execution_count": 88,
     "metadata": {},
     "output_type": "execute_result"
    }
   ],
   "source": [
    "# creo un iterador de una lista y luego modifico la lista a mitad camino:\n",
    "lista = \"esto es una cadena de texto con varias palabras\".split()\n",
    "lista"
   ]
  },
  {
   "cell_type": "code",
   "execution_count": 89,
   "id": "24dec095",
   "metadata": {},
   "outputs": [
    {
     "name": "stdout",
     "output_type": "stream",
     "text": [
      "esto\n",
      "es\n",
      "una\n",
      "cadena\n"
     ]
    }
   ],
   "source": [
    "i = iter(lista)\n",
    "for veces in range(4):\n",
    "    print(next(i))"
   ]
  },
  {
   "cell_type": "code",
   "execution_count": 90,
   "id": "c1e1e6c7",
   "metadata": {},
   "outputs": [
    {
     "data": {
      "text/plain": [
       "['palabras', 'varias', 'con', 'texto', 'de', 'cadena', 'una', 'es', 'esto']"
      ]
     },
     "execution_count": 90,
     "metadata": {},
     "output_type": "execute_result"
    }
   ],
   "source": [
    "lista.reverse()\n",
    "lista"
   ]
  },
  {
   "cell_type": "code",
   "execution_count": 91,
   "id": "c1059b36",
   "metadata": {},
   "outputs": [
    {
     "name": "stdout",
     "output_type": "stream",
     "text": [
      "de\n",
      "cadena\n",
      "una\n",
      "es\n",
      "esto\n"
     ]
    }
   ],
   "source": [
    "for x in i:\n",
    "    print(x)"
   ]
  },
  {
   "cell_type": "markdown",
   "id": "7c98a0b2",
   "metadata": {},
   "source": [
    "### Generadores"
   ]
  },
  {
   "cell_type": "code",
   "execution_count": 93,
   "id": "35fe0c20",
   "metadata": {},
   "outputs": [
    {
     "data": {
      "text/plain": [
       "[0, 1, 4, 9, 16, 25, 36, 49, 64, 81]"
      ]
     },
     "execution_count": 93,
     "metadata": {},
     "output_type": "execute_result"
    }
   ],
   "source": [
    "lista_intensional = [x**2 for x in range(10)]\n",
    "lista_intensional"
   ]
  },
  {
   "cell_type": "code",
   "execution_count": 94,
   "id": "0541fe2e",
   "metadata": {},
   "outputs": [
    {
     "name": "stdout",
     "output_type": "stream",
     "text": [
      "<generator object <genexpr> at 0x00000231A93670B0>\n"
     ]
    }
   ],
   "source": [
    "generador = (x**2 for x in range(10))\n",
    "print(generador)"
   ]
  },
  {
   "cell_type": "code",
   "execution_count": 95,
   "id": "95a68b2e",
   "metadata": {},
   "outputs": [
    {
     "data": {
      "text/plain": [
       "0"
      ]
     },
     "execution_count": 95,
     "metadata": {},
     "output_type": "execute_result"
    }
   ],
   "source": [
    "next(generador)"
   ]
  },
  {
   "cell_type": "code",
   "execution_count": 96,
   "id": "fd67dd0e",
   "metadata": {},
   "outputs": [
    {
     "data": {
      "text/plain": [
       "1"
      ]
     },
     "execution_count": 96,
     "metadata": {},
     "output_type": "execute_result"
    }
   ],
   "source": [
    "next(generador)"
   ]
  },
  {
   "cell_type": "code",
   "execution_count": 97,
   "id": "33576407",
   "metadata": {},
   "outputs": [
    {
     "data": {
      "text/plain": [
       "4"
      ]
     },
     "execution_count": 97,
     "metadata": {},
     "output_type": "execute_result"
    }
   ],
   "source": [
    "next(generador)"
   ]
  },
  {
   "cell_type": "code",
   "execution_count": 98,
   "id": "a2d04086",
   "metadata": {},
   "outputs": [
    {
     "name": "stdout",
     "output_type": "stream",
     "text": [
      "9\n",
      "16\n",
      "25\n",
      "36\n",
      "49\n",
      "64\n",
      "81\n"
     ]
    }
   ],
   "source": [
    "for x in generador:\n",
    "    print(x)"
   ]
  },
  {
   "cell_type": "code",
   "execution_count": 99,
   "id": "bb4fa6ba",
   "metadata": {},
   "outputs": [
    {
     "ename": "StopIteration",
     "evalue": "",
     "output_type": "error",
     "traceback": [
      "\u001b[1;31m---------------------------------------------------------------------------\u001b[0m",
      "\u001b[1;31mStopIteration\u001b[0m                             Traceback (most recent call last)",
      "Input \u001b[1;32mIn [99]\u001b[0m, in \u001b[0;36m<cell line: 1>\u001b[1;34m()\u001b[0m\n\u001b[1;32m----> 1\u001b[0m \u001b[38;5;28;43mnext\u001b[39;49m\u001b[43m(\u001b[49m\u001b[43mgenerador\u001b[49m\u001b[43m)\u001b[49m\n",
      "\u001b[1;31mStopIteration\u001b[0m: "
     ]
    }
   ],
   "source": [
    "next(generador)"
   ]
  },
  {
   "cell_type": "code",
   "execution_count": 100,
   "id": "4dcc2b8b",
   "metadata": {},
   "outputs": [
    {
     "data": {
      "text/plain": [
       "(0, 1, 4, 9, 16, 25, 36, 49, 64, 81)"
      ]
     },
     "execution_count": 100,
     "metadata": {},
     "output_type": "execute_result"
    }
   ],
   "source": [
    "tuple(x**2 for x in range(10))"
   ]
  },
  {
   "cell_type": "markdown",
   "id": "75524cc9",
   "metadata": {},
   "source": [
    "### Ejemplo de uso de generadores y next\n",
    "\n",
    "Dada una cadena, encontrar la primera palabra formada por 4 letras"
   ]
  },
  {
   "cell_type": "code",
   "execution_count": 103,
   "id": "03794815",
   "metadata": {},
   "outputs": [],
   "source": [
    "cadena = \"en un lugar de la Mancha de cuyo nombre no abcd\""
   ]
  },
  {
   "cell_type": "code",
   "execution_count": 104,
   "id": "a13698c5",
   "metadata": {},
   "outputs": [
    {
     "data": {
      "text/plain": [
       "['cuyo', 'abcd']"
      ]
     },
     "execution_count": 104,
     "metadata": {},
     "output_type": "execute_result"
    }
   ],
   "source": [
    "[palabra for palabra in cadena.split() if len(palabra) == 4]"
   ]
  },
  {
   "cell_type": "code",
   "execution_count": 105,
   "id": "21485226",
   "metadata": {},
   "outputs": [
    {
     "data": {
      "text/plain": [
       "'cuyo'"
      ]
     },
     "execution_count": 105,
     "metadata": {},
     "output_type": "execute_result"
    }
   ],
   "source": [
    "next(palabra for palabra in cadena.split() if len(palabra) == 4)"
   ]
  },
  {
   "cell_type": "code",
   "execution_count": 107,
   "id": "3c311fc2",
   "metadata": {},
   "outputs": [
    {
     "data": {
      "text/plain": [
       "'no hay ninguna'"
      ]
     },
     "execution_count": 107,
     "metadata": {},
     "output_type": "execute_result"
    }
   ],
   "source": [
    "next((palabra for palabra in cadena.split() if len(palabra) == 9),\"no hay ninguna\")"
   ]
  },
  {
   "cell_type": "code",
   "execution_count": 108,
   "id": "de418806",
   "metadata": {},
   "outputs": [
    {
     "data": {
      "text/plain": [
       "'\\nEl fichero datos.csv contiene:\\n\\nDNI,EDAD\\n1234,18\\n4567,34\\n9012,42\\n\\n\\n'"
      ]
     },
     "execution_count": 108,
     "metadata": {},
     "output_type": "execute_result"
    }
   ],
   "source": [
    "\"\"\"\n",
    "El fichero datos.csv contiene:\n",
    "\n",
    "DNI,EDAD\n",
    "1234,18\n",
    "4567,34\n",
    "9012,42\n",
    "\n",
    "\n",
    "\"\"\""
   ]
  },
  {
   "cell_type": "code",
   "execution_count": 112,
   "id": "ec75818b",
   "metadata": {},
   "outputs": [
    {
     "name": "stdout",
     "output_type": "stream",
     "text": [
      "La cabecera es: DNI,EDAD\n",
      "\n",
      "1234 18\n",
      "4567 34\n",
      "9012 42\n"
     ]
    }
   ],
   "source": [
    "with open('datos.csv') as f:\n",
    "    cabecera = next(f)\n",
    "    print(\"La cabecera es:\",cabecera)\n",
    "    for linea in f:\n",
    "        dni,edad = linea.strip('\\n').split(\",\")\n",
    "        print(dni,edad)"
   ]
  },
  {
   "cell_type": "markdown",
   "id": "9444827d",
   "metadata": {},
   "source": [
    "## Ejercicio\n",
    "\n",
    "Tengo una lista python y quiero contar cuántos valores (sin el primero) son iguales al primero de la lista"
   ]
  },
  {
   "cell_type": "code",
   "execution_count": 114,
   "id": "54273f5d",
   "metadata": {},
   "outputs": [],
   "source": [
    "lista = [10,2,3,10,20,10,5,10]"
   ]
  },
  {
   "cell_type": "code",
   "execution_count": 116,
   "id": "df13afe0",
   "metadata": {},
   "outputs": [
    {
     "data": {
      "text/plain": [
       "3"
      ]
     },
     "execution_count": 116,
     "metadata": {},
     "output_type": "execute_result"
    }
   ],
   "source": [
    "c = 0\n",
    "primero = lista[0]\n",
    "for x in lista[1:]: # problema -> un slice crea una copia\n",
    "    if x == primero:\n",
    "        c += 1\n",
    "c"
   ]
  },
  {
   "cell_type": "code",
   "execution_count": 117,
   "id": "ce394c1c",
   "metadata": {},
   "outputs": [
    {
     "data": {
      "text/plain": [
       "3"
      ]
     },
     "execution_count": 117,
     "metadata": {},
     "output_type": "execute_result"
    }
   ],
   "source": [
    "c = 0\n",
    "i = iter(lista)\n",
    "primero = next(i)\n",
    "for x in i:\n",
    "    if x == primero:\n",
    "        c += 1\n",
    "c"
   ]
  },
  {
   "cell_type": "code",
   "execution_count": 118,
   "id": "c8e027b7",
   "metadata": {},
   "outputs": [],
   "source": [
    "# Ejercicio slide 214\n",
    "scores = [100,90,95,90,80,70,0,80,90,90,0,90,100,75,20,30,50,90]"
   ]
  },
  {
   "cell_type": "code",
   "execution_count": 119,
   "id": "6b4924e9",
   "metadata": {},
   "outputs": [
    {
     "data": {
      "text/plain": [
       "[[100, 90, 95],\n",
       " [90, 80, 70],\n",
       " [0, 80, 90],\n",
       " [90, 0, 90],\n",
       " [100, 75, 20],\n",
       " [30, 50, 90]]"
      ]
     },
     "execution_count": 119,
     "metadata": {},
     "output_type": "execute_result"
    }
   ],
   "source": [
    "students = [scores[i:i+3] for i in range(0,len(scores),3)]\n",
    "students"
   ]
  },
  {
   "cell_type": "code",
   "execution_count": 121,
   "id": "a03a85bc",
   "metadata": {},
   "outputs": [
    {
     "data": {
      "text/plain": [
       "[[100, 90, 95], [90, 80, 70], [100, 75, 20], [30, 50, 90]]"
      ]
     },
     "execution_count": 121,
     "metadata": {},
     "output_type": "execute_result"
    }
   ],
   "source": [
    "valid = [s for s in students if 0 not in s]\n",
    "valid"
   ]
  },
  {
   "cell_type": "code",
   "execution_count": 123,
   "id": "55b018dc",
   "metadata": {},
   "outputs": [
    {
     "name": "stdout",
     "output_type": "stream",
     "text": [
      "The total number of students is 6\n",
      "The number of students with valid scores is 4\n",
      "[[100, 90, 95], [90, 80, 70], [100, 75, 20], [30, 50, 90]]\n"
     ]
    }
   ],
   "source": [
    "print(\"The total number of students is\",len(students))\n",
    "print(\"The number of students with valid scores is\",len(valid))\n",
    "print(valid)"
   ]
  },
  {
   "cell_type": "code",
   "execution_count": 124,
   "id": "f457f962",
   "metadata": {},
   "outputs": [
    {
     "data": {
      "text/plain": [
       "[[100, 90, 95], [90, 80, 70], [100, 75, 20], [30, 50, 90]]"
      ]
     },
     "execution_count": 124,
     "metadata": {},
     "output_type": "execute_result"
    }
   ],
   "source": [
    "i = iter(scores)\n",
    "n_alumnos = len(scores) // 3\n",
    "valid = []\n",
    "for _ in range(n_alumnos):\n",
    "    student = [next(i) for _ in range(3)]\n",
    "    if 0 not in student:\n",
    "        valid.append(student)\n",
    "valid"
   ]
  },
  {
   "cell_type": "markdown",
   "id": "69984fc3",
   "metadata": {},
   "source": [
    "# Unit 20"
   ]
  },
  {
   "cell_type": "code",
   "execution_count": 3,
   "id": "91f32ff3",
   "metadata": {},
   "outputs": [
    {
     "name": "stdout",
     "output_type": "stream",
     "text": [
      "30 20 11\n",
      "30 40 11\n",
      "x 10\n"
     ]
    }
   ],
   "source": [
    "x = 10 # GLOBAL\n",
    "y = 11\n",
    "def foo():\n",
    "    x = 20 # VARIABLE LOCAL A foo\n",
    "    def bar():\n",
    "        a = 30 # VARIABLE LOCAL A bar\n",
    "        print(a,x,y)\n",
    "    bar()\n",
    "    x = 40\n",
    "    bar()\n",
    "foo()\n",
    "print(\"x\",x)"
   ]
  },
  {
   "cell_type": "code",
   "execution_count": 7,
   "id": "da236655",
   "metadata": {},
   "outputs": [
    {
     "name": "stdout",
     "output_type": "stream",
     "text": [
      "30 21 11\n",
      "30 41 11\n",
      "x 41\n"
     ]
    }
   ],
   "source": [
    "x = 10 # GLOBAL\n",
    "y = 11\n",
    "def foo():\n",
    "    global x\n",
    "    x = 20 # GLOBAL\n",
    "    def bar():\n",
    "        a = 30 # VARIABLE LOCAL A bar\n",
    "        global x\n",
    "        x = x + 1\n",
    "        print(a,x,y)\n",
    "    bar()\n",
    "    x = 40 # GLOBAL\n",
    "    bar()\n",
    "foo()\n",
    "print(\"x\",x)"
   ]
  },
  {
   "cell_type": "code",
   "execution_count": 8,
   "id": "f1296f3e",
   "metadata": {},
   "outputs": [
    {
     "name": "stdout",
     "output_type": "stream",
     "text": [
      "30 11 11\n",
      "30 12 11\n",
      "x 12\n"
     ]
    }
   ],
   "source": [
    "x = 10 # GLOBAL\n",
    "y = 11\n",
    "def foo():\n",
    "    x = 20 # LOCAL A foo\n",
    "    def bar():\n",
    "        a = 30 # VARIABLE LOCAL A bar\n",
    "        global x\n",
    "        x = x + 1\n",
    "        print(a,x,y)\n",
    "    bar()\n",
    "    x = 40\n",
    "    bar()\n",
    "foo()\n",
    "print(\"x\",x)\n",
    "\n",
    "# 30 11 11\n",
    "# 30 12 11\n",
    "# 12"
   ]
  },
  {
   "cell_type": "code",
   "execution_count": 10,
   "id": "e10e2013",
   "metadata": {},
   "outputs": [
    {
     "name": "stdout",
     "output_type": "stream",
     "text": [
      "30 21 11\n",
      "30 41 11\n",
      "x 10\n"
     ]
    }
   ],
   "source": [
    "x = 10 # GLOBAL\n",
    "y = 11\n",
    "def foo():\n",
    "    x = 20 # LOCAL A foo\n",
    "    def bar():\n",
    "        a = 30 # VARIABLE LOCAL A bar\n",
    "        nonlocal x # x se refiere a la definida en foo\n",
    "        x = x + 1\n",
    "        print(a,x,y)\n",
    "    bar()\n",
    "    x = 40\n",
    "    bar()\n",
    "foo()\n",
    "print(\"x\",x)\n",
    "\n",
    "# 30 21 11\n",
    "# 30 41 11\n",
    "# 10\n"
   ]
  },
  {
   "cell_type": "markdown",
   "id": "3fcdf017",
   "metadata": {},
   "source": [
    "## Closures (clausuras)"
   ]
  },
  {
   "cell_type": "code",
   "execution_count": 11,
   "id": "d4fdc16c",
   "metadata": {},
   "outputs": [
    {
     "data": {
      "text/plain": [
       "function"
      ]
     },
     "execution_count": 11,
     "metadata": {},
     "output_type": "execute_result"
    }
   ],
   "source": [
    "def suma_n(n):\n",
    "    def funcion(x):\n",
    "        return x+n\n",
    "    return funcion\n",
    "\n",
    "mas5 = suma_n(5)\n",
    "type(mas5)"
   ]
  },
  {
   "cell_type": "code",
   "execution_count": 12,
   "id": "2a2fb1c7",
   "metadata": {},
   "outputs": [
    {
     "data": {
      "text/plain": [
       "7"
      ]
     },
     "execution_count": 12,
     "metadata": {},
     "output_type": "execute_result"
    }
   ],
   "source": [
    "mas5(2)"
   ]
  },
  {
   "cell_type": "code",
   "execution_count": 13,
   "id": "b904b55b",
   "metadata": {},
   "outputs": [],
   "source": [
    "def suma_n(n):\n",
    "    return lambda x: x+n"
   ]
  },
  {
   "cell_type": "code",
   "execution_count": 14,
   "id": "0d1951fc",
   "metadata": {},
   "outputs": [],
   "source": [
    "f = suma_n(1234)"
   ]
  },
  {
   "cell_type": "code",
   "execution_count": 15,
   "id": "2e7761bc",
   "metadata": {},
   "outputs": [
    {
     "data": {
      "text/plain": [
       "1244"
      ]
     },
     "execution_count": 15,
     "metadata": {},
     "output_type": "execute_result"
    }
   ],
   "source": [
    "f(10)"
   ]
  },
  {
   "cell_type": "code",
   "execution_count": 19,
   "id": "4cf18a87",
   "metadata": {},
   "outputs": [],
   "source": [
    "def genera_contador(): # devuelve una closure\n",
    "    contador = 0\n",
    "    def f():\n",
    "        nonlocal contador\n",
    "        contador = contador + 1\n",
    "        return contador\n",
    "    return f"
   ]
  },
  {
   "cell_type": "code",
   "execution_count": 20,
   "id": "c0246d03",
   "metadata": {},
   "outputs": [],
   "source": [
    "c = genera_contador()"
   ]
  },
  {
   "cell_type": "code",
   "execution_count": 21,
   "id": "0eb03df2",
   "metadata": {},
   "outputs": [
    {
     "data": {
      "text/plain": [
       "1"
      ]
     },
     "execution_count": 21,
     "metadata": {},
     "output_type": "execute_result"
    }
   ],
   "source": [
    "c()"
   ]
  },
  {
   "cell_type": "code",
   "execution_count": 22,
   "id": "4cc2c795",
   "metadata": {},
   "outputs": [
    {
     "data": {
      "text/plain": [
       "2"
      ]
     },
     "execution_count": 22,
     "metadata": {},
     "output_type": "execute_result"
    }
   ],
   "source": [
    "c()"
   ]
  },
  {
   "cell_type": "code",
   "execution_count": 23,
   "id": "d17cd967",
   "metadata": {},
   "outputs": [
    {
     "data": {
      "text/plain": [
       "3"
      ]
     },
     "execution_count": 23,
     "metadata": {},
     "output_type": "execute_result"
    }
   ],
   "source": [
    "c()"
   ]
  },
  {
   "cell_type": "code",
   "execution_count": 24,
   "id": "aa31edf0",
   "metadata": {},
   "outputs": [],
   "source": [
    "otro = genera_contador()"
   ]
  },
  {
   "cell_type": "code",
   "execution_count": 25,
   "id": "8e54db1c",
   "metadata": {},
   "outputs": [
    {
     "data": {
      "text/plain": [
       "1"
      ]
     },
     "execution_count": 25,
     "metadata": {},
     "output_type": "execute_result"
    }
   ],
   "source": [
    "otro()"
   ]
  },
  {
   "cell_type": "markdown",
   "id": "06206267",
   "metadata": {},
   "source": [
    "### Simular el contador usando clases"
   ]
  },
  {
   "cell_type": "code",
   "execution_count": 33,
   "id": "3b3da853",
   "metadata": {},
   "outputs": [],
   "source": [
    "class Contador:\n",
    "    def __init__(self):\n",
    "        self.contador = 0\n",
    "    def __call__(self):\n",
    "        self.contador += 1\n",
    "        return self.contador"
   ]
  },
  {
   "cell_type": "code",
   "execution_count": 34,
   "id": "32195fea",
   "metadata": {},
   "outputs": [],
   "source": [
    "c = Contador()"
   ]
  },
  {
   "cell_type": "code",
   "execution_count": 35,
   "id": "725c9d30",
   "metadata": {},
   "outputs": [
    {
     "data": {
      "text/plain": [
       "1"
      ]
     },
     "execution_count": 35,
     "metadata": {},
     "output_type": "execute_result"
    }
   ],
   "source": [
    "c()"
   ]
  },
  {
   "cell_type": "code",
   "execution_count": 36,
   "id": "a60d67fa",
   "metadata": {},
   "outputs": [
    {
     "data": {
      "text/plain": [
       "2"
      ]
     },
     "execution_count": 36,
     "metadata": {},
     "output_type": "execute_result"
    }
   ],
   "source": [
    "c()"
   ]
  },
  {
   "cell_type": "code",
   "execution_count": 37,
   "id": "7a48b595",
   "metadata": {},
   "outputs": [
    {
     "data": {
      "text/plain": [
       "3"
      ]
     },
     "execution_count": 37,
     "metadata": {},
     "output_type": "execute_result"
    }
   ],
   "source": [
    "c()"
   ]
  },
  {
   "cell_type": "markdown",
   "id": "2cfeee6e",
   "metadata": {},
   "source": [
    "# Ejercicios"
   ]
  },
  {
   "cell_type": "markdown",
   "id": "63d3534c",
   "metadata": {},
   "source": [
    "## Ejercicio\n",
    "\n",
    "Utiliza `try except` para leer todas las palabras de un fichero y sumar aquellas que se pueden convertir a número de tipo float.\n",
    "\n",
    "El contenido del fichero `'valores.txt'` es:\n",
    "\n",
    "```\n",
    "10.5 hola 1.2 gato\n",
    "20.1 boligrafo 100.25 calculadora 3.3\n",
    "```"
   ]
  },
  {
   "cell_type": "code",
   "execution_count": 42,
   "id": "6f46ab76",
   "metadata": {},
   "outputs": [
    {
     "data": {
      "text/plain": [
       "135.35000000000002"
      ]
     },
     "execution_count": 42,
     "metadata": {},
     "output_type": "execute_result"
    }
   ],
   "source": [
    "with open('valores.txt') as f:\n",
    "    suma = 0\n",
    "    for item in f.read().split():\n",
    "        try:\n",
    "            numero = float(item)\n",
    "            suma += numero\n",
    "        except:\n",
    "            pass\n",
    "            \n",
    "suma"
   ]
  },
  {
   "cell_type": "markdown",
   "id": "1a795cd4",
   "metadata": {},
   "source": [
    "## Ejercicio\n",
    "\n",
    "Abrir el fichero `'el_quijote.txt'` y obtener la palabra de mayor longitud de cada línea.\n",
    "\n",
    "Si en una línea hay varias palabras de mayor longitud (empate), devolveremos la que sea mayor alfabéticamente (ej: 'zurrón' gana a 'ganado').\n",
    "\n",
    "Crear un diccionario donde las claves sean las palabra ganadoras. El valor de cada palabras es una lista de líneas en las que aparece como ganadora.\n",
    "\n",
    "Al final imprimir todas las palabras que aparezcan como ganadoras en al menos 3 líneas."
   ]
  },
  {
   "cell_type": "code",
   "execution_count": 54,
   "id": "21804b19",
   "metadata": {},
   "outputs": [],
   "source": [
    "import collections, re"
   ]
  },
  {
   "cell_type": "code",
   "execution_count": 58,
   "id": "3052cae6",
   "metadata": {},
   "outputs": [
    {
     "name": "stdout",
     "output_type": "stream",
     "text": [
      "quijote 25\n",
      "encantamientos 6\n",
      "pensamiento 11\n",
      "significativo 3\n",
      "prevenciones 5\n",
      "verdaderamente 20\n",
      "experiencia 9\n",
      "semejantes 6\n",
      "estudiante 3\n",
      "determinacio 6\n",
      "caballero 18\n",
      "magnificencia 3\n",
      "desenvoltura 5\n",
      "mandamiento 4\n",
      "intencionado 3\n",
      "sentimiento 3\n",
      "prosiguiendo 6\n",
      "entendimiento 25\n",
      "licenciado 10\n",
      "roncesvalles 4\n",
      "entretenimiento 4\n",
      "misericordia 4\n",
      "caballeros 8\n",
      "ofrecimientos 11\n",
      "razonamientos 3\n",
      "inconvenientes 5\n",
      "conocimiento 9\n",
      "determinaron 7\n",
      "desdichado 5\n",
      "esperanza 5\n",
      "esperanzas 3\n",
      "principalmente 8\n",
      "menesterosos 6\n",
      "circunstantes 6\n",
      "espantable 3\n",
      "verdadera 3\n",
      "desesperado 3\n",
      "eternamente 3\n",
      "acontecimiento 4\n",
      "pensamientos 14\n",
      "honestidad 3\n",
      "imposibilidad 4\n",
      "maritornes 8\n",
      "cuadrillero 3\n",
      "pesadumbre 6\n",
      "encantados 3\n",
      "encomendarme 4\n",
      "contravenir 3\n",
      "aventuras 4\n",
      "manteamiento 3\n",
      "rocinante 12\n",
      "maldiciendo 4\n",
      "respondio 124\n",
      "vuestra 9\n",
      "distintamente 3\n",
      "forzosamente 3\n",
      "especialmente 21\n",
      "movimientos 5\n",
      "replico 3\n",
      "voluntad 3\n",
      "pasatiempo 3\n",
      "dondequiera 3\n",
      "sentimientos 3\n",
      "principal 3\n",
      "cristiano 5\n",
      "pregunto 9\n",
      "sancho 7\n",
      "fuertemente 3\n",
      "pasamonte 3\n",
      "desembarazado 4\n",
      "acaecimientos 3\n",
      "diligencia 4\n",
      "acostumbrado 3\n",
      "estrechamente 5\n",
      "prosigue 3\n",
      "determinado 3\n",
      "agradecimiento 4\n",
      "importancia 7\n",
      "caballeri 5\n",
      "respondi 3\n",
      "blasfemias 3\n",
      "descubierto 3\n",
      "desagradecido 4\n",
      "quienquiera 4\n",
      "purgatorio 3\n",
      "muerte 3\n",
      "quisieres 4\n",
      "conciencia 3\n",
      "ausencias 3\n",
      "toboso 3\n",
      "penitencia 3\n",
      "entrambos 3\n",
      "considerando 3\n",
      "soneto 8\n",
      "inconveniente 5\n",
      "imposibilitado 4\n",
      "incomparable 3\n",
      "impertinente 9\n",
      "prosiguio 6\n",
      "sobresalto 7\n",
      "particularmente 4\n",
      "demostraciones 3\n",
      "extraordinarios 3\n",
      "maldiciones 4\n",
      "micomicona 8\n",
      "comedimiento 3\n",
      "respondiese 5\n",
      "tratamiento 3\n",
      "menguado 3\n",
      "entremeterse 3\n",
      "quitado 3\n",
      "desgracias 3\n",
      "vuestras 5\n",
      "escudero 6\n",
      "desnudarse 4\n",
      "desembarco 4\n",
      "prometido 3\n",
      "movimiento 3\n",
      "vituperios 3\n",
      "palabras 3\n",
      "desventurado 3\n",
      "simplicidades 4\n",
      "conversacio 3\n",
      "escuchando 4\n",
      "respondelle 3\n",
      "encantamentos 5\n",
      "ventero 3\n",
      "advertimiento 3\n",
      "sobresaltada 3\n",
      "verdaderos 3\n",
      "encantamento 7\n",
      "gobernador 3\n",
      "mentirosos 4\n",
      "cristiana 4\n",
      "zoraida 4\n",
      "consideracio 4\n",
      "constantinopla 7\n",
      "cristianos 4\n",
      "vosotros 3\n",
      "cabalgaduras 3\n",
      "representantes 3\n",
      "cuadrilleros 11\n",
      "encantado 3\n",
      "diciplinantes 5\n",
      "argamasilla 4\n",
      "epitafio 3\n"
     ]
    }
   ],
   "source": [
    "d = collections.defaultdict(list)\n",
    "with open('el_quijote.txt', encoding='UTF-8') as f:\n",
    "    num_linea = 0\n",
    "    for linea in f:\n",
    "        items = re.findall(f'\\w+',linea.lower())\n",
    "        if len(items) > 0:\n",
    "            ganadora = max(items, key=lambda x:(len(x),x))\n",
    "            d[ganadora].append(num_linea)\n",
    "        num_linea += 1\n",
    "for palabra,lista in d.items():\n",
    "    if len(lista) >= 3:\n",
    "        print(palabra, len(lista))"
   ]
  },
  {
   "cell_type": "code",
   "execution_count": 50,
   "id": "a540a4ad",
   "metadata": {},
   "outputs": [
    {
     "data": {
      "text/plain": [
       "'zurron'"
      ]
     },
     "execution_count": 50,
     "metadata": {},
     "output_type": "execute_result"
    }
   ],
   "source": [
    "linea = \"esto es una prueba zurron\"\n",
    "items = linea.split()\n",
    "max(items, key=lambda x:(len(x),x))"
   ]
  },
  {
   "cell_type": "code",
   "execution_count": null,
   "id": "aa205336",
   "metadata": {},
   "outputs": [],
   "source": []
  },
  {
   "cell_type": "code",
   "execution_count": null,
   "id": "5716b20a",
   "metadata": {},
   "outputs": [],
   "source": []
  }
 ],
 "metadata": {
  "kernelspec": {
   "display_name": "Python 3 (ipykernel)",
   "language": "python",
   "name": "python3"
  },
  "language_info": {
   "codemirror_mode": {
    "name": "ipython",
    "version": 3
   },
   "file_extension": ".py",
   "mimetype": "text/x-python",
   "name": "python",
   "nbconvert_exporter": "python",
   "pygments_lexer": "ipython3",
   "version": "3.9.12"
  }
 },
 "nbformat": 4,
 "nbformat_minor": 5
}
