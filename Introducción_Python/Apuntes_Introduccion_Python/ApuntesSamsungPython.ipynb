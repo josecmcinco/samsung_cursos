{
 "cells": [
  {
   "cell_type": "markdown",
   "id": "2d9c7b1d",
   "metadata": {},
   "source": [
    "# Métodos generales"
   ]
  },
  {
   "cell_type": "code",
   "execution_count": null,
   "id": "94e3dea1",
   "metadata": {},
   "outputs": [
    {
     "data": {
      "text/plain": [
       "10"
      ]
     },
     "execution_count": 6,
     "metadata": {},
     "output_type": "execute_result"
    }
   ],
   "source": [
    "#A puede ser una lista, string, diccionario, set, tupla\n",
    "a = {1,2,3,4}\n",
    "\n",
    "posicion = 2\n",
    "\n",
    "min(a)\n",
    "max(a)\n",
    "len(a)\n",
    "sum(a)\n",
    "\n",
    "all(a)\n",
    "any(a)\n",
    "\n",
    "\n",
    "sorted(a) # Si a es un set devuelve una lista\n",
    "\n",
    "sorted(a, key = ...)\n",
    "\n",
    "is_valor= 1 in a # True si 1 está en la lista a\n",
    "\n",
    "# No usables con tuplas porque editan\n",
    "a.pop(posicion)\n",
    "a.add(5)\n",
    "a.remove(posicion)\n",
    "a.index(3) # Devuelve la posicion del elemento 3 (Pos = 2)"
   ]
  },
  {
   "cell_type": "markdown",
   "id": "8461797e",
   "metadata": {},
   "source": [
    "# Strings"
   ]
  },
  {
   "cell_type": "markdown",
   "id": "fa915d82",
   "metadata": {},
   "source": [
    "Contar longitud del string (por letras)"
   ]
  },
  {
   "cell_type": "code",
   "execution_count": null,
   "id": "9b0aa1fa",
   "metadata": {},
   "outputs": [],
   "source": [
    "str = \"Hello world\"\n",
    "len(str)"
   ]
  },
  {
   "cell_type": "markdown",
   "id": "0a79b6fe",
   "metadata": {},
   "source": [
    "Elimina espacios al principio y al final de un string"
   ]
  },
  {
   "cell_type": "code",
   "execution_count": null,
   "id": "3e150f88",
   "metadata": {},
   "outputs": [],
   "source": [
    "str = \"     banana     \"\n",
    "str.strip()"
   ]
  },
  {
   "cell_type": "markdown",
   "id": "594c3fca",
   "metadata": {},
   "source": [
    "Sustituir las cadenas de un string por otra introducida"
   ]
  },
  {
   "cell_type": "code",
   "execution_count": 1,
   "id": "c2286789",
   "metadata": {},
   "outputs": [
    {
     "data": {
      "text/plain": [
       "'a-b-c-d-e'"
      ]
     },
     "execution_count": 1,
     "metadata": {},
     "output_type": "execute_result"
    }
   ],
   "source": [
    "str = \"a, b, c, d, e\"\n",
    "\n",
    "aSustituir = \", \"\n",
    "sustituto = \"-\"\n",
    "\n",
    "str.replace(aSustituir, sustituto)"
   ]
  },
  {
   "cell_type": "markdown",
   "id": "4306bab4",
   "metadata": {},
   "source": [
    "Contar apariciones de una cadena (no solapadas)"
   ]
  },
  {
   "cell_type": "code",
   "execution_count": 4,
   "id": "d764b3fa",
   "metadata": {},
   "outputs": [
    {
     "data": {
      "text/plain": [
       "4"
      ]
     },
     "execution_count": 4,
     "metadata": {},
     "output_type": "execute_result"
    }
   ],
   "source": [
    "str = \"la\" * 3 + \"ba\" + \"la\"\n",
    "str.count(\"la\")"
   ]
  },
  {
   "cell_type": "code",
   "execution_count": null,
   "id": "ea4ba8b9",
   "metadata": {},
   "outputs": [],
   "source": [
    "str = \"aaa\"\n",
    "#Devuelve 1 y no 3 porque son no solapables\n",
    "str.count(\"aa\")\n"
   ]
  },
  {
   "cell_type": "markdown",
   "id": "53db86ef",
   "metadata": {},
   "source": [
    "Separa un string en una lista de elementos separados por el string indicado"
   ]
  },
  {
   "cell_type": "code",
   "execution_count": 11,
   "id": "43a61c69",
   "metadata": {},
   "outputs": [
    {
     "data": {
      "text/plain": [
       "['Soy', 'una', 'cadena', 'de', 'texto']"
      ]
     },
     "execution_count": 11,
     "metadata": {},
     "output_type": "execute_result"
    }
   ],
   "source": [
    "str = \"Soy una cadena de texto\"\n",
    "str.split() # Por defecto se usa el carácter \" \""
   ]
  },
  {
   "cell_type": "markdown",
   "id": "4121d9dc",
   "metadata": {},
   "source": []
  },
  {
   "cell_type": "markdown",
   "id": "7958b5a9",
   "metadata": {},
   "source": [
    "# Diccionarios"
   ]
  },
  {
   "cell_type": "markdown",
   "id": "0bb1a901",
   "metadata": {},
   "source": [
    "Operaciones básicas de diccionarios"
   ]
  },
  {
   "cell_type": "code",
   "execution_count": 5,
   "id": "89e97993",
   "metadata": {},
   "outputs": [
    {
     "name": "stdout",
     "output_type": "stream",
     "text": [
      "blue\n",
      "green\n",
      "violet\n"
     ]
    }
   ],
   "source": [
    "dict1 = {\"rojo\":\"red\", \"azul\":\"blue\", \"verde\": \"green\"} # Definir \n",
    "dict1[\"rojo\"] # Obtiene el diccionario asignado a la key\n",
    "\n",
    "dict1[\"morado\"]= \"purple\" # Añadir entrada\n",
    "dict1[\"morado\"] = \"violet\" #Modificar entrada\n",
    "\n",
    "del(dict1[\"rojo\"]) # Elimina entrada del diccionario\n",
    "\n",
    "for key in dict1: # Recorre las keys del diccionario\n",
    "    print(dict1[key])\n",
    "\n"
   ]
  },
  {
   "cell_type": "markdown",
   "id": "7d19b2b9",
   "metadata": {},
   "source": [
    "Ordena diccionario alfabeticamente por la key"
   ]
  },
  {
   "cell_type": "code",
   "execution_count": 6,
   "id": "272a84e9",
   "metadata": {},
   "outputs": [
    {
     "data": {
      "text/plain": [
       "['azul', 'rojo', 'verde']"
      ]
     },
     "execution_count": 6,
     "metadata": {},
     "output_type": "execute_result"
    }
   ],
   "source": [
    "dict1 = {\"rojo\":\"red\", \"azul\":\"blue\", \"verde\": \"green\"}\n",
    "sorted(dict1)"
   ]
  },
  {
   "cell_type": "markdown",
   "id": "c0602248",
   "metadata": {},
   "source": [
    "Convertir un diccionario en una lista de tuplas (key, valor)"
   ]
  },
  {
   "cell_type": "code",
   "execution_count": 7,
   "id": "c195cdb1",
   "metadata": {},
   "outputs": [
    {
     "data": {
      "text/plain": [
       "dict_items([('rojo', 'red'), ('azul', 'blue'), ('verde', 'green')])"
      ]
     },
     "execution_count": 7,
     "metadata": {},
     "output_type": "execute_result"
    }
   ],
   "source": [
    "dict1 = {\"rojo\":\"red\", \"azul\":\"blue\", \"verde\": \"green\"}\n",
    "\n",
    "dict1.items()"
   ]
  },
  {
   "cell_type": "markdown",
   "id": "f52e1868",
   "metadata": {},
   "source": [
    "Convertir una lista de tuplas en un diccionario"
   ]
  },
  {
   "cell_type": "code",
   "execution_count": 10,
   "id": "cf5607b4",
   "metadata": {},
   "outputs": [
    {
     "data": {
      "text/plain": [
       "{'rojo': 'red', 'azul': 'blue', 'verde': 'green'}"
      ]
     },
     "execution_count": 10,
     "metadata": {},
     "output_type": "execute_result"
    }
   ],
   "source": [
    "listaTuplas = [('rojo', 'red'), ('azul', 'blue'), ('verde', 'green')]\n",
    "dict(listaTuplas)"
   ]
  },
  {
   "cell_type": "markdown",
   "id": "3b60d518",
   "metadata": {},
   "source": [
    "# Listas"
   ]
  },
  {
   "cell_type": "markdown",
   "id": "5702c279",
   "metadata": {},
   "source": [
    "Operaciones básicas de listas"
   ]
  },
  {
   "cell_type": "code",
   "execution_count": null,
   "id": "ba1cc8e0",
   "metadata": {},
   "outputs": [],
   "source": [
    "lista1 = [\"azul\", \"rojo\", \"violeta\", \"carmesí\", \"granate\"] # Crear lista"
   ]
  },
  {
   "cell_type": "markdown",
   "id": "1ec44708",
   "metadata": {},
   "source": [
    "Convertir cadena a lista"
   ]
  },
  {
   "cell_type": "code",
   "execution_count": 5,
   "id": "21f1abd7",
   "metadata": {},
   "outputs": [
    {
     "data": {
      "text/plain": [
       "['a', 'l', 'p', 'a', 'c', 'a']"
      ]
     },
     "execution_count": 5,
     "metadata": {},
     "output_type": "execute_result"
    }
   ],
   "source": [
    "list(\"alpaca\")"
   ]
  },
  {
   "cell_type": "markdown",
   "id": "cdbf91ea",
   "metadata": {},
   "source": [
    "Obtener parte de una lista:"
   ]
  },
  {
   "cell_type": "code",
   "execution_count": null,
   "id": "8f8189b3",
   "metadata": {},
   "outputs": [
    {
     "name": "stdout",
     "output_type": "stream",
     "text": [
      "['b', 'c']\n",
      "['a', 'b', 'c']\n",
      "['d', 'e', 'f', 'g', 'h']\n",
      "-------\n",
      "h\n",
      "['f', 'g', 'h']\n",
      "['a', 'b', 'c', 'd', 'e']\n"
     ]
    }
   ],
   "source": [
    "lista1 = [\"a\", \"b\", \"c\", \"d\", \"e\", \"f\", \"g\", \"h\"]\n",
    "\n",
    "print(lista1[1:3]) # Coge del elemento 1 (incl) al elemento 3 (sin inc)\n",
    "print(lista1[:3]) # Coge los tres primeros elementos (inc)\n",
    "print(lista1[3:]) # Coge todos los elementos a partir del tercero (sin inc)\n",
    "\n",
    "print(\"-------\")\n",
    "\n",
    "print(lista1[-1]) # Obtiene el último elemento\n",
    "print(lista1[-3:]) # Devuelve los tres ultimos elementos (inc)\n",
    "print(lista1[:-3]) # devuelve todos los elementos menos los dos últimos (sin inc)\n",
    "\n"
   ]
  },
  {
   "cell_type": "markdown",
   "id": "f07e5e78",
   "metadata": {},
   "source": [
    "# Elementos intensionales / Generadores"
   ]
  },
  {
   "cell_type": "markdown",
   "id": "750ba8ec",
   "metadata": {},
   "source": [
    "Se puede usar con listas/conjuntos/diccionarios/generadores"
   ]
  },
  {
   "cell_type": "code",
   "execution_count": null,
   "id": "5b7d2514",
   "metadata": {},
   "outputs": [
    {
     "data": {
      "text/plain": [
       "[0, 1, 4, 9, 16, 25, 36, 49, 64, 81]"
      ]
     },
     "execution_count": 13,
     "metadata": {},
     "output_type": "execute_result"
    }
   ],
   "source": [
    "setIntensional = (x**2 for x in range(10))\n",
    "setIntensional"
   ]
  },
  {
   "cell_type": "code",
   "execution_count": 18,
   "id": "41f2e835",
   "metadata": {},
   "outputs": [
    {
     "data": {
      "text/plain": [
       "[0, 2, 4, 6, 8]"
      ]
     },
     "execution_count": 18,
     "metadata": {},
     "output_type": "execute_result"
    }
   ],
   "source": [
    "pares = [x for x in range(10) if x % 2 == 0]\n",
    "pares"
   ]
  },
  {
   "cell_type": "code",
   "execution_count": null,
   "id": "d7c757c8",
   "metadata": {},
   "outputs": [],
   "source": [
    "cuadrados_dict = {x: x**2 for x in range(5)}\n",
    "cuadrados_dict"
   ]
  },
  {
   "cell_type": "code",
   "execution_count": 2,
   "id": "c6154410",
   "metadata": {},
   "outputs": [
    {
     "name": "stdout",
     "output_type": "stream",
     "text": [
      "<generator object <genexpr> at 0x0000021F8F47A9B0>\n"
     ]
    },
    {
     "data": {
      "text/plain": [
       "9"
      ]
     },
     "execution_count": 2,
     "metadata": {},
     "output_type": "execute_result"
    }
   ],
   "source": [
    "# Solo se guarda en memoria la fórmula. Ocupa menos en memoria\n",
    "generadorIntensional = (x**2 for x in range(10))\n",
    "print(generadorIntensional)\n",
    "\n",
    "#Se recorre con next(gen)\n",
    "next(generadorIntensional) #0\n",
    "next(generadorIntensional) #1\n",
    "next(generadorIntensional) #4\n",
    "next(generadorIntensional) #9"
   ]
  },
  {
   "cell_type": "markdown",
   "id": "3d3859c7",
   "metadata": {},
   "source": [
    "# Sets/Conjuntos"
   ]
  },
  {
   "cell_type": "markdown",
   "id": "bb5f3615",
   "metadata": {},
   "source": [
    "Operaciones básicas de conjuntos"
   ]
  },
  {
   "cell_type": "code",
   "execution_count": 2,
   "id": "d82b3ccf",
   "metadata": {},
   "outputs": [],
   "source": [
    "set1 = set() # Crea set vacío\n",
    "set1 = {1,2,3} # Crea set con elementos\n",
    "\n",
    "min(set1) # devuelve el mínimo valor del set\n",
    "max(set1) # devuelve el máximo valor del set\n",
    "\n",
    "set1.remove(1) # elimina eel valor 1 (da error si no está)\n",
    "set1.add(4) # añade el valor 4   "
   ]
  },
  {
   "cell_type": "markdown",
   "id": "4acf3e97",
   "metadata": {},
   "source": [
    "Transformar una lista en un set"
   ]
  },
  {
   "cell_type": "code",
   "execution_count": 3,
   "id": "48b91d91",
   "metadata": {},
   "outputs": [
    {
     "data": {
      "text/plain": [
       "{1, 2, 3, 5, 6}"
      ]
     },
     "execution_count": 3,
     "metadata": {},
     "output_type": "execute_result"
    }
   ],
   "source": [
    "lista1 = [1,2,3,1,5,6,2]\n",
    "\n",
    "# transforma eliminando los duplicados\n",
    "set1 = set(lista1)\n",
    "\n",
    "set1"
   ]
  },
  {
   "cell_type": "markdown",
   "id": "d29a3666",
   "metadata": {},
   "source": [
    "Subconjuntos y relaciones de sets:"
   ]
  },
  {
   "cell_type": "code",
   "execution_count": null,
   "id": "795a8249",
   "metadata": {},
   "outputs": [],
   "source": [
    "s1 = {1,2,3,4}\n",
    "s2 = {3,4,5,6}\n",
    "\n",
    "s1.issubset(s2)       # True si TODOS los elementos de s1 están en s2\n",
    "s1.issuperset(s2)     # True si TODOS los elementos de s2 están en s1\n",
    "s1.isdisjoint(s2)     # True si NO tienen elementos en común\n",
    "\n",
    "#Difference\n",
    "s1 - s2\n",
    "s1.difference(s2)\n",
    "\n",
    "#Symmetric difference\n",
    "s1 ^ s2\n",
    "s1.symmetric_difference(s2)"
   ]
  },
  {
   "cell_type": "markdown",
   "id": "9d625848",
   "metadata": {},
   "source": [
    "# Tuplas"
   ]
  },
  {
   "cell_type": "markdown",
   "id": "420ccc65",
   "metadata": {},
   "source": [
    "Operaciones básicas de tuplas"
   ]
  },
  {
   "cell_type": "code",
   "execution_count": null,
   "id": "b79fdc1d",
   "metadata": {},
   "outputs": [],
   "source": [
    "tupla = (100, 200, 300, 500)\n",
    "tupla[1]  #devuelve el valor del índice 1\n",
    "\n",
    "\n",
    "\n",
    "maximo = max(tupla)\n",
    "minimo = min(tupla)\n",
    "length = len(tupla)\n",
    "\n",
    "#...\n",
    "\n",
    "print(maximo, minimo, length)\n"
   ]
  },
  {
   "cell_type": "markdown",
   "id": "a2b92f3e",
   "metadata": {},
   "source": [
    "IMPORTANTE: LAS TUPLAS SON INMUTABLES"
   ]
  },
  {
   "cell_type": "code",
   "execution_count": null,
   "id": "3fb9be60",
   "metadata": {},
   "outputs": [],
   "source": [
    "tupla = (100, 200, 300, 500)\n",
    "tupla[1] = 10 # DARÁ ERROR\n"
   ]
  },
  {
   "cell_type": "markdown",
   "id": "9a9db517",
   "metadata": {},
   "source": [
    "# Función"
   ]
  },
  {
   "cell_type": "markdown",
   "id": "4b345412",
   "metadata": {},
   "source": [
    "Definción y llamada de función"
   ]
  },
  {
   "cell_type": "code",
   "execution_count": null,
   "id": "6b43cd85",
   "metadata": {},
   "outputs": [],
   "source": [
    "#Si no se pone el valor de c, c será 0\n",
    "def funcion1(a, b, c=0):\n",
    "    respuesta = a+b+c\n",
    "    return respuesta\n",
    "\n",
    "resp1 = funcion1(1,3,5)\n",
    "resp2 = funcion1(1,3)"
   ]
  },
  {
   "cell_type": "markdown",
   "id": "33cb4484",
   "metadata": {},
   "source": [
    "Función que usa métodos de tipo posicionales, nominales y una variable que almacena una tupla de valores extra insertados.\n",
    "Un ejemplo de esto es el print"
   ]
  },
  {
   "cell_type": "code",
   "execution_count": null,
   "id": "68365b2b",
   "metadata": {},
   "outputs": [],
   "source": [
    "def funcion2 (a, b, *c, d=0, e=0):\n",
    "    valoresBase = str(a) + \"-\" + str(b)\n",
    "    valoresExtra = c\n",
    "    valoresOpcionales = str(d) + \"-\" + str(e)\n",
    "    return valoresBase, valoresExtra, valoresOpcionales\n",
    "\n",
    "b1, e1, o1 = funcion2 (1,2)\n",
    "print(b1,\"-----\" ,e1, \"----\", o1)\n",
    "\n",
    "b2, e2, o2 = funcion2 (1,2,3,4,5)\n",
    "print(b2,\"-----\" ,e2, \"----\", o2)\n",
    "\n",
    "b3, e3, o3 = funcion2 (1,2,3,4, d=5, e=3)\n",
    "print(b3,\"-----\" ,e3, \"----\", o3)"
   ]
  },
  {
   "cell_type": "markdown",
   "id": "21d74eb7",
   "metadata": {},
   "source": [
    "Exclusión de paso de parámetro por tipo"
   ]
  },
  {
   "cell_type": "code",
   "execution_count": null,
   "id": "dad7319a",
   "metadata": {},
   "outputs": [],
   "source": [
    "def funcion3(a, /, b, *, c):\n",
    "    return a+b+c\n",
    "\n",
    "# a solo se puede pasar por posición\n",
    "# b se puede pasar tanto por posición como por parámetro\n",
    "# c solo se puede pasar por parámetro"
   ]
  },
  {
   "cell_type": "markdown",
   "id": "540dd852",
   "metadata": {},
   "source": [
    "# Función lambda"
   ]
  },
  {
   "cell_type": "markdown",
   "id": "cce2e2d7",
   "metadata": {},
   "source": [
    "Expresiones equivalentes"
   ]
  },
  {
   "cell_type": "code",
   "execution_count": 16,
   "id": "427d8d8a",
   "metadata": {},
   "outputs": [
    {
     "data": {
      "text/plain": [
       "<function __main__.<lambda>(x, y)>"
      ]
     },
     "execution_count": 16,
     "metadata": {},
     "output_type": "execute_result"
    }
   ],
   "source": [
    "#Definición de funcion suma de la forma tradicional\n",
    "def añadir(x,y):\n",
    "    return x + y\n",
    "\n",
    "#Definición de suma como función lambda\n",
    "lambda x, y : x + y"
   ]
  },
  {
   "cell_type": "markdown",
   "id": "da4f93f9",
   "metadata": {},
   "source": [
    "Ejemplo usando un if en la exp. lambda"
   ]
  },
  {
   "cell_type": "code",
   "execution_count": 7,
   "id": "940358b4",
   "metadata": {},
   "outputs": [
    {
     "name": "stdout",
     "output_type": "stream",
     "text": [
      "9\n"
     ]
    }
   ],
   "source": [
    "elem = 3\n",
    "\n",
    "# Elevar al cuadrado si es impar\n",
    "func1 = lambda x: x ** 2 if (x % 2 ==1) else x \n",
    "print(func1(3))"
   ]
  },
  {
   "cell_type": "markdown",
   "id": "06ad053b",
   "metadata": {},
   "source": [
    "Map -> Introducir una lista de elementos y devuelve lista de elementos\n",
    "\n",
    "\n",
    "Filter -> Introducir una lista de elementos y devuelve otra lista de elementos igual o menor\n",
    "\n",
    "Reduce -> Introducir una lista de elementos y devuelve un elemento\n",
    "\n"
   ]
  },
  {
   "cell_type": "markdown",
   "id": "1265801e",
   "metadata": {},
   "source": [
    "Uso de map con Lambda:"
   ]
  },
  {
   "cell_type": "code",
   "execution_count": 21,
   "id": "dda91bfa",
   "metadata": {},
   "outputs": [
    {
     "data": {
      "text/plain": [
       "['A', 'B', 'C', 'D']"
      ]
     },
     "execution_count": 21,
     "metadata": {},
     "output_type": "execute_result"
    }
   ],
   "source": [
    "lst = [\"a\", \"b\", \"c\", \"d\"]\n",
    "\n",
    "list(map(lambda x: x.upper(), lst))"
   ]
  },
  {
   "cell_type": "markdown",
   "id": "03f9a222",
   "metadata": {},
   "source": [
    "Uso de filter con Lambda:"
   ]
  },
  {
   "cell_type": "code",
   "execution_count": 20,
   "id": "ed5eb611",
   "metadata": {},
   "outputs": [
    {
     "data": {
      "text/plain": [
       "[(2, 4), (3, 5)]"
      ]
     },
     "execution_count": 20,
     "metadata": {},
     "output_type": "execute_result"
    }
   ],
   "source": [
    "lst = [(1,2), (2,4),(1,1),(3,5),(1,0),(2, -1)]\n",
    "\n",
    "list(filter(lambda t: sum(t) > 3, lst))"
   ]
  },
  {
   "cell_type": "markdown",
   "id": "b55e7a8c",
   "metadata": {},
   "source": [
    "Uso de reduce con Lambda:"
   ]
  },
  {
   "cell_type": "code",
   "execution_count": null,
   "id": "4a92b6a0",
   "metadata": {},
   "outputs": [
    {
     "data": {
      "text/plain": [
       "34"
      ]
     },
     "execution_count": 15,
     "metadata": {},
     "output_type": "execute_result"
    }
   ],
   "source": [
    "from functools import reduce\n",
    "lst = [3, 2, 4, 5, 2, 8, 10]\n",
    "\n",
    "valorInicio = 0 #Valor inicial del reduce. Se puede no poner\n",
    "\n",
    "reduce(lambda  acc, x: acc + x, lst, valorInicio)"
   ]
  },
  {
   "cell_type": "markdown",
   "id": "22f38ed7",
   "metadata": {},
   "source": [
    "## Excepciones"
   ]
  },
  {
   "cell_type": "code",
   "execution_count": null,
   "id": "61236d3b",
   "metadata": {},
   "outputs": [],
   "source": [
    "try:\n",
    "    a, b = input(\"Dame dos valores\")\n",
    "    print(\"Todo ok\")\n",
    "except:\n",
    "    print(\"error\")"
   ]
  },
  {
   "cell_type": "markdown",
   "id": "396f7fae",
   "metadata": {},
   "source": [
    "# Clases"
   ]
  },
  {
   "cell_type": "markdown",
   "id": "763b0151",
   "metadata": {},
   "source": [
    "Alcance de variables:\n",
    "\n",
    " - variable - publico\n",
    "\n",
    " - _variable - uso interno en función\n",
    "\n",
    " - __variable - privado"
   ]
  },
  {
   "cell_type": "markdown",
   "id": "d0969857",
   "metadata": {},
   "source": [
    "Creación de clases"
   ]
  },
  {
   "cell_type": "code",
   "execution_count": null,
   "id": "b44484a5",
   "metadata": {},
   "outputs": [],
   "source": [
    "class Libro:\n",
    "    def __init__(self, titulo, autor, isbn, disponible = False):\n",
    "        self.titulo = titulo\n",
    "        self.autor = autor\n",
    "        self.isbn = isbn\n",
    "        self.disponible = disponible\n",
    "    \n",
    "libro = Libro(\"tituloLibro\", \"Paco\", \"88848454515\", True)"
   ]
  },
  {
   "cell_type": "markdown",
   "id": "97b73574",
   "metadata": {},
   "source": [
    "Métodos importantes que se pueden sobreescribir:"
   ]
  },
  {
   "cell_type": "code",
   "execution_count": null,
   "id": "2956b461",
   "metadata": {},
   "outputs": [],
   "source": [
    "\"\"\"\n",
    "--OPERACIONES MATEMÁTICAS--\n",
    "\n",
    "+\t__add__(self, other)\t\n",
    "-\t__sub__(self, other)\t\n",
    "*\t__mul__(self, other)\t\n",
    "/\t__truediv__(self, other)\t\n",
    "//\t__floordiv__(self, other)\t\n",
    "%\t__mod__(self, other)\t\n",
    "**\t__pow__(self, other)\t\n",
    "\n",
    "--OPERACIONES LÓGICAS--\n",
    "==\t__eq__(self, other)\n",
    "!=\t__ne__(self, other)\n",
    "<\t__lt__(self, other)\n",
    "<=\t__le__(self, other)\n",
    ">\t__gt__(self, other)\n",
    ">=\t__ge__(self, other)\n",
    "\n",
    "\n",
    "--MÁS--\n",
    "Informal (print)\t__str__(self)\tprint(obj)\n",
    "\n",
    "len(obj)\t__len__(self)\n",
    "int(obj)\t__int__(self)\n",
    "float(obj)\t__float__(self)\n",
    "bool(obj)\t__bool__(self)\n",
    "\n",
    "\"\"\""
   ]
  },
  {
   "cell_type": "markdown",
   "id": "62844500",
   "metadata": {},
   "source": [
    "# Uso de archivos"
   ]
  },
  {
   "cell_type": "markdown",
   "id": "64eaf62e",
   "metadata": {},
   "source": [
    "Abrir (crear si no existe) y cerrar"
   ]
  },
  {
   "cell_type": "code",
   "execution_count": null,
   "id": "8e5f502c",
   "metadata": {},
   "outputs": [],
   "source": [
    "# Tipos de interacción con archivo\n",
    "# \"r\" -> lectura\n",
    "# \"r+\"\" -> lectura y escritura\n",
    "# \"a\" -> añade al final\n",
    "# \"w\" -> sobreescribes archivo\n",
    "\n",
    "archivo = open(\"el_quijote.txt\", \"r\", encoding=\"utf-8\")\n",
    "archivo.close()\n"
   ]
  },
  {
   "cell_type": "markdown",
   "id": "035037e0",
   "metadata": {},
   "source": [
    "\n",
    "Operaciones con documentos de texto"
   ]
  },
  {
   "cell_type": "code",
   "execution_count": null,
   "id": "b64ed059",
   "metadata": {},
   "outputs": [],
   "source": [
    "with open(\"el_quijote.txt\", \"r\", encoding=\"utf-8\") as archivo:\n",
    "    string = archivo.read() #devuelve una string del archivo\n",
    "    string = archivo.readline() # devuelve la x linea del archivo\n",
    "    list = archivo.readlines() # devuelve una lista con las lineas del archivo\n",
    "    "
   ]
  },
  {
   "cell_type": "markdown",
   "id": "dfc7c23f",
   "metadata": {},
   "source": [
    "Operaciones con JSON"
   ]
  },
  {
   "cell_type": "code",
   "execution_count": null,
   "id": "9fc782ce",
   "metadata": {},
   "outputs": [],
   "source": [
    "import json\n",
    "\n",
    "# Reescribe el json\n",
    "\n",
    "data = {\n",
    "    \"libros\": \"self.libros\",\n",
    "    \"usuarios\": \"self.usuarios\"\n",
    "}\n",
    "\n",
    "with open(\"book.json\", \"w\") as f:\n",
    "    json.dump(json_data, f, indent=\"\\t\")\n",
    "\n",
    "# Convierte el json en un diccionario\n",
    "with open(\"book.json\", \"r\") as f:\n",
    "    json_data = json.load(f)"
   ]
  },
  {
   "cell_type": "markdown",
   "id": "b1fb21f7",
   "metadata": {},
   "source": [
    "# Búsqueda de secuencias"
   ]
  },
  {
   "cell_type": "code",
   "execution_count": null,
   "id": "54027a80",
   "metadata": {},
   "outputs": [],
   "source": [
    "\"\"\"\n",
    "\n",
    "    ESTRUCTURA:\n",
    "    secuencia =     r\"secuencia\" \n",
    "\n",
    "    r\"\" -> no interpretar carácteres especiales\n",
    "\n",
    "    \\d\tCualquier dígito (0-9)\n",
    "    \\D  Complementario a \\d\n",
    "    \\w\tCualquier carácter alfanumérico\n",
    "    \\s\tCualquier espacio en blanco\n",
    "    \\S  Complementario a \\s\n",
    "    \\b  Inicio/fin de palabra (depende de si lo pnes antes/después)\n",
    "    .\tCualquier carácter (excepto salto de línea)\n",
    "    +\tUno o más\n",
    "    *\tCero o más\n",
    "    ?\tCero o uno\n",
    "    ^   Busca al inicio de cada línea\n",
    "    {n}\tExactamente n repeticiones\n",
    "    [...]\tUn conjunto de caracteres\n",
    "    (...)\tCaptura de grupos\n",
    "    |   OR lógico\n",
    "\n",
    "    \\w{7} -> equivalente a siete words\n",
    "\n",
    "\"\"\""
   ]
  },
  {
   "cell_type": "markdown",
   "id": "e426630e",
   "metadata": {},
   "source": [
    "Uso de re.findall"
   ]
  },
  {
   "cell_type": "code",
   "execution_count": 1,
   "id": "cb74f0e1",
   "metadata": {},
   "outputs": [
    {
     "name": "stdout",
     "output_type": "stream",
     "text": [
      "['654-123-456', '600-222-333']\n"
     ]
    }
   ],
   "source": [
    "import re\n",
    "\n",
    "texto = \"El teléfono de Ana es 654-123-456 y el de Luis es 600-222-333.\"\n",
    "patron = r\"\\d{3}-\\d{3}-\\d{3}\"\n",
    "\n",
    "\n",
    "resultados = re.findall(patron, texto)\n",
    "print(resultados)"
   ]
  },
  {
   "cell_type": "markdown",
   "id": "6fa7488e",
   "metadata": {},
   "source": [
    "Uso de re.split"
   ]
  },
  {
   "cell_type": "code",
   "execution_count": 33,
   "id": "352e860e",
   "metadata": {},
   "outputs": [
    {
     "name": "stdout",
     "output_type": "stream",
     "text": [
      "['El teléfono de Ana es ', ' y el de Luis es ', '.']\n"
     ]
    }
   ],
   "source": [
    "import re\n",
    "\n",
    "texto = \"El teléfono de Ana es 654-123-456 y el de Luis es 600-222-333.\"\n",
    "patron = r\"\\d{3}-\\d{3}-\\d{3}\"\n",
    "\n",
    "\n",
    "resultados = re.split(patron, texto)\n",
    "print(resultados)"
   ]
  },
  {
   "cell_type": "markdown",
   "id": "aa0579f1",
   "metadata": {},
   "source": [
    "Búsqueda de múltiples carácteres"
   ]
  },
  {
   "cell_type": "code",
   "execution_count": null,
   "id": "9bf14aa1",
   "metadata": {},
   "outputs": [
    {
     "data": {
      "text/plain": [
       "['todo', 'todo', 'do', 'todo']"
      ]
     },
     "execution_count": 30,
     "metadata": {},
     "output_type": "execute_result"
    }
   ],
   "source": [
    "\n",
    "re.findall(r\"(?:to)+do\", \"eso es tototototototototodo amigos todo toooooooooodo totototodo\")"
   ]
  },
  {
   "cell_type": "code",
   "execution_count": 31,
   "id": "2d340020",
   "metadata": {},
   "outputs": [
    {
     "data": {
      "text/plain": [
       "['todo', 'todo', 'do', 'todo']"
      ]
     },
     "execution_count": 31,
     "metadata": {},
     "output_type": "execute_result"
    }
   ],
   "source": [
    "re.findall(r\"(?:to)?+do\", \"eso es tototototototototodo amigos todo toooooooooodo totototodo\")"
   ]
  }
 ],
 "metadata": {
  "kernelspec": {
   "display_name": "base",
   "language": "python",
   "name": "python3"
  },
  "language_info": {
   "codemirror_mode": {
    "name": "ipython",
    "version": 3
   },
   "file_extension": ".py",
   "mimetype": "text/x-python",
   "name": "python",
   "nbconvert_exporter": "python",
   "pygments_lexer": "ipython3",
   "version": "3.12.7"
  }
 },
 "nbformat": 4,
 "nbformat_minor": 5
}
